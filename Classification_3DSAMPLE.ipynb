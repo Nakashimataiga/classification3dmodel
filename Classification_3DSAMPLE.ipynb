{
 "cells": [
  {
   "cell_type": "markdown",
   "metadata": {
    "slideshow": {
     "slide_type": "-"
    },
    "toc-hr-collapsed": false
   },
   "source": [
    "# Head"
   ]
  },
  {
   "cell_type": "markdown",
   "metadata": {},
   "source": [
    "## imports"
   ]
  },
  {
   "cell_type": "code",
   "execution_count": 1,
   "metadata": {},
   "outputs": [],
   "source": [
    "# -*- coding: utf-8 -*-\n",
    "from __future__ import print_function , division\n",
    "from __future__ import absolute_import\n",
    "from __future__ import unicode_literals"
   ]
  },
  {
   "cell_type": "code",
   "execution_count": 2,
   "metadata": {},
   "outputs": [],
   "source": [
    "# %matplotlib notebook\n",
    "import os\n",
    "import numpy as np\n",
    "import matplotlib.pyplot as plt\n",
    "import itertools\n",
    "import math\n",
    "import random\n",
    "from sklearn.metrics import confusion_matrix\n",
    "from pylab import rcParams\n",
    "\n",
    "from config import config\n",
    "\n",
    "import keras\n",
    "from keras.models import Model\n",
    "from keras.layers import Dense, Dropout, Flatten, Conv3D, MaxPooling3D, BatchNormalization, concatenate, Input\n",
    "from keras import backend as K\n",
    "from keras.layers.core import Activation, Dense, Dropout, Flatten\n",
    "from keras.layers.advanced_activations import ReLU\n",
    "from keras.regularizers import l2\n",
    "from IPython.display import SVG\n",
    "from keras.utils.vis_utils import model_to_dot\n",
    "from keras.utils import plot_model , np_utils\n",
    "from keras.models import model_from_json\n",
    "\n",
    "import tensorflow as tf\n",
    "from keras.backend import tensorflow_backend as K"
   ]
  },
  {
   "cell_type": "markdown",
   "metadata": {},
   "source": [
    "## memoryの制限"
   ]
  },
  {
   "cell_type": "code",
   "execution_count": 3,
   "metadata": {
    "code_folding": []
   },
   "outputs": [],
   "source": [
    "# memoryの制限\n",
    "m_config = tf.ConfigProto()\n",
    "m_config.gpu_options.visible_device_list = \"0\"\n",
    "m_config.gpu_options.per_process_gpu_memory_fraction = 0.5\n",
    "m_config.gpu_options.allow_growth = True\n",
    "sess = tf.Session(config=m_config)\n",
    "K.set_session(sess)"
   ]
  },
  {
   "cell_type": "code",
   "execution_count": 4,
   "metadata": {},
   "outputs": [],
   "source": [
    "#GPUを認識できてるか確認\n",
    "# from tensorflow.python.client import device_lib\n",
    "# device_lib.list_local_devices()"
   ]
  },
  {
   "cell_type": "markdown",
   "metadata": {},
   "source": [
    "## Tuning"
   ]
  },
  {
   "cell_type": "code",
   "execution_count": 5,
   "metadata": {},
   "outputs": [],
   "source": [
    "#Tuning\n",
    "dataset = config.DATASET\n",
    "n_points = config.N_POINTS\n",
    "cell = config.CELL\n",
    "num_classes = config.NUM_CLASSES\n",
    "extension = config.EXTENSION\n",
    "batch_size = config.BATCH_SIZE\n",
    "class_name = config.CLASS_NAME\n",
    "optimizer = config.OPTIMIZER\n",
    "epochs = config.EPOCHS\n",
    "learning_rate = config.LEARNIG_RATE\n",
    "callbacks = config.CALLBACKS"
   ]
  },
  {
   "cell_type": "code",
   "execution_count": 6,
   "metadata": {},
   "outputs": [],
   "source": [
    "train_or_test = [\"train\",\"test\"]"
   ]
  },
  {
   "cell_type": "markdown",
   "metadata": {},
   "source": [
    "## Directory関連"
   ]
  },
  {
   "cell_type": "code",
   "execution_count": 7,
   "metadata": {},
   "outputs": [],
   "source": [
    "#読み込み，書き込み用ディレクトリ\n",
    "data_dir = config.DATA_DIR\n",
    "vox_dir = config.VOX_DIR\n",
    "fig_dir =  config.FIG_DIR\n",
    "dist_dir = config.DIST_DIR\n",
    "weights_dir = config.WEIGHTS_DIR\n",
    "model_dir = config.MODEL_DIR"
   ]
  },
  {
   "cell_type": "code",
   "execution_count": 8,
   "metadata": {
    "code_folding": []
   },
   "outputs": [],
   "source": [
    "dir_list = [data_dir , vox_dir , fig_dir , dist_dir , weights_dir , model_dir ]\n",
    "for directory in dir_list:\n",
    "    if os.path.exists(directory) == False:\n",
    "        os.makedirs(directory)"
   ]
  },
  {
   "cell_type": "code",
   "execution_count": 9,
   "metadata": {},
   "outputs": [],
   "source": [
    "# TrainとTestのデータdirectory作成\n",
    "for t in train_or_test:\n",
    "    for cl in class_name:\n",
    "        if os.path.exists(data_dir + cl + \"/\" + t + \"/\") == False:\n",
    "            os.makedirs(data_dir + cl + \"/\" + t + \"/\")"
   ]
  },
  {
   "cell_type": "markdown",
   "metadata": {
    "toc-hr-collapsed": true
   },
   "source": [
    "# 関数"
   ]
  },
  {
   "cell_type": "markdown",
   "metadata": {},
   "source": [
    "## ファイル読み込み"
   ]
  },
  {
   "cell_type": "code",
   "execution_count": 10,
   "metadata": {
    "code_folding": []
   },
   "outputs": [],
   "source": [
    "def load_off(filename):\n",
    "    # read OFF file\n",
    "    with open(filename,\"r\") as handle:\n",
    "        off = handle.read().rstrip().split(\"\\n\")\n",
    "        \n",
    "    #OFFファイルが不正かどうか判定\n",
    "    if off[0] != \"OFF\":\n",
    "#         print(\"{} is broken!!\".format(filename))\n",
    "        params = list(off[0].split(\" \"))\n",
    "        n_vertices = int(params[0].strip(\"OFF\"))\n",
    "        n_faces = int(params[1])\n",
    "        off.insert(0, \"OFF\")\n",
    "    \n",
    "    else:\n",
    "        #get params and faces\n",
    "        params = list(map(int, off[1].split(\" \")))\n",
    "        n_vertices = params[0]\n",
    "        n_faces = params[1]\n",
    "\n",
    "    # read  Vertex coordinates\n",
    "    vertices = []\n",
    "    for n in range(n_vertices):\n",
    "        coords = list(map(float, off[2+n].split()))\n",
    "        vertices.append(coords)\n",
    "\n",
    "    # read information of faces\n",
    "    faces = []\n",
    "    for n in range(n_faces):\n",
    "        connects = list(map(int, off[2 + n_vertices + n].split(\" \")[1:4]))\n",
    "        faces.append(connects)\n",
    "\n",
    "    return vertices, faces"
   ]
  },
  {
   "cell_type": "code",
   "execution_count": 11,
   "metadata": {},
   "outputs": [],
   "source": [
    "def get_unique_list(seq):\n",
    "    seen = []\n",
    "    return [x for x in seq if x not in seen and not seen.append(x)]"
   ]
  },
  {
   "cell_type": "code",
   "execution_count": 12,
   "metadata": {},
   "outputs": [],
   "source": [
    "def get_index_2d_list(retrieval_object,array):\n",
    "    return [i for i, x in enumerate(retrieval_object) if x == array][0]"
   ]
  },
  {
   "cell_type": "code",
   "execution_count": 13,
   "metadata": {},
   "outputs": [],
   "source": [
    "def load_stl(filename):\n",
    "    # read STL file\n",
    "    with open(filename,\"r\") as handle:\n",
    "        stl = handle.read().rstrip().split(\"\\n\")\n",
    "        \n",
    "    #get vertice\n",
    "    vertice = []\n",
    "    for i in range(len(stl)):\n",
    "        pool = stl[i].split()\n",
    "        if pool[0] == \"vertex\":\n",
    "            vertex = list(map(float, pool[1:]))\n",
    "            vertice.append(vertex)\n",
    "            \n",
    "    unique_vertice = get_unique_list(vertice)\n",
    "            \n",
    "    #get faces\n",
    "    faces = []\n",
    "    for n in range(len(stl)):\n",
    "        if stl[n].split() == ['outer', 'loop']:\n",
    "            indexes = []\n",
    "            for i in range(3):\n",
    "                index = get_index_2d_list(unique_vertice, list(map(float,stl[n+i+1].split()[1:])))\n",
    "                indexes.append(index)\n",
    "            faces.append(indexes)\n",
    "\n",
    "    return unique_vertice, faces"
   ]
  },
  {
   "cell_type": "markdown",
   "metadata": {},
   "source": [
    "## 点群発生系"
   ]
  },
  {
   "cell_type": "code",
   "execution_count": 14,
   "metadata": {},
   "outputs": [],
   "source": [
    "def gen_random_points(vertices, faces, n_points):\n",
    "#     なんもわからん\n",
    "    cum_areas = calc_cumulative_areas(vertices, faces)\n",
    "    points = []\n",
    "    for n in range(n_points):\n",
    "        fid = random_select_face_id(cum_areas)\n",
    "        r1 = math.sqrt(random.random())\n",
    "        r2 = random.random()\n",
    "        a = vertices[faces[fid][0]]\n",
    "        b = vertices[faces[fid][1]]\n",
    "        c = vertices[faces[fid][2]]\n",
    "        xp = (1 - r1) * a[0] + r1 * (1 - r2) * b[0] + r1 * r2 * c[0]\n",
    "        yp = (1 - r1) * a[1] + r1 * (1 - r2) * b[1] + r1 * r2 * c[1]\n",
    "        zp = (1 - r1) * a[2] + r1 * (1 - r2) * b[2] + r1 * r2 * c[2]\n",
    "        points.append([xp, yp, zp])\n",
    "    return points"
   ]
  },
  {
   "cell_type": "markdown",
   "metadata": {},
   "source": [
    "## 可視化ツール"
   ]
  },
  {
   "cell_type": "code",
   "execution_count": 15,
   "metadata": {},
   "outputs": [],
   "source": [
    "def plot3D(np_pc):\n",
    "    #3D表示\n",
    "    fig = plt.figure(1,figsize=(10, 10))\n",
    "    ax = fig.add_subplot(1,1,1, projection='3d')\n",
    "    ax.scatter(np_pc[:,0], np_pc[:,1], np_pc[:,2],s = 2)\n",
    "    ax.axis(\"equal\")\n",
    "    plt.show()"
   ]
  },
  {
   "cell_type": "code",
   "execution_count": 16,
   "metadata": {},
   "outputs": [],
   "source": [
    "def plot_trihedral_figure_vox(np_pc):\n",
    "    #Voxel版三面図\n",
    "    a = 1\n",
    "    for i in range(3):\n",
    "        if i == 2:\n",
    "            a = -2\n",
    "        plt.scatter(np_pc[:,i],np_pc[:,i+a],s=10)\n",
    "#         plt.xlim([-2,32]) \n",
    "#         plt.ylim([-2,32]) \n",
    "        plt.gca().set_aspect('equal')\n",
    "        plt.show()"
   ]
  },
  {
   "cell_type": "code",
   "execution_count": 17,
   "metadata": {},
   "outputs": [],
   "source": [
    "def plot_trihedral_figure(np_pc):\n",
    "    #三面図\n",
    "    a = 1\n",
    "    for i in range(3):\n",
    "        if i == 2:\n",
    "            a = -2\n",
    "        plt.scatter(np_pc[:,i],np_pc[:,i+a],s=2)\n",
    "        plt.axis('equal')\n",
    "        plt.show()"
   ]
  },
  {
   "cell_type": "code",
   "execution_count": 18,
   "metadata": {},
   "outputs": [],
   "source": [
    "def plot_confusion_matrix(data, \n",
    "                          label,\n",
    "                          classes=class_name,\n",
    "                          title='Confusion matrix',\n",
    "                          cmap=plt.cm.Blues):\n",
    "    \n",
    "    \n",
    "    labels_pred = model.predict_classes(data,verbose=0)\n",
    "    \n",
    "    # Compute confusion matrix\n",
    "    cnf_matrix = confusion_matrix(np.argmax(label, axis=1), labels_pred)\n",
    "    np.set_printoptions(precision=2)\n",
    "    cm_normalize = cnf_matrix.astype('float') / cnf_matrix.sum(axis=1)[:, np.newaxis]\n",
    "    plt.figure()\n",
    "    plt.imshow(cm_normalize, interpolation='nearest', cmap=cmap)\n",
    "    plt.title(title)\n",
    "    plt.colorbar()\n",
    "    tick_marks = np.arange(len(classes))\n",
    "    plt.xticks(tick_marks, classes, rotation=90)\n",
    "    plt.yticks(tick_marks, classes)\n",
    "    thresh = cnf_matrix.max() / 2\n",
    "    \n",
    "    for i, j in itertools.product(range(cnf_matrix.shape[0]), range(cnf_matrix.shape[1])):\n",
    "        plt.text(j, i, format(cnf_matrix[i, j], \"d\"),\n",
    "                 horizontalalignment=\"center\",\n",
    "                 color=\"white\" if cnf_matrix[i, j] > thresh else \"black\")\n",
    "\n",
    "    plt.ylabel('True label')\n",
    "    plt.xlabel('Predicted label')\n",
    "    plt.tight_layout()\n",
    "    \n",
    "    plt.savefig(fig_dir + 'Normalized_confusion_matrix.svg')\n",
    "    plt.show()\n"
   ]
  },
  {
   "cell_type": "markdown",
   "metadata": {},
   "source": [
    "## ボクセル系"
   ]
  },
  {
   "cell_type": "code",
   "execution_count": 19,
   "metadata": {},
   "outputs": [],
   "source": [
    "def voxilize(np_pc,cell):\n",
    "# ボクセル化した配列を返す\n",
    "    max_dist = 0.0\n",
    "    for it in range(0,3):\n",
    "        # 最大値と最小値の距離を求める\n",
    "        min_ = np.amin(np_pc[:,it])\n",
    "        max_ = np.amax(np_pc[:,it])\n",
    "        dist = max_-min_\n",
    "\n",
    "        #xyzで一番並行距離が大きいのを求める\n",
    "        if dist > max_dist:\n",
    "            max_dist = dist\n",
    "            \n",
    "    for it in range(0,3):\n",
    "\n",
    "        # 最大値と最小値の距離を求める\n",
    "        min_ = np.amin(np_pc[:,it])\n",
    "        max_ = np.amax(np_pc[:,it])\n",
    "        dist = max_-min_\n",
    "        \n",
    "        #中心座標を 0,0,0にセットする（原点が中心にくるようにする）\n",
    "        np_pc[:,it] = np_pc[:,it] - dist/2 - min_\n",
    "\n",
    "        #covered cell\n",
    "        cls = cell - 3\n",
    "\n",
    "        #ボクセル一個当たりのサイズを求める\n",
    "        vox_sz = max_dist/(cls-1)\n",
    "\n",
    "        #上で算出した値で各点を割る。これで各点は(-14, 14)の範囲の値になる\n",
    "        np_pc[:,it] = np_pc[:,it]/vox_sz\n",
    "\n",
    "        #各点が全て正の整数になるよう移動。これで各点は[0, 30]になる（多分）\n",
    "        np_pc[:,it] = np_pc[:,it] + (cls-1)/2\n",
    "\n",
    "\n",
    "    #整数にする\n",
    "    np_pc = np.rint(np_pc).astype(np.uint32)\n",
    "\n",
    "\n",
    "    #３０＊３０＊３０の配列を作り，点が存在する場合は1、存在しない場合は0を入力する。\n",
    "    vox = np.zeros([cell-2,cell-2,cell-2])\n",
    "\n",
    "    # (pc_x, pc_y, pc_z)にnp_pcの座標を代入する\n",
    "    for (pc_x, pc_y, pc_z) in np_pc:\n",
    "\n",
    "#     # 点が存在しても20%の確率で0とし、データにノイズを加え、汎用性を上げている\n",
    "#     # ここ，ノイジーなデータの場合８０よりも小さい数字にしたほうがいいかもね？\n",
    "#         if random.randint(0,100) < 80:\n",
    "        vox[pc_x, pc_y, pc_z] = 1\n",
    "\n",
    "    np_vox = np.zeros([1,cell,cell,cell,1])\n",
    "    np_vox[0, 1:-1, 1:-1, 1:-1,0] = vox\n",
    "\n",
    "    return np_vox"
   ]
  },
  {
   "cell_type": "code",
   "execution_count": 20,
   "metadata": {},
   "outputs": [],
   "source": [
    "def voxel_scatter(np_vox):\n",
    "# キレイに整形するやつ\n",
    "    #空の配列を作る\n",
    "    vox_scat = np.zeros([0,3], dtype= np.uint32)\n",
    "\n",
    "    #32回\n",
    "    for x in range(0,np_vox.shape[1]):\n",
    "        #32回\n",
    "        for y in range(0,np_vox.shape[2]):\n",
    "            #32回\n",
    "            for z in range(0,np_vox.shape[3]):\n",
    "                #（ｘ，ｙ，ｚ）に１が入っていればその座標を返す\n",
    "                if np_vox[0,x,y,z,0] == 1.0:\n",
    "                    arr_tmp = np.zeros([1,3],dtype=np.uint32)\n",
    "                    arr_tmp[0,:] = (x,y,z)\n",
    "                    vox_scat = np.concatenate((vox_scat,arr_tmp))\n",
    "    return vox_scat"
   ]
  },
  {
   "cell_type": "markdown",
   "metadata": {},
   "source": [
    "## ボクセルの読み込み"
   ]
  },
  {
   "cell_type": "code",
   "execution_count": 21,
   "metadata": {},
   "outputs": [],
   "source": [
    "def load_vox(filename):\n",
    "    #shape(N,1,32,32,32)の配列を返す\n",
    "    vertices, faces = load_stl(filename)\n",
    "    points = gen_random_points(vertices, faces, n_points)\n",
    "    # ValueError: sequence too large; cannot be greater than 32の回避策\n",
    "    # list 2 numpy.ndarray\n",
    "    pc = np.empty((len(points), len(points[0])))\n",
    "    pc[:] = points\n",
    "    vox = voxilize(pc,cell)\n",
    "\n",
    "    return vox"
   ]
  },
  {
   "cell_type": "code",
   "execution_count": null,
   "metadata": {},
   "outputs": [],
   "source": []
  },
  {
   "cell_type": "markdown",
   "metadata": {},
   "source": [
    "## 距離の計算"
   ]
  },
  {
   "cell_type": "code",
   "execution_count": 22,
   "metadata": {},
   "outputs": [],
   "source": [
    "# XYZ 長さの取得\n",
    "def calc_dist(filename):\n",
    "    vertices, faces = load_stl(filename)\n",
    "    point =  np.array(vertices)\n",
    "    dist = np.zeros(3)\n",
    "    for i in range(0,3):\n",
    "        min_ = np.amin(point[:,i])\n",
    "        max_ = np.amax(point[:,i])\n",
    "        dist_ = max_ - min_\n",
    "        if dist_ < 0.001:\n",
    "            dist_ = 0.001\n",
    "        dist[i] = dist_\n",
    "    return dist"
   ]
  },
  {
   "cell_type": "code",
   "execution_count": 23,
   "metadata": {},
   "outputs": [],
   "source": [
    "def index_to_class(index):\n",
    "    return class_name[label[index].argmax()]"
   ]
  },
  {
   "cell_type": "markdown",
   "metadata": {},
   "source": [
    "# modelの定義"
   ]
  },
  {
   "cell_type": "markdown",
   "metadata": {},
   "source": [
    "## init model"
   ]
  },
  {
   "cell_type": "code",
   "execution_count": 24,
   "metadata": {},
   "outputs": [],
   "source": [
    "#inputの定義\n",
    "conv_input = Input(shape=(32, 32, 32 ,1), dtype=\"float32\", name=\"conv_input\")\n",
    "aspect_input = Input(shape=(2,), dtype=\"float32\", name=\"aspect_input\")\n",
    "\n",
    "# Conv3D部\n",
    "conv_output = Conv3D(32,5,padding='valid',strides=(2, 2, 2),activation=\"relu\")(conv_input)\n",
    "\n",
    "conv_output = Dropout(0.4)(conv_output)\n",
    "\n",
    "conv_output = Conv3D(32,3,padding='valid',strides=(1, 1, 1),activation=\"relu\")(conv_output)\n",
    "\n",
    "# conv_output = BatchNormalization()(conv_output)\n",
    "\n",
    "conv_output = MaxPooling3D(pool_size=(2, 2, 2),strides=None, padding='valid')(conv_output)\n",
    "\n",
    "conv_output = Dropout(0.4)(conv_output)\n",
    "\n",
    "conv_output = Flatten()(conv_output)\n",
    "\n",
    "# output = Flatten()(conv_output)\n",
    "\n",
    "# output = BatchNormalization()(conv_output)\n",
    "\n",
    "# アスペクト比部\n",
    "aspect_output = Dense(128)(aspect_input)\n",
    "\n",
    "aspect_output = Dropout(0.4)(aspect_output)\n",
    "\n",
    "output = concatenate([conv_output, aspect_output])\n",
    "\n",
    "\n",
    "# output = Dense(1024, #128\n",
    "#                     kernel_initializer=\"normal\",\n",
    "#                     activation='linear',\n",
    "#                     )(output)\n",
    "\n",
    "output = Dropout(0.5)(output)\n",
    "\n",
    "output = Dense(528, #128\n",
    "                    kernel_initializer=\"normal\",\n",
    "                    activation='linear',\n",
    "                    )(output)\n",
    "\n",
    "output = Dropout(0.5)(output)\n",
    "\n",
    "output = Dense(num_classes, activation=\"softmax\")(output)\n",
    "\n",
    "model = Model(inputs=[conv_input, aspect_input], outputs=output)"
   ]
  },
  {
   "cell_type": "markdown",
   "metadata": {},
   "source": [
    "## モデルの保存"
   ]
  },
  {
   "cell_type": "code",
   "execution_count": 25,
   "metadata": {},
   "outputs": [
    {
     "data": {
      "text/plain": [
       "5095"
      ]
     },
     "execution_count": 25,
     "metadata": {},
     "output_type": "execute_result"
    }
   ],
   "source": [
    "#モデルの保存\n",
    "json_string = model.to_json()\n",
    "open(model_dir+'model.json', 'w').write(json_string)"
   ]
  },
  {
   "cell_type": "markdown",
   "metadata": {},
   "source": [
    "## modelの読み込み"
   ]
  },
  {
   "cell_type": "code",
   "execution_count": 26,
   "metadata": {},
   "outputs": [],
   "source": [
    "#モデルの読み込み\n",
    "model_data = open(\"model/\" + dataset + \"/cell\" + str(cell) + \"/model.json\").read()\n",
    "model = model_from_json(model_data)"
   ]
  },
  {
   "cell_type": "code",
   "execution_count": 27,
   "metadata": {},
   "outputs": [],
   "source": [
    "# compile model\n",
    "model.compile(loss='categorical_crossentropy', optimizer=optimizer, metrics=[\"accuracy\"])"
   ]
  },
  {
   "cell_type": "markdown",
   "metadata": {},
   "source": [
    "## モデル可視化"
   ]
  },
  {
   "cell_type": "code",
   "execution_count": 28,
   "metadata": {},
   "outputs": [
    {
     "data": {
      "image/svg+xml": [
       "<svg height=\"968pt\" viewBox=\"0.00 0.00 703.50 968.00\" width=\"704pt\" xmlns=\"http://www.w3.org/2000/svg\" xmlns:xlink=\"http://www.w3.org/1999/xlink\">\n",
       "<g class=\"graph\" id=\"graph0\" transform=\"scale(1 1) rotate(0) translate(4 964)\">\n",
       "<title>G</title>\n",
       "<polygon fill=\"white\" points=\"-4,4 -4,-964 699.5,-964 699.5,4 -4,4\" stroke=\"none\"/>\n",
       "<!-- 140175492767024 -->\n",
       "<g class=\"node\" id=\"node1\"><title>140175492767024</title>\n",
       "<polygon fill=\"none\" points=\"34.5,-913.5 34.5,-959.5 366.5,-959.5 366.5,-913.5 34.5,-913.5\" stroke=\"black\"/>\n",
       "<text font-family=\"Times,serif\" font-size=\"14.00\" text-anchor=\"middle\" x=\"107\" y=\"-932.8\">conv_input: InputLayer</text>\n",
       "<polyline fill=\"none\" points=\"179.5,-913.5 179.5,-959.5 \" stroke=\"black\"/>\n",
       "<text font-family=\"Times,serif\" font-size=\"14.00\" text-anchor=\"middle\" x=\"207\" y=\"-944.3\">input:</text>\n",
       "<polyline fill=\"none\" points=\"179.5,-936.5 234.5,-936.5 \" stroke=\"black\"/>\n",
       "<text font-family=\"Times,serif\" font-size=\"14.00\" text-anchor=\"middle\" x=\"207\" y=\"-921.3\">output:</text>\n",
       "<polyline fill=\"none\" points=\"234.5,-913.5 234.5,-959.5 \" stroke=\"black\"/>\n",
       "<text font-family=\"Times,serif\" font-size=\"14.00\" text-anchor=\"middle\" x=\"300.5\" y=\"-944.3\">(None, 32, 32, 32, 1)</text>\n",
       "<polyline fill=\"none\" points=\"234.5,-936.5 366.5,-936.5 \" stroke=\"black\"/>\n",
       "<text font-family=\"Times,serif\" font-size=\"14.00\" text-anchor=\"middle\" x=\"300.5\" y=\"-921.3\">(None, 32, 32, 32, 1)</text>\n",
       "</g>\n",
       "<!-- 140175492767136 -->\n",
       "<g class=\"node\" id=\"node2\"><title>140175492767136</title>\n",
       "<polygon fill=\"none\" points=\"42,-830.5 42,-876.5 359,-876.5 359,-830.5 42,-830.5\" stroke=\"black\"/>\n",
       "<text font-family=\"Times,serif\" font-size=\"14.00\" text-anchor=\"middle\" x=\"103.5\" y=\"-849.8\">conv3d_1: Conv3D</text>\n",
       "<polyline fill=\"none\" points=\"165,-830.5 165,-876.5 \" stroke=\"black\"/>\n",
       "<text font-family=\"Times,serif\" font-size=\"14.00\" text-anchor=\"middle\" x=\"192.5\" y=\"-861.3\">input:</text>\n",
       "<polyline fill=\"none\" points=\"165,-853.5 220,-853.5 \" stroke=\"black\"/>\n",
       "<text font-family=\"Times,serif\" font-size=\"14.00\" text-anchor=\"middle\" x=\"192.5\" y=\"-838.3\">output:</text>\n",
       "<polyline fill=\"none\" points=\"220,-830.5 220,-876.5 \" stroke=\"black\"/>\n",
       "<text font-family=\"Times,serif\" font-size=\"14.00\" text-anchor=\"middle\" x=\"289.5\" y=\"-861.3\">(None, 32, 32, 32, 1)</text>\n",
       "<polyline fill=\"none\" points=\"220,-853.5 359,-853.5 \" stroke=\"black\"/>\n",
       "<text font-family=\"Times,serif\" font-size=\"14.00\" text-anchor=\"middle\" x=\"289.5\" y=\"-838.3\">(None, 14, 14, 14, 32)</text>\n",
       "</g>\n",
       "<!-- 140175492767024&#45;&gt;140175492767136 -->\n",
       "<g class=\"edge\" id=\"edge1\"><title>140175492767024-&gt;140175492767136</title>\n",
       "<path d=\"M200.5,-913.366C200.5,-905.152 200.5,-895.658 200.5,-886.725\" fill=\"none\" stroke=\"black\"/>\n",
       "<polygon fill=\"black\" points=\"204,-886.607 200.5,-876.607 197,-886.607 204,-886.607\" stroke=\"black\"/>\n",
       "</g>\n",
       "<!-- 140175317761944 -->\n",
       "<g class=\"node\" id=\"node3\"><title>140175317761944</title>\n",
       "<polygon fill=\"none\" points=\"41,-747.5 41,-793.5 360,-793.5 360,-747.5 41,-747.5\" stroke=\"black\"/>\n",
       "<text font-family=\"Times,serif\" font-size=\"14.00\" text-anchor=\"middle\" x=\"103.5\" y=\"-766.8\">dropout_1: Dropout</text>\n",
       "<polyline fill=\"none\" points=\"166,-747.5 166,-793.5 \" stroke=\"black\"/>\n",
       "<text font-family=\"Times,serif\" font-size=\"14.00\" text-anchor=\"middle\" x=\"193.5\" y=\"-778.3\">input:</text>\n",
       "<polyline fill=\"none\" points=\"166,-770.5 221,-770.5 \" stroke=\"black\"/>\n",
       "<text font-family=\"Times,serif\" font-size=\"14.00\" text-anchor=\"middle\" x=\"193.5\" y=\"-755.3\">output:</text>\n",
       "<polyline fill=\"none\" points=\"221,-747.5 221,-793.5 \" stroke=\"black\"/>\n",
       "<text font-family=\"Times,serif\" font-size=\"14.00\" text-anchor=\"middle\" x=\"290.5\" y=\"-778.3\">(None, 14, 14, 14, 32)</text>\n",
       "<polyline fill=\"none\" points=\"221,-770.5 360,-770.5 \" stroke=\"black\"/>\n",
       "<text font-family=\"Times,serif\" font-size=\"14.00\" text-anchor=\"middle\" x=\"290.5\" y=\"-755.3\">(None, 14, 14, 14, 32)</text>\n",
       "</g>\n",
       "<!-- 140175492767136&#45;&gt;140175317761944 -->\n",
       "<g class=\"edge\" id=\"edge2\"><title>140175492767136-&gt;140175317761944</title>\n",
       "<path d=\"M200.5,-830.366C200.5,-822.152 200.5,-812.658 200.5,-803.725\" fill=\"none\" stroke=\"black\"/>\n",
       "<polygon fill=\"black\" points=\"204,-803.607 200.5,-793.607 197,-803.607 204,-803.607\" stroke=\"black\"/>\n",
       "</g>\n",
       "<!-- 140175317761608 -->\n",
       "<g class=\"node\" id=\"node4\"><title>140175317761608</title>\n",
       "<polygon fill=\"none\" points=\"42,-664.5 42,-710.5 359,-710.5 359,-664.5 42,-664.5\" stroke=\"black\"/>\n",
       "<text font-family=\"Times,serif\" font-size=\"14.00\" text-anchor=\"middle\" x=\"103.5\" y=\"-683.8\">conv3d_2: Conv3D</text>\n",
       "<polyline fill=\"none\" points=\"165,-664.5 165,-710.5 \" stroke=\"black\"/>\n",
       "<text font-family=\"Times,serif\" font-size=\"14.00\" text-anchor=\"middle\" x=\"192.5\" y=\"-695.3\">input:</text>\n",
       "<polyline fill=\"none\" points=\"165,-687.5 220,-687.5 \" stroke=\"black\"/>\n",
       "<text font-family=\"Times,serif\" font-size=\"14.00\" text-anchor=\"middle\" x=\"192.5\" y=\"-672.3\">output:</text>\n",
       "<polyline fill=\"none\" points=\"220,-664.5 220,-710.5 \" stroke=\"black\"/>\n",
       "<text font-family=\"Times,serif\" font-size=\"14.00\" text-anchor=\"middle\" x=\"289.5\" y=\"-695.3\">(None, 14, 14, 14, 32)</text>\n",
       "<polyline fill=\"none\" points=\"220,-687.5 359,-687.5 \" stroke=\"black\"/>\n",
       "<text font-family=\"Times,serif\" font-size=\"14.00\" text-anchor=\"middle\" x=\"289.5\" y=\"-672.3\">(None, 12, 12, 12, 32)</text>\n",
       "</g>\n",
       "<!-- 140175317761944&#45;&gt;140175317761608 -->\n",
       "<g class=\"edge\" id=\"edge3\"><title>140175317761944-&gt;140175317761608</title>\n",
       "<path d=\"M200.5,-747.366C200.5,-739.152 200.5,-729.658 200.5,-720.725\" fill=\"none\" stroke=\"black\"/>\n",
       "<polygon fill=\"black\" points=\"204,-720.607 200.5,-710.607 197,-720.607 204,-720.607\" stroke=\"black\"/>\n",
       "</g>\n",
       "<!-- 140175489085792 -->\n",
       "<g class=\"node\" id=\"node5\"><title>140175489085792</title>\n",
       "<polygon fill=\"none\" points=\"0,-581.5 0,-627.5 401,-627.5 401,-581.5 0,-581.5\" stroke=\"black\"/>\n",
       "<text font-family=\"Times,serif\" font-size=\"14.00\" text-anchor=\"middle\" x=\"103.5\" y=\"-600.8\">max_pooling3d_1: MaxPooling3D</text>\n",
       "<polyline fill=\"none\" points=\"207,-581.5 207,-627.5 \" stroke=\"black\"/>\n",
       "<text font-family=\"Times,serif\" font-size=\"14.00\" text-anchor=\"middle\" x=\"234.5\" y=\"-612.3\">input:</text>\n",
       "<polyline fill=\"none\" points=\"207,-604.5 262,-604.5 \" stroke=\"black\"/>\n",
       "<text font-family=\"Times,serif\" font-size=\"14.00\" text-anchor=\"middle\" x=\"234.5\" y=\"-589.3\">output:</text>\n",
       "<polyline fill=\"none\" points=\"262,-581.5 262,-627.5 \" stroke=\"black\"/>\n",
       "<text font-family=\"Times,serif\" font-size=\"14.00\" text-anchor=\"middle\" x=\"331.5\" y=\"-612.3\">(None, 12, 12, 12, 32)</text>\n",
       "<polyline fill=\"none\" points=\"262,-604.5 401,-604.5 \" stroke=\"black\"/>\n",
       "<text font-family=\"Times,serif\" font-size=\"14.00\" text-anchor=\"middle\" x=\"331.5\" y=\"-589.3\">(None, 6, 6, 6, 32)</text>\n",
       "</g>\n",
       "<!-- 140175317761608&#45;&gt;140175489085792 -->\n",
       "<g class=\"edge\" id=\"edge4\"><title>140175317761608-&gt;140175489085792</title>\n",
       "<path d=\"M200.5,-664.366C200.5,-656.152 200.5,-646.658 200.5,-637.725\" fill=\"none\" stroke=\"black\"/>\n",
       "<polygon fill=\"black\" points=\"204,-637.607 200.5,-627.607 197,-637.607 204,-637.607\" stroke=\"black\"/>\n",
       "</g>\n",
       "<!-- 140175489086296 -->\n",
       "<g class=\"node\" id=\"node7\"><title>140175489086296</title>\n",
       "<polygon fill=\"none\" points=\"83,-498.5 83,-544.5 382,-544.5 382,-498.5 83,-498.5\" stroke=\"black\"/>\n",
       "<text font-family=\"Times,serif\" font-size=\"14.00\" text-anchor=\"middle\" x=\"145.5\" y=\"-517.8\">dropout_2: Dropout</text>\n",
       "<polyline fill=\"none\" points=\"208,-498.5 208,-544.5 \" stroke=\"black\"/>\n",
       "<text font-family=\"Times,serif\" font-size=\"14.00\" text-anchor=\"middle\" x=\"235.5\" y=\"-529.3\">input:</text>\n",
       "<polyline fill=\"none\" points=\"208,-521.5 263,-521.5 \" stroke=\"black\"/>\n",
       "<text font-family=\"Times,serif\" font-size=\"14.00\" text-anchor=\"middle\" x=\"235.5\" y=\"-506.3\">output:</text>\n",
       "<polyline fill=\"none\" points=\"263,-498.5 263,-544.5 \" stroke=\"black\"/>\n",
       "<text font-family=\"Times,serif\" font-size=\"14.00\" text-anchor=\"middle\" x=\"322.5\" y=\"-529.3\">(None, 6, 6, 6, 32)</text>\n",
       "<polyline fill=\"none\" points=\"263,-521.5 382,-521.5 \" stroke=\"black\"/>\n",
       "<text font-family=\"Times,serif\" font-size=\"14.00\" text-anchor=\"middle\" x=\"322.5\" y=\"-506.3\">(None, 6, 6, 6, 32)</text>\n",
       "</g>\n",
       "<!-- 140175489085792&#45;&gt;140175489086296 -->\n",
       "<g class=\"edge\" id=\"edge5\"><title>140175489085792-&gt;140175489086296</title>\n",
       "<path d=\"M209.244,-581.366C212.56,-572.973 216.403,-563.245 219.999,-554.143\" fill=\"none\" stroke=\"black\"/>\n",
       "<polygon fill=\"black\" points=\"223.347,-555.193 223.766,-544.607 216.837,-552.621 223.347,-555.193\" stroke=\"black\"/>\n",
       "</g>\n",
       "<!-- 140175489086184 -->\n",
       "<g class=\"node\" id=\"node6\"><title>140175489086184</title>\n",
       "<polygon fill=\"none\" points=\"419.5,-581.5 419.5,-627.5 695.5,-627.5 695.5,-581.5 419.5,-581.5\" stroke=\"black\"/>\n",
       "<text font-family=\"Times,serif\" font-size=\"14.00\" text-anchor=\"middle\" x=\"495.5\" y=\"-600.8\">aspect_input: InputLayer</text>\n",
       "<polyline fill=\"none\" points=\"571.5,-581.5 571.5,-627.5 \" stroke=\"black\"/>\n",
       "<text font-family=\"Times,serif\" font-size=\"14.00\" text-anchor=\"middle\" x=\"599\" y=\"-612.3\">input:</text>\n",
       "<polyline fill=\"none\" points=\"571.5,-604.5 626.5,-604.5 \" stroke=\"black\"/>\n",
       "<text font-family=\"Times,serif\" font-size=\"14.00\" text-anchor=\"middle\" x=\"599\" y=\"-589.3\">output:</text>\n",
       "<polyline fill=\"none\" points=\"626.5,-581.5 626.5,-627.5 \" stroke=\"black\"/>\n",
       "<text font-family=\"Times,serif\" font-size=\"14.00\" text-anchor=\"middle\" x=\"661\" y=\"-612.3\">(None, 2)</text>\n",
       "<polyline fill=\"none\" points=\"626.5,-604.5 695.5,-604.5 \" stroke=\"black\"/>\n",
       "<text font-family=\"Times,serif\" font-size=\"14.00\" text-anchor=\"middle\" x=\"661\" y=\"-589.3\">(None, 2)</text>\n",
       "</g>\n",
       "<!-- 140175489086520 -->\n",
       "<g class=\"node\" id=\"node8\"><title>140175489086520</title>\n",
       "<polygon fill=\"none\" points=\"432.5,-498.5 432.5,-544.5 672.5,-544.5 672.5,-498.5 432.5,-498.5\" stroke=\"black\"/>\n",
       "<text font-family=\"Times,serif\" font-size=\"14.00\" text-anchor=\"middle\" x=\"483.5\" y=\"-517.8\">dense_1: Dense</text>\n",
       "<polyline fill=\"none\" points=\"534.5,-498.5 534.5,-544.5 \" stroke=\"black\"/>\n",
       "<text font-family=\"Times,serif\" font-size=\"14.00\" text-anchor=\"middle\" x=\"562\" y=\"-529.3\">input:</text>\n",
       "<polyline fill=\"none\" points=\"534.5,-521.5 589.5,-521.5 \" stroke=\"black\"/>\n",
       "<text font-family=\"Times,serif\" font-size=\"14.00\" text-anchor=\"middle\" x=\"562\" y=\"-506.3\">output:</text>\n",
       "<polyline fill=\"none\" points=\"589.5,-498.5 589.5,-544.5 \" stroke=\"black\"/>\n",
       "<text font-family=\"Times,serif\" font-size=\"14.00\" text-anchor=\"middle\" x=\"631\" y=\"-529.3\">(None, 2)</text>\n",
       "<polyline fill=\"none\" points=\"589.5,-521.5 672.5,-521.5 \" stroke=\"black\"/>\n",
       "<text font-family=\"Times,serif\" font-size=\"14.00\" text-anchor=\"middle\" x=\"631\" y=\"-506.3\">(None, 128)</text>\n",
       "</g>\n",
       "<!-- 140175489086184&#45;&gt;140175489086520 -->\n",
       "<g class=\"edge\" id=\"edge6\"><title>140175489086184-&gt;140175489086520</title>\n",
       "<path d=\"M556.134,-581.366C555.627,-573.152 555.041,-563.658 554.489,-554.725\" fill=\"none\" stroke=\"black\"/>\n",
       "<polygon fill=\"black\" points=\"557.974,-554.372 553.865,-544.607 550.987,-554.804 557.974,-554.372\" stroke=\"black\"/>\n",
       "</g>\n",
       "<!-- 140175489086800 -->\n",
       "<g class=\"node\" id=\"node9\"><title>140175489086800</title>\n",
       "<polygon fill=\"none\" points=\"106.5,-415.5 106.5,-461.5 390.5,-461.5 390.5,-415.5 106.5,-415.5\" stroke=\"black\"/>\n",
       "<text font-family=\"Times,serif\" font-size=\"14.00\" text-anchor=\"middle\" x=\"161.5\" y=\"-434.8\">flatten_1: Flatten</text>\n",
       "<polyline fill=\"none\" points=\"216.5,-415.5 216.5,-461.5 \" stroke=\"black\"/>\n",
       "<text font-family=\"Times,serif\" font-size=\"14.00\" text-anchor=\"middle\" x=\"244\" y=\"-446.3\">input:</text>\n",
       "<polyline fill=\"none\" points=\"216.5,-438.5 271.5,-438.5 \" stroke=\"black\"/>\n",
       "<text font-family=\"Times,serif\" font-size=\"14.00\" text-anchor=\"middle\" x=\"244\" y=\"-423.3\">output:</text>\n",
       "<polyline fill=\"none\" points=\"271.5,-415.5 271.5,-461.5 \" stroke=\"black\"/>\n",
       "<text font-family=\"Times,serif\" font-size=\"14.00\" text-anchor=\"middle\" x=\"331\" y=\"-446.3\">(None, 6, 6, 6, 32)</text>\n",
       "<polyline fill=\"none\" points=\"271.5,-438.5 390.5,-438.5 \" stroke=\"black\"/>\n",
       "<text font-family=\"Times,serif\" font-size=\"14.00\" text-anchor=\"middle\" x=\"331\" y=\"-423.3\">(None, 6912)</text>\n",
       "</g>\n",
       "<!-- 140175489086296&#45;&gt;140175489086800 -->\n",
       "<g class=\"edge\" id=\"edge7\"><title>140175489086296-&gt;140175489086800</title>\n",
       "<path d=\"M236.872,-498.366C238.512,-490.062 240.411,-480.451 242.192,-471.434\" fill=\"none\" stroke=\"black\"/>\n",
       "<polygon fill=\"black\" points=\"245.629,-472.096 244.133,-461.607 238.762,-470.739 245.629,-472.096\" stroke=\"black\"/>\n",
       "</g>\n",
       "<!-- 140175489086688 -->\n",
       "<g class=\"node\" id=\"node10\"><title>140175489086688</title>\n",
       "<polygon fill=\"none\" points=\"417,-415.5 417,-461.5 680,-461.5 680,-415.5 417,-415.5\" stroke=\"black\"/>\n",
       "<text font-family=\"Times,serif\" font-size=\"14.00\" text-anchor=\"middle\" x=\"479.5\" y=\"-434.8\">dropout_3: Dropout</text>\n",
       "<polyline fill=\"none\" points=\"542,-415.5 542,-461.5 \" stroke=\"black\"/>\n",
       "<text font-family=\"Times,serif\" font-size=\"14.00\" text-anchor=\"middle\" x=\"569.5\" y=\"-446.3\">input:</text>\n",
       "<polyline fill=\"none\" points=\"542,-438.5 597,-438.5 \" stroke=\"black\"/>\n",
       "<text font-family=\"Times,serif\" font-size=\"14.00\" text-anchor=\"middle\" x=\"569.5\" y=\"-423.3\">output:</text>\n",
       "<polyline fill=\"none\" points=\"597,-415.5 597,-461.5 \" stroke=\"black\"/>\n",
       "<text font-family=\"Times,serif\" font-size=\"14.00\" text-anchor=\"middle\" x=\"638.5\" y=\"-446.3\">(None, 128)</text>\n",
       "<polyline fill=\"none\" points=\"597,-438.5 680,-438.5 \" stroke=\"black\"/>\n",
       "<text font-family=\"Times,serif\" font-size=\"14.00\" text-anchor=\"middle\" x=\"638.5\" y=\"-423.3\">(None, 128)</text>\n",
       "</g>\n",
       "<!-- 140175489086520&#45;&gt;140175489086688 -->\n",
       "<g class=\"edge\" id=\"edge8\"><title>140175489086520-&gt;140175489086688</title>\n",
       "<path d=\"M551.407,-498.366C551.001,-490.152 550.532,-480.658 550.091,-471.725\" fill=\"none\" stroke=\"black\"/>\n",
       "<polygon fill=\"black\" points=\"553.581,-471.422 549.592,-461.607 546.589,-471.767 553.581,-471.422\" stroke=\"black\"/>\n",
       "</g>\n",
       "<!-- 140175489086856 -->\n",
       "<g class=\"node\" id=\"node11\"><title>140175489086856</title>\n",
       "<polygon fill=\"none\" points=\"201,-332.5 201,-378.5 596,-378.5 596,-332.5 201,-332.5\" stroke=\"black\"/>\n",
       "<text font-family=\"Times,serif\" font-size=\"14.00\" text-anchor=\"middle\" x=\"285\" y=\"-351.8\">concatenate_1: Concatenate</text>\n",
       "<polyline fill=\"none\" points=\"369,-332.5 369,-378.5 \" stroke=\"black\"/>\n",
       "<text font-family=\"Times,serif\" font-size=\"14.00\" text-anchor=\"middle\" x=\"396.5\" y=\"-363.3\">input:</text>\n",
       "<polyline fill=\"none\" points=\"369,-355.5 424,-355.5 \" stroke=\"black\"/>\n",
       "<text font-family=\"Times,serif\" font-size=\"14.00\" text-anchor=\"middle\" x=\"396.5\" y=\"-340.3\">output:</text>\n",
       "<polyline fill=\"none\" points=\"424,-332.5 424,-378.5 \" stroke=\"black\"/>\n",
       "<text font-family=\"Times,serif\" font-size=\"14.00\" text-anchor=\"middle\" x=\"510\" y=\"-363.3\">[(None, 6912), (None, 128)]</text>\n",
       "<polyline fill=\"none\" points=\"424,-355.5 596,-355.5 \" stroke=\"black\"/>\n",
       "<text font-family=\"Times,serif\" font-size=\"14.00\" text-anchor=\"middle\" x=\"510\" y=\"-340.3\">(None, 7040)</text>\n",
       "</g>\n",
       "<!-- 140175489086800&#45;&gt;140175489086856 -->\n",
       "<g class=\"edge\" id=\"edge9\"><title>140175489086800-&gt;140175489086856</title>\n",
       "<path d=\"M289.488,-415.366C307.76,-405.5 329.448,-393.788 348.649,-383.419\" fill=\"none\" stroke=\"black\"/>\n",
       "<polygon fill=\"black\" points=\"350.425,-386.438 357.561,-378.607 347.099,-380.279 350.425,-386.438\" stroke=\"black\"/>\n",
       "</g>\n",
       "<!-- 140175489086688&#45;&gt;140175489086856 -->\n",
       "<g class=\"edge\" id=\"edge10\"><title>140175489086688-&gt;140175489086856</title>\n",
       "<path d=\"M507.512,-415.366C489.24,-405.5 467.552,-393.788 448.351,-383.419\" fill=\"none\" stroke=\"black\"/>\n",
       "<polygon fill=\"black\" points=\"449.901,-380.279 439.439,-378.607 446.575,-386.438 449.901,-380.279\" stroke=\"black\"/>\n",
       "</g>\n",
       "<!-- 140175489087192 -->\n",
       "<g class=\"node\" id=\"node12\"><title>140175489087192</title>\n",
       "<polygon fill=\"none\" points=\"264,-249.5 264,-295.5 533,-295.5 533,-249.5 264,-249.5\" stroke=\"black\"/>\n",
       "<text font-family=\"Times,serif\" font-size=\"14.00\" text-anchor=\"middle\" x=\"326.5\" y=\"-268.8\">dropout_4: Dropout</text>\n",
       "<polyline fill=\"none\" points=\"389,-249.5 389,-295.5 \" stroke=\"black\"/>\n",
       "<text font-family=\"Times,serif\" font-size=\"14.00\" text-anchor=\"middle\" x=\"416.5\" y=\"-280.3\">input:</text>\n",
       "<polyline fill=\"none\" points=\"389,-272.5 444,-272.5 \" stroke=\"black\"/>\n",
       "<text font-family=\"Times,serif\" font-size=\"14.00\" text-anchor=\"middle\" x=\"416.5\" y=\"-257.3\">output:</text>\n",
       "<polyline fill=\"none\" points=\"444,-249.5 444,-295.5 \" stroke=\"black\"/>\n",
       "<text font-family=\"Times,serif\" font-size=\"14.00\" text-anchor=\"middle\" x=\"488.5\" y=\"-280.3\">(None, 7040)</text>\n",
       "<polyline fill=\"none\" points=\"444,-272.5 533,-272.5 \" stroke=\"black\"/>\n",
       "<text font-family=\"Times,serif\" font-size=\"14.00\" text-anchor=\"middle\" x=\"488.5\" y=\"-257.3\">(None, 7040)</text>\n",
       "</g>\n",
       "<!-- 140175489086856&#45;&gt;140175489087192 -->\n",
       "<g class=\"edge\" id=\"edge11\"><title>140175489086856-&gt;140175489087192</title>\n",
       "<path d=\"M398.5,-332.366C398.5,-324.152 398.5,-314.658 398.5,-305.725\" fill=\"none\" stroke=\"black\"/>\n",
       "<polygon fill=\"black\" points=\"402,-305.607 398.5,-295.607 395,-305.607 402,-305.607\" stroke=\"black\"/>\n",
       "</g>\n",
       "<!-- 140175489087080 -->\n",
       "<g class=\"node\" id=\"node13\"><title>140175489087080</title>\n",
       "<polygon fill=\"none\" points=\"275.5,-166.5 275.5,-212.5 521.5,-212.5 521.5,-166.5 275.5,-166.5\" stroke=\"black\"/>\n",
       "<text font-family=\"Times,serif\" font-size=\"14.00\" text-anchor=\"middle\" x=\"326.5\" y=\"-185.8\">dense_2: Dense</text>\n",
       "<polyline fill=\"none\" points=\"377.5,-166.5 377.5,-212.5 \" stroke=\"black\"/>\n",
       "<text font-family=\"Times,serif\" font-size=\"14.00\" text-anchor=\"middle\" x=\"405\" y=\"-197.3\">input:</text>\n",
       "<polyline fill=\"none\" points=\"377.5,-189.5 432.5,-189.5 \" stroke=\"black\"/>\n",
       "<text font-family=\"Times,serif\" font-size=\"14.00\" text-anchor=\"middle\" x=\"405\" y=\"-174.3\">output:</text>\n",
       "<polyline fill=\"none\" points=\"432.5,-166.5 432.5,-212.5 \" stroke=\"black\"/>\n",
       "<text font-family=\"Times,serif\" font-size=\"14.00\" text-anchor=\"middle\" x=\"477\" y=\"-197.3\">(None, 7040)</text>\n",
       "<polyline fill=\"none\" points=\"432.5,-189.5 521.5,-189.5 \" stroke=\"black\"/>\n",
       "<text font-family=\"Times,serif\" font-size=\"14.00\" text-anchor=\"middle\" x=\"477\" y=\"-174.3\">(None, 528)</text>\n",
       "</g>\n",
       "<!-- 140175489087192&#45;&gt;140175489087080 -->\n",
       "<g class=\"edge\" id=\"edge12\"><title>140175489087192-&gt;140175489087080</title>\n",
       "<path d=\"M398.5,-249.366C398.5,-241.152 398.5,-231.658 398.5,-222.725\" fill=\"none\" stroke=\"black\"/>\n",
       "<polygon fill=\"black\" points=\"402,-222.607 398.5,-212.607 395,-222.607 402,-222.607\" stroke=\"black\"/>\n",
       "</g>\n",
       "<!-- 140175489087472 -->\n",
       "<g class=\"node\" id=\"node14\"><title>140175489087472</title>\n",
       "<polygon fill=\"none\" points=\"267,-83.5 267,-129.5 530,-129.5 530,-83.5 267,-83.5\" stroke=\"black\"/>\n",
       "<text font-family=\"Times,serif\" font-size=\"14.00\" text-anchor=\"middle\" x=\"329.5\" y=\"-102.8\">dropout_5: Dropout</text>\n",
       "<polyline fill=\"none\" points=\"392,-83.5 392,-129.5 \" stroke=\"black\"/>\n",
       "<text font-family=\"Times,serif\" font-size=\"14.00\" text-anchor=\"middle\" x=\"419.5\" y=\"-114.3\">input:</text>\n",
       "<polyline fill=\"none\" points=\"392,-106.5 447,-106.5 \" stroke=\"black\"/>\n",
       "<text font-family=\"Times,serif\" font-size=\"14.00\" text-anchor=\"middle\" x=\"419.5\" y=\"-91.3\">output:</text>\n",
       "<polyline fill=\"none\" points=\"447,-83.5 447,-129.5 \" stroke=\"black\"/>\n",
       "<text font-family=\"Times,serif\" font-size=\"14.00\" text-anchor=\"middle\" x=\"488.5\" y=\"-114.3\">(None, 528)</text>\n",
       "<polyline fill=\"none\" points=\"447,-106.5 530,-106.5 \" stroke=\"black\"/>\n",
       "<text font-family=\"Times,serif\" font-size=\"14.00\" text-anchor=\"middle\" x=\"488.5\" y=\"-91.3\">(None, 528)</text>\n",
       "</g>\n",
       "<!-- 140175489087080&#45;&gt;140175489087472 -->\n",
       "<g class=\"edge\" id=\"edge13\"><title>140175489087080-&gt;140175489087472</title>\n",
       "<path d=\"M398.5,-166.366C398.5,-158.152 398.5,-148.658 398.5,-139.725\" fill=\"none\" stroke=\"black\"/>\n",
       "<polygon fill=\"black\" points=\"402,-139.607 398.5,-129.607 395,-139.607 402,-139.607\" stroke=\"black\"/>\n",
       "</g>\n",
       "<!-- 140175489087136 -->\n",
       "<g class=\"node\" id=\"node15\"><title>140175489087136</title>\n",
       "<polygon fill=\"none\" points=\"278.5,-0.5 278.5,-46.5 518.5,-46.5 518.5,-0.5 278.5,-0.5\" stroke=\"black\"/>\n",
       "<text font-family=\"Times,serif\" font-size=\"14.00\" text-anchor=\"middle\" x=\"329.5\" y=\"-19.8\">dense_3: Dense</text>\n",
       "<polyline fill=\"none\" points=\"380.5,-0.5 380.5,-46.5 \" stroke=\"black\"/>\n",
       "<text font-family=\"Times,serif\" font-size=\"14.00\" text-anchor=\"middle\" x=\"408\" y=\"-31.3\">input:</text>\n",
       "<polyline fill=\"none\" points=\"380.5,-23.5 435.5,-23.5 \" stroke=\"black\"/>\n",
       "<text font-family=\"Times,serif\" font-size=\"14.00\" text-anchor=\"middle\" x=\"408\" y=\"-8.3\">output:</text>\n",
       "<polyline fill=\"none\" points=\"435.5,-0.5 435.5,-46.5 \" stroke=\"black\"/>\n",
       "<text font-family=\"Times,serif\" font-size=\"14.00\" text-anchor=\"middle\" x=\"477\" y=\"-31.3\">(None, 528)</text>\n",
       "<polyline fill=\"none\" points=\"435.5,-23.5 518.5,-23.5 \" stroke=\"black\"/>\n",
       "<text font-family=\"Times,serif\" font-size=\"14.00\" text-anchor=\"middle\" x=\"477\" y=\"-8.3\">(None, 10)</text>\n",
       "</g>\n",
       "<!-- 140175489087472&#45;&gt;140175489087136 -->\n",
       "<g class=\"edge\" id=\"edge14\"><title>140175489087472-&gt;140175489087136</title>\n",
       "<path d=\"M398.5,-83.3664C398.5,-75.1516 398.5,-65.6579 398.5,-56.7252\" fill=\"none\" stroke=\"black\"/>\n",
       "<polygon fill=\"black\" points=\"402,-56.6068 398.5,-46.6068 395,-56.6069 402,-56.6068\" stroke=\"black\"/>\n",
       "</g>\n",
       "</g>\n",
       "</svg>"
      ],
      "text/plain": [
       "<IPython.core.display.SVG object>"
      ]
     },
     "execution_count": 28,
     "metadata": {},
     "output_type": "execute_result"
    }
   ],
   "source": [
    "#モデル可視化\n",
    "SVG(model_to_dot(model,show_shapes=True).create(prog='dot', format='svg'))"
   ]
  },
  {
   "cell_type": "code",
   "execution_count": 29,
   "metadata": {},
   "outputs": [],
   "source": [
    "#モデルの図を保存\n",
    "plot_model(model, to_file=fig_dir + 'model.png',show_shapes='True')"
   ]
  },
  {
   "cell_type": "markdown",
   "metadata": {},
   "source": [
    "## summary"
   ]
  },
  {
   "cell_type": "code",
   "execution_count": 30,
   "metadata": {},
   "outputs": [
    {
     "name": "stdout",
     "output_type": "stream",
     "text": [
      "__________________________________________________________________________________________________\n",
      "Layer (type)                    Output Shape         Param #     Connected to                     \n",
      "==================================================================================================\n",
      "conv_input (InputLayer)         (None, 32, 32, 32, 1 0                                            \n",
      "__________________________________________________________________________________________________\n",
      "conv3d_1 (Conv3D)               (None, 14, 14, 14, 3 4032        conv_input[0][0]                 \n",
      "__________________________________________________________________________________________________\n",
      "dropout_1 (Dropout)             (None, 14, 14, 14, 3 0           conv3d_1[0][0]                   \n",
      "__________________________________________________________________________________________________\n",
      "conv3d_2 (Conv3D)               (None, 12, 12, 12, 3 27680       dropout_1[0][0]                  \n",
      "__________________________________________________________________________________________________\n",
      "max_pooling3d_1 (MaxPooling3D)  (None, 6, 6, 6, 32)  0           conv3d_2[0][0]                   \n",
      "__________________________________________________________________________________________________\n",
      "aspect_input (InputLayer)       (None, 2)            0                                            \n",
      "__________________________________________________________________________________________________\n",
      "dropout_2 (Dropout)             (None, 6, 6, 6, 32)  0           max_pooling3d_1[0][0]            \n",
      "__________________________________________________________________________________________________\n",
      "dense_1 (Dense)                 (None, 128)          384         aspect_input[0][0]               \n",
      "__________________________________________________________________________________________________\n",
      "flatten_1 (Flatten)             (None, 6912)         0           dropout_2[0][0]                  \n",
      "__________________________________________________________________________________________________\n",
      "dropout_3 (Dropout)             (None, 128)          0           dense_1[0][0]                    \n",
      "__________________________________________________________________________________________________\n",
      "concatenate_1 (Concatenate)     (None, 7040)         0           flatten_1[0][0]                  \n",
      "                                                                 dropout_3[0][0]                  \n",
      "__________________________________________________________________________________________________\n",
      "dropout_4 (Dropout)             (None, 7040)         0           concatenate_1[0][0]              \n",
      "__________________________________________________________________________________________________\n",
      "dense_2 (Dense)                 (None, 528)          3717648     dropout_4[0][0]                  \n",
      "__________________________________________________________________________________________________\n",
      "dropout_5 (Dropout)             (None, 528)          0           dense_2[0][0]                    \n",
      "__________________________________________________________________________________________________\n",
      "dense_3 (Dense)                 (None, 10)           5290        dropout_5[0][0]                  \n",
      "==================================================================================================\n",
      "Total params: 3,755,034\n",
      "Trainable params: 3,755,034\n",
      "Non-trainable params: 0\n",
      "__________________________________________________________________________________________________\n"
     ]
    }
   ],
   "source": [
    "#サマリーの表示\n",
    "model.summary()"
   ]
  },
  {
   "cell_type": "code",
   "execution_count": 31,
   "metadata": {},
   "outputs": [
    {
     "data": {
      "text/plain": [
       "<keras.engine.training.Model at 0x7f7dcefad048>"
      ]
     },
     "execution_count": 31,
     "metadata": {},
     "output_type": "execute_result"
    }
   ],
   "source": [
    "model"
   ]
  },
  {
   "cell_type": "markdown",
   "metadata": {},
   "source": [
    "# Train"
   ]
  },
  {
   "cell_type": "markdown",
   "metadata": {},
   "source": [
    "## ボクセルのLoad"
   ]
  },
  {
   "cell_type": "code",
   "execution_count": 32,
   "metadata": {},
   "outputs": [],
   "source": [
    "x_train = np.load( vox_dir  + \"x_train.npy\")\n",
    "x_test = np.load( vox_dir  + \"x_test.npy\")\n",
    "y_train = np.load( vox_dir + \"y_train.npy\")\n",
    "y_test = np.load( vox_dir + \"y_test.npy\")"
   ]
  },
  {
   "cell_type": "code",
   "execution_count": 33,
   "metadata": {},
   "outputs": [
    {
     "data": {
      "text/plain": [
       "(3991, 32, 32, 32, 1)"
      ]
     },
     "execution_count": 33,
     "metadata": {},
     "output_type": "execute_result"
    }
   ],
   "source": [
    "x_train.shape"
   ]
  },
  {
   "cell_type": "code",
   "execution_count": 34,
   "metadata": {},
   "outputs": [
    {
     "data": {
      "text/plain": [
       "(3991, 10)"
      ]
     },
     "execution_count": 34,
     "metadata": {},
     "output_type": "execute_result"
    }
   ],
   "source": [
    "y_train.shape"
   ]
  },
  {
   "cell_type": "code",
   "execution_count": 35,
   "metadata": {},
   "outputs": [
    {
     "data": {
      "text/plain": [
       "(908, 32, 32, 32, 1)"
      ]
     },
     "execution_count": 35,
     "metadata": {},
     "output_type": "execute_result"
    }
   ],
   "source": [
    "x_test.shape"
   ]
  },
  {
   "cell_type": "code",
   "execution_count": 36,
   "metadata": {
    "scrolled": true
   },
   "outputs": [
    {
     "data": {
      "text/plain": [
       "(908, 10)"
      ]
     },
     "execution_count": 36,
     "metadata": {},
     "output_type": "execute_result"
    }
   ],
   "source": [
    "y_test.shape"
   ]
  },
  {
   "cell_type": "markdown",
   "metadata": {},
   "source": [
    "## アスペクト比のLoad"
   ]
  },
  {
   "cell_type": "code",
   "execution_count": 37,
   "metadata": {},
   "outputs": [],
   "source": [
    "directory = dist_dir +\"x_train.npy\"\n",
    "\n",
    "xyz = np.load(directory)\n",
    "x = xyz[:,0]\n",
    "y = xyz[:,1]\n",
    "z = xyz[:,2]\n",
    "xy_ratio = y / x\n",
    "xz_ratio = z / x\n",
    "aspect_train =  np.stack([xy_ratio,xz_ratio],axis=1)\n",
    "\n",
    "directory = dist_dir +\"x_test.npy\"\n",
    "\n",
    "xyz = np.load(directory)\n",
    "x = xyz[:,0]\n",
    "y = xyz[:,1]\n",
    "z = xyz[:,2]\n",
    "xy_ratio = y / x\n",
    "xz_ratio = z / x\n",
    "aspect_test =  np.stack([xy_ratio,xz_ratio],axis=1)"
   ]
  },
  {
   "cell_type": "code",
   "execution_count": 38,
   "metadata": {},
   "outputs": [
    {
     "data": {
      "text/plain": [
       "(3991, 2)"
      ]
     },
     "execution_count": 38,
     "metadata": {},
     "output_type": "execute_result"
    }
   ],
   "source": [
    "aspect_train.shape"
   ]
  },
  {
   "cell_type": "code",
   "execution_count": 39,
   "metadata": {},
   "outputs": [
    {
     "data": {
      "text/plain": [
       "(908, 2)"
      ]
     },
     "execution_count": 39,
     "metadata": {},
     "output_type": "execute_result"
    }
   ],
   "source": [
    "aspect_test.shape"
   ]
  },
  {
   "cell_type": "markdown",
   "metadata": {},
   "source": [
    "## fit"
   ]
  },
  {
   "cell_type": "code",
   "execution_count": 40,
   "metadata": {
    "code_folding": [],
    "scrolled": true
   },
   "outputs": [
    {
     "name": "stdout",
     "output_type": "stream",
     "text": [
      "Train on 3991 samples, validate on 908 samples\n",
      "Epoch 1/40\n",
      "3991/3991 [==============================] - 4s 1ms/step - loss: 1.2193 - acc: 0.6307 - val_loss: 0.7575 - val_acc: 0.7445\n",
      "Epoch 2/40\n",
      "3991/3991 [==============================] - 4s 937us/step - loss: 0.4841 - acc: 0.8447 - val_loss: 0.4604 - val_acc: 0.8392\n",
      "Epoch 3/40\n",
      "3991/3991 [==============================] - 4s 952us/step - loss: 0.3433 - acc: 0.8935 - val_loss: 0.3956 - val_acc: 0.8656\n",
      "Epoch 4/40\n",
      "3991/3991 [==============================] - 4s 901us/step - loss: 0.2690 - acc: 0.9110 - val_loss: 0.3647 - val_acc: 0.8756\n",
      "Epoch 5/40\n",
      "3991/3991 [==============================] - 4s 930us/step - loss: 0.2182 - acc: 0.9283 - val_loss: 0.3529 - val_acc: 0.8722\n",
      "Epoch 6/40\n",
      "3991/3991 [==============================] - 4s 929us/step - loss: 0.1874 - acc: 0.9354 - val_loss: 0.3212 - val_acc: 0.8932\n",
      "Epoch 7/40\n",
      "3991/3991 [==============================] - 4s 953us/step - loss: 0.1884 - acc: 0.9396 - val_loss: 0.3027 - val_acc: 0.8976\n",
      "Epoch 8/40\n",
      "3991/3991 [==============================] - 4s 936us/step - loss: 0.1603 - acc: 0.9451 - val_loss: 0.3838 - val_acc: 0.8700\n",
      "Epoch 9/40\n",
      "3991/3991 [==============================] - 4s 928us/step - loss: 0.1564 - acc: 0.9459 - val_loss: 0.2863 - val_acc: 0.8943\n",
      "Epoch 10/40\n",
      "3991/3991 [==============================] - 4s 934us/step - loss: 0.1390 - acc: 0.9529 - val_loss: 0.2832 - val_acc: 0.8965\n",
      "Epoch 11/40\n",
      "3991/3991 [==============================] - 4s 915us/step - loss: 0.1198 - acc: 0.9594 - val_loss: 0.2795 - val_acc: 0.8965\n",
      "Epoch 12/40\n",
      "3991/3991 [==============================] - 4s 920us/step - loss: 0.1206 - acc: 0.9587 - val_loss: 0.2882 - val_acc: 0.9042\n",
      "Epoch 13/40\n",
      "3991/3991 [==============================] - 4s 943us/step - loss: 0.0899 - acc: 0.9694 - val_loss: 0.2847 - val_acc: 0.8987\n",
      "Epoch 14/40\n",
      "3991/3991 [==============================] - 4s 899us/step - loss: 0.1004 - acc: 0.9627 - val_loss: 0.2883 - val_acc: 0.8888\n",
      "Epoch 15/40\n",
      "3991/3991 [==============================] - 4s 916us/step - loss: 0.0962 - acc: 0.9672 - val_loss: 0.2732 - val_acc: 0.8998\n",
      "Epoch 16/40\n",
      "3991/3991 [==============================] - 4s 938us/step - loss: 0.0833 - acc: 0.9687 - val_loss: 0.2999 - val_acc: 0.8998\n",
      "Epoch 17/40\n",
      "3991/3991 [==============================] - 4s 977us/step - loss: 0.0882 - acc: 0.9699 - val_loss: 0.2677 - val_acc: 0.9020\n",
      "Epoch 18/40\n",
      "3991/3991 [==============================] - 4s 921us/step - loss: 0.0804 - acc: 0.9694 - val_loss: 0.3312 - val_acc: 0.8855\n",
      "Epoch 19/40\n",
      "3991/3991 [==============================] - 4s 928us/step - loss: 0.0916 - acc: 0.9692 - val_loss: 0.2505 - val_acc: 0.9097\n",
      "Epoch 20/40\n",
      "3991/3991 [==============================] - 4s 922us/step - loss: 0.0873 - acc: 0.9687 - val_loss: 0.2755 - val_acc: 0.9086\n",
      "Epoch 21/40\n",
      "3991/3991 [==============================] - 4s 941us/step - loss: 0.0689 - acc: 0.9747 - val_loss: 0.2788 - val_acc: 0.9053\n",
      "Epoch 22/40\n",
      "3991/3991 [==============================] - 4s 922us/step - loss: 0.0761 - acc: 0.9734 - val_loss: 0.2922 - val_acc: 0.8965\n",
      "Epoch 23/40\n",
      "3991/3991 [==============================] - 4s 932us/step - loss: 0.0764 - acc: 0.9719 - val_loss: 0.2599 - val_acc: 0.9042\n",
      "Epoch 24/40\n",
      "3991/3991 [==============================] - 4s 954us/step - loss: 0.0629 - acc: 0.9774 - val_loss: 0.3190 - val_acc: 0.8954\n",
      "Epoch 25/40\n",
      "3991/3991 [==============================] - 4s 930us/step - loss: 0.0663 - acc: 0.9767 - val_loss: 0.2952 - val_acc: 0.9075\n",
      "Epoch 26/40\n",
      "3991/3991 [==============================] - 4s 973us/step - loss: 0.0556 - acc: 0.9805 - val_loss: 0.2822 - val_acc: 0.9075\n",
      "Epoch 27/40\n",
      "3991/3991 [==============================] - 4s 931us/step - loss: 0.0596 - acc: 0.9800 - val_loss: 0.2842 - val_acc: 0.9086\n",
      "Epoch 28/40\n",
      "3991/3991 [==============================] - 4s 927us/step - loss: 0.0457 - acc: 0.9840 - val_loss: 0.3045 - val_acc: 0.9053\n",
      "Epoch 29/40\n",
      "3991/3991 [==============================] - 4s 962us/step - loss: 0.0641 - acc: 0.9792 - val_loss: 0.2766 - val_acc: 0.9053\n",
      "Epoch 30/40\n",
      "3991/3991 [==============================] - 4s 914us/step - loss: 0.0579 - acc: 0.9772 - val_loss: 0.2535 - val_acc: 0.9163\n",
      "Epoch 31/40\n",
      "3991/3991 [==============================] - 4s 952us/step - loss: 0.0524 - acc: 0.9812 - val_loss: 0.2850 - val_acc: 0.9042\n",
      "Epoch 32/40\n",
      "3991/3991 [==============================] - 4s 998us/step - loss: 0.0530 - acc: 0.9810 - val_loss: 0.2895 - val_acc: 0.8976\n",
      "Epoch 33/40\n",
      "3991/3991 [==============================] - 4s 950us/step - loss: 0.0483 - acc: 0.9832 - val_loss: 0.2802 - val_acc: 0.9174\n",
      "Epoch 34/40\n",
      "3991/3991 [==============================] - 4s 927us/step - loss: 0.0644 - acc: 0.9782 - val_loss: 0.2505 - val_acc: 0.9185\n",
      "Epoch 35/40\n",
      "3991/3991 [==============================] - 4s 924us/step - loss: 0.0568 - acc: 0.9787 - val_loss: 0.2980 - val_acc: 0.9075\n",
      "Epoch 36/40\n",
      "3991/3991 [==============================] - 4s 965us/step - loss: 0.0448 - acc: 0.9832 - val_loss: 0.2922 - val_acc: 0.9130\n",
      "Epoch 37/40\n",
      "3991/3991 [==============================] - 4s 975us/step - loss: 0.0460 - acc: 0.9832 - val_loss: 0.3222 - val_acc: 0.9031\n",
      "Epoch 38/40\n",
      "3991/3991 [==============================] - 4s 955us/step - loss: 0.0477 - acc: 0.9837 - val_loss: 0.3101 - val_acc: 0.9031\n",
      "Epoch 39/40\n",
      "3991/3991 [==============================] - 4s 980us/step - loss: 0.0519 - acc: 0.9822 - val_loss: 0.3067 - val_acc: 0.9086\n",
      "Epoch 40/40\n",
      "3991/3991 [==============================] - 4s 940us/step - loss: 0.0439 - acc: 0.9840 - val_loss: 0.3308 - val_acc: 0.8987\n"
     ]
    }
   ],
   "source": [
    "result = model.fit([x_train,aspect_train], y_train,\n",
    "                   batch_size=batch_size,\n",
    "                   epochs=epochs,\n",
    "                   verbose=1,\n",
    "                   validation_data=([x_test,aspect_test], y_test) ,\n",
    "                   callbacks=callbacks)\n",
    "\n"
   ]
  },
  {
   "cell_type": "code",
   "execution_count": 41,
   "metadata": {
    "scrolled": true
   },
   "outputs": [],
   "source": [
    "# # 重みの読み込み\n",
    "# model.load_weights(\"weights/ModelNet10/cell32/weights__2018_11_29_15_46_12.h5\")\n",
    "# model.load_weights(\"weights/ModelNet40/cell32/weights__2018_12_29_16_15_51.h5\")\n"
   ]
  },
  {
   "cell_type": "markdown",
   "metadata": {},
   "source": [
    "# evaluate"
   ]
  },
  {
   "cell_type": "code",
   "execution_count": 42,
   "metadata": {},
   "outputs": [
    {
     "name": "stdout",
     "output_type": "stream",
     "text": [
      "Test loss: 0.33079952331124457\n",
      "Test accuracy: 0.8986784143594918\n"
     ]
    }
   ],
   "source": [
    "loss,acc = model.evaluate([x_test,aspect_test], y_test, verbose=0)\n",
    "print('Test loss:', loss)\n",
    "print('Test accuracy:', acc)"
   ]
  },
  {
   "cell_type": "code",
   "execution_count": 43,
   "metadata": {},
   "outputs": [],
   "source": [
    "# 重みを読み込んで評価\n",
    "# model.load_weights(\"weights/\"+dataset+\"/cell32/model-38.h5\")\n",
    "# loss,acc = model.evaluate(x_test, y_test, verbose=0)\n",
    "# print('Test loss:', loss)\n",
    "# print('Test accuracy:', acc)"
   ]
  },
  {
   "cell_type": "markdown",
   "metadata": {},
   "source": [
    "## learning validation curve "
   ]
  },
  {
   "cell_type": "code",
   "execution_count": 44,
   "metadata": {},
   "outputs": [],
   "source": [
    "rcParams[\"figure.figsize\"] = [6.4, 4.8]"
   ]
  },
  {
   "cell_type": "code",
   "execution_count": 45,
   "metadata": {},
   "outputs": [
    {
     "data": {
      "image/png": "[encoded data removed]",
      "text/plain": [
       "<Figure size 460.8x345.6 with 1 Axes>"
      ]
     },
     "metadata": {
      "needs_background": "light"
     },
     "output_type": "display_data"
    }
   ],
   "source": [
    "plt.plot(range(1, len(result.history['acc'])+1), result.history['acc'], label=\"training\")\n",
    "plt.plot(range(1, len(result.history['val_acc'])+1), result.history['val_acc'], label=\"validation\")\n",
    "plt.xlabel('Epochs')\n",
    "plt.ylabel('Accuracy')\n",
    "plt.ylim([0.5,1])\n",
    "plt.legend()\n",
    "plt.title(\" {} / cell {}\".format(dataset,cell))\n",
    "plt.savefig(fig_dir + 'acc.svg')\n",
    "plt.show()"
   ]
  },
  {
   "cell_type": "code",
   "execution_count": 46,
   "metadata": {},
   "outputs": [
    {
     "data": {
      "image/png": "[encoded data removed]",
      "text/plain": [
       "<Figure size 460.8x345.6 with 1 Axes>"
      ]
     },
     "metadata": {
      "needs_background": "light"
     },
     "output_type": "display_data"
    }
   ],
   "source": [
    "plt.plot(range(1, len(result.history['loss'])+1), result.history['loss'], label=\"loss\")\n",
    "plt.plot(range(1, len(result.history['val_loss'])+1), result.history['val_loss'], label=\"validation_loss\")\n",
    "plt.xlabel('Epochs')\n",
    "plt.ylabel('Loss')\n",
    "plt.legend()\n",
    "plt.title(\" {} / cell {}\".format(dataset,cell))\n",
    "plt.savefig(fig_dir  + 'loss.svg')\n",
    "plt.show()"
   ]
  },
  {
   "cell_type": "markdown",
   "metadata": {},
   "source": [
    "## Confusion matrix"
   ]
  },
  {
   "cell_type": "code",
   "execution_count": 47,
   "metadata": {},
   "outputs": [],
   "source": [
    "# labels_pred = model.predict_classes(x_test,verbose=0)"
   ]
  },
  {
   "cell_type": "code",
   "execution_count": 48,
   "metadata": {},
   "outputs": [],
   "source": [
    "# labels_pred.shape"
   ]
  },
  {
   "cell_type": "code",
   "execution_count": 49,
   "metadata": {},
   "outputs": [],
   "source": [
    "# labels_pred"
   ]
  },
  {
   "cell_type": "code",
   "execution_count": 50,
   "metadata": {},
   "outputs": [],
   "source": [
    "# np.argmax(y_test, axis=1)"
   ]
  },
  {
   "cell_type": "code",
   "execution_count": 51,
   "metadata": {},
   "outputs": [],
   "source": [
    "# 間違ったやつのIndex\n",
    "# np.where((labels_pred == np.argmax(y_test, axis=1)) == 0)"
   ]
  },
  {
   "cell_type": "code",
   "execution_count": 52,
   "metadata": {},
   "outputs": [],
   "source": [
    "# # グラフのサイズ\n",
    "# rcParams['figure.figsize'] = 10,8\n",
    "\n",
    "\n",
    "# # Plot normalized confusion matrix\n",
    "# plot_confusion_matrix(x_test,y_test)\n"
   ]
  },
  {
   "cell_type": "markdown",
   "metadata": {},
   "source": [
    "## 個別に分類"
   ]
  },
  {
   "cell_type": "code",
   "execution_count": 53,
   "metadata": {},
   "outputs": [],
   "source": [
    "# vertices, faces = load_off(dataset+\"/chair/train/0.off\")\n",
    "# points = gen_random_points(vertices, faces, n_points)\n",
    "# # ValueError: sequence too large; cannot be greater than 32の回避策\n",
    "# # list 2 numpy.ndarray\n",
    "# test = np.empty((len(points), len(points[0])))\n",
    "# test[:] = points\n",
    "# print(type(test))\n",
    "# #voxelize\n",
    "# test_vox = voxilize(test,cell)"
   ]
  },
  {
   "cell_type": "code",
   "execution_count": 54,
   "metadata": {},
   "outputs": [
    {
     "name": "stdout",
     "output_type": "stream",
     "text": [
      "[[9.8404402e-01 7.9215553e-08 4.3797736e-06 ... 1.3174486e-09\n",
      "  1.7461156e-08 1.5949365e-02]\n",
      " [9.8931795e-01 4.2462869e-07 2.1586152e-08 ... 2.4983937e-08\n",
      "  1.3148265e-05 1.4403957e-07]\n",
      " [9.9998903e-01 5.5652083e-07 9.2969728e-08 ... 6.8762734e-10\n",
      "  2.3099221e-06 6.5098567e-07]\n",
      " ...\n",
      " [2.0979492e-08 4.5001815e-07 5.0013412e-08 ... 1.5459655e-09\n",
      "  3.1052921e-11 9.9999952e-01]\n",
      " [3.4073119e-10 4.1501048e-07 5.4314184e-09 ... 8.2736262e-11\n",
      "  5.0243351e-12 9.9999952e-01]\n",
      " [2.1033706e-09 8.6033874e-04 1.1028236e-06 ... 4.0756518e-09\n",
      "  1.8136692e-12 9.9913847e-01]]\n",
      "0.984044\n",
      "bathtub\n"
     ]
    }
   ],
   "source": [
    "# model.load_weights('weights/'+dataset+'/cell32/model-40.h5')\n",
    "\n",
    "# 読み込んだ学習済みモデルで予測\n",
    "proba_all = model.predict([x_test,aspect_test])\n",
    "print(proba_all)\n",
    "proba = np.argmax(proba_all[0]) #ここの０がデータセットのindex\n",
    "print(proba_all[0][proba])\n",
    "print(class_name[proba])"
   ]
  },
  {
   "cell_type": "code",
   "execution_count": 55,
   "metadata": {},
   "outputs": [
    {
     "data": {
      "image/png": "[encoded data removed]",
      "text/plain": [
       "<Figure size 460.8x345.6 with 1 Axes>"
      ]
     },
     "metadata": {
      "needs_background": "light"
     },
     "output_type": "display_data"
    }
   ],
   "source": [
    "fig = plt.figure()\n",
    "ax = fig.add_subplot(1, 1, 1)\n",
    "ax.bar(class_name , proba_all[0])\n",
    "ax.set_xticklabels(class_name, rotation=90)\n",
    "plt.show()"
   ]
  },
  {
   "cell_type": "code",
   "execution_count": null,
   "metadata": {},
   "outputs": [],
   "source": []
  },
  {
   "cell_type": "code",
   "execution_count": null,
   "metadata": {},
   "outputs": [],
   "source": []
  },
  {
   "cell_type": "code",
   "execution_count": null,
   "metadata": {},
   "outputs": [],
   "source": []
  },
  {
   "cell_type": "code",
   "execution_count": null,
   "metadata": {},
   "outputs": [],
   "source": []
  },
  {
   "cell_type": "code",
   "execution_count": null,
   "metadata": {},
   "outputs": [],
   "source": []
  },
  {
   "cell_type": "markdown",
   "metadata": {},
   "source": [
    "## アスペクト比の可視化"
   ]
  },
  {
   "cell_type": "code",
   "execution_count": 56,
   "metadata": {},
   "outputs": [],
   "source": [
    "rcParams[\"figure.figsize\"] = [12, 8]"
   ]
  },
  {
   "cell_type": "code",
   "execution_count": 57,
   "metadata": {
    "code_folding": [],
    "scrolled": true
   },
   "outputs": [
    {
     "name": "stderr",
     "output_type": "stream",
     "text": [
      "/home/takitani/anaconda3/lib/python3.6/site-packages/ipykernel_launcher.py:30: UserWarning: Matplotlib is currently using module://ipykernel.pylab.backend_inline, which is a non-GUI backend, so cannot show the figure.\n"
     ]
    },
    {
     "data": {
      "image/png": "[encoded data removed]",
      "text/plain": [
       "<Figure size 864x576 with 1 Axes>"
      ]
     },
     "metadata": {
      "needs_background": "light"
     },
     "output_type": "display_data"
    },
    {
     "data": {
      "image/png": "[encoded data removed]",
      "text/plain": [
       "<Figure size 864x576 with 1 Axes>"
      ]
     },
     "metadata": {
      "needs_background": "light"
     },
     "output_type": "display_data"
    }
   ],
   "source": [
    "for t in train_or_test:\n",
    "    fig = plt.figure()\n",
    "    ax = fig.add_subplot(1,1,1)\n",
    "    for cl in class_name:\n",
    "        directory = dist_dir + cl + t + \".npy\"\n",
    "        xyz = np.load(directory)\n",
    "        x = xyz[:,0]\n",
    "        y = xyz[:,1]\n",
    "        z = xyz[:,2]\n",
    "        xy_ratio = y / x\n",
    "        xz_ratio = z / x\n",
    "        ax.scatter(xy_ratio , xz_ratio, label=cl, s= 8, alpha=0.8)\n",
    "        \n",
    "\n",
    "    ax.set_title(dataset + \" \" + t)\n",
    "    ax.set_xlabel('x - y ratio')\n",
    "    ax.set_ylabel('x - z ratio')\n",
    "#     plt.xlim([0.025,40])\n",
    "#     plt.ylim([0.025,40])\n",
    "    plt.xlim([0.1,10])\n",
    "    plt.ylim([0.1,10])\n",
    "    plt.xscale(\"log\")\n",
    "    plt.yscale(\"log\")\n",
    "    \n",
    "\n",
    "    ax.grid(True)\n",
    "\n",
    "    ax.legend(loc='upper left')\n",
    "    fig.savefig(fig_dir + t + \"_asp.svg\")\n",
    "    fig.show()"
   ]
  },
  {
   "cell_type": "markdown",
   "metadata": {},
   "source": [
    "ラベル(index)を入力したらそのモデルのパスを返す関数"
   ]
  },
  {
   "cell_type": "code",
   "execution_count": 58,
   "metadata": {},
   "outputs": [
    {
     "name": "stdout",
     "output_type": "stream",
     "text": [
      "bathtub\n",
      "index :  3857\n",
      "npy :  106\n",
      "=====================\n",
      "chair\n",
      "index :  3751\n",
      "npy :  889\n",
      "=====================\n",
      "dresser\n",
      "index :  2862\n",
      "npy :  200\n",
      "=====================\n",
      "night_stand\n",
      "index :  2662\n",
      "npy :  200\n",
      "=====================\n",
      "table\n",
      "index :  2462\n",
      "npy :  392\n",
      "=====================\n",
      "bed\n",
      "index :  2070\n",
      "npy :  515\n",
      "=====================\n",
      "desk\n",
      "index :  1555\n",
      "npy :  200\n",
      "=====================\n",
      "monitor\n",
      "index :  1355\n",
      "npy :  465\n",
      "=====================\n",
      "sofa\n",
      "index :  890\n",
      "npy :  680\n",
      "=====================\n",
      "toilet\n",
      "index :  210\n",
      "npy :  344\n",
      "=====================\n",
      "9\n"
     ]
    }
   ],
   "source": [
    "index = 3857\n",
    "t_or_t = \"train\"\n",
    "for i  in range(num_classes):\n",
    "    cl = class_name[i]\n",
    "    npy = np.load(dist_dir  + cl + t_or_t + \".npy\")\n",
    "    print(cl)\n",
    "    print(\"index : \", index)\n",
    "    index = index - len(npy) \n",
    "    print(\"npy : \", len(npy))\n",
    "    print(\"=====================\")\n",
    "    if index < 0 :\n",
    "        print(i)\n",
    "        break"
   ]
  },
  {
   "cell_type": "code",
   "execution_count": null,
   "metadata": {},
   "outputs": [],
   "source": []
  },
  {
   "cell_type": "markdown",
   "metadata": {},
   "source": [
    "# model構築２"
   ]
  },
  {
   "cell_type": "code",
   "execution_count": 59,
   "metadata": {},
   "outputs": [
    {
     "name": "stdout",
     "output_type": "stream",
     "text": [
      "Test loss: 0.33079952331124457\n",
      "Test accuracy: 0.8986784143594918\n"
     ]
    }
   ],
   "source": [
    "loss,acc = model.evaluate([x_test,aspect_test], y_test, verbose=0)\n",
    "print('Test loss:', loss)\n",
    "print('Test accuracy:', acc)"
   ]
  },
  {
   "cell_type": "code",
   "execution_count": 60,
   "metadata": {},
   "outputs": [
    {
     "data": {
      "text/plain": [
       "range(1, 41)"
      ]
     },
     "execution_count": 60,
     "metadata": {},
     "output_type": "execute_result"
    }
   ],
   "source": [
    "range(1, len(result.history['acc'])+1)"
   ]
  },
  {
   "cell_type": "code",
   "execution_count": 61,
   "metadata": {},
   "outputs": [
    {
     "data": {
      "image/png": "[encoded data removed]",
      "text/plain": [
       "<Figure size 864x576 with 1 Axes>"
      ]
     },
     "metadata": {
      "needs_background": "light"
     },
     "output_type": "display_data"
    }
   ],
   "source": [
    "plt.plot(range(1, len(result.history['acc'])+1), result.history['acc'], label=\"training\")\n",
    "plt.plot(range(1, len(result.history['val_acc'])+1), result.history['val_acc'], label=\"validation\")\n",
    "plt.xlabel('Epochs')\n",
    "plt.ylabel('Accuracy')\n",
    "plt.ylim([0.5,1])\n",
    "plt.legend()\n",
    "plt.title(\" {} / cell {}\".format(dataset,cell))\n",
    "plt.savefig(fig_dir + 'acc_1.svg')\n",
    "plt.show()"
   ]
  },
  {
   "cell_type": "code",
   "execution_count": 62,
   "metadata": {},
   "outputs": [
    {
     "name": "stdout",
     "output_type": "stream",
     "text": [
      "Train on 3991 samples, validate on 908 samples\n",
      "Epoch 1/40\n",
      "3991/3991 [==============================] - 4s 985us/step - loss: 1.1503 - acc: 0.6439 - val_loss: 0.5645 - val_acc: 0.8150\n",
      "Epoch 2/40\n",
      "3991/3991 [==============================] - 3s 790us/step - loss: 0.4187 - acc: 0.8707 - val_loss: 0.4742 - val_acc: 0.8568\n",
      "Epoch 3/40\n",
      "3991/3991 [==============================] - 3s 788us/step - loss: 0.3163 - acc: 0.8995 - val_loss: 0.4989 - val_acc: 0.8502\n",
      "Epoch 4/40\n",
      "3991/3991 [==============================] - 3s 743us/step - loss: 0.2729 - acc: 0.9121 - val_loss: 0.3766 - val_acc: 0.8645\n",
      "Epoch 5/40\n",
      "3991/3991 [==============================] - 3s 813us/step - loss: 0.2261 - acc: 0.9263 - val_loss: 0.3568 - val_acc: 0.8744\n",
      "Epoch 6/40\n",
      "3991/3991 [==============================] - 3s 804us/step - loss: 0.1815 - acc: 0.9371 - val_loss: 0.4115 - val_acc: 0.8480\n",
      "Epoch 7/40\n",
      "3991/3991 [==============================] - 3s 817us/step - loss: 0.1692 - acc: 0.9446 - val_loss: 0.3374 - val_acc: 0.8756\n",
      "Epoch 8/40\n",
      "3991/3991 [==============================] - 3s 808us/step - loss: 0.1447 - acc: 0.9476 - val_loss: 0.3088 - val_acc: 0.8921\n",
      "Epoch 9/40\n",
      "3991/3991 [==============================] - 3s 797us/step - loss: 0.1335 - acc: 0.9546 - val_loss: 0.3285 - val_acc: 0.8667\n",
      "Epoch 10/40\n",
      "3991/3991 [==============================] - 3s 768us/step - loss: 0.1211 - acc: 0.9557 - val_loss: 0.3193 - val_acc: 0.8733\n",
      "Epoch 11/40\n",
      "3991/3991 [==============================] - 3s 806us/step - loss: 0.1208 - acc: 0.9559 - val_loss: 0.2837 - val_acc: 0.8866\n",
      "Epoch 12/40\n",
      "3991/3991 [==============================] - 3s 784us/step - loss: 0.1091 - acc: 0.9599 - val_loss: 0.3168 - val_acc: 0.8811\n",
      "Epoch 13/40\n",
      "3991/3991 [==============================] - 3s 822us/step - loss: 0.1006 - acc: 0.9652 - val_loss: 0.2919 - val_acc: 0.8943\n",
      "Epoch 14/40\n",
      "3991/3991 [==============================] - 3s 794us/step - loss: 0.0961 - acc: 0.9657 - val_loss: 0.2842 - val_acc: 0.8899\n",
      "Epoch 15/40\n",
      "3991/3991 [==============================] - 3s 793us/step - loss: 0.0777 - acc: 0.9722 - val_loss: 0.2940 - val_acc: 0.8976\n",
      "Epoch 16/40\n",
      "3991/3991 [==============================] - 3s 813us/step - loss: 0.0861 - acc: 0.9674 - val_loss: 0.2934 - val_acc: 0.8954\n",
      "Epoch 17/40\n",
      "3991/3991 [==============================] - 3s 794us/step - loss: 0.0926 - acc: 0.9619 - val_loss: 0.2925 - val_acc: 0.9020\n",
      "Epoch 18/40\n",
      "3991/3991 [==============================] - 3s 808us/step - loss: 0.0922 - acc: 0.9674 - val_loss: 0.2811 - val_acc: 0.8998\n",
      "Epoch 19/40\n",
      "3991/3991 [==============================] - 3s 815us/step - loss: 0.0873 - acc: 0.9662 - val_loss: 0.2899 - val_acc: 0.8932\n",
      "Epoch 20/40\n",
      "3991/3991 [==============================] - 3s 811us/step - loss: 0.0791 - acc: 0.9732 - val_loss: 0.3100 - val_acc: 0.8943\n",
      "Epoch 21/40\n",
      "3991/3991 [==============================] - 3s 817us/step - loss: 0.0622 - acc: 0.9757 - val_loss: 0.3118 - val_acc: 0.8899\n",
      "Epoch 22/40\n",
      "3991/3991 [==============================] - 3s 798us/step - loss: 0.0813 - acc: 0.9747 - val_loss: 0.3170 - val_acc: 0.8899\n",
      "Epoch 23/40\n",
      "3991/3991 [==============================] - 3s 780us/step - loss: 0.0767 - acc: 0.9714 - val_loss: 0.2992 - val_acc: 0.8965\n",
      "Epoch 24/40\n",
      "3991/3991 [==============================] - 3s 779us/step - loss: 0.0719 - acc: 0.9764 - val_loss: 0.2956 - val_acc: 0.8943\n",
      "Epoch 25/40\n",
      "3991/3991 [==============================] - 3s 769us/step - loss: 0.0623 - acc: 0.9759 - val_loss: 0.2821 - val_acc: 0.9020\n",
      "Epoch 26/40\n",
      "3991/3991 [==============================] - 3s 818us/step - loss: 0.0582 - acc: 0.9790 - val_loss: 0.2920 - val_acc: 0.9009\n",
      "Epoch 27/40\n",
      "3991/3991 [==============================] - 3s 822us/step - loss: 0.0577 - acc: 0.9782 - val_loss: 0.2865 - val_acc: 0.8987\n",
      "Epoch 28/40\n",
      "3991/3991 [==============================] - 3s 803us/step - loss: 0.0555 - acc: 0.9805 - val_loss: 0.2971 - val_acc: 0.8921\n",
      "Epoch 29/40\n",
      "3991/3991 [==============================] - 3s 810us/step - loss: 0.0615 - acc: 0.9802 - val_loss: 0.2880 - val_acc: 0.8987\n",
      "Epoch 30/40\n",
      "3991/3991 [==============================] - 3s 799us/step - loss: 0.0725 - acc: 0.9744 - val_loss: 0.2949 - val_acc: 0.8888\n",
      "Epoch 31/40\n",
      "3991/3991 [==============================] - 3s 772us/step - loss: 0.0526 - acc: 0.9812 - val_loss: 0.3117 - val_acc: 0.8932\n",
      "Epoch 32/40\n",
      "3991/3991 [==============================] - 3s 809us/step - loss: 0.0505 - acc: 0.9817 - val_loss: 0.3019 - val_acc: 0.8954\n",
      "Epoch 33/40\n",
      "3991/3991 [==============================] - 3s 784us/step - loss: 0.0520 - acc: 0.9807 - val_loss: 0.3013 - val_acc: 0.8987\n",
      "Epoch 34/40\n",
      "3991/3991 [==============================] - 3s 807us/step - loss: 0.0687 - acc: 0.9769 - val_loss: 0.2910 - val_acc: 0.8921\n",
      "Epoch 35/40\n",
      "3991/3991 [==============================] - 3s 814us/step - loss: 0.0536 - acc: 0.9797 - val_loss: 0.2877 - val_acc: 0.9086\n",
      "Epoch 36/40\n",
      "3991/3991 [==============================] - 3s 833us/step - loss: 0.0493 - acc: 0.9827 - val_loss: 0.3139 - val_acc: 0.8976\n",
      "Epoch 37/40\n",
      "3991/3991 [==============================] - 3s 816us/step - loss: 0.0543 - acc: 0.9805 - val_loss: 0.3227 - val_acc: 0.8932\n",
      "Epoch 38/40\n",
      "3991/3991 [==============================] - 3s 809us/step - loss: 0.0552 - acc: 0.9807 - val_loss: 0.3245 - val_acc: 0.8932\n",
      "Epoch 39/40\n",
      "3991/3991 [==============================] - 3s 813us/step - loss: 0.0504 - acc: 0.9810 - val_loss: 0.2994 - val_acc: 0.9020\n",
      "Epoch 40/40\n",
      "3991/3991 [==============================] - 3s 797us/step - loss: 0.0483 - acc: 0.9822 - val_loss: 0.3109 - val_acc: 0.8987\n"
     ]
    }
   ],
   "source": [
    "#inputの定義\n",
    "conv_input = Input(shape=(32, 32, 32 ,1), dtype=\"float32\", name=\"conv_input\")\n",
    "aspect_input = Input(shape=(2,), dtype=\"float32\", name=\"aspect_input\")\n",
    "\n",
    "# Conv3D部\n",
    "conv_output = Conv3D(32,5,padding='valid',strides=(2, 2, 2),activation=\"relu\")(conv_input)\n",
    "\n",
    "conv_output = Dropout(0.4)(conv_output)\n",
    "\n",
    "conv_output = Conv3D(32,3,padding='valid',strides=(1, 1, 1),activation=\"relu\")(conv_output)\n",
    "\n",
    "# conv_output = BatchNormalization()(conv_output)\n",
    "\n",
    "conv_output = MaxPooling3D(pool_size=(2, 2, 2),strides=None, padding='valid')(conv_output)\n",
    "\n",
    "conv_output = Dropout(0.4)(conv_output)\n",
    "\n",
    "output = Flatten()(conv_output)\n",
    "\n",
    "# output = BatchNormalization()(conv_output)\n",
    "\n",
    "# output = Dense(1024, #128\n",
    "#                     kernel_initializer=\"normal\",\n",
    "#                     activation='linear',\n",
    "#                     )(output)\n",
    "\n",
    "output = Dropout(0.5)(output)\n",
    "\n",
    "output = Dense(528, #128\n",
    "                    kernel_initializer=\"normal\",\n",
    "                    activation='linear',\n",
    "                    )(output)\n",
    "\n",
    "output = Dropout(0.5)(output)\n",
    "\n",
    "output = Dense(num_classes, activation=\"softmax\")(output)\n",
    "\n",
    "model = Model(inputs=conv_input, outputs=output)\n",
    "\n",
    "model.compile(loss='categorical_crossentropy', optimizer=optimizer, metrics=[\"accuracy\"])\n",
    "\n",
    "result1 = model.fit(x_train, y_train,\n",
    "                   batch_size=batch_size,\n",
    "                   epochs=epochs,\n",
    "                   verbose=1,\n",
    "                   validation_data=(x_test, y_test) ,\n",
    "                   callbacks=callbacks)"
   ]
  },
  {
   "cell_type": "code",
   "execution_count": 63,
   "metadata": {},
   "outputs": [
    {
     "data": {
      "image/png": "[encoded data removed]",
      "text/plain": [
       "<Figure size 864x576 with 1 Axes>"
      ]
     },
     "metadata": {
      "needs_background": "light"
     },
     "output_type": "display_data"
    }
   ],
   "source": [
    "plt.plot(range(1, len(result.history['acc'])+1), result.history['acc'], label=\"training(+aspect_ratio)\")\n",
    "plt.plot(range(1, len(result.history['val_acc'])+1), result.history['val_acc'], label=\"validation(+aspect_ratio)\")\n",
    "plt.plot(range(1, len(result1.history['acc'])+1), result1.history['acc'], label=\"training\")\n",
    "plt.plot(range(1, len(result1.history['val_acc'])+1), result1.history['val_acc'], label=\"validation\")\n",
    "plt.xlabel('Epochs')\n",
    "plt.ylabel('Accuracy')\n",
    "plt.ylim([0.7,1])\n",
    "plt.legend()\n",
    "plt.title(\" {} / cell {}\".format(dataset,cell))\n",
    "plt.savefig(fig_dir + 'acc_1.png')\n",
    "plt.show()"
   ]
  },
  {
   "cell_type": "code",
   "execution_count": 64,
   "metadata": {},
   "outputs": [
    {
     "data": {
      "image/svg+xml": [
       "<svg height=\"885pt\" viewBox=\"0.00 0.00 409.00 885.00\" width=\"409pt\" xmlns=\"http://www.w3.org/2000/svg\" xmlns:xlink=\"http://www.w3.org/1999/xlink\">\n",
       "<g class=\"graph\" id=\"graph0\" transform=\"scale(1 1) rotate(0) translate(4 881)\">\n",
       "<title>G</title>\n",
       "<polygon fill=\"white\" points=\"-4,4 -4,-881 405,-881 405,4 -4,4\" stroke=\"none\"/>\n",
       "<!-- 140173574431296 -->\n",
       "<g class=\"node\" id=\"node1\"><title>140173574431296</title>\n",
       "<polygon fill=\"none\" points=\"34.5,-830.5 34.5,-876.5 366.5,-876.5 366.5,-830.5 34.5,-830.5\" stroke=\"black\"/>\n",
       "<text font-family=\"Times,serif\" font-size=\"14.00\" text-anchor=\"middle\" x=\"107\" y=\"-849.8\">conv_input: InputLayer</text>\n",
       "<polyline fill=\"none\" points=\"179.5,-830.5 179.5,-876.5 \" stroke=\"black\"/>\n",
       "<text font-family=\"Times,serif\" font-size=\"14.00\" text-anchor=\"middle\" x=\"207\" y=\"-861.3\">input:</text>\n",
       "<polyline fill=\"none\" points=\"179.5,-853.5 234.5,-853.5 \" stroke=\"black\"/>\n",
       "<text font-family=\"Times,serif\" font-size=\"14.00\" text-anchor=\"middle\" x=\"207\" y=\"-838.3\">output:</text>\n",
       "<polyline fill=\"none\" points=\"234.5,-830.5 234.5,-876.5 \" stroke=\"black\"/>\n",
       "<text font-family=\"Times,serif\" font-size=\"14.00\" text-anchor=\"middle\" x=\"300.5\" y=\"-861.3\">(None, 32, 32, 32, 1)</text>\n",
       "<polyline fill=\"none\" points=\"234.5,-853.5 366.5,-853.5 \" stroke=\"black\"/>\n",
       "<text font-family=\"Times,serif\" font-size=\"14.00\" text-anchor=\"middle\" x=\"300.5\" y=\"-838.3\">(None, 32, 32, 32, 1)</text>\n",
       "</g>\n",
       "<!-- 140173574430848 -->\n",
       "<g class=\"node\" id=\"node2\"><title>140173574430848</title>\n",
       "<polygon fill=\"none\" points=\"42,-747.5 42,-793.5 359,-793.5 359,-747.5 42,-747.5\" stroke=\"black\"/>\n",
       "<text font-family=\"Times,serif\" font-size=\"14.00\" text-anchor=\"middle\" x=\"103.5\" y=\"-766.8\">conv3d_3: Conv3D</text>\n",
       "<polyline fill=\"none\" points=\"165,-747.5 165,-793.5 \" stroke=\"black\"/>\n",
       "<text font-family=\"Times,serif\" font-size=\"14.00\" text-anchor=\"middle\" x=\"192.5\" y=\"-778.3\">input:</text>\n",
       "<polyline fill=\"none\" points=\"165,-770.5 220,-770.5 \" stroke=\"black\"/>\n",
       "<text font-family=\"Times,serif\" font-size=\"14.00\" text-anchor=\"middle\" x=\"192.5\" y=\"-755.3\">output:</text>\n",
       "<polyline fill=\"none\" points=\"220,-747.5 220,-793.5 \" stroke=\"black\"/>\n",
       "<text font-family=\"Times,serif\" font-size=\"14.00\" text-anchor=\"middle\" x=\"289.5\" y=\"-778.3\">(None, 32, 32, 32, 1)</text>\n",
       "<polyline fill=\"none\" points=\"220,-770.5 359,-770.5 \" stroke=\"black\"/>\n",
       "<text font-family=\"Times,serif\" font-size=\"14.00\" text-anchor=\"middle\" x=\"289.5\" y=\"-755.3\">(None, 14, 14, 14, 32)</text>\n",
       "</g>\n",
       "<!-- 140173574431296&#45;&gt;140173574430848 -->\n",
       "<g class=\"edge\" id=\"edge1\"><title>140173574431296-&gt;140173574430848</title>\n",
       "<path d=\"M200.5,-830.366C200.5,-822.152 200.5,-812.658 200.5,-803.725\" fill=\"none\" stroke=\"black\"/>\n",
       "<polygon fill=\"black\" points=\"204,-803.607 200.5,-793.607 197,-803.607 204,-803.607\" stroke=\"black\"/>\n",
       "</g>\n",
       "<!-- 140173574433480 -->\n",
       "<g class=\"node\" id=\"node3\"><title>140173574433480</title>\n",
       "<polygon fill=\"none\" points=\"41,-664.5 41,-710.5 360,-710.5 360,-664.5 41,-664.5\" stroke=\"black\"/>\n",
       "<text font-family=\"Times,serif\" font-size=\"14.00\" text-anchor=\"middle\" x=\"103.5\" y=\"-683.8\">dropout_6: Dropout</text>\n",
       "<polyline fill=\"none\" points=\"166,-664.5 166,-710.5 \" stroke=\"black\"/>\n",
       "<text font-family=\"Times,serif\" font-size=\"14.00\" text-anchor=\"middle\" x=\"193.5\" y=\"-695.3\">input:</text>\n",
       "<polyline fill=\"none\" points=\"166,-687.5 221,-687.5 \" stroke=\"black\"/>\n",
       "<text font-family=\"Times,serif\" font-size=\"14.00\" text-anchor=\"middle\" x=\"193.5\" y=\"-672.3\">output:</text>\n",
       "<polyline fill=\"none\" points=\"221,-664.5 221,-710.5 \" stroke=\"black\"/>\n",
       "<text font-family=\"Times,serif\" font-size=\"14.00\" text-anchor=\"middle\" x=\"290.5\" y=\"-695.3\">(None, 14, 14, 14, 32)</text>\n",
       "<polyline fill=\"none\" points=\"221,-687.5 360,-687.5 \" stroke=\"black\"/>\n",
       "<text font-family=\"Times,serif\" font-size=\"14.00\" text-anchor=\"middle\" x=\"290.5\" y=\"-672.3\">(None, 14, 14, 14, 32)</text>\n",
       "</g>\n",
       "<!-- 140173574430848&#45;&gt;140173574433480 -->\n",
       "<g class=\"edge\" id=\"edge2\"><title>140173574430848-&gt;140173574433480</title>\n",
       "<path d=\"M200.5,-747.366C200.5,-739.152 200.5,-729.658 200.5,-720.725\" fill=\"none\" stroke=\"black\"/>\n",
       "<polygon fill=\"black\" points=\"204,-720.607 200.5,-710.607 197,-720.607 204,-720.607\" stroke=\"black\"/>\n",
       "</g>\n",
       "<!-- 140173574431352 -->\n",
       "<g class=\"node\" id=\"node4\"><title>140173574431352</title>\n",
       "<polygon fill=\"none\" points=\"42,-581.5 42,-627.5 359,-627.5 359,-581.5 42,-581.5\" stroke=\"black\"/>\n",
       "<text font-family=\"Times,serif\" font-size=\"14.00\" text-anchor=\"middle\" x=\"103.5\" y=\"-600.8\">conv3d_4: Conv3D</text>\n",
       "<polyline fill=\"none\" points=\"165,-581.5 165,-627.5 \" stroke=\"black\"/>\n",
       "<text font-family=\"Times,serif\" font-size=\"14.00\" text-anchor=\"middle\" x=\"192.5\" y=\"-612.3\">input:</text>\n",
       "<polyline fill=\"none\" points=\"165,-604.5 220,-604.5 \" stroke=\"black\"/>\n",
       "<text font-family=\"Times,serif\" font-size=\"14.00\" text-anchor=\"middle\" x=\"192.5\" y=\"-589.3\">output:</text>\n",
       "<polyline fill=\"none\" points=\"220,-581.5 220,-627.5 \" stroke=\"black\"/>\n",
       "<text font-family=\"Times,serif\" font-size=\"14.00\" text-anchor=\"middle\" x=\"289.5\" y=\"-612.3\">(None, 14, 14, 14, 32)</text>\n",
       "<polyline fill=\"none\" points=\"220,-604.5 359,-604.5 \" stroke=\"black\"/>\n",
       "<text font-family=\"Times,serif\" font-size=\"14.00\" text-anchor=\"middle\" x=\"289.5\" y=\"-589.3\">(None, 12, 12, 12, 32)</text>\n",
       "</g>\n",
       "<!-- 140173574433480&#45;&gt;140173574431352 -->\n",
       "<g class=\"edge\" id=\"edge3\"><title>140173574433480-&gt;140173574431352</title>\n",
       "<path d=\"M200.5,-664.366C200.5,-656.152 200.5,-646.658 200.5,-637.725\" fill=\"none\" stroke=\"black\"/>\n",
       "<polygon fill=\"black\" points=\"204,-637.607 200.5,-627.607 197,-637.607 204,-637.607\" stroke=\"black\"/>\n",
       "</g>\n",
       "<!-- 140173574432808 -->\n",
       "<g class=\"node\" id=\"node5\"><title>140173574432808</title>\n",
       "<polygon fill=\"none\" points=\"-2.84217e-14,-498.5 -2.84217e-14,-544.5 401,-544.5 401,-498.5 -2.84217e-14,-498.5\" stroke=\"black\"/>\n",
       "<text font-family=\"Times,serif\" font-size=\"14.00\" text-anchor=\"middle\" x=\"103.5\" y=\"-517.8\">max_pooling3d_2: MaxPooling3D</text>\n",
       "<polyline fill=\"none\" points=\"207,-498.5 207,-544.5 \" stroke=\"black\"/>\n",
       "<text font-family=\"Times,serif\" font-size=\"14.00\" text-anchor=\"middle\" x=\"234.5\" y=\"-529.3\">input:</text>\n",
       "<polyline fill=\"none\" points=\"207,-521.5 262,-521.5 \" stroke=\"black\"/>\n",
       "<text font-family=\"Times,serif\" font-size=\"14.00\" text-anchor=\"middle\" x=\"234.5\" y=\"-506.3\">output:</text>\n",
       "<polyline fill=\"none\" points=\"262,-498.5 262,-544.5 \" stroke=\"black\"/>\n",
       "<text font-family=\"Times,serif\" font-size=\"14.00\" text-anchor=\"middle\" x=\"331.5\" y=\"-529.3\">(None, 12, 12, 12, 32)</text>\n",
       "<polyline fill=\"none\" points=\"262,-521.5 401,-521.5 \" stroke=\"black\"/>\n",
       "<text font-family=\"Times,serif\" font-size=\"14.00\" text-anchor=\"middle\" x=\"331.5\" y=\"-506.3\">(None, 6, 6, 6, 32)</text>\n",
       "</g>\n",
       "<!-- 140173574431352&#45;&gt;140173574432808 -->\n",
       "<g class=\"edge\" id=\"edge4\"><title>140173574431352-&gt;140173574432808</title>\n",
       "<path d=\"M200.5,-581.366C200.5,-573.152 200.5,-563.658 200.5,-554.725\" fill=\"none\" stroke=\"black\"/>\n",
       "<polygon fill=\"black\" points=\"204,-554.607 200.5,-544.607 197,-554.607 204,-554.607\" stroke=\"black\"/>\n",
       "</g>\n",
       "<!-- 140173778677712 -->\n",
       "<g class=\"node\" id=\"node6\"><title>140173778677712</title>\n",
       "<polygon fill=\"none\" points=\"51,-415.5 51,-461.5 350,-461.5 350,-415.5 51,-415.5\" stroke=\"black\"/>\n",
       "<text font-family=\"Times,serif\" font-size=\"14.00\" text-anchor=\"middle\" x=\"113.5\" y=\"-434.8\">dropout_7: Dropout</text>\n",
       "<polyline fill=\"none\" points=\"176,-415.5 176,-461.5 \" stroke=\"black\"/>\n",
       "<text font-family=\"Times,serif\" font-size=\"14.00\" text-anchor=\"middle\" x=\"203.5\" y=\"-446.3\">input:</text>\n",
       "<polyline fill=\"none\" points=\"176,-438.5 231,-438.5 \" stroke=\"black\"/>\n",
       "<text font-family=\"Times,serif\" font-size=\"14.00\" text-anchor=\"middle\" x=\"203.5\" y=\"-423.3\">output:</text>\n",
       "<polyline fill=\"none\" points=\"231,-415.5 231,-461.5 \" stroke=\"black\"/>\n",
       "<text font-family=\"Times,serif\" font-size=\"14.00\" text-anchor=\"middle\" x=\"290.5\" y=\"-446.3\">(None, 6, 6, 6, 32)</text>\n",
       "<polyline fill=\"none\" points=\"231,-438.5 350,-438.5 \" stroke=\"black\"/>\n",
       "<text font-family=\"Times,serif\" font-size=\"14.00\" text-anchor=\"middle\" x=\"290.5\" y=\"-423.3\">(None, 6, 6, 6, 32)</text>\n",
       "</g>\n",
       "<!-- 140173574432808&#45;&gt;140173778677712 -->\n",
       "<g class=\"edge\" id=\"edge5\"><title>140173574432808-&gt;140173778677712</title>\n",
       "<path d=\"M200.5,-498.366C200.5,-490.152 200.5,-480.658 200.5,-471.725\" fill=\"none\" stroke=\"black\"/>\n",
       "<polygon fill=\"black\" points=\"204,-471.607 200.5,-461.607 197,-471.607 204,-471.607\" stroke=\"black\"/>\n",
       "</g>\n",
       "<!-- 140173574306672 -->\n",
       "<g class=\"node\" id=\"node7\"><title>140173574306672</title>\n",
       "<polygon fill=\"none\" points=\"58.5,-332.5 58.5,-378.5 342.5,-378.5 342.5,-332.5 58.5,-332.5\" stroke=\"black\"/>\n",
       "<text font-family=\"Times,serif\" font-size=\"14.00\" text-anchor=\"middle\" x=\"113.5\" y=\"-351.8\">flatten_2: Flatten</text>\n",
       "<polyline fill=\"none\" points=\"168.5,-332.5 168.5,-378.5 \" stroke=\"black\"/>\n",
       "<text font-family=\"Times,serif\" font-size=\"14.00\" text-anchor=\"middle\" x=\"196\" y=\"-363.3\">input:</text>\n",
       "<polyline fill=\"none\" points=\"168.5,-355.5 223.5,-355.5 \" stroke=\"black\"/>\n",
       "<text font-family=\"Times,serif\" font-size=\"14.00\" text-anchor=\"middle\" x=\"196\" y=\"-340.3\">output:</text>\n",
       "<polyline fill=\"none\" points=\"223.5,-332.5 223.5,-378.5 \" stroke=\"black\"/>\n",
       "<text font-family=\"Times,serif\" font-size=\"14.00\" text-anchor=\"middle\" x=\"283\" y=\"-363.3\">(None, 6, 6, 6, 32)</text>\n",
       "<polyline fill=\"none\" points=\"223.5,-355.5 342.5,-355.5 \" stroke=\"black\"/>\n",
       "<text font-family=\"Times,serif\" font-size=\"14.00\" text-anchor=\"middle\" x=\"283\" y=\"-340.3\">(None, 6912)</text>\n",
       "</g>\n",
       "<!-- 140173778677712&#45;&gt;140173574306672 -->\n",
       "<g class=\"edge\" id=\"edge6\"><title>140173778677712-&gt;140173574306672</title>\n",
       "<path d=\"M200.5,-415.366C200.5,-407.152 200.5,-397.658 200.5,-388.725\" fill=\"none\" stroke=\"black\"/>\n",
       "<polygon fill=\"black\" points=\"204,-388.607 200.5,-378.607 197,-388.607 204,-388.607\" stroke=\"black\"/>\n",
       "</g>\n",
       "<!-- 140173574576896 -->\n",
       "<g class=\"node\" id=\"node8\"><title>140173574576896</title>\n",
       "<polygon fill=\"none\" points=\"66,-249.5 66,-295.5 335,-295.5 335,-249.5 66,-249.5\" stroke=\"black\"/>\n",
       "<text font-family=\"Times,serif\" font-size=\"14.00\" text-anchor=\"middle\" x=\"128.5\" y=\"-268.8\">dropout_8: Dropout</text>\n",
       "<polyline fill=\"none\" points=\"191,-249.5 191,-295.5 \" stroke=\"black\"/>\n",
       "<text font-family=\"Times,serif\" font-size=\"14.00\" text-anchor=\"middle\" x=\"218.5\" y=\"-280.3\">input:</text>\n",
       "<polyline fill=\"none\" points=\"191,-272.5 246,-272.5 \" stroke=\"black\"/>\n",
       "<text font-family=\"Times,serif\" font-size=\"14.00\" text-anchor=\"middle\" x=\"218.5\" y=\"-257.3\">output:</text>\n",
       "<polyline fill=\"none\" points=\"246,-249.5 246,-295.5 \" stroke=\"black\"/>\n",
       "<text font-family=\"Times,serif\" font-size=\"14.00\" text-anchor=\"middle\" x=\"290.5\" y=\"-280.3\">(None, 6912)</text>\n",
       "<polyline fill=\"none\" points=\"246,-272.5 335,-272.5 \" stroke=\"black\"/>\n",
       "<text font-family=\"Times,serif\" font-size=\"14.00\" text-anchor=\"middle\" x=\"290.5\" y=\"-257.3\">(None, 6912)</text>\n",
       "</g>\n",
       "<!-- 140173574306672&#45;&gt;140173574576896 -->\n",
       "<g class=\"edge\" id=\"edge7\"><title>140173574306672-&gt;140173574576896</title>\n",
       "<path d=\"M200.5,-332.366C200.5,-324.152 200.5,-314.658 200.5,-305.725\" fill=\"none\" stroke=\"black\"/>\n",
       "<polygon fill=\"black\" points=\"204,-305.607 200.5,-295.607 197,-305.607 204,-305.607\" stroke=\"black\"/>\n",
       "</g>\n",
       "<!-- 140173573955936 -->\n",
       "<g class=\"node\" id=\"node9\"><title>140173573955936</title>\n",
       "<polygon fill=\"none\" points=\"77.5,-166.5 77.5,-212.5 323.5,-212.5 323.5,-166.5 77.5,-166.5\" stroke=\"black\"/>\n",
       "<text font-family=\"Times,serif\" font-size=\"14.00\" text-anchor=\"middle\" x=\"128.5\" y=\"-185.8\">dense_4: Dense</text>\n",
       "<polyline fill=\"none\" points=\"179.5,-166.5 179.5,-212.5 \" stroke=\"black\"/>\n",
       "<text font-family=\"Times,serif\" font-size=\"14.00\" text-anchor=\"middle\" x=\"207\" y=\"-197.3\">input:</text>\n",
       "<polyline fill=\"none\" points=\"179.5,-189.5 234.5,-189.5 \" stroke=\"black\"/>\n",
       "<text font-family=\"Times,serif\" font-size=\"14.00\" text-anchor=\"middle\" x=\"207\" y=\"-174.3\">output:</text>\n",
       "<polyline fill=\"none\" points=\"234.5,-166.5 234.5,-212.5 \" stroke=\"black\"/>\n",
       "<text font-family=\"Times,serif\" font-size=\"14.00\" text-anchor=\"middle\" x=\"279\" y=\"-197.3\">(None, 6912)</text>\n",
       "<polyline fill=\"none\" points=\"234.5,-189.5 323.5,-189.5 \" stroke=\"black\"/>\n",
       "<text font-family=\"Times,serif\" font-size=\"14.00\" text-anchor=\"middle\" x=\"279\" y=\"-174.3\">(None, 528)</text>\n",
       "</g>\n",
       "<!-- 140173574576896&#45;&gt;140173573955936 -->\n",
       "<g class=\"edge\" id=\"edge8\"><title>140173574576896-&gt;140173573955936</title>\n",
       "<path d=\"M200.5,-249.366C200.5,-241.152 200.5,-231.658 200.5,-222.725\" fill=\"none\" stroke=\"black\"/>\n",
       "<polygon fill=\"black\" points=\"204,-222.607 200.5,-212.607 197,-222.607 204,-222.607\" stroke=\"black\"/>\n",
       "</g>\n",
       "<!-- 140173573955656 -->\n",
       "<g class=\"node\" id=\"node10\"><title>140173573955656</title>\n",
       "<polygon fill=\"none\" points=\"69,-83.5 69,-129.5 332,-129.5 332,-83.5 69,-83.5\" stroke=\"black\"/>\n",
       "<text font-family=\"Times,serif\" font-size=\"14.00\" text-anchor=\"middle\" x=\"131.5\" y=\"-102.8\">dropout_9: Dropout</text>\n",
       "<polyline fill=\"none\" points=\"194,-83.5 194,-129.5 \" stroke=\"black\"/>\n",
       "<text font-family=\"Times,serif\" font-size=\"14.00\" text-anchor=\"middle\" x=\"221.5\" y=\"-114.3\">input:</text>\n",
       "<polyline fill=\"none\" points=\"194,-106.5 249,-106.5 \" stroke=\"black\"/>\n",
       "<text font-family=\"Times,serif\" font-size=\"14.00\" text-anchor=\"middle\" x=\"221.5\" y=\"-91.3\">output:</text>\n",
       "<polyline fill=\"none\" points=\"249,-83.5 249,-129.5 \" stroke=\"black\"/>\n",
       "<text font-family=\"Times,serif\" font-size=\"14.00\" text-anchor=\"middle\" x=\"290.5\" y=\"-114.3\">(None, 528)</text>\n",
       "<polyline fill=\"none\" points=\"249,-106.5 332,-106.5 \" stroke=\"black\"/>\n",
       "<text font-family=\"Times,serif\" font-size=\"14.00\" text-anchor=\"middle\" x=\"290.5\" y=\"-91.3\">(None, 528)</text>\n",
       "</g>\n",
       "<!-- 140173573955936&#45;&gt;140173573955656 -->\n",
       "<g class=\"edge\" id=\"edge9\"><title>140173573955936-&gt;140173573955656</title>\n",
       "<path d=\"M200.5,-166.366C200.5,-158.152 200.5,-148.658 200.5,-139.725\" fill=\"none\" stroke=\"black\"/>\n",
       "<polygon fill=\"black\" points=\"204,-139.607 200.5,-129.607 197,-139.607 204,-139.607\" stroke=\"black\"/>\n",
       "</g>\n",
       "<!-- 140173573724088 -->\n",
       "<g class=\"node\" id=\"node11\"><title>140173573724088</title>\n",
       "<polygon fill=\"none\" points=\"80.5,-0.5 80.5,-46.5 320.5,-46.5 320.5,-0.5 80.5,-0.5\" stroke=\"black\"/>\n",
       "<text font-family=\"Times,serif\" font-size=\"14.00\" text-anchor=\"middle\" x=\"131.5\" y=\"-19.8\">dense_5: Dense</text>\n",
       "<polyline fill=\"none\" points=\"182.5,-0.5 182.5,-46.5 \" stroke=\"black\"/>\n",
       "<text font-family=\"Times,serif\" font-size=\"14.00\" text-anchor=\"middle\" x=\"210\" y=\"-31.3\">input:</text>\n",
       "<polyline fill=\"none\" points=\"182.5,-23.5 237.5,-23.5 \" stroke=\"black\"/>\n",
       "<text font-family=\"Times,serif\" font-size=\"14.00\" text-anchor=\"middle\" x=\"210\" y=\"-8.3\">output:</text>\n",
       "<polyline fill=\"none\" points=\"237.5,-0.5 237.5,-46.5 \" stroke=\"black\"/>\n",
       "<text font-family=\"Times,serif\" font-size=\"14.00\" text-anchor=\"middle\" x=\"279\" y=\"-31.3\">(None, 528)</text>\n",
       "<polyline fill=\"none\" points=\"237.5,-23.5 320.5,-23.5 \" stroke=\"black\"/>\n",
       "<text font-family=\"Times,serif\" font-size=\"14.00\" text-anchor=\"middle\" x=\"279\" y=\"-8.3\">(None, 10)</text>\n",
       "</g>\n",
       "<!-- 140173573955656&#45;&gt;140173573724088 -->\n",
       "<g class=\"edge\" id=\"edge10\"><title>140173573955656-&gt;140173573724088</title>\n",
       "<path d=\"M200.5,-83.3664C200.5,-75.1516 200.5,-65.6579 200.5,-56.7252\" fill=\"none\" stroke=\"black\"/>\n",
       "<polygon fill=\"black\" points=\"204,-56.6068 200.5,-46.6068 197,-56.6069 204,-56.6068\" stroke=\"black\"/>\n",
       "</g>\n",
       "</g>\n",
       "</svg>"
      ],
      "text/plain": [
       "<IPython.core.display.SVG object>"
      ]
     },
     "execution_count": 64,
     "metadata": {},
     "output_type": "execute_result"
    }
   ],
   "source": [
    "#モデル可視化\n",
    "SVG(model_to_dot(model,show_shapes=True).create(prog='dot', format='svg'))"
   ]
  },
  {
   "cell_type": "code",
   "execution_count": 65,
   "metadata": {},
   "outputs": [],
   "source": [
    "# npz = np.load(\"ModelNet40.npz\")\n",
    "# x_train = npz['train_voxel']\n",
    "# x_train = x_train.reshape((-1,32,32,32,1))\n",
    "# y_train = npz['train_label']\n",
    "# x_test = npz['test_voxel']\n",
    "# x_test = x_test.reshape((-1,32,32,32,1))\n",
    "# y_test = npz['test_label']\n",
    "\n",
    "# # convert label to one-hot-vector\n",
    "# y_train = np_utils.to_categorical(y_train, 40)\n",
    "# y_test = np_utils.to_categorical(y_test, 40)"
   ]
  },
  {
   "cell_type": "code",
   "execution_count": null,
   "metadata": {},
   "outputs": [],
   "source": []
  },
  {
   "cell_type": "code",
   "execution_count": null,
   "metadata": {},
   "outputs": [],
   "source": []
  },
  {
   "cell_type": "code",
   "execution_count": null,
   "metadata": {},
   "outputs": [],
   "source": []
  },
  {
   "cell_type": "code",
   "execution_count": null,
   "metadata": {},
   "outputs": [],
   "source": []
  },
  {
   "cell_type": "code",
   "execution_count": null,
   "metadata": {},
   "outputs": [],
   "source": []
  },
  {
   "cell_type": "code",
   "execution_count": null,
   "metadata": {},
   "outputs": [],
   "source": []
  },
  {
   "cell_type": "code",
   "execution_count": 66,
   "metadata": {},
   "outputs": [],
   "source": [
    "# アスペクト比部\n",
    "aspect_output = Dense(256)(aspect_input)\n",
    "\n",
    "aspect_output = Dropout(0.4)(aspect_output)\n",
    "\n",
    "output = Dense(128, #128\n",
    "                    activation='linear',\n",
    "                    kernel_initializer='normal',\n",
    "                    )(aspect_output)\n",
    "\n",
    "output = Dropout(0.5)(output)\n",
    "\n",
    "output = Dense(num_classes, activation=\"softmax\")(output)"
   ]
  },
  {
   "cell_type": "code",
   "execution_count": 67,
   "metadata": {},
   "outputs": [],
   "source": [
    "model = Model(inputs=aspect_input, outputs=output)"
   ]
  },
  {
   "cell_type": "code",
   "execution_count": 68,
   "metadata": {},
   "outputs": [
    {
     "name": "stdout",
     "output_type": "stream",
     "text": [
      "_________________________________________________________________\n",
      "Layer (type)                 Output Shape              Param #   \n",
      "=================================================================\n",
      "aspect_input (InputLayer)    (None, 2)                 0         \n",
      "_________________________________________________________________\n",
      "dense_6 (Dense)              (None, 256)               768       \n",
      "_________________________________________________________________\n",
      "dropout_10 (Dropout)         (None, 256)               0         \n",
      "_________________________________________________________________\n",
      "dense_7 (Dense)              (None, 128)               32896     \n",
      "_________________________________________________________________\n",
      "dropout_11 (Dropout)         (None, 128)               0         \n",
      "_________________________________________________________________\n",
      "dense_8 (Dense)              (None, 10)                1290      \n",
      "=================================================================\n",
      "Total params: 34,954\n",
      "Trainable params: 34,954\n",
      "Non-trainable params: 0\n",
      "_________________________________________________________________\n"
     ]
    }
   ],
   "source": [
    "model.summary()"
   ]
  },
  {
   "cell_type": "code",
   "execution_count": 69,
   "metadata": {},
   "outputs": [],
   "source": [
    "# compile model\n",
    "model.compile(loss='categorical_crossentropy', optimizer=optimizer, metrics=[\"accuracy\"])"
   ]
  },
  {
   "cell_type": "code",
   "execution_count": 70,
   "metadata": {},
   "outputs": [
    {
     "name": "stdout",
     "output_type": "stream",
     "text": [
      "Train on 3991 samples, validate on 908 samples\n",
      "Epoch 1/40\n",
      "3991/3991 [==============================] - 0s 101us/step - loss: 1.6663 - acc: 0.4307 - val_loss: 1.6890 - val_acc: 0.3998\n",
      "Epoch 2/40\n",
      "3991/3991 [==============================] - 0s 42us/step - loss: 1.3733 - acc: 0.5242 - val_loss: 1.5612 - val_acc: 0.4604\n",
      "Epoch 3/40\n",
      "3991/3991 [==============================] - 0s 42us/step - loss: 1.3500 - acc: 0.5405 - val_loss: 1.6280 - val_acc: 0.4108\n",
      "Epoch 4/40\n",
      "3991/3991 [==============================] - 0s 42us/step - loss: 1.3351 - acc: 0.5530 - val_loss: 1.5795 - val_acc: 0.4449\n",
      "Epoch 5/40\n",
      "3991/3991 [==============================] - 0s 42us/step - loss: 1.3302 - acc: 0.5497 - val_loss: 1.5646 - val_acc: 0.4548\n",
      "Epoch 6/40\n",
      "3991/3991 [==============================] - 0s 42us/step - loss: 1.3196 - acc: 0.5475 - val_loss: 1.5661 - val_acc: 0.4670\n",
      "Epoch 7/40\n",
      "3991/3991 [==============================] - 0s 44us/step - loss: 1.3260 - acc: 0.5570 - val_loss: 1.5787 - val_acc: 0.4350\n",
      "Epoch 8/40\n",
      "3991/3991 [==============================] - 0s 45us/step - loss: 1.3151 - acc: 0.5585 - val_loss: 1.5965 - val_acc: 0.4218\n",
      "Epoch 9/40\n",
      "3991/3991 [==============================] - 0s 44us/step - loss: 1.3098 - acc: 0.5590 - val_loss: 1.5981 - val_acc: 0.4196\n",
      "Epoch 10/40\n",
      "3991/3991 [==============================] - 0s 43us/step - loss: 1.3085 - acc: 0.5588 - val_loss: 1.6167 - val_acc: 0.4196\n",
      "Epoch 11/40\n",
      "3991/3991 [==============================] - 0s 42us/step - loss: 1.3204 - acc: 0.5540 - val_loss: 1.5686 - val_acc: 0.4273\n",
      "Epoch 12/40\n",
      "3991/3991 [==============================] - 0s 42us/step - loss: 1.3007 - acc: 0.5598 - val_loss: 1.5594 - val_acc: 0.4615\n",
      "Epoch 13/40\n",
      "3991/3991 [==============================] - 0s 41us/step - loss: 1.3094 - acc: 0.5600 - val_loss: 1.6029 - val_acc: 0.4229\n",
      "Epoch 14/40\n",
      "3991/3991 [==============================] - 0s 40us/step - loss: 1.3080 - acc: 0.5623 - val_loss: 1.5702 - val_acc: 0.4449\n",
      "Epoch 15/40\n",
      "3991/3991 [==============================] - 0s 41us/step - loss: 1.3017 - acc: 0.5593 - val_loss: 1.5652 - val_acc: 0.4593\n",
      "Epoch 16/40\n",
      "3991/3991 [==============================] - 0s 42us/step - loss: 1.2984 - acc: 0.5660 - val_loss: 1.5748 - val_acc: 0.4306\n",
      "Epoch 17/40\n",
      "3991/3991 [==============================] - 0s 43us/step - loss: 1.3073 - acc: 0.5570 - val_loss: 1.5774 - val_acc: 0.4317\n",
      "Epoch 18/40\n",
      "3991/3991 [==============================] - 0s 42us/step - loss: 1.2983 - acc: 0.5643 - val_loss: 1.5557 - val_acc: 0.4570\n",
      "Epoch 19/40\n",
      "3991/3991 [==============================] - 0s 44us/step - loss: 1.3021 - acc: 0.5615 - val_loss: 1.5948 - val_acc: 0.4339\n",
      "Epoch 20/40\n",
      "3991/3991 [==============================] - 0s 44us/step - loss: 1.2971 - acc: 0.5600 - val_loss: 1.5739 - val_acc: 0.4537\n",
      "Epoch 21/40\n",
      "3991/3991 [==============================] - 0s 44us/step - loss: 1.2954 - acc: 0.5630 - val_loss: 1.5624 - val_acc: 0.4537\n",
      "Epoch 22/40\n",
      "3991/3991 [==============================] - 0s 43us/step - loss: 1.3047 - acc: 0.5685 - val_loss: 1.5662 - val_acc: 0.4681\n",
      "Epoch 23/40\n",
      "3991/3991 [==============================] - 0s 42us/step - loss: 1.2985 - acc: 0.5608 - val_loss: 1.5561 - val_acc: 0.4615\n",
      "Epoch 24/40\n",
      "3991/3991 [==============================] - 0s 42us/step - loss: 1.2981 - acc: 0.5628 - val_loss: 1.5583 - val_acc: 0.4593\n",
      "Epoch 25/40\n",
      "3991/3991 [==============================] - 0s 43us/step - loss: 1.2954 - acc: 0.5640 - val_loss: 1.5706 - val_acc: 0.4394\n",
      "Epoch 26/40\n",
      "3991/3991 [==============================] - 0s 42us/step - loss: 1.2956 - acc: 0.5673 - val_loss: 1.5754 - val_acc: 0.4604\n",
      "Epoch 27/40\n",
      "3991/3991 [==============================] - 0s 40us/step - loss: 1.2939 - acc: 0.5623 - val_loss: 1.5835 - val_acc: 0.4504\n",
      "Epoch 28/40\n",
      "3991/3991 [==============================] - 0s 42us/step - loss: 1.2973 - acc: 0.5668 - val_loss: 1.5721 - val_acc: 0.4394\n",
      "Epoch 29/40\n",
      "3991/3991 [==============================] - 0s 42us/step - loss: 1.2906 - acc: 0.5640 - val_loss: 1.5532 - val_acc: 0.4593\n",
      "Epoch 30/40\n",
      "3991/3991 [==============================] - 0s 39us/step - loss: 1.3034 - acc: 0.5713 - val_loss: 1.5705 - val_acc: 0.4328\n",
      "Epoch 31/40\n",
      "3991/3991 [==============================] - 0s 41us/step - loss: 1.2970 - acc: 0.5615 - val_loss: 1.5670 - val_acc: 0.4615\n",
      "Epoch 32/40\n",
      "3991/3991 [==============================] - 0s 41us/step - loss: 1.2963 - acc: 0.5663 - val_loss: 1.5563 - val_acc: 0.4615\n",
      "Epoch 33/40\n",
      "3991/3991 [==============================] - 0s 42us/step - loss: 1.3003 - acc: 0.5665 - val_loss: 1.5983 - val_acc: 0.4284\n",
      "Epoch 34/40\n",
      "3991/3991 [==============================] - 0s 41us/step - loss: 1.2948 - acc: 0.5595 - val_loss: 1.5637 - val_acc: 0.4659\n",
      "Epoch 35/40\n",
      "3991/3991 [==============================] - 0s 43us/step - loss: 1.2967 - acc: 0.5675 - val_loss: 1.5904 - val_acc: 0.4273\n",
      "Epoch 36/40\n",
      "3991/3991 [==============================] - 0s 43us/step - loss: 1.2888 - acc: 0.5583 - val_loss: 1.5605 - val_acc: 0.4615\n",
      "Epoch 37/40\n",
      "3991/3991 [==============================] - 0s 43us/step - loss: 1.2937 - acc: 0.5698 - val_loss: 1.5870 - val_acc: 0.4284\n",
      "Epoch 38/40\n",
      "3991/3991 [==============================] - 0s 41us/step - loss: 1.2930 - acc: 0.5630 - val_loss: 1.5588 - val_acc: 0.4604\n",
      "Epoch 39/40\n",
      "3991/3991 [==============================] - 0s 40us/step - loss: 1.2888 - acc: 0.5673 - val_loss: 1.5782 - val_acc: 0.4405\n",
      "Epoch 40/40\n",
      "3991/3991 [==============================] - 0s 41us/step - loss: 1.2948 - acc: 0.5665 - val_loss: 1.5659 - val_acc: 0.4416\n"
     ]
    }
   ],
   "source": [
    "result = model.fit(aspect_train, y_train,\n",
    "                   batch_size=batch_size,\n",
    "                   epochs=epochs,\n",
    "                   verbose=1,\n",
    "                   validation_data=(aspect_test, y_test) ,\n",
    "                   callbacks=callbacks)"
   ]
  },
  {
   "cell_type": "code",
   "execution_count": null,
   "metadata": {},
   "outputs": [],
   "source": []
  },
  {
   "cell_type": "markdown",
   "metadata": {},
   "source": [
    "ボクセル化することによって概形が得られ，それにあまり差分がない？（クラスごとに）\n",
    "Flagの調整"
   ]
  },
  {
   "cell_type": "code",
   "execution_count": null,
   "metadata": {},
   "outputs": [],
   "source": []
  },
  {
   "cell_type": "code",
   "execution_count": null,
   "metadata": {},
   "outputs": [],
   "source": []
  },
  {
   "cell_type": "code",
   "execution_count": null,
   "metadata": {},
   "outputs": [],
   "source": []
  },
  {
   "cell_type": "code",
   "execution_count": null,
   "metadata": {},
   "outputs": [],
   "source": []
  },
  {
   "cell_type": "code",
   "execution_count": null,
   "metadata": {},
   "outputs": [],
   "source": []
  },
  {
   "cell_type": "code",
   "execution_count": null,
   "metadata": {},
   "outputs": [],
   "source": []
  },
  {
   "cell_type": "code",
   "execution_count": null,
   "metadata": {},
   "outputs": [],
   "source": []
  },
  {
   "cell_type": "code",
   "execution_count": null,
   "metadata": {},
   "outputs": [],
   "source": []
  },
  {
   "cell_type": "code",
   "execution_count": null,
   "metadata": {},
   "outputs": [],
   "source": []
  },
  {
   "cell_type": "code",
   "execution_count": null,
   "metadata": {},
   "outputs": [],
   "source": []
  },
  {
   "cell_type": "code",
   "execution_count": null,
   "metadata": {},
   "outputs": [],
   "source": []
  },
  {
   "cell_type": "code",
   "execution_count": null,
   "metadata": {},
   "outputs": [],
   "source": []
  },
  {
   "cell_type": "code",
   "execution_count": null,
   "metadata": {},
   "outputs": [],
   "source": []
  },
  {
   "cell_type": "code",
   "execution_count": null,
   "metadata": {},
   "outputs": [],
   "source": []
  }
 ],
 "metadata": {
  "kernelspec": {
   "display_name": "Python 3",
   "language": "python",
   "name": "python3"
  },
  "language_info": {
   "codemirror_mode": {
    "name": "ipython",
    "version": 3
   },
   "file_extension": ".py",
   "mimetype": "text/x-python",
   "name": "python",
   "nbconvert_exporter": "python",
   "pygments_lexer": "ipython3",
   "version": "3.6.8"
  },
  "toc": {
   "base_numbering": 1,
   "nav_menu": {
    "height": "308px",
    "width": "186px"
   },
   "number_sections": true,
   "sideBar": true,
   "skip_h1_title": false,
   "title_cell": "Table of Contents",
   "title_sidebar": "Contents",
   "toc_cell": false,
   "toc_position": {
    "height": "calc(100% - 180px)",
    "left": "10px",
    "top": "150px",
    "width": "165px"
   },
   "toc_section_display": true,
   "toc_window_display": true
  }
 },
 "nbformat": 4,
 "nbformat_minor": 2
}
