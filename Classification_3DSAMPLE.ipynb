{
 "cells": [
  {
   "cell_type": "markdown",
   "metadata": {},
   "source": [
    "# Head"
   ]
  },
  {
   "cell_type": "markdown",
   "metadata": {},
   "source": [
    "## imports"
   ]
  },
  {
   "cell_type": "code",
   "execution_count": 1,
   "metadata": {},
   "outputs": [],
   "source": [
    "# -*- coding: utf-8 -*-\n",
    "from __future__ import print_function , division\n",
    "from __future__ import absolute_import\n",
    "from __future__ import unicode_literals"
   ]
  },
  {
   "cell_type": "code",
   "execution_count": 2,
   "metadata": {},
   "outputs": [
    {
     "name": "stderr",
     "output_type": "stream",
     "text": [
      "Using TensorFlow backend.\n"
     ]
    }
   ],
   "source": [
    "%matplotlib inline\n",
    "import logging\n",
    "import datetime\n",
    "import os\n",
    "import sys\n",
    "import numpy as np\n",
    "import matplotlib.pyplot as plt\n",
    "import itertools\n",
    "import glob\n",
    "import math\n",
    "import random\n",
    "from mpl_toolkits.mplot3d import Axes3D\n",
    "from tqdm import tqdm_notebook as tqdm\n",
    "from sklearn.metrics import confusion_matrix\n",
    "from pylab import rcParams\n",
    "import shutil\n",
    "\n",
    "from config import config\n",
    "\n",
    "import keras\n",
    "from keras.models import Sequential , Model\n",
    "from keras.layers import Dense, Dropout, Flatten, Conv3D, MaxPooling3D, BatchNormalization, GaussianNoise , Conv2D, MaxPooling2D, Dropout, Flatten, Dense, concatenate, Input\n",
    "from keras import backend as K\n",
    "from keras.layers.core import Activation, Dense, Dropout, Flatten\n",
    "from keras.layers.advanced_activations import ReLU , LeakyReLU\n",
    "from keras.regularizers import l2\n",
    "from keras.callbacks import LearningRateScheduler, ModelCheckpoint\n",
    "from IPython.display import SVG\n",
    "from keras.utils.vis_utils import model_to_dot\n",
    "from keras.utils import plot_model , np_utils\n",
    "from keras.models import model_from_json\n",
    "from keras.optimizers import SGD , RMSprop ,Adam\n",
    "\n",
    "import tensorflow as tf\n",
    "from keras.backend import tensorflow_backend as K\n",
    "\n",
    "from time import gmtime, strftime"
   ]
  },
  {
   "cell_type": "markdown",
   "metadata": {},
   "source": [
    "## memoryの制限"
   ]
  },
  {
   "cell_type": "code",
   "execution_count": 3,
   "metadata": {
    "code_folding": []
   },
   "outputs": [],
   "source": [
    "# memoryの制限\n",
    "m_config = tf.ConfigProto()\n",
    "m_config.gpu_options.visible_device_list = \"0\"\n",
    "m_config.gpu_options.per_process_gpu_memory_fraction = 0.5\n",
    "m_config.gpu_options.allow_growth = True\n",
    "sess = tf.Session(config=m_config)\n",
    "K.set_session(sess)"
   ]
  },
  {
   "cell_type": "code",
   "execution_count": 4,
   "metadata": {},
   "outputs": [],
   "source": [
    "#GPUを認識できてるか確認\n",
    "# from tensorflow.python.client import device_lib\n",
    "# device_lib.list_local_devices()"
   ]
  },
  {
   "cell_type": "markdown",
   "metadata": {},
   "source": [
    "## Tuning"
   ]
  },
  {
   "cell_type": "code",
   "execution_count": 5,
   "metadata": {},
   "outputs": [],
   "source": [
    "#Tuning\n",
    "dataset = config.DATASET\n",
    "n_points = config.N_POINTS\n",
    "cell = config.CELL\n",
    "num_classes = config.NUM_CLASSES\n",
    "extension = config.EXTENSION\n",
    "batch_size = config.BATCH_SIZE\n",
    "class_name = config.CLASS_NAME\n",
    "optimizer = config.OPTIMIZER\n",
    "epochs = config.EPOCHS\n",
    "learning_rate = config.LEARNIG_RATE\n",
    "callbacks = config.CALLBACKS"
   ]
  },
  {
   "cell_type": "code",
   "execution_count": 6,
   "metadata": {},
   "outputs": [],
   "source": [
    "train_or_test = [\"train\",\"test\"]"
   ]
  },
  {
   "cell_type": "markdown",
   "metadata": {},
   "source": [
    "## Directory関連"
   ]
  },
  {
   "cell_type": "code",
   "execution_count": 7,
   "metadata": {},
   "outputs": [],
   "source": [
    "#読み込み，書き込み用ディレクトリ\n",
    "data_dir = config.DATA_DIR\n",
    "vox_dir = config.VOX_DIR\n",
    "fig_dir =  config.FIG_DIR\n",
    "dist_dir = config.DIST_DIR\n",
    "weights_dir = config.WEIGHTS_DIR\n",
    "model_dir = config.MODEL_DIR"
   ]
  },
  {
   "cell_type": "code",
   "execution_count": 8,
   "metadata": {
    "code_folding": []
   },
   "outputs": [],
   "source": [
    "dir_list = [data_dir , vox_dir , fig_dir , dist_dir , weights_dir , model_dir ]\n",
    "for directory in dir_list:\n",
    "    if os.path.exists(directory) == False:\n",
    "        os.makedirs(directory)"
   ]
  },
  {
   "cell_type": "code",
   "execution_count": 9,
   "metadata": {},
   "outputs": [],
   "source": [
    "# TrainとTestのデータdirectory作成\n",
    "for t in train_or_test:\n",
    "    for cl in class_name:\n",
    "        if os.path.exists(data_dir + cl + \"/\" + t + \"/\") == False:\n",
    "            os.makedirs(data_dir + cl + \"/\" + t + \"/\")"
   ]
  },
  {
   "cell_type": "markdown",
   "metadata": {},
   "source": [
    "# 関数"
   ]
  },
  {
   "cell_type": "markdown",
   "metadata": {},
   "source": [
    "## ファイル読み込み"
   ]
  },
  {
   "cell_type": "code",
   "execution_count": 10,
   "metadata": {
    "code_folding": []
   },
   "outputs": [],
   "source": [
    "def load_off(filename):\n",
    "    # read OFF file\n",
    "    with open(filename,\"r\") as handle:\n",
    "        off = handle.read().rstrip().split(\"\\n\")\n",
    "        \n",
    "    #OFFファイルが不正かどうか判定\n",
    "    if off[0] != \"OFF\":\n",
    "#         print(\"{} is broken!!\".format(filename))\n",
    "        params = list(off[0].split(\" \"))\n",
    "        n_vertices = int(params[0].strip(\"OFF\"))\n",
    "        n_faces = int(params[1])\n",
    "        off.insert(0, \"OFF\")\n",
    "    \n",
    "    else:\n",
    "        #get params and faces\n",
    "        params = list(map(int, off[1].split(\" \")))\n",
    "        n_vertices = params[0]\n",
    "        n_faces = params[1]\n",
    "\n",
    "    # read  Vertex coordinates\n",
    "    vertices = []\n",
    "    for n in range(n_vertices):\n",
    "        coords = list(map(float, off[2+n].split()))\n",
    "        vertices.append(coords)\n",
    "\n",
    "    # read information of faces\n",
    "    faces = []\n",
    "    for n in range(n_faces):\n",
    "        connects = list(map(int, off[2 + n_vertices + n].split(\" \")[1:4]))\n",
    "        faces.append(connects)\n",
    "\n",
    "    return vertices, faces"
   ]
  },
  {
   "cell_type": "code",
   "execution_count": 11,
   "metadata": {},
   "outputs": [],
   "source": [
    "def get_unique_list(seq):\n",
    "    seen = []\n",
    "    return [x for x in seq if x not in seen and not seen.append(x)]"
   ]
  },
  {
   "cell_type": "code",
   "execution_count": 12,
   "metadata": {},
   "outputs": [],
   "source": [
    "def get_index_2d_list(retrieval_object,array):\n",
    "    return [i for i, x in enumerate(retrieval_object) if x == array][0]"
   ]
  },
  {
   "cell_type": "code",
   "execution_count": 13,
   "metadata": {},
   "outputs": [],
   "source": [
    "def load_stl(filename):\n",
    "    # read STL file\n",
    "    with open(filename,\"r\") as handle:\n",
    "        stl = handle.read().rstrip().split(\"\\n\")\n",
    "        \n",
    "    #get vertice\n",
    "    vertice = []\n",
    "    for i in range(len(stl)):\n",
    "        pool = stl[i].split()\n",
    "        if pool[0] == \"vertex\":\n",
    "            vertex = list(map(float, pool[1:]))\n",
    "            vertice.append(vertex)\n",
    "            \n",
    "    unique_vertice = get_unique_list(vertice)\n",
    "            \n",
    "    #get faces\n",
    "    faces = []\n",
    "    for n in range(len(stl)):\n",
    "        if stl[n].split() == ['outer', 'loop']:\n",
    "            indexes = []\n",
    "            for i in range(3):\n",
    "                index = get_index_2d_list(unique_vertice, list(map(float,stl[n+i+1].split()[1:])))\n",
    "                indexes.append(index)\n",
    "            faces.append(indexes)\n",
    "\n",
    "    return unique_vertice, faces"
   ]
  },
  {
   "cell_type": "markdown",
   "metadata": {},
   "source": [
    "## 点群発生系"
   ]
  },
  {
   "cell_type": "code",
   "execution_count": 14,
   "metadata": {},
   "outputs": [],
   "source": [
    "def calc_vector_norm(a):\n",
    "#     何も分からん\n",
    "    norm = 0.0\n",
    "    for el in a:\n",
    "        norm += el *el\n",
    "    return math.sqrt(norm)"
   ]
  },
  {
   "cell_type": "code",
   "execution_count": 15,
   "metadata": {},
   "outputs": [],
   "source": [
    "def calc_cross_product_3d(a,b):\n",
    "#     なんもわからん\n",
    "    return [a[1]*b[2]-a[2]*b[1], a[2]*b[0]-a[0]*b[2],a[0]*b[1]-a[1]*b[0]]"
   ]
  },
  {
   "cell_type": "code",
   "execution_count": 16,
   "metadata": {},
   "outputs": [],
   "source": [
    "def calc_triangle_area(a, b, c):\n",
    "#     なんもわからん\n",
    "    ca = [c[0]-a[0], c[1]-a[1], c[2]-a[2]]\n",
    "    ba = [b[0]-a[0], b[1]-a[1], b[2]-a[2]]\n",
    "    cross = calc_cross_product_3d(ca, ba)\n",
    "    return 0.5 * calc_vector_norm(cross)"
   ]
  },
  {
   "cell_type": "code",
   "execution_count": 17,
   "metadata": {},
   "outputs": [],
   "source": [
    "def calc_cumulative_areas(vertices, faces):\n",
    "#     なんもわからん\n",
    "    cuma = 0.0\n",
    "    cum_areas = []\n",
    "    for fc in faces:\n",
    "        cuma += calc_triangle_area(\n",
    "            vertices[fc[0]], vertices[fc[1]], vertices[fc[2]])\n",
    "        cum_areas.append(cuma)\n",
    "    return cum_areas"
   ]
  },
  {
   "cell_type": "code",
   "execution_count": 18,
   "metadata": {},
   "outputs": [],
   "source": [
    "def random_select_face_id(cum_areas):\n",
    "#     なんもわからん\n",
    "    rand_area = cum_areas[-1] * random.random()\n",
    "    select_id = 0\n",
    "    for n in range(len(cum_areas)):\n",
    "        if rand_area <= cum_areas[n]:\n",
    "            select_id = n\n",
    "            break\n",
    "    return select_id"
   ]
  },
  {
   "cell_type": "code",
   "execution_count": 19,
   "metadata": {},
   "outputs": [],
   "source": [
    "def gen_random_points(vertices, faces, n_points):\n",
    "#     なんもわからん\n",
    "    cum_areas = calc_cumulative_areas(vertices, faces)\n",
    "    points = []\n",
    "    for n in range(n_points):\n",
    "        fid = random_select_face_id(cum_areas)\n",
    "        r1 = math.sqrt(random.random())\n",
    "        r2 = random.random()\n",
    "        a = vertices[faces[fid][0]]\n",
    "        b = vertices[faces[fid][1]]\n",
    "        c = vertices[faces[fid][2]]\n",
    "        xp = (1 - r1) * a[0] + r1 * (1 - r2) * b[0] + r1 * r2 * c[0]\n",
    "        yp = (1 - r1) * a[1] + r1 * (1 - r2) * b[1] + r1 * r2 * c[1]\n",
    "        zp = (1 - r1) * a[2] + r1 * (1 - r2) * b[2] + r1 * r2 * c[2]\n",
    "        points.append([xp, yp, zp])\n",
    "    return points"
   ]
  },
  {
   "cell_type": "markdown",
   "metadata": {},
   "source": [
    "## 可視化ツール"
   ]
  },
  {
   "cell_type": "code",
   "execution_count": 20,
   "metadata": {},
   "outputs": [],
   "source": [
    "def plot3D(np_pc):\n",
    "    #3D表示\n",
    "    fig = plt.figure(1,figsize=(10, 10))\n",
    "    ax = fig.add_subplot(1,1,1, projection='3d')\n",
    "    ax.scatter(np_pc[:,0], np_pc[:,1], np_pc[:,2],s = 2)\n",
    "    ax.axis(\"equal\")\n",
    "    plt.show()"
   ]
  },
  {
   "cell_type": "code",
   "execution_count": 21,
   "metadata": {},
   "outputs": [],
   "source": [
    "def plot_trihedral_figure_vox(np_pc):\n",
    "    #Voxel版三面図\n",
    "    a = 1\n",
    "    for i in range(3):\n",
    "        if i == 2:\n",
    "            a = -2\n",
    "        plt.scatter(np_pc[:,i],np_pc[:,i+a],s=10)\n",
    "#         plt.xlim([-2,32]) \n",
    "#         plt.ylim([-2,32]) \n",
    "        plt.gca().set_aspect('equal')\n",
    "        plt.show()"
   ]
  },
  {
   "cell_type": "code",
   "execution_count": 22,
   "metadata": {},
   "outputs": [],
   "source": [
    "def plot_trihedral_figure(np_pc):\n",
    "    #三面図\n",
    "    a = 1\n",
    "    for i in range(3):\n",
    "        if i == 2:\n",
    "            a = -2\n",
    "        plt.scatter(np_pc[:,i],np_pc[:,i+a],s=2)\n",
    "        plt.axis('equal')\n",
    "        plt.show()"
   ]
  },
  {
   "cell_type": "code",
   "execution_count": 23,
   "metadata": {},
   "outputs": [],
   "source": [
    "def plot_confusion_matrix(data, \n",
    "                          label,\n",
    "                          classes=class_name,\n",
    "                          title='Confusion matrix',\n",
    "                          cmap=plt.cm.Blues):\n",
    "    \n",
    "    \n",
    "    labels_pred = model.predict_classes(data,verbose=0)\n",
    "    \n",
    "    # Compute confusion matrix\n",
    "    cnf_matrix = confusion_matrix(np.argmax(label, axis=1), labels_pred)\n",
    "    np.set_printoptions(precision=2)\n",
    "    cm_normalize = cnf_matrix.astype('float') / cnf_matrix.sum(axis=1)[:, np.newaxis]\n",
    "    plt.figure()\n",
    "    plt.imshow(cm_normalize, interpolation='nearest', cmap=cmap)\n",
    "    plt.title(title)\n",
    "    plt.colorbar()\n",
    "    tick_marks = np.arange(len(classes))\n",
    "    plt.xticks(tick_marks, classes, rotation=90)\n",
    "    plt.yticks(tick_marks, classes)\n",
    "    thresh = cnf_matrix.max() / 2\n",
    "    \n",
    "    for i, j in itertools.product(range(cnf_matrix.shape[0]), range(cnf_matrix.shape[1])):\n",
    "        plt.text(j, i, format(cnf_matrix[i, j], \"d\"),\n",
    "                 horizontalalignment=\"center\",\n",
    "                 color=\"white\" if cnf_matrix[i, j] > thresh else \"black\")\n",
    "\n",
    "    plt.ylabel('True label')\n",
    "    plt.xlabel('Predicted label')\n",
    "    plt.tight_layout()\n",
    "    \n",
    "    plt.savefig(fig_dir + 'Normalized_confusion_matrix.svg')\n",
    "    plt.show()\n"
   ]
  },
  {
   "cell_type": "markdown",
   "metadata": {},
   "source": [
    "## ボクセル系"
   ]
  },
  {
   "cell_type": "code",
   "execution_count": 24,
   "metadata": {},
   "outputs": [],
   "source": [
    "def voxilize(np_pc,cell):\n",
    "# ボクセル化した配列を返す\n",
    "    max_dist = 0.0\n",
    "    for it in range(0,3):\n",
    "        # 最大値と最小値の距離を求める\n",
    "        min_ = np.amin(np_pc[:,it])\n",
    "        max_ = np.amax(np_pc[:,it])\n",
    "        dist = max_-min_\n",
    "\n",
    "        #xyzで一番並行距離が大きいのを求める\n",
    "        if dist > max_dist:\n",
    "            max_dist = dist\n",
    "            \n",
    "    for it in range(0,3):\n",
    "\n",
    "        # 最大値と最小値の距離を求める\n",
    "        min_ = np.amin(np_pc[:,it])\n",
    "        max_ = np.amax(np_pc[:,it])\n",
    "        dist = max_-min_\n",
    "        \n",
    "        #中心座標を 0,0,0にセットする（原点が中心にくるようにする）\n",
    "        np_pc[:,it] = np_pc[:,it] - dist/2 - min_\n",
    "\n",
    "        #covered cell\n",
    "        cls = cell - 3\n",
    "\n",
    "        #ボクセル一個当たりのサイズを求める\n",
    "        vox_sz = max_dist/(cls-1)\n",
    "\n",
    "        #上で算出した値で各点を割る。これで各点は(-14, 14)の範囲の値になる\n",
    "        np_pc[:,it] = np_pc[:,it]/vox_sz\n",
    "\n",
    "        #各点が全て正の整数になるよう移動。これで各点は[0, 30]になる（多分）\n",
    "        np_pc[:,it] = np_pc[:,it] + (cls-1)/2\n",
    "\n",
    "\n",
    "    #整数にする\n",
    "    np_pc = np.rint(np_pc).astype(np.uint32)\n",
    "\n",
    "\n",
    "    #３０＊３０＊３０の配列を作り，点が存在する場合は1、存在しない場合は0を入力する。\n",
    "    vox = np.zeros([cell-2,cell-2,cell-2])\n",
    "\n",
    "    # (pc_x, pc_y, pc_z)にnp_pcの座標を代入する\n",
    "    for (pc_x, pc_y, pc_z) in np_pc:\n",
    "\n",
    "#     # 点が存在しても20%の確率で0とし、データにノイズを加え、汎用性を上げている\n",
    "#     # ここ，ノイジーなデータの場合８０よりも小さい数字にしたほうがいいかもね？\n",
    "#         if random.randint(0,100) < 80:\n",
    "        vox[pc_x, pc_y, pc_z] = 1\n",
    "\n",
    "    np_vox = np.zeros([1,cell,cell,cell,1])\n",
    "    np_vox[0, 1:-1, 1:-1, 1:-1,0] = vox\n",
    "\n",
    "    return np_vox"
   ]
  },
  {
   "cell_type": "code",
   "execution_count": 25,
   "metadata": {},
   "outputs": [],
   "source": [
    "def voxel_scatter(np_vox):\n",
    "# キレイに整形するやつ\n",
    "    #空の配列を作る\n",
    "    vox_scat = np.zeros([0,3], dtype= np.uint32)\n",
    "\n",
    "    #32回\n",
    "    for x in range(0,np_vox.shape[1]):\n",
    "        #32回\n",
    "        for y in range(0,np_vox.shape[2]):\n",
    "            #32回\n",
    "            for z in range(0,np_vox.shape[3]):\n",
    "                #（ｘ，ｙ，ｚ）に１が入っていればその座標を返す\n",
    "                if np_vox[0,x,y,z,0] == 1.0:\n",
    "                    arr_tmp = np.zeros([1,3],dtype=np.uint32)\n",
    "                    arr_tmp[0,:] = (x,y,z)\n",
    "                    vox_scat = np.concatenate((vox_scat,arr_tmp))\n",
    "    return vox_scat"
   ]
  },
  {
   "cell_type": "markdown",
   "metadata": {},
   "source": [
    "## ボクセルの読み込み"
   ]
  },
  {
   "cell_type": "code",
   "execution_count": 26,
   "metadata": {},
   "outputs": [],
   "source": [
    "def load_vox(filename):\n",
    "    #shape(N,1,32,32,32)の配列を返す\n",
    "    vertices, faces = load_stl(filename)\n",
    "    points = gen_random_points(vertices, faces, n_points)\n",
    "    # ValueError: sequence too large; cannot be greater than 32の回避策\n",
    "    # list 2 numpy.ndarray\n",
    "    pc = np.empty((len(points), len(points[0])))\n",
    "    pc[:] = points\n",
    "    vox = voxilize(pc,cell)\n",
    "\n",
    "    return vox"
   ]
  },
  {
   "cell_type": "code",
   "execution_count": null,
   "metadata": {},
   "outputs": [],
   "source": []
  },
  {
   "cell_type": "markdown",
   "metadata": {},
   "source": [
    "## 距離の計算"
   ]
  },
  {
   "cell_type": "code",
   "execution_count": 27,
   "metadata": {},
   "outputs": [],
   "source": [
    "# XYZ 長さの取得\n",
    "def calc_dist(filename):\n",
    "    vertices, faces = load_stl(filename)\n",
    "    point =  np.array(vertices)\n",
    "    dist = np.zeros(3)\n",
    "    for i in range(0,3):\n",
    "        min_ = np.amin(point[:,i])\n",
    "        max_ = np.amax(point[:,i])\n",
    "        dist_ = max_ - min_\n",
    "        if dist_ < 0.001:\n",
    "            dist_ = 0.001\n",
    "        dist[i] = dist_\n",
    "    return dist"
   ]
  },
  {
   "cell_type": "code",
   "execution_count": 28,
   "metadata": {},
   "outputs": [],
   "source": [
    "def index_to_class(index):\n",
    "    return class_name[label[index].argmax()]"
   ]
  },
  {
   "cell_type": "markdown",
   "metadata": {},
   "source": [
    "# ボクセル化"
   ]
  },
  {
   "cell_type": "markdown",
   "metadata": {},
   "source": [
    "# modelの定義"
   ]
  },
  {
   "cell_type": "markdown",
   "metadata": {},
   "source": [
    "## init model"
   ]
  },
  {
   "cell_type": "code",
   "execution_count": 29,
   "metadata": {},
   "outputs": [],
   "source": [
    "#inputの定義\n",
    "conv_input = Input(shape=(32, 32, 32 ,1), dtype=\"float32\", name=\"conv_input\")\n",
    "aspect_input = Input(shape=(2,), dtype=\"float32\", name=\"aspect_input\")\n",
    "\n",
    "# Conv3D部\n",
    "conv_output = Conv3D(32,5,padding='valid',strides=(2, 2, 2),activation=\"relu\")(conv_input)\n",
    "\n",
    "conv_output = Dropout(0.4)(conv_output)\n",
    "\n",
    "conv_output = Conv3D(32,3,padding='valid',strides=(1, 1, 1),activation=\"relu\")(conv_output)\n",
    "\n",
    "# conv_output = BatchNormalization()(conv_output)\n",
    "\n",
    "conv_output = MaxPooling3D(pool_size=(2, 2, 2),strides=None, padding='valid')(conv_output)\n",
    "\n",
    "conv_output = Dropout(0.4)(conv_output)\n",
    "\n",
    "conv_output = Flatten()(conv_output)\n",
    "\n",
    "# output = Flatten()(conv_output)\n",
    "\n",
    "# output = BatchNormalization()(conv_output)\n",
    "\n",
    "# アスペクト比部\n",
    "aspect_output = Dense(128)(aspect_input)\n",
    "\n",
    "aspect_output = Dropout(0.4)(aspect_output)\n",
    "\n",
    "output = concatenate([conv_output, aspect_output])\n",
    "\n",
    "\n",
    "# output = Dense(1024, #128\n",
    "#                     kernel_initializer=\"normal\",\n",
    "#                     activation='linear',\n",
    "#                     )(output)\n",
    "\n",
    "output = Dropout(0.5)(output)\n",
    "\n",
    "output = Dense(528, #128\n",
    "                    kernel_initializer=\"normal\",\n",
    "                    activation='linear',\n",
    "                    )(output)\n",
    "\n",
    "output = Dropout(0.5)(output)\n",
    "\n",
    "output = Dense(num_classes, activation=\"softmax\")(output)\n",
    "\n",
    "model = Model(inputs=[conv_input, aspect_input], outputs=output)"
   ]
  },
  {
   "cell_type": "markdown",
   "metadata": {},
   "source": [
    "## モデルの保存"
   ]
  },
  {
   "cell_type": "code",
   "execution_count": 30,
   "metadata": {},
   "outputs": [
    {
     "data": {
      "text/plain": [
       "5095"
      ]
     },
     "execution_count": 30,
     "metadata": {},
     "output_type": "execute_result"
    }
   ],
   "source": [
    "#モデルの保存\n",
    "json_string = model.to_json()\n",
    "open(model_dir+'voxnet_model.json', 'w').write(json_string)"
   ]
  },
  {
   "cell_type": "markdown",
   "metadata": {},
   "source": [
    "## modelの読み込み"
   ]
  },
  {
   "cell_type": "code",
   "execution_count": 31,
   "metadata": {},
   "outputs": [],
   "source": [
    "#モデルの読み込み\n",
    "model_data = open(\"model/\" + dataset + \"/cell\" + str(cell) + \"/voxnet_model.json\").read()\n",
    "model = model_from_json(model_data)"
   ]
  },
  {
   "cell_type": "code",
   "execution_count": 32,
   "metadata": {},
   "outputs": [],
   "source": [
    "# compile model\n",
    "model.compile(loss='categorical_crossentropy', optimizer=optimizer, metrics=[\"accuracy\"])"
   ]
  },
  {
   "cell_type": "markdown",
   "metadata": {},
   "source": [
    "## モデル可視化"
   ]
  },
  {
   "cell_type": "code",
   "execution_count": 33,
   "metadata": {},
   "outputs": [
    {
     "data": {
      "image/svg+xml": [
       "<svg height=\"968pt\" viewBox=\"0.00 0.00 703.50 968.00\" width=\"704pt\" xmlns=\"http://www.w3.org/2000/svg\" xmlns:xlink=\"http://www.w3.org/1999/xlink\">\n",
       "<g class=\"graph\" id=\"graph0\" transform=\"scale(1 1) rotate(0) translate(4 964)\">\n",
       "<title>G</title>\n",
       "<polygon fill=\"white\" points=\"-4,4 -4,-964 699.5,-964 699.5,4 -4,4\" stroke=\"none\"/>\n",
       "<!-- 140683810185288 -->\n",
       "<g class=\"node\" id=\"node1\"><title>140683810185288</title>\n",
       "<polygon fill=\"none\" points=\"34.5,-913.5 34.5,-959.5 366.5,-959.5 366.5,-913.5 34.5,-913.5\" stroke=\"black\"/>\n",
       "<text font-family=\"Times,serif\" font-size=\"14.00\" text-anchor=\"middle\" x=\"107\" y=\"-932.8\">conv_input: InputLayer</text>\n",
       "<polyline fill=\"none\" points=\"179.5,-913.5 179.5,-959.5 \" stroke=\"black\"/>\n",
       "<text font-family=\"Times,serif\" font-size=\"14.00\" text-anchor=\"middle\" x=\"207\" y=\"-944.3\">input:</text>\n",
       "<polyline fill=\"none\" points=\"179.5,-936.5 234.5,-936.5 \" stroke=\"black\"/>\n",
       "<text font-family=\"Times,serif\" font-size=\"14.00\" text-anchor=\"middle\" x=\"207\" y=\"-921.3\">output:</text>\n",
       "<polyline fill=\"none\" points=\"234.5,-913.5 234.5,-959.5 \" stroke=\"black\"/>\n",
       "<text font-family=\"Times,serif\" font-size=\"14.00\" text-anchor=\"middle\" x=\"300.5\" y=\"-944.3\">(None, 32, 32, 32, 1)</text>\n",
       "<polyline fill=\"none\" points=\"234.5,-936.5 366.5,-936.5 \" stroke=\"black\"/>\n",
       "<text font-family=\"Times,serif\" font-size=\"14.00\" text-anchor=\"middle\" x=\"300.5\" y=\"-921.3\">(None, 32, 32, 32, 1)</text>\n",
       "</g>\n",
       "<!-- 140683810185736 -->\n",
       "<g class=\"node\" id=\"node2\"><title>140683810185736</title>\n",
       "<polygon fill=\"none\" points=\"42,-830.5 42,-876.5 359,-876.5 359,-830.5 42,-830.5\" stroke=\"black\"/>\n",
       "<text font-family=\"Times,serif\" font-size=\"14.00\" text-anchor=\"middle\" x=\"103.5\" y=\"-849.8\">conv3d_1: Conv3D</text>\n",
       "<polyline fill=\"none\" points=\"165,-830.5 165,-876.5 \" stroke=\"black\"/>\n",
       "<text font-family=\"Times,serif\" font-size=\"14.00\" text-anchor=\"middle\" x=\"192.5\" y=\"-861.3\">input:</text>\n",
       "<polyline fill=\"none\" points=\"165,-853.5 220,-853.5 \" stroke=\"black\"/>\n",
       "<text font-family=\"Times,serif\" font-size=\"14.00\" text-anchor=\"middle\" x=\"192.5\" y=\"-838.3\">output:</text>\n",
       "<polyline fill=\"none\" points=\"220,-830.5 220,-876.5 \" stroke=\"black\"/>\n",
       "<text font-family=\"Times,serif\" font-size=\"14.00\" text-anchor=\"middle\" x=\"289.5\" y=\"-861.3\">(None, 32, 32, 32, 1)</text>\n",
       "<polyline fill=\"none\" points=\"220,-853.5 359,-853.5 \" stroke=\"black\"/>\n",
       "<text font-family=\"Times,serif\" font-size=\"14.00\" text-anchor=\"middle\" x=\"289.5\" y=\"-838.3\">(None, 14, 14, 14, 32)</text>\n",
       "</g>\n",
       "<!-- 140683810185288&#45;&gt;140683810185736 -->\n",
       "<g class=\"edge\" id=\"edge1\"><title>140683810185288-&gt;140683810185736</title>\n",
       "<path d=\"M200.5,-913.366C200.5,-905.152 200.5,-895.658 200.5,-886.725\" fill=\"none\" stroke=\"black\"/>\n",
       "<polygon fill=\"black\" points=\"204,-886.607 200.5,-876.607 197,-886.607 204,-886.607\" stroke=\"black\"/>\n",
       "</g>\n",
       "<!-- 140683810186016 -->\n",
       "<g class=\"node\" id=\"node3\"><title>140683810186016</title>\n",
       "<polygon fill=\"none\" points=\"41,-747.5 41,-793.5 360,-793.5 360,-747.5 41,-747.5\" stroke=\"black\"/>\n",
       "<text font-family=\"Times,serif\" font-size=\"14.00\" text-anchor=\"middle\" x=\"103.5\" y=\"-766.8\">dropout_1: Dropout</text>\n",
       "<polyline fill=\"none\" points=\"166,-747.5 166,-793.5 \" stroke=\"black\"/>\n",
       "<text font-family=\"Times,serif\" font-size=\"14.00\" text-anchor=\"middle\" x=\"193.5\" y=\"-778.3\">input:</text>\n",
       "<polyline fill=\"none\" points=\"166,-770.5 221,-770.5 \" stroke=\"black\"/>\n",
       "<text font-family=\"Times,serif\" font-size=\"14.00\" text-anchor=\"middle\" x=\"193.5\" y=\"-755.3\">output:</text>\n",
       "<polyline fill=\"none\" points=\"221,-747.5 221,-793.5 \" stroke=\"black\"/>\n",
       "<text font-family=\"Times,serif\" font-size=\"14.00\" text-anchor=\"middle\" x=\"290.5\" y=\"-778.3\">(None, 14, 14, 14, 32)</text>\n",
       "<polyline fill=\"none\" points=\"221,-770.5 360,-770.5 \" stroke=\"black\"/>\n",
       "<text font-family=\"Times,serif\" font-size=\"14.00\" text-anchor=\"middle\" x=\"290.5\" y=\"-755.3\">(None, 14, 14, 14, 32)</text>\n",
       "</g>\n",
       "<!-- 140683810185736&#45;&gt;140683810186016 -->\n",
       "<g class=\"edge\" id=\"edge2\"><title>140683810185736-&gt;140683810186016</title>\n",
       "<path d=\"M200.5,-830.366C200.5,-822.152 200.5,-812.658 200.5,-803.725\" fill=\"none\" stroke=\"black\"/>\n",
       "<polygon fill=\"black\" points=\"204,-803.607 200.5,-793.607 197,-803.607 204,-803.607\" stroke=\"black\"/>\n",
       "</g>\n",
       "<!-- 140683810185792 -->\n",
       "<g class=\"node\" id=\"node4\"><title>140683810185792</title>\n",
       "<polygon fill=\"none\" points=\"42,-664.5 42,-710.5 359,-710.5 359,-664.5 42,-664.5\" stroke=\"black\"/>\n",
       "<text font-family=\"Times,serif\" font-size=\"14.00\" text-anchor=\"middle\" x=\"103.5\" y=\"-683.8\">conv3d_2: Conv3D</text>\n",
       "<polyline fill=\"none\" points=\"165,-664.5 165,-710.5 \" stroke=\"black\"/>\n",
       "<text font-family=\"Times,serif\" font-size=\"14.00\" text-anchor=\"middle\" x=\"192.5\" y=\"-695.3\">input:</text>\n",
       "<polyline fill=\"none\" points=\"165,-687.5 220,-687.5 \" stroke=\"black\"/>\n",
       "<text font-family=\"Times,serif\" font-size=\"14.00\" text-anchor=\"middle\" x=\"192.5\" y=\"-672.3\">output:</text>\n",
       "<polyline fill=\"none\" points=\"220,-664.5 220,-710.5 \" stroke=\"black\"/>\n",
       "<text font-family=\"Times,serif\" font-size=\"14.00\" text-anchor=\"middle\" x=\"289.5\" y=\"-695.3\">(None, 14, 14, 14, 32)</text>\n",
       "<polyline fill=\"none\" points=\"220,-687.5 359,-687.5 \" stroke=\"black\"/>\n",
       "<text font-family=\"Times,serif\" font-size=\"14.00\" text-anchor=\"middle\" x=\"289.5\" y=\"-672.3\">(None, 12, 12, 12, 32)</text>\n",
       "</g>\n",
       "<!-- 140683810186016&#45;&gt;140683810185792 -->\n",
       "<g class=\"edge\" id=\"edge3\"><title>140683810186016-&gt;140683810185792</title>\n",
       "<path d=\"M200.5,-747.366C200.5,-739.152 200.5,-729.658 200.5,-720.725\" fill=\"none\" stroke=\"black\"/>\n",
       "<polygon fill=\"black\" points=\"204,-720.607 200.5,-710.607 197,-720.607 204,-720.607\" stroke=\"black\"/>\n",
       "</g>\n",
       "<!-- 140683810186072 -->\n",
       "<g class=\"node\" id=\"node5\"><title>140683810186072</title>\n",
       "<polygon fill=\"none\" points=\"0,-581.5 0,-627.5 401,-627.5 401,-581.5 0,-581.5\" stroke=\"black\"/>\n",
       "<text font-family=\"Times,serif\" font-size=\"14.00\" text-anchor=\"middle\" x=\"103.5\" y=\"-600.8\">max_pooling3d_1: MaxPooling3D</text>\n",
       "<polyline fill=\"none\" points=\"207,-581.5 207,-627.5 \" stroke=\"black\"/>\n",
       "<text font-family=\"Times,serif\" font-size=\"14.00\" text-anchor=\"middle\" x=\"234.5\" y=\"-612.3\">input:</text>\n",
       "<polyline fill=\"none\" points=\"207,-604.5 262,-604.5 \" stroke=\"black\"/>\n",
       "<text font-family=\"Times,serif\" font-size=\"14.00\" text-anchor=\"middle\" x=\"234.5\" y=\"-589.3\">output:</text>\n",
       "<polyline fill=\"none\" points=\"262,-581.5 262,-627.5 \" stroke=\"black\"/>\n",
       "<text font-family=\"Times,serif\" font-size=\"14.00\" text-anchor=\"middle\" x=\"331.5\" y=\"-612.3\">(None, 12, 12, 12, 32)</text>\n",
       "<polyline fill=\"none\" points=\"262,-604.5 401,-604.5 \" stroke=\"black\"/>\n",
       "<text font-family=\"Times,serif\" font-size=\"14.00\" text-anchor=\"middle\" x=\"331.5\" y=\"-589.3\">(None, 6, 6, 6, 32)</text>\n",
       "</g>\n",
       "<!-- 140683810185792&#45;&gt;140683810186072 -->\n",
       "<g class=\"edge\" id=\"edge4\"><title>140683810185792-&gt;140683810186072</title>\n",
       "<path d=\"M200.5,-664.366C200.5,-656.152 200.5,-646.658 200.5,-637.725\" fill=\"none\" stroke=\"black\"/>\n",
       "<polygon fill=\"black\" points=\"204,-637.607 200.5,-627.607 197,-637.607 204,-637.607\" stroke=\"black\"/>\n",
       "</g>\n",
       "<!-- 140687224865792 -->\n",
       "<g class=\"node\" id=\"node7\"><title>140687224865792</title>\n",
       "<polygon fill=\"none\" points=\"83,-498.5 83,-544.5 382,-544.5 382,-498.5 83,-498.5\" stroke=\"black\"/>\n",
       "<text font-family=\"Times,serif\" font-size=\"14.00\" text-anchor=\"middle\" x=\"145.5\" y=\"-517.8\">dropout_2: Dropout</text>\n",
       "<polyline fill=\"none\" points=\"208,-498.5 208,-544.5 \" stroke=\"black\"/>\n",
       "<text font-family=\"Times,serif\" font-size=\"14.00\" text-anchor=\"middle\" x=\"235.5\" y=\"-529.3\">input:</text>\n",
       "<polyline fill=\"none\" points=\"208,-521.5 263,-521.5 \" stroke=\"black\"/>\n",
       "<text font-family=\"Times,serif\" font-size=\"14.00\" text-anchor=\"middle\" x=\"235.5\" y=\"-506.3\">output:</text>\n",
       "<polyline fill=\"none\" points=\"263,-498.5 263,-544.5 \" stroke=\"black\"/>\n",
       "<text font-family=\"Times,serif\" font-size=\"14.00\" text-anchor=\"middle\" x=\"322.5\" y=\"-529.3\">(None, 6, 6, 6, 32)</text>\n",
       "<polyline fill=\"none\" points=\"263,-521.5 382,-521.5 \" stroke=\"black\"/>\n",
       "<text font-family=\"Times,serif\" font-size=\"14.00\" text-anchor=\"middle\" x=\"322.5\" y=\"-506.3\">(None, 6, 6, 6, 32)</text>\n",
       "</g>\n",
       "<!-- 140683810186072&#45;&gt;140687224865792 -->\n",
       "<g class=\"edge\" id=\"edge5\"><title>140683810186072-&gt;140687224865792</title>\n",
       "<path d=\"M209.244,-581.366C212.56,-572.973 216.403,-563.245 219.999,-554.143\" fill=\"none\" stroke=\"black\"/>\n",
       "<polygon fill=\"black\" points=\"223.347,-555.193 223.766,-544.607 216.837,-552.621 223.347,-555.193\" stroke=\"black\"/>\n",
       "</g>\n",
       "<!-- 140687224867752 -->\n",
       "<g class=\"node\" id=\"node6\"><title>140687224867752</title>\n",
       "<polygon fill=\"none\" points=\"419.5,-581.5 419.5,-627.5 695.5,-627.5 695.5,-581.5 419.5,-581.5\" stroke=\"black\"/>\n",
       "<text font-family=\"Times,serif\" font-size=\"14.00\" text-anchor=\"middle\" x=\"495.5\" y=\"-600.8\">aspect_input: InputLayer</text>\n",
       "<polyline fill=\"none\" points=\"571.5,-581.5 571.5,-627.5 \" stroke=\"black\"/>\n",
       "<text font-family=\"Times,serif\" font-size=\"14.00\" text-anchor=\"middle\" x=\"599\" y=\"-612.3\">input:</text>\n",
       "<polyline fill=\"none\" points=\"571.5,-604.5 626.5,-604.5 \" stroke=\"black\"/>\n",
       "<text font-family=\"Times,serif\" font-size=\"14.00\" text-anchor=\"middle\" x=\"599\" y=\"-589.3\">output:</text>\n",
       "<polyline fill=\"none\" points=\"626.5,-581.5 626.5,-627.5 \" stroke=\"black\"/>\n",
       "<text font-family=\"Times,serif\" font-size=\"14.00\" text-anchor=\"middle\" x=\"661\" y=\"-612.3\">(None, 2)</text>\n",
       "<polyline fill=\"none\" points=\"626.5,-604.5 695.5,-604.5 \" stroke=\"black\"/>\n",
       "<text font-family=\"Times,serif\" font-size=\"14.00\" text-anchor=\"middle\" x=\"661\" y=\"-589.3\">(None, 2)</text>\n",
       "</g>\n",
       "<!-- 140687224867976 -->\n",
       "<g class=\"node\" id=\"node8\"><title>140687224867976</title>\n",
       "<polygon fill=\"none\" points=\"432.5,-498.5 432.5,-544.5 672.5,-544.5 672.5,-498.5 432.5,-498.5\" stroke=\"black\"/>\n",
       "<text font-family=\"Times,serif\" font-size=\"14.00\" text-anchor=\"middle\" x=\"483.5\" y=\"-517.8\">dense_1: Dense</text>\n",
       "<polyline fill=\"none\" points=\"534.5,-498.5 534.5,-544.5 \" stroke=\"black\"/>\n",
       "<text font-family=\"Times,serif\" font-size=\"14.00\" text-anchor=\"middle\" x=\"562\" y=\"-529.3\">input:</text>\n",
       "<polyline fill=\"none\" points=\"534.5,-521.5 589.5,-521.5 \" stroke=\"black\"/>\n",
       "<text font-family=\"Times,serif\" font-size=\"14.00\" text-anchor=\"middle\" x=\"562\" y=\"-506.3\">output:</text>\n",
       "<polyline fill=\"none\" points=\"589.5,-498.5 589.5,-544.5 \" stroke=\"black\"/>\n",
       "<text font-family=\"Times,serif\" font-size=\"14.00\" text-anchor=\"middle\" x=\"631\" y=\"-529.3\">(None, 2)</text>\n",
       "<polyline fill=\"none\" points=\"589.5,-521.5 672.5,-521.5 \" stroke=\"black\"/>\n",
       "<text font-family=\"Times,serif\" font-size=\"14.00\" text-anchor=\"middle\" x=\"631\" y=\"-506.3\">(None, 128)</text>\n",
       "</g>\n",
       "<!-- 140687224867752&#45;&gt;140687224867976 -->\n",
       "<g class=\"edge\" id=\"edge6\"><title>140687224867752-&gt;140687224867976</title>\n",
       "<path d=\"M556.134,-581.366C555.627,-573.152 555.041,-563.658 554.489,-554.725\" fill=\"none\" stroke=\"black\"/>\n",
       "<polygon fill=\"black\" points=\"557.974,-554.372 553.865,-544.607 550.987,-554.804 557.974,-554.372\" stroke=\"black\"/>\n",
       "</g>\n",
       "<!-- 140687224866856 -->\n",
       "<g class=\"node\" id=\"node9\"><title>140687224866856</title>\n",
       "<polygon fill=\"none\" points=\"106.5,-415.5 106.5,-461.5 390.5,-461.5 390.5,-415.5 106.5,-415.5\" stroke=\"black\"/>\n",
       "<text font-family=\"Times,serif\" font-size=\"14.00\" text-anchor=\"middle\" x=\"161.5\" y=\"-434.8\">flatten_1: Flatten</text>\n",
       "<polyline fill=\"none\" points=\"216.5,-415.5 216.5,-461.5 \" stroke=\"black\"/>\n",
       "<text font-family=\"Times,serif\" font-size=\"14.00\" text-anchor=\"middle\" x=\"244\" y=\"-446.3\">input:</text>\n",
       "<polyline fill=\"none\" points=\"216.5,-438.5 271.5,-438.5 \" stroke=\"black\"/>\n",
       "<text font-family=\"Times,serif\" font-size=\"14.00\" text-anchor=\"middle\" x=\"244\" y=\"-423.3\">output:</text>\n",
       "<polyline fill=\"none\" points=\"271.5,-415.5 271.5,-461.5 \" stroke=\"black\"/>\n",
       "<text font-family=\"Times,serif\" font-size=\"14.00\" text-anchor=\"middle\" x=\"331\" y=\"-446.3\">(None, 6, 6, 6, 32)</text>\n",
       "<polyline fill=\"none\" points=\"271.5,-438.5 390.5,-438.5 \" stroke=\"black\"/>\n",
       "<text font-family=\"Times,serif\" font-size=\"14.00\" text-anchor=\"middle\" x=\"331\" y=\"-423.3\">(None, 6912)</text>\n",
       "</g>\n",
       "<!-- 140687224865792&#45;&gt;140687224866856 -->\n",
       "<g class=\"edge\" id=\"edge7\"><title>140687224865792-&gt;140687224866856</title>\n",
       "<path d=\"M236.872,-498.366C238.512,-490.062 240.411,-480.451 242.192,-471.434\" fill=\"none\" stroke=\"black\"/>\n",
       "<polygon fill=\"black\" points=\"245.629,-472.096 244.133,-461.607 238.762,-470.739 245.629,-472.096\" stroke=\"black\"/>\n",
       "</g>\n",
       "<!-- 140687224866968 -->\n",
       "<g class=\"node\" id=\"node10\"><title>140687224866968</title>\n",
       "<polygon fill=\"none\" points=\"417,-415.5 417,-461.5 680,-461.5 680,-415.5 417,-415.5\" stroke=\"black\"/>\n",
       "<text font-family=\"Times,serif\" font-size=\"14.00\" text-anchor=\"middle\" x=\"479.5\" y=\"-434.8\">dropout_3: Dropout</text>\n",
       "<polyline fill=\"none\" points=\"542,-415.5 542,-461.5 \" stroke=\"black\"/>\n",
       "<text font-family=\"Times,serif\" font-size=\"14.00\" text-anchor=\"middle\" x=\"569.5\" y=\"-446.3\">input:</text>\n",
       "<polyline fill=\"none\" points=\"542,-438.5 597,-438.5 \" stroke=\"black\"/>\n",
       "<text font-family=\"Times,serif\" font-size=\"14.00\" text-anchor=\"middle\" x=\"569.5\" y=\"-423.3\">output:</text>\n",
       "<polyline fill=\"none\" points=\"597,-415.5 597,-461.5 \" stroke=\"black\"/>\n",
       "<text font-family=\"Times,serif\" font-size=\"14.00\" text-anchor=\"middle\" x=\"638.5\" y=\"-446.3\">(None, 128)</text>\n",
       "<polyline fill=\"none\" points=\"597,-438.5 680,-438.5 \" stroke=\"black\"/>\n",
       "<text font-family=\"Times,serif\" font-size=\"14.00\" text-anchor=\"middle\" x=\"638.5\" y=\"-423.3\">(None, 128)</text>\n",
       "</g>\n",
       "<!-- 140687224867976&#45;&gt;140687224866968 -->\n",
       "<g class=\"edge\" id=\"edge8\"><title>140687224867976-&gt;140687224866968</title>\n",
       "<path d=\"M551.407,-498.366C551.001,-490.152 550.532,-480.658 550.091,-471.725\" fill=\"none\" stroke=\"black\"/>\n",
       "<polygon fill=\"black\" points=\"553.581,-471.422 549.592,-461.607 546.589,-471.767 553.581,-471.422\" stroke=\"black\"/>\n",
       "</g>\n",
       "<!-- 140687224865904 -->\n",
       "<g class=\"node\" id=\"node11\"><title>140687224865904</title>\n",
       "<polygon fill=\"none\" points=\"201,-332.5 201,-378.5 596,-378.5 596,-332.5 201,-332.5\" stroke=\"black\"/>\n",
       "<text font-family=\"Times,serif\" font-size=\"14.00\" text-anchor=\"middle\" x=\"285\" y=\"-351.8\">concatenate_1: Concatenate</text>\n",
       "<polyline fill=\"none\" points=\"369,-332.5 369,-378.5 \" stroke=\"black\"/>\n",
       "<text font-family=\"Times,serif\" font-size=\"14.00\" text-anchor=\"middle\" x=\"396.5\" y=\"-363.3\">input:</text>\n",
       "<polyline fill=\"none\" points=\"369,-355.5 424,-355.5 \" stroke=\"black\"/>\n",
       "<text font-family=\"Times,serif\" font-size=\"14.00\" text-anchor=\"middle\" x=\"396.5\" y=\"-340.3\">output:</text>\n",
       "<polyline fill=\"none\" points=\"424,-332.5 424,-378.5 \" stroke=\"black\"/>\n",
       "<text font-family=\"Times,serif\" font-size=\"14.00\" text-anchor=\"middle\" x=\"510\" y=\"-363.3\">[(None, 6912), (None, 128)]</text>\n",
       "<polyline fill=\"none\" points=\"424,-355.5 596,-355.5 \" stroke=\"black\"/>\n",
       "<text font-family=\"Times,serif\" font-size=\"14.00\" text-anchor=\"middle\" x=\"510\" y=\"-340.3\">(None, 7040)</text>\n",
       "</g>\n",
       "<!-- 140687224866856&#45;&gt;140687224865904 -->\n",
       "<g class=\"edge\" id=\"edge9\"><title>140687224866856-&gt;140687224865904</title>\n",
       "<path d=\"M289.488,-415.366C307.76,-405.5 329.448,-393.788 348.649,-383.419\" fill=\"none\" stroke=\"black\"/>\n",
       "<polygon fill=\"black\" points=\"350.425,-386.438 357.561,-378.607 347.099,-380.279 350.425,-386.438\" stroke=\"black\"/>\n",
       "</g>\n",
       "<!-- 140687224866968&#45;&gt;140687224865904 -->\n",
       "<g class=\"edge\" id=\"edge10\"><title>140687224866968-&gt;140687224865904</title>\n",
       "<path d=\"M507.512,-415.366C489.24,-405.5 467.552,-393.788 448.351,-383.419\" fill=\"none\" stroke=\"black\"/>\n",
       "<polygon fill=\"black\" points=\"449.901,-380.279 439.439,-378.607 446.575,-386.438 449.901,-380.279\" stroke=\"black\"/>\n",
       "</g>\n",
       "<!-- 140687224865568 -->\n",
       "<g class=\"node\" id=\"node12\"><title>140687224865568</title>\n",
       "<polygon fill=\"none\" points=\"264,-249.5 264,-295.5 533,-295.5 533,-249.5 264,-249.5\" stroke=\"black\"/>\n",
       "<text font-family=\"Times,serif\" font-size=\"14.00\" text-anchor=\"middle\" x=\"326.5\" y=\"-268.8\">dropout_4: Dropout</text>\n",
       "<polyline fill=\"none\" points=\"389,-249.5 389,-295.5 \" stroke=\"black\"/>\n",
       "<text font-family=\"Times,serif\" font-size=\"14.00\" text-anchor=\"middle\" x=\"416.5\" y=\"-280.3\">input:</text>\n",
       "<polyline fill=\"none\" points=\"389,-272.5 444,-272.5 \" stroke=\"black\"/>\n",
       "<text font-family=\"Times,serif\" font-size=\"14.00\" text-anchor=\"middle\" x=\"416.5\" y=\"-257.3\">output:</text>\n",
       "<polyline fill=\"none\" points=\"444,-249.5 444,-295.5 \" stroke=\"black\"/>\n",
       "<text font-family=\"Times,serif\" font-size=\"14.00\" text-anchor=\"middle\" x=\"488.5\" y=\"-280.3\">(None, 7040)</text>\n",
       "<polyline fill=\"none\" points=\"444,-272.5 533,-272.5 \" stroke=\"black\"/>\n",
       "<text font-family=\"Times,serif\" font-size=\"14.00\" text-anchor=\"middle\" x=\"488.5\" y=\"-257.3\">(None, 7040)</text>\n",
       "</g>\n",
       "<!-- 140687224865904&#45;&gt;140687224865568 -->\n",
       "<g class=\"edge\" id=\"edge11\"><title>140687224865904-&gt;140687224865568</title>\n",
       "<path d=\"M398.5,-332.366C398.5,-324.152 398.5,-314.658 398.5,-305.725\" fill=\"none\" stroke=\"black\"/>\n",
       "<polygon fill=\"black\" points=\"402,-305.607 398.5,-295.607 395,-305.607 402,-305.607\" stroke=\"black\"/>\n",
       "</g>\n",
       "<!-- 140687224867248 -->\n",
       "<g class=\"node\" id=\"node13\"><title>140687224867248</title>\n",
       "<polygon fill=\"none\" points=\"275.5,-166.5 275.5,-212.5 521.5,-212.5 521.5,-166.5 275.5,-166.5\" stroke=\"black\"/>\n",
       "<text font-family=\"Times,serif\" font-size=\"14.00\" text-anchor=\"middle\" x=\"326.5\" y=\"-185.8\">dense_2: Dense</text>\n",
       "<polyline fill=\"none\" points=\"377.5,-166.5 377.5,-212.5 \" stroke=\"black\"/>\n",
       "<text font-family=\"Times,serif\" font-size=\"14.00\" text-anchor=\"middle\" x=\"405\" y=\"-197.3\">input:</text>\n",
       "<polyline fill=\"none\" points=\"377.5,-189.5 432.5,-189.5 \" stroke=\"black\"/>\n",
       "<text font-family=\"Times,serif\" font-size=\"14.00\" text-anchor=\"middle\" x=\"405\" y=\"-174.3\">output:</text>\n",
       "<polyline fill=\"none\" points=\"432.5,-166.5 432.5,-212.5 \" stroke=\"black\"/>\n",
       "<text font-family=\"Times,serif\" font-size=\"14.00\" text-anchor=\"middle\" x=\"477\" y=\"-197.3\">(None, 7040)</text>\n",
       "<polyline fill=\"none\" points=\"432.5,-189.5 521.5,-189.5 \" stroke=\"black\"/>\n",
       "<text font-family=\"Times,serif\" font-size=\"14.00\" text-anchor=\"middle\" x=\"477\" y=\"-174.3\">(None, 528)</text>\n",
       "</g>\n",
       "<!-- 140687224865568&#45;&gt;140687224867248 -->\n",
       "<g class=\"edge\" id=\"edge12\"><title>140687224865568-&gt;140687224867248</title>\n",
       "<path d=\"M398.5,-249.366C398.5,-241.152 398.5,-231.658 398.5,-222.725\" fill=\"none\" stroke=\"black\"/>\n",
       "<polygon fill=\"black\" points=\"402,-222.607 398.5,-212.607 395,-222.607 402,-222.607\" stroke=\"black\"/>\n",
       "</g>\n",
       "<!-- 140687224868480 -->\n",
       "<g class=\"node\" id=\"node14\"><title>140687224868480</title>\n",
       "<polygon fill=\"none\" points=\"267,-83.5 267,-129.5 530,-129.5 530,-83.5 267,-83.5\" stroke=\"black\"/>\n",
       "<text font-family=\"Times,serif\" font-size=\"14.00\" text-anchor=\"middle\" x=\"329.5\" y=\"-102.8\">dropout_5: Dropout</text>\n",
       "<polyline fill=\"none\" points=\"392,-83.5 392,-129.5 \" stroke=\"black\"/>\n",
       "<text font-family=\"Times,serif\" font-size=\"14.00\" text-anchor=\"middle\" x=\"419.5\" y=\"-114.3\">input:</text>\n",
       "<polyline fill=\"none\" points=\"392,-106.5 447,-106.5 \" stroke=\"black\"/>\n",
       "<text font-family=\"Times,serif\" font-size=\"14.00\" text-anchor=\"middle\" x=\"419.5\" y=\"-91.3\">output:</text>\n",
       "<polyline fill=\"none\" points=\"447,-83.5 447,-129.5 \" stroke=\"black\"/>\n",
       "<text font-family=\"Times,serif\" font-size=\"14.00\" text-anchor=\"middle\" x=\"488.5\" y=\"-114.3\">(None, 528)</text>\n",
       "<polyline fill=\"none\" points=\"447,-106.5 530,-106.5 \" stroke=\"black\"/>\n",
       "<text font-family=\"Times,serif\" font-size=\"14.00\" text-anchor=\"middle\" x=\"488.5\" y=\"-91.3\">(None, 528)</text>\n",
       "</g>\n",
       "<!-- 140687224867248&#45;&gt;140687224868480 -->\n",
       "<g class=\"edge\" id=\"edge13\"><title>140687224867248-&gt;140687224868480</title>\n",
       "<path d=\"M398.5,-166.366C398.5,-158.152 398.5,-148.658 398.5,-139.725\" fill=\"none\" stroke=\"black\"/>\n",
       "<polygon fill=\"black\" points=\"402,-139.607 398.5,-129.607 395,-139.607 402,-139.607\" stroke=\"black\"/>\n",
       "</g>\n",
       "<!-- 140687224866520 -->\n",
       "<g class=\"node\" id=\"node15\"><title>140687224866520</title>\n",
       "<polygon fill=\"none\" points=\"278.5,-0.5 278.5,-46.5 518.5,-46.5 518.5,-0.5 278.5,-0.5\" stroke=\"black\"/>\n",
       "<text font-family=\"Times,serif\" font-size=\"14.00\" text-anchor=\"middle\" x=\"329.5\" y=\"-19.8\">dense_3: Dense</text>\n",
       "<polyline fill=\"none\" points=\"380.5,-0.5 380.5,-46.5 \" stroke=\"black\"/>\n",
       "<text font-family=\"Times,serif\" font-size=\"14.00\" text-anchor=\"middle\" x=\"408\" y=\"-31.3\">input:</text>\n",
       "<polyline fill=\"none\" points=\"380.5,-23.5 435.5,-23.5 \" stroke=\"black\"/>\n",
       "<text font-family=\"Times,serif\" font-size=\"14.00\" text-anchor=\"middle\" x=\"408\" y=\"-8.3\">output:</text>\n",
       "<polyline fill=\"none\" points=\"435.5,-0.5 435.5,-46.5 \" stroke=\"black\"/>\n",
       "<text font-family=\"Times,serif\" font-size=\"14.00\" text-anchor=\"middle\" x=\"477\" y=\"-31.3\">(None, 528)</text>\n",
       "<polyline fill=\"none\" points=\"435.5,-23.5 518.5,-23.5 \" stroke=\"black\"/>\n",
       "<text font-family=\"Times,serif\" font-size=\"14.00\" text-anchor=\"middle\" x=\"477\" y=\"-8.3\">(None, 10)</text>\n",
       "</g>\n",
       "<!-- 140687224868480&#45;&gt;140687224866520 -->\n",
       "<g class=\"edge\" id=\"edge14\"><title>140687224868480-&gt;140687224866520</title>\n",
       "<path d=\"M398.5,-83.3664C398.5,-75.1516 398.5,-65.6579 398.5,-56.7252\" fill=\"none\" stroke=\"black\"/>\n",
       "<polygon fill=\"black\" points=\"402,-56.6068 398.5,-46.6068 395,-56.6069 402,-56.6068\" stroke=\"black\"/>\n",
       "</g>\n",
       "</g>\n",
       "</svg>"
      ],
      "text/plain": [
       "<IPython.core.display.SVG object>"
      ]
     },
     "execution_count": 33,
     "metadata": {},
     "output_type": "execute_result"
    }
   ],
   "source": [
    "#モデル可視化\n",
    "SVG(model_to_dot(model,show_shapes=True).create(prog='dot', format='svg'))"
   ]
  },
  {
   "cell_type": "code",
   "execution_count": 34,
   "metadata": {},
   "outputs": [],
   "source": [
    "#モデルの図を保存\n",
    "plot_model(model, to_file=fig_dir + 'model.svg',show_shapes='True')"
   ]
  },
  {
   "cell_type": "markdown",
   "metadata": {},
   "source": [
    "## summary"
   ]
  },
  {
   "cell_type": "code",
   "execution_count": 35,
   "metadata": {},
   "outputs": [
    {
     "name": "stdout",
     "output_type": "stream",
     "text": [
      "__________________________________________________________________________________________________\n",
      "Layer (type)                    Output Shape         Param #     Connected to                     \n",
      "==================================================================================================\n",
      "conv_input (InputLayer)         (None, 32, 32, 32, 1 0                                            \n",
      "__________________________________________________________________________________________________\n",
      "conv3d_1 (Conv3D)               (None, 14, 14, 14, 3 4032        conv_input[0][0]                 \n",
      "__________________________________________________________________________________________________\n",
      "dropout_1 (Dropout)             (None, 14, 14, 14, 3 0           conv3d_1[0][0]                   \n",
      "__________________________________________________________________________________________________\n",
      "conv3d_2 (Conv3D)               (None, 12, 12, 12, 3 27680       dropout_1[0][0]                  \n",
      "__________________________________________________________________________________________________\n",
      "max_pooling3d_1 (MaxPooling3D)  (None, 6, 6, 6, 32)  0           conv3d_2[0][0]                   \n",
      "__________________________________________________________________________________________________\n",
      "aspect_input (InputLayer)       (None, 2)            0                                            \n",
      "__________________________________________________________________________________________________\n",
      "dropout_2 (Dropout)             (None, 6, 6, 6, 32)  0           max_pooling3d_1[0][0]            \n",
      "__________________________________________________________________________________________________\n",
      "dense_1 (Dense)                 (None, 128)          384         aspect_input[0][0]               \n",
      "__________________________________________________________________________________________________\n",
      "flatten_1 (Flatten)             (None, 6912)         0           dropout_2[0][0]                  \n",
      "__________________________________________________________________________________________________\n",
      "dropout_3 (Dropout)             (None, 128)          0           dense_1[0][0]                    \n",
      "__________________________________________________________________________________________________\n",
      "concatenate_1 (Concatenate)     (None, 7040)         0           flatten_1[0][0]                  \n",
      "                                                                 dropout_3[0][0]                  \n",
      "__________________________________________________________________________________________________\n",
      "dropout_4 (Dropout)             (None, 7040)         0           concatenate_1[0][0]              \n",
      "__________________________________________________________________________________________________\n",
      "dense_2 (Dense)                 (None, 528)          3717648     dropout_4[0][0]                  \n",
      "__________________________________________________________________________________________________\n",
      "dropout_5 (Dropout)             (None, 528)          0           dense_2[0][0]                    \n",
      "__________________________________________________________________________________________________\n",
      "dense_3 (Dense)                 (None, 10)           5290        dropout_5[0][0]                  \n",
      "==================================================================================================\n",
      "Total params: 3,755,034\n",
      "Trainable params: 3,755,034\n",
      "Non-trainable params: 0\n",
      "__________________________________________________________________________________________________\n"
     ]
    }
   ],
   "source": [
    "#サマリーの表示\n",
    "model.summary()"
   ]
  },
  {
   "cell_type": "code",
   "execution_count": 36,
   "metadata": {},
   "outputs": [
    {
     "data": {
      "text/plain": [
       "<keras.engine.training.Model at 0x7ff3808820b8>"
      ]
     },
     "execution_count": 36,
     "metadata": {},
     "output_type": "execute_result"
    }
   ],
   "source": [
    "model"
   ]
  },
  {
   "cell_type": "markdown",
   "metadata": {},
   "source": [
    "# Train"
   ]
  },
  {
   "cell_type": "markdown",
   "metadata": {},
   "source": [
    "## ボクセルのLoad"
   ]
  },
  {
   "cell_type": "code",
   "execution_count": 37,
   "metadata": {},
   "outputs": [],
   "source": [
    "x_train = np.load( vox_dir  + \"x_train.npy\")\n",
    "x_test = np.load( vox_dir  + \"x_test.npy\")\n",
    "y_train = np.load( vox_dir + \"y_train.npy\")\n",
    "y_test = np.load( vox_dir + \"y_test.npy\")"
   ]
  },
  {
   "cell_type": "code",
   "execution_count": 38,
   "metadata": {},
   "outputs": [
    {
     "data": {
      "text/plain": [
       "(3991, 32, 32, 32, 1)"
      ]
     },
     "execution_count": 38,
     "metadata": {},
     "output_type": "execute_result"
    }
   ],
   "source": [
    "x_train.shape"
   ]
  },
  {
   "cell_type": "code",
   "execution_count": 39,
   "metadata": {},
   "outputs": [
    {
     "data": {
      "text/plain": [
       "(3991, 10)"
      ]
     },
     "execution_count": 39,
     "metadata": {},
     "output_type": "execute_result"
    }
   ],
   "source": [
    "y_train.shape"
   ]
  },
  {
   "cell_type": "code",
   "execution_count": 40,
   "metadata": {},
   "outputs": [
    {
     "data": {
      "text/plain": [
       "(908, 32, 32, 32, 1)"
      ]
     },
     "execution_count": 40,
     "metadata": {},
     "output_type": "execute_result"
    }
   ],
   "source": [
    "x_test.shape"
   ]
  },
  {
   "cell_type": "code",
   "execution_count": 41,
   "metadata": {
    "scrolled": true
   },
   "outputs": [
    {
     "data": {
      "text/plain": [
       "(908, 10)"
      ]
     },
     "execution_count": 41,
     "metadata": {},
     "output_type": "execute_result"
    }
   ],
   "source": [
    "y_test.shape"
   ]
  },
  {
   "cell_type": "code",
   "execution_count": 42,
   "metadata": {},
   "outputs": [],
   "source": [
    "directory = dist_dir +\"x_train.npy\"\n",
    "\n",
    "xyz = np.load(directory)\n",
    "x = xyz[:,0]\n",
    "y = xyz[:,1]\n",
    "z = xyz[:,2]\n",
    "xy_ratio = y / x\n",
    "xz_ratio = z / x\n",
    "aspect_train =  np.stack([xy_ratio,xz_ratio],axis=1)\n",
    "\n",
    "directory = dist_dir +\"x_test.npy\"\n",
    "\n",
    "xyz = np.load(directory)\n",
    "x = xyz[:,0]\n",
    "y = xyz[:,1]\n",
    "z = xyz[:,2]\n",
    "xy_ratio = y / x\n",
    "xz_ratio = z / x\n",
    "aspect_test =  np.stack([xy_ratio,xz_ratio],axis=1)"
   ]
  },
  {
   "cell_type": "code",
   "execution_count": 43,
   "metadata": {},
   "outputs": [
    {
     "data": {
      "text/plain": [
       "(3991, 2)"
      ]
     },
     "execution_count": 43,
     "metadata": {},
     "output_type": "execute_result"
    }
   ],
   "source": [
    "aspect_train.shape"
   ]
  },
  {
   "cell_type": "code",
   "execution_count": 44,
   "metadata": {},
   "outputs": [
    {
     "data": {
      "text/plain": [
       "(908, 2)"
      ]
     },
     "execution_count": 44,
     "metadata": {},
     "output_type": "execute_result"
    }
   ],
   "source": [
    "aspect_test.shape"
   ]
  },
  {
   "cell_type": "markdown",
   "metadata": {},
   "source": [
    "## fit"
   ]
  },
  {
   "cell_type": "code",
   "execution_count": 45,
   "metadata": {
    "code_folding": [],
    "scrolled": true
   },
   "outputs": [
    {
     "name": "stdout",
     "output_type": "stream",
     "text": [
      "Train on 3991 samples, validate on 908 samples\n",
      "Epoch 1/40\n",
      "3991/3991 [==============================] - 5s 1ms/step - loss: 1.1730 - acc: 0.6515 - val_loss: 0.7627 - val_acc: 0.7247\n",
      "Epoch 2/40\n",
      "3991/3991 [==============================] - 4s 931us/step - loss: 0.4779 - acc: 0.8494 - val_loss: 0.5051 - val_acc: 0.8326\n",
      "Epoch 3/40\n",
      "3991/3991 [==============================] - 4s 932us/step - loss: 0.3249 - acc: 0.8980 - val_loss: 0.4213 - val_acc: 0.8557\n",
      "Epoch 4/40\n",
      "3991/3991 [==============================] - 4s 921us/step - loss: 0.2580 - acc: 0.9168 - val_loss: 0.3492 - val_acc: 0.8778\n",
      "Epoch 5/40\n",
      "3991/3991 [==============================] - 4s 946us/step - loss: 0.2333 - acc: 0.9246 - val_loss: 0.3345 - val_acc: 0.8800\n",
      "Epoch 6/40\n",
      "3991/3991 [==============================] - 4s 933us/step - loss: 0.2063 - acc: 0.9351 - val_loss: 0.3553 - val_acc: 0.8645\n",
      "Epoch 7/40\n",
      "3991/3991 [==============================] - 4s 956us/step - loss: 0.1874 - acc: 0.9341 - val_loss: 0.3374 - val_acc: 0.8711\n",
      "Epoch 8/40\n",
      "3991/3991 [==============================] - 4s 950us/step - loss: 0.1701 - acc: 0.9474 - val_loss: 0.3148 - val_acc: 0.8800\n",
      "Epoch 9/40\n",
      "3991/3991 [==============================] - 4s 946us/step - loss: 0.1826 - acc: 0.9361 - val_loss: 0.3113 - val_acc: 0.8877\n",
      "Epoch 10/40\n",
      "3991/3991 [==============================] - 4s 954us/step - loss: 0.1435 - acc: 0.9529 - val_loss: 0.3160 - val_acc: 0.8778\n",
      "Epoch 11/40\n",
      "3991/3991 [==============================] - 4s 931us/step - loss: 0.1329 - acc: 0.9539 - val_loss: 0.3080 - val_acc: 0.8899\n",
      "Epoch 12/40\n",
      "3991/3991 [==============================] - 4s 933us/step - loss: 0.1351 - acc: 0.9526 - val_loss: 0.3012 - val_acc: 0.8888\n",
      "Epoch 13/40\n",
      "3991/3991 [==============================] - 4s 938us/step - loss: 0.1135 - acc: 0.9592 - val_loss: 0.3043 - val_acc: 0.8866\n",
      "Epoch 14/40\n",
      "3991/3991 [==============================] - 4s 933us/step - loss: 0.1056 - acc: 0.9609 - val_loss: 0.3071 - val_acc: 0.8822\n",
      "Epoch 15/40\n",
      "3991/3991 [==============================] - 4s 926us/step - loss: 0.0977 - acc: 0.9647 - val_loss: 0.3085 - val_acc: 0.8833\n",
      "Epoch 16/40\n",
      "3991/3991 [==============================] - 4s 921us/step - loss: 0.0901 - acc: 0.9667 - val_loss: 0.2887 - val_acc: 0.8976\n",
      "Epoch 17/40\n",
      "3991/3991 [==============================] - 4s 937us/step - loss: 0.0860 - acc: 0.9697 - val_loss: 0.3119 - val_acc: 0.8833\n",
      "Epoch 18/40\n",
      "3991/3991 [==============================] - 4s 918us/step - loss: 0.0898 - acc: 0.9659 - val_loss: 0.2852 - val_acc: 0.8877\n",
      "Epoch 19/40\n",
      "3991/3991 [==============================] - 4s 914us/step - loss: 0.0862 - acc: 0.9694 - val_loss: 0.2743 - val_acc: 0.8932\n",
      "Epoch 20/40\n",
      "3991/3991 [==============================] - 4s 910us/step - loss: 0.0838 - acc: 0.9694 - val_loss: 0.2755 - val_acc: 0.9064\n",
      "Epoch 21/40\n",
      "3991/3991 [==============================] - 4s 909us/step - loss: 0.0802 - acc: 0.9707 - val_loss: 0.2927 - val_acc: 0.8899\n",
      "Epoch 22/40\n",
      "3991/3991 [==============================] - 4s 913us/step - loss: 0.0678 - acc: 0.9742 - val_loss: 0.3344 - val_acc: 0.8800\n",
      "Epoch 23/40\n",
      "3991/3991 [==============================] - 4s 910us/step - loss: 0.0666 - acc: 0.9757 - val_loss: 0.2880 - val_acc: 0.9009\n",
      "Epoch 24/40\n",
      "3991/3991 [==============================] - 4s 945us/step - loss: 0.0743 - acc: 0.9727 - val_loss: 0.3038 - val_acc: 0.8932\n",
      "Epoch 25/40\n",
      "3991/3991 [==============================] - 4s 940us/step - loss: 0.0767 - acc: 0.9702 - val_loss: 0.2747 - val_acc: 0.9020\n",
      "Epoch 26/40\n",
      "3991/3991 [==============================] - 4s 945us/step - loss: 0.0625 - acc: 0.9747 - val_loss: 0.2820 - val_acc: 0.9042\n",
      "Epoch 27/40\n",
      "3991/3991 [==============================] - 4s 968us/step - loss: 0.0751 - acc: 0.9727 - val_loss: 0.2834 - val_acc: 0.9009\n",
      "Epoch 28/40\n",
      "3991/3991 [==============================] - 4s 959us/step - loss: 0.0624 - acc: 0.9759 - val_loss: 0.3006 - val_acc: 0.8965\n",
      "Epoch 29/40\n",
      "3991/3991 [==============================] - 4s 958us/step - loss: 0.0659 - acc: 0.9759 - val_loss: 0.2922 - val_acc: 0.8910\n",
      "Epoch 30/40\n",
      "3991/3991 [==============================] - 4s 948us/step - loss: 0.0509 - acc: 0.9815 - val_loss: 0.2809 - val_acc: 0.9086\n",
      "Epoch 31/40\n",
      "3991/3991 [==============================] - 4s 940us/step - loss: 0.0636 - acc: 0.9759 - val_loss: 0.2774 - val_acc: 0.9053\n",
      "Epoch 32/40\n",
      "3991/3991 [==============================] - 4s 942us/step - loss: 0.0511 - acc: 0.9815 - val_loss: 0.3115 - val_acc: 0.8976\n",
      "Epoch 33/40\n",
      "3991/3991 [==============================] - 4s 965us/step - loss: 0.0460 - acc: 0.9840 - val_loss: 0.2811 - val_acc: 0.9075\n",
      "Epoch 34/40\n",
      "3991/3991 [==============================] - 4s 965us/step - loss: 0.0579 - acc: 0.9802 - val_loss: 0.2838 - val_acc: 0.9053\n",
      "Epoch 35/40\n",
      "3991/3991 [==============================] - 4s 935us/step - loss: 0.0473 - acc: 0.9840 - val_loss: 0.2927 - val_acc: 0.9042\n",
      "Epoch 36/40\n",
      "3991/3991 [==============================] - 4s 947us/step - loss: 0.0485 - acc: 0.9837 - val_loss: 0.2965 - val_acc: 0.8976\n",
      "Epoch 37/40\n",
      "3991/3991 [==============================] - 4s 943us/step - loss: 0.0394 - acc: 0.9850 - val_loss: 0.3634 - val_acc: 0.8899\n",
      "Epoch 38/40\n",
      "3991/3991 [==============================] - 4s 951us/step - loss: 0.0556 - acc: 0.9797 - val_loss: 0.2876 - val_acc: 0.8976\n",
      "Epoch 39/40\n",
      "3991/3991 [==============================] - 4s 936us/step - loss: 0.0581 - acc: 0.9785 - val_loss: 0.3211 - val_acc: 0.8954\n",
      "Epoch 40/40\n",
      "3991/3991 [==============================] - 4s 907us/step - loss: 0.0627 - acc: 0.9795 - val_loss: 0.3251 - val_acc: 0.9086\n"
     ]
    }
   ],
   "source": [
    "result = model.fit([x_train,aspect_train], y_train,\n",
    "                   batch_size=batch_size,\n",
    "                   epochs=epochs,\n",
    "                   verbose=1,\n",
    "                   validation_data=([x_test,aspect_test], y_test) ,\n",
    "                   callbacks=callbacks)\n",
    "\n"
   ]
  },
  {
   "cell_type": "code",
   "execution_count": 46,
   "metadata": {
    "scrolled": true
   },
   "outputs": [],
   "source": [
    "# # 重みの読み込み\n",
    "# model.load_weights(\"weights/ModelNet10/cell32/weights__2018_11_29_15_46_12.h5\")\n",
    "# model.load_weights(\"weights/ModelNet40/cell32/weights__2018_12_29_16_15_51.h5\")\n"
   ]
  },
  {
   "cell_type": "markdown",
   "metadata": {},
   "source": [
    "# evaluate"
   ]
  },
  {
   "cell_type": "code",
   "execution_count": 49,
   "metadata": {},
   "outputs": [
    {
     "name": "stdout",
     "output_type": "stream",
     "text": [
      "Test loss: 0.3250799897069928\n",
      "Test accuracy: 0.9085903083700441\n"
     ]
    }
   ],
   "source": [
    "loss,acc = model.evaluate([x_test,aspect_test], y_test, verbose=0)\n",
    "print('Test loss:', loss)\n",
    "print('Test accuracy:', acc)"
   ]
  },
  {
   "cell_type": "code",
   "execution_count": 50,
   "metadata": {},
   "outputs": [],
   "source": [
    "# 重みを読み込んで評価\n",
    "# model.load_weights(\"weights/\"+dataset+\"/cell32/model-38.h5\")\n",
    "# loss,acc = model.evaluate(x_test, y_test, verbose=0)\n",
    "# print('Test loss:', loss)\n",
    "# print('Test accuracy:', acc)"
   ]
  },
  {
   "cell_type": "markdown",
   "metadata": {},
   "source": [
    "## learning validation curve "
   ]
  },
  {
   "cell_type": "code",
   "execution_count": 51,
   "metadata": {},
   "outputs": [],
   "source": [
    "rcParams[\"figure.figsize\"] = [6.4, 4.8]"
   ]
  },
  {
   "cell_type": "code",
   "execution_count": 52,
   "metadata": {},
   "outputs": [
    {
     "data": {
      "image/png": "[encoded data removed]",
      "text/plain": [
       "<Figure size 460.8x345.6 with 1 Axes>"
      ]
     },
     "metadata": {
      "needs_background": "light"
     },
     "output_type": "display_data"
    }
   ],
   "source": [
    "plt.plot(range(1, len(result.history['acc'])+1), result.history['acc'], label=\"training\")\n",
    "plt.plot(range(1, len(result.history['val_acc'])+1), result.history['val_acc'], label=\"validation\")\n",
    "plt.xlabel('Epochs')\n",
    "plt.ylabel('Accuracy')\n",
    "plt.ylim([0.5,1])\n",
    "plt.legend()\n",
    "plt.title(\" {} / cell {}\".format(dataset,cell))\n",
    "plt.savefig(fig_dir + 'acc.svg')\n",
    "plt.show()"
   ]
  },
  {
   "cell_type": "code",
   "execution_count": 53,
   "metadata": {},
   "outputs": [
    {
     "data": {
      "image/png": "[encoded data removed]",
      "text/plain": [
       "<Figure size 460.8x345.6 with 1 Axes>"
      ]
     },
     "metadata": {
      "needs_background": "light"
     },
     "output_type": "display_data"
    }
   ],
   "source": [
    "plt.plot(range(1, len(result.history['loss'])+1), result.history['loss'], label=\"loss\")\n",
    "plt.plot(range(1, len(result.history['val_loss'])+1), result.history['val_loss'], label=\"validation_loss\")\n",
    "plt.xlabel('Epochs')\n",
    "plt.ylabel('Loss')\n",
    "plt.legend()\n",
    "plt.title(\" {} / cell {}\".format(dataset,cell))\n",
    "plt.savefig(fig_dir  + 'loss.svg')\n",
    "plt.show()"
   ]
  },
  {
   "cell_type": "markdown",
   "metadata": {},
   "source": [
    "## Confusion matrix"
   ]
  },
  {
   "cell_type": "code",
   "execution_count": 57,
   "metadata": {},
   "outputs": [],
   "source": [
    "# labels_pred = model.predict_classes(x_test,verbose=0)"
   ]
  },
  {
   "cell_type": "code",
   "execution_count": 58,
   "metadata": {},
   "outputs": [],
   "source": [
    "# labels_pred.shape"
   ]
  },
  {
   "cell_type": "code",
   "execution_count": 59,
   "metadata": {},
   "outputs": [],
   "source": [
    "# labels_pred"
   ]
  },
  {
   "cell_type": "code",
   "execution_count": 60,
   "metadata": {},
   "outputs": [],
   "source": [
    "# np.argmax(y_test, axis=1)"
   ]
  },
  {
   "cell_type": "code",
   "execution_count": 61,
   "metadata": {},
   "outputs": [],
   "source": [
    "# 間違ったやつのIndex\n",
    "# np.where((labels_pred == np.argmax(y_test, axis=1)) == 0)"
   ]
  },
  {
   "cell_type": "code",
   "execution_count": 62,
   "metadata": {},
   "outputs": [],
   "source": [
    "# # グラフのサイズ\n",
    "# rcParams['figure.figsize'] = 10,8\n",
    "\n",
    "\n",
    "# # Plot normalized confusion matrix\n",
    "# plot_confusion_matrix(x_test,y_test)\n"
   ]
  },
  {
   "cell_type": "markdown",
   "metadata": {},
   "source": [
    "## 個別に分類"
   ]
  },
  {
   "cell_type": "code",
   "execution_count": 69,
   "metadata": {},
   "outputs": [],
   "source": [
    "# vertices, faces = load_off(dataset+\"/chair/train/0.off\")\n",
    "# points = gen_random_points(vertices, faces, n_points)\n",
    "# # ValueError: sequence too large; cannot be greater than 32の回避策\n",
    "# # list 2 numpy.ndarray\n",
    "# test = np.empty((len(points), len(points[0])))\n",
    "# test[:] = points\n",
    "# print(type(test))\n",
    "# #voxelize\n",
    "# test_vox = voxilize(test,cell)"
   ]
  },
  {
   "cell_type": "code",
   "execution_count": 70,
   "metadata": {},
   "outputs": [
    {
     "name": "stdout",
     "output_type": "stream",
     "text": [
      "[[9.9999344e-01 3.1712020e-08 2.5961903e-08 ... 1.6403318e-08\n",
      "  4.8787485e-09 4.5897891e-06]\n",
      " [9.9737775e-01 5.3876285e-08 5.9988906e-07 ... 1.2899585e-07\n",
      "  7.5983218e-05 1.3349295e-07]\n",
      " [9.9998248e-01 1.3033978e-05 4.3556632e-08 ... 6.6271642e-09\n",
      "  3.9034608e-06 1.9628468e-08]\n",
      " ...\n",
      " [1.8567981e-08 5.8214340e-07 1.0046906e-08 ... 3.5848792e-08\n",
      "  1.6222748e-10 9.9999928e-01]\n",
      " [7.8653173e-09 1.4171640e-07 3.8675605e-09 ... 1.8992292e-09\n",
      "  2.5836954e-11 9.9999988e-01]\n",
      " [6.3958493e-07 2.5072950e-03 1.8980227e-06 ... 2.1567462e-07\n",
      "  2.0021996e-11 9.9748731e-01]]\n",
      "0.99999344\n",
      "bathtub\n"
     ]
    }
   ],
   "source": [
    "# model.load_weights('weights/'+dataset+'/cell32/model-40.h5')\n",
    "\n",
    "# 読み込んだ学習済みモデルで予測\n",
    "proba_all = model.predict([x_test,aspect_test])\n",
    "print(proba_all)\n",
    "proba = np.argmax(proba_all[0])\n",
    "print(proba_all[0][proba])\n",
    "print(class_name[proba])"
   ]
  },
  {
   "cell_type": "code",
   "execution_count": 71,
   "metadata": {},
   "outputs": [
    {
     "data": {
      "image/png": "[encoded data removed]",
      "text/plain": [
       "<Figure size 460.8x345.6 with 1 Axes>"
      ]
     },
     "metadata": {
      "needs_background": "light"
     },
     "output_type": "display_data"
    }
   ],
   "source": [
    "fig = plt.figure()\n",
    "ax = fig.add_subplot(1, 1, 1)\n",
    "ax.bar(class_name , proba_all[0])\n",
    "ax.set_xticklabels(class_name, rotation=90)\n",
    "plt.show()"
   ]
  },
  {
   "cell_type": "code",
   "execution_count": null,
   "metadata": {},
   "outputs": [],
   "source": []
  },
  {
   "cell_type": "code",
   "execution_count": null,
   "metadata": {},
   "outputs": [],
   "source": []
  },
  {
   "cell_type": "code",
   "execution_count": null,
   "metadata": {},
   "outputs": [],
   "source": []
  },
  {
   "cell_type": "code",
   "execution_count": null,
   "metadata": {},
   "outputs": [],
   "source": []
  },
  {
   "cell_type": "code",
   "execution_count": null,
   "metadata": {},
   "outputs": [],
   "source": []
  },
  {
   "cell_type": "markdown",
   "metadata": {},
   "source": [
    "## アスペクト比の可視化"
   ]
  },
  {
   "cell_type": "code",
   "execution_count": 80,
   "metadata": {},
   "outputs": [],
   "source": [
    "rcParams[\"figure.figsize\"] = [12, 8]"
   ]
  },
  {
   "cell_type": "code",
   "execution_count": 81,
   "metadata": {
    "code_folding": [],
    "scrolled": true
   },
   "outputs": [
    {
     "name": "stderr",
     "output_type": "stream",
     "text": [
      "/home/takitani/anaconda3/lib/python3.6/site-packages/matplotlib/figure.py:448: UserWarning: Matplotlib is currently using module://ipykernel.pylab.backend_inline, which is a non-GUI backend, so cannot show the figure.\n",
      "  % get_backend())\n"
     ]
    },
    {
     "data": {
      "image/png": "[encoded data removed]",
      "text/plain": [
       "<Figure size 864x576 with 1 Axes>"
      ]
     },
     "metadata": {
      "needs_background": "light"
     },
     "output_type": "display_data"
    },
    {
     "data": {
      "image/png": "[encoded data removed]",
      "text/plain": [
       "<Figure size 864x576 with 1 Axes>"
      ]
     },
     "metadata": {
      "needs_background": "light"
     },
     "output_type": "display_data"
    }
   ],
   "source": [
    "for t in train_or_test:\n",
    "    fig = plt.figure()\n",
    "    ax = fig.add_subplot(1,1,1)\n",
    "    for cl in class_name:\n",
    "        directory = dist_dir + cl + t + \".npy\"\n",
    "        xyz = np.load(directory)\n",
    "        x = xyz[:,0]\n",
    "        y = xyz[:,1]\n",
    "        z = xyz[:,2]\n",
    "        xy_ratio = y / x\n",
    "        xz_ratio = z / x\n",
    "        ax.scatter(xy_ratio , xz_ratio, label=cl, s= 8, alpha=0.8)\n",
    "        \n",
    "\n",
    "    ax.set_title(dataset + \" \" + t)\n",
    "    ax.set_xlabel('x - y ratio')\n",
    "    ax.set_ylabel('x - z ratio')\n",
    "#     plt.xlim([0.025,40])\n",
    "#     plt.ylim([0.025,40])\n",
    "    plt.xlim([0.1,10])\n",
    "    plt.ylim([0.1,10])\n",
    "    plt.xscale(\"log\")\n",
    "    plt.yscale(\"log\")\n",
    "    \n",
    "\n",
    "    ax.grid(True)\n",
    "\n",
    "    ax.legend(loc='upper left')\n",
    "    fig.savefig(fig_dir + t + \"_asp.svg\")\n",
    "    fig.show()"
   ]
  },
  {
   "cell_type": "markdown",
   "metadata": {},
   "source": [
    "ラベル(index)を入力したらそのモデルのパスを返す関数"
   ]
  },
  {
   "cell_type": "code",
   "execution_count": 82,
   "metadata": {},
   "outputs": [
    {
     "name": "stdout",
     "output_type": "stream",
     "text": [
      "bathtub\n",
      "index :  3857\n",
      "npy :  106\n",
      "=====================\n",
      "chair\n",
      "index :  3751\n",
      "npy :  889\n",
      "=====================\n",
      "dresser\n",
      "index :  2862\n",
      "npy :  200\n",
      "=====================\n",
      "night_stand\n",
      "index :  2662\n",
      "npy :  200\n",
      "=====================\n",
      "table\n",
      "index :  2462\n",
      "npy :  392\n",
      "=====================\n",
      "bed\n",
      "index :  2070\n",
      "npy :  515\n",
      "=====================\n",
      "desk\n",
      "index :  1555\n",
      "npy :  200\n",
      "=====================\n",
      "monitor\n",
      "index :  1355\n",
      "npy :  465\n",
      "=====================\n",
      "sofa\n",
      "index :  890\n",
      "npy :  680\n",
      "=====================\n",
      "toilet\n",
      "index :  210\n",
      "npy :  344\n",
      "=====================\n",
      "9\n"
     ]
    }
   ],
   "source": [
    "index = 3857\n",
    "t_or_t = \"train\"\n",
    "for i  in range(num_classes):\n",
    "    cl = class_name[i]\n",
    "    npy = np.load(dist_dir  + cl + t_or_t + \".npy\")\n",
    "    print(cl)\n",
    "    print(\"index : \", index)\n",
    "    index = index - len(npy) \n",
    "    print(\"npy : \", len(npy))\n",
    "    print(\"=====================\")\n",
    "    if index < 0 :\n",
    "        print(i)\n",
    "        break"
   ]
  },
  {
   "cell_type": "code",
   "execution_count": null,
   "metadata": {},
   "outputs": [],
   "source": []
  },
  {
   "cell_type": "markdown",
   "metadata": {},
   "source": [
    "# model構築２"
   ]
  },
  {
   "cell_type": "code",
   "execution_count": 83,
   "metadata": {},
   "outputs": [
    {
     "name": "stdout",
     "output_type": "stream",
     "text": [
      "Test loss: 0.3250799897069928\n",
      "Test accuracy: 0.9085903083700441\n"
     ]
    }
   ],
   "source": [
    "loss,acc = model.evaluate([x_test,aspect_test], y_test, verbose=0)\n",
    "print('Test loss:', loss)\n",
    "print('Test accuracy:', acc)"
   ]
  },
  {
   "cell_type": "code",
   "execution_count": 84,
   "metadata": {},
   "outputs": [
    {
     "data": {
      "text/plain": [
       "range(1, 41)"
      ]
     },
     "execution_count": 84,
     "metadata": {},
     "output_type": "execute_result"
    }
   ],
   "source": [
    "range(1, len(result.history['acc'])+1)"
   ]
  },
  {
   "cell_type": "code",
   "execution_count": 85,
   "metadata": {},
   "outputs": [
    {
     "data": {
      "image/png": "[encoded data removed]",
      "text/plain": [
       "<Figure size 864x576 with 1 Axes>"
      ]
     },
     "metadata": {
      "needs_background": "light"
     },
     "output_type": "display_data"
    }
   ],
   "source": [
    "plt.plot(range(1, len(result.history['acc'])+1), result.history['acc'], label=\"training\")\n",
    "plt.plot(range(1, len(result.history['val_acc'])+1), result.history['val_acc'], label=\"validation\")\n",
    "plt.xlabel('Epochs')\n",
    "plt.ylabel('Accuracy')\n",
    "plt.ylim([0.5,1])\n",
    "plt.legend()\n",
    "plt.title(\" {} / cell {}\".format(dataset,cell))\n",
    "plt.savefig(fig_dir + 'acc_1.svg')\n",
    "plt.show()"
   ]
  },
  {
   "cell_type": "code",
   "execution_count": 86,
   "metadata": {},
   "outputs": [
    {
     "name": "stdout",
     "output_type": "stream",
     "text": [
      "Train on 3991 samples, validate on 908 samples\n",
      "Epoch 1/40\n",
      "3991/3991 [==============================] - 4s 970us/step - loss: 1.2030 - acc: 0.6527 - val_loss: 0.8685 - val_acc: 0.7511\n",
      "Epoch 2/40\n",
      "3991/3991 [==============================] - 4s 912us/step - loss: 0.4390 - acc: 0.8705 - val_loss: 0.5410 - val_acc: 0.8447\n",
      "Epoch 3/40\n",
      "3991/3991 [==============================] - 4s 902us/step - loss: 0.3362 - acc: 0.8928 - val_loss: 0.4389 - val_acc: 0.8667\n",
      "Epoch 4/40\n",
      "3991/3991 [==============================] - 4s 923us/step - loss: 0.2805 - acc: 0.9108 - val_loss: 0.4679 - val_acc: 0.8645\n",
      "Epoch 5/40\n",
      "3991/3991 [==============================] - 4s 937us/step - loss: 0.2493 - acc: 0.9211 - val_loss: 0.4858 - val_acc: 0.8359\n",
      "Epoch 6/40\n",
      "3991/3991 [==============================] - 4s 936us/step - loss: 0.2214 - acc: 0.9253 - val_loss: 0.3962 - val_acc: 0.8601\n",
      "Epoch 7/40\n",
      "3991/3991 [==============================] - 4s 949us/step - loss: 0.2045 - acc: 0.9301 - val_loss: 0.3820 - val_acc: 0.8722\n",
      "Epoch 8/40\n",
      "3991/3991 [==============================] - 4s 916us/step - loss: 0.1949 - acc: 0.9308 - val_loss: 0.3766 - val_acc: 0.8645\n",
      "Epoch 9/40\n",
      "3991/3991 [==============================] - 4s 921us/step - loss: 0.1914 - acc: 0.9339 - val_loss: 0.4046 - val_acc: 0.8557\n",
      "Epoch 10/40\n",
      "3991/3991 [==============================] - 4s 924us/step - loss: 0.1543 - acc: 0.9446 - val_loss: 0.3268 - val_acc: 0.8822\n",
      "Epoch 11/40\n",
      "3991/3991 [==============================] - 4s 932us/step - loss: 0.1475 - acc: 0.9476 - val_loss: 0.3236 - val_acc: 0.8921\n",
      "Epoch 12/40\n",
      "3991/3991 [==============================] - 4s 926us/step - loss: 0.1462 - acc: 0.9509 - val_loss: 0.3384 - val_acc: 0.8822\n",
      "Epoch 13/40\n",
      "3991/3991 [==============================] - 4s 933us/step - loss: 0.1526 - acc: 0.9416 - val_loss: 0.3148 - val_acc: 0.8844\n",
      "Epoch 14/40\n",
      "3991/3991 [==============================] - 4s 927us/step - loss: 0.1496 - acc: 0.9454 - val_loss: 0.3420 - val_acc: 0.8756\n",
      "Epoch 15/40\n",
      "3991/3991 [==============================] - 4s 914us/step - loss: 0.1307 - acc: 0.9539 - val_loss: 0.3043 - val_acc: 0.8943\n",
      "Epoch 16/40\n",
      "3991/3991 [==============================] - 4s 915us/step - loss: 0.1237 - acc: 0.9569 - val_loss: 0.2915 - val_acc: 0.8910\n",
      "Epoch 17/40\n",
      "3991/3991 [==============================] - 4s 931us/step - loss: 0.1260 - acc: 0.9549 - val_loss: 0.3143 - val_acc: 0.8855\n",
      "Epoch 18/40\n",
      "3991/3991 [==============================] - 4s 924us/step - loss: 0.1221 - acc: 0.9554 - val_loss: 0.3195 - val_acc: 0.8844\n",
      "Epoch 19/40\n",
      "3991/3991 [==============================] - 4s 922us/step - loss: 0.1253 - acc: 0.9564 - val_loss: 0.3009 - val_acc: 0.8976\n",
      "Epoch 20/40\n",
      "3991/3991 [==============================] - 4s 913us/step - loss: 0.1199 - acc: 0.9579 - val_loss: 0.3039 - val_acc: 0.8921\n",
      "Epoch 21/40\n",
      "3991/3991 [==============================] - 4s 921us/step - loss: 0.1182 - acc: 0.9587 - val_loss: 0.3199 - val_acc: 0.8910\n",
      "Epoch 22/40\n",
      "3991/3991 [==============================] - 4s 950us/step - loss: 0.1048 - acc: 0.9617 - val_loss: 0.2896 - val_acc: 0.8976\n",
      "Epoch 23/40\n",
      "3991/3991 [==============================] - 4s 899us/step - loss: 0.1103 - acc: 0.9597 - val_loss: 0.2924 - val_acc: 0.8976\n",
      "Epoch 24/40\n",
      "3991/3991 [==============================] - 4s 936us/step - loss: 0.0958 - acc: 0.9622 - val_loss: 0.3229 - val_acc: 0.8844\n",
      "Epoch 25/40\n",
      "3991/3991 [==============================] - 4s 918us/step - loss: 0.0918 - acc: 0.9674 - val_loss: 0.3234 - val_acc: 0.8921\n",
      "Epoch 26/40\n",
      "3991/3991 [==============================] - 4s 924us/step - loss: 0.0963 - acc: 0.9654 - val_loss: 0.3132 - val_acc: 0.8987\n",
      "Epoch 27/40\n",
      "3991/3991 [==============================] - 4s 942us/step - loss: 0.0882 - acc: 0.9699 - val_loss: 0.2961 - val_acc: 0.9020\n",
      "Epoch 28/40\n",
      "3991/3991 [==============================] - 4s 913us/step - loss: 0.0962 - acc: 0.9649 - val_loss: 0.3171 - val_acc: 0.8954\n",
      "Epoch 29/40\n",
      "3991/3991 [==============================] - 4s 887us/step - loss: 0.1008 - acc: 0.9609 - val_loss: 0.3148 - val_acc: 0.8833\n",
      "Epoch 30/40\n",
      "3991/3991 [==============================] - 4s 904us/step - loss: 0.1004 - acc: 0.9639 - val_loss: 0.3204 - val_acc: 0.8899\n",
      "Epoch 31/40\n",
      "3991/3991 [==============================] - 4s 917us/step - loss: 0.0906 - acc: 0.9687 - val_loss: 0.3114 - val_acc: 0.8976\n",
      "Epoch 32/40\n",
      "3991/3991 [==============================] - 4s 914us/step - loss: 0.0814 - acc: 0.9709 - val_loss: 0.2992 - val_acc: 0.9097\n",
      "Epoch 33/40\n",
      "3991/3991 [==============================] - 4s 926us/step - loss: 0.0787 - acc: 0.9714 - val_loss: 0.2975 - val_acc: 0.9064\n",
      "Epoch 34/40\n",
      "3991/3991 [==============================] - 4s 894us/step - loss: 0.0864 - acc: 0.9694 - val_loss: 0.2871 - val_acc: 0.9042\n",
      "Epoch 35/40\n",
      "3991/3991 [==============================] - 4s 945us/step - loss: 0.0842 - acc: 0.9684 - val_loss: 0.2871 - val_acc: 0.9031\n",
      "Epoch 36/40\n",
      "3991/3991 [==============================] - 4s 898us/step - loss: 0.0764 - acc: 0.9714 - val_loss: 0.2977 - val_acc: 0.9020\n",
      "Epoch 37/40\n",
      "3991/3991 [==============================] - 4s 959us/step - loss: 0.0751 - acc: 0.9742 - val_loss: 0.3086 - val_acc: 0.9042\n",
      "Epoch 38/40\n",
      "3991/3991 [==============================] - 4s 931us/step - loss: 0.0759 - acc: 0.9722 - val_loss: 0.2984 - val_acc: 0.9053\n",
      "Epoch 39/40\n",
      "3991/3991 [==============================] - 4s 920us/step - loss: 0.0635 - acc: 0.9762 - val_loss: 0.3031 - val_acc: 0.9031\n",
      "Epoch 40/40\n",
      "3991/3991 [==============================] - 4s 912us/step - loss: 0.0775 - acc: 0.9747 - val_loss: 0.2872 - val_acc: 0.9086\n"
     ]
    }
   ],
   "source": [
    "#inputの定義\n",
    "conv_input = Input(shape=(32, 32, 32 ,1), dtype=\"float32\", name=\"conv_input\")\n",
    "aspect_input = Input(shape=(2,), dtype=\"float32\", name=\"aspect_input\")\n",
    "\n",
    "# Conv3D部\n",
    "conv_output = Conv3D(32,5,padding='valid',strides=(2, 2, 2),activation=\"relu\")(conv_input)\n",
    "\n",
    "conv_output = Dropout(0.4)(conv_output)\n",
    "\n",
    "conv_output = Conv3D(32,3,padding='valid',strides=(1, 1, 1),activation=\"relu\")(conv_output)\n",
    "\n",
    "# conv_output = BatchNormalization()(conv_output)\n",
    "\n",
    "conv_output = MaxPooling3D(pool_size=(2, 2, 2),strides=None, padding='valid')(conv_output)\n",
    "\n",
    "conv_output = Dropout(0.4)(conv_output)\n",
    "\n",
    "output = Flatten()(conv_output)\n",
    "\n",
    "# output = BatchNormalization()(conv_output)\n",
    "\n",
    "# output = Dense(1024, #128\n",
    "#                     kernel_initializer=\"normal\",\n",
    "#                     activation='linear',\n",
    "#                     )(output)\n",
    "\n",
    "output = Dropout(0.5)(output)\n",
    "\n",
    "output = Dense(528, #128\n",
    "                    kernel_initializer=\"normal\",\n",
    "                    activation='linear',\n",
    "                    )(output)\n",
    "\n",
    "output = Dropout(0.5)(output)\n",
    "\n",
    "output = Dense(num_classes, activation=\"softmax\")(output)\n",
    "\n",
    "model = Model(inputs=conv_input, outputs=output)\n",
    "\n",
    "model.compile(loss='categorical_crossentropy', optimizer=optimizer, metrics=[\"accuracy\"])\n",
    "\n",
    "result1 = model.fit(x_train, y_train,\n",
    "                   batch_size=batch_size,\n",
    "                   epochs=epochs,\n",
    "                   verbose=1,\n",
    "                   validation_data=(x_test, y_test) ,\n",
    "                   callbacks=callbacks)"
   ]
  },
  {
   "cell_type": "code",
   "execution_count": 87,
   "metadata": {},
   "outputs": [
    {
     "data": {
      "image/png": "[encoded data removed]",
      "text/plain": [
       "<Figure size 864x576 with 1 Axes>"
      ]
     },
     "metadata": {
      "needs_background": "light"
     },
     "output_type": "display_data"
    }
   ],
   "source": [
    "plt.plot(range(1, len(result.history['acc'])+1), result.history['acc'], label=\"training(+aspect_ratio)\")\n",
    "plt.plot(range(1, len(result.history['val_acc'])+1), result.history['val_acc'], label=\"validation(+aspect_ratio)\")\n",
    "plt.plot(range(1, len(result1.history['acc'])+1), result1.history['acc'], label=\"training\")\n",
    "plt.plot(range(1, len(result1.history['val_acc'])+1), result1.history['val_acc'], label=\"validation\")\n",
    "plt.xlabel('Epochs')\n",
    "plt.ylabel('Accuracy')\n",
    "plt.ylim([0.7,1])\n",
    "plt.legend()\n",
    "plt.title(\" {} / cell {}\".format(dataset,cell))\n",
    "plt.savefig(fig_dir + 'acc_1.svg')\n",
    "plt.show()"
   ]
  },
  {
   "cell_type": "code",
   "execution_count": null,
   "metadata": {},
   "outputs": [],
   "source": [
    "#モデル可視化\n",
    "SVG(model_to_dot(model,show_shapes=True).create(prog='dot', format='svg'))"
   ]
  },
  {
   "cell_type": "code",
   "execution_count": null,
   "metadata": {},
   "outputs": [],
   "source": [
    "# npz = np.load(\"ModelNet40.npz\")\n",
    "# x_train = npz['train_voxel']\n",
    "# x_train = x_train.reshape((-1,32,32,32,1))\n",
    "# y_train = npz['train_label']\n",
    "# x_test = npz['test_voxel']\n",
    "# x_test = x_test.reshape((-1,32,32,32,1))\n",
    "# y_test = npz['test_label']\n",
    "\n",
    "# # convert label to one-hot-vector\n",
    "# y_train = np_utils.to_categorical(y_train, 40)\n",
    "# y_test = np_utils.to_categorical(y_test, 40)"
   ]
  },
  {
   "cell_type": "code",
   "execution_count": null,
   "metadata": {},
   "outputs": [],
   "source": []
  },
  {
   "cell_type": "code",
   "execution_count": null,
   "metadata": {},
   "outputs": [],
   "source": []
  },
  {
   "cell_type": "code",
   "execution_count": null,
   "metadata": {},
   "outputs": [],
   "source": []
  },
  {
   "cell_type": "code",
   "execution_count": null,
   "metadata": {},
   "outputs": [],
   "source": []
  },
  {
   "cell_type": "code",
   "execution_count": null,
   "metadata": {},
   "outputs": [],
   "source": []
  },
  {
   "cell_type": "code",
   "execution_count": null,
   "metadata": {},
   "outputs": [],
   "source": []
  },
  {
   "cell_type": "code",
   "execution_count": null,
   "metadata": {},
   "outputs": [],
   "source": [
    "# アスペクト比部\n",
    "aspect_output = Dense(256)(aspect_input)\n",
    "\n",
    "aspect_output = Dropout(0.4)(aspect_output)\n",
    "\n",
    "output = Dense(128, #128\n",
    "                    activation='linear',\n",
    "                    kernel_initializer='normal',\n",
    "                    )(aspect_output)\n",
    "\n",
    "output = Dropout(0.5)(output)\n",
    "\n",
    "output = Dense(num_classes, activation=\"softmax\")(output)"
   ]
  },
  {
   "cell_type": "code",
   "execution_count": null,
   "metadata": {},
   "outputs": [],
   "source": [
    "model = Model(inputs=aspect_input, outputs=output)"
   ]
  },
  {
   "cell_type": "code",
   "execution_count": null,
   "metadata": {},
   "outputs": [],
   "source": [
    "model.summary()"
   ]
  },
  {
   "cell_type": "code",
   "execution_count": null,
   "metadata": {},
   "outputs": [],
   "source": [
    "# compile model\n",
    "model.compile(loss='categorical_crossentropy', optimizer=optimizer, metrics=[\"accuracy\"])"
   ]
  },
  {
   "cell_type": "code",
   "execution_count": null,
   "metadata": {},
   "outputs": [],
   "source": [
    "result = model.fit(aspect_train, y_train,\n",
    "                   batch_size=batch_size,\n",
    "                   epochs=epochs,\n",
    "                   verbose=1,\n",
    "                   validation_data=(aspect_test, y_test) ,\n",
    "                   callbacks=callbacks)"
   ]
  },
  {
   "cell_type": "code",
   "execution_count": null,
   "metadata": {},
   "outputs": [],
   "source": [
    "aspect_test.shape"
   ]
  },
  {
   "cell_type": "code",
   "execution_count": null,
   "metadata": {
    "code_folding": []
   },
   "outputs": [],
   "source": [
    "#モデル可視化\n",
    "SVG(model_to_dot(model,show_shapes=True).create(prog='dot', format='svg'))"
   ]
  },
  {
   "cell_type": "code",
   "execution_count": null,
   "metadata": {},
   "outputs": [],
   "source": [
    "#モデルの図を保存\n",
    "plot_model(model, to_file=fig_dir + 'model3.png',show_shapes='True')"
   ]
  },
  {
   "cell_type": "code",
   "execution_count": null,
   "metadata": {},
   "outputs": [],
   "source": []
  },
  {
   "cell_type": "code",
   "execution_count": null,
   "metadata": {},
   "outputs": [],
   "source": []
  },
  {
   "cell_type": "code",
   "execution_count": null,
   "metadata": {},
   "outputs": [],
   "source": []
  },
  {
   "cell_type": "code",
   "execution_count": null,
   "metadata": {},
   "outputs": [],
   "source": []
  },
  {
   "cell_type": "markdown",
   "metadata": {},
   "source": [
    "ボクセル化することによって概形が得られ，それにあまり差分がない？（クラスごとに）\n",
    "Flagの調整"
   ]
  },
  {
   "cell_type": "code",
   "execution_count": null,
   "metadata": {},
   "outputs": [],
   "source": []
  },
  {
   "cell_type": "code",
   "execution_count": null,
   "metadata": {},
   "outputs": [],
   "source": []
  },
  {
   "cell_type": "code",
   "execution_count": null,
   "metadata": {},
   "outputs": [],
   "source": []
  },
  {
   "cell_type": "code",
   "execution_count": null,
   "metadata": {},
   "outputs": [],
   "source": []
  },
  {
   "cell_type": "code",
   "execution_count": null,
   "metadata": {},
   "outputs": [],
   "source": []
  },
  {
   "cell_type": "code",
   "execution_count": null,
   "metadata": {},
   "outputs": [],
   "source": []
  },
  {
   "cell_type": "code",
   "execution_count": null,
   "metadata": {},
   "outputs": [],
   "source": []
  },
  {
   "cell_type": "code",
   "execution_count": null,
   "metadata": {},
   "outputs": [],
   "source": []
  }
 ],
 "metadata": {
  "kernelspec": {
   "display_name": "Python 3",
   "language": "python",
   "name": "python3"
  },
  "language_info": {
   "codemirror_mode": {
    "name": "ipython",
    "version": 3
   },
   "file_extension": ".py",
   "mimetype": "text/x-python",
   "name": "python",
   "nbconvert_exporter": "python",
   "pygments_lexer": "ipython3",
   "version": "3.6.6"
  },
  "toc": {
   "base_numbering": 1,
   "nav_menu": {
    "height": "308px",
    "width": "186px"
   },
   "number_sections": true,
   "sideBar": true,
   "skip_h1_title": false,
   "title_cell": "Table of Contents",
   "title_sidebar": "Contents",
   "toc_cell": false,
   "toc_position": {
    "height": "calc(100% - 180px)",
    "left": "10px",
    "top": "150px",
    "width": "165px"
   },
   "toc_section_display": true,
   "toc_window_display": true
  }
 },
 "nbformat": 4,
 "nbformat_minor": 2
}
