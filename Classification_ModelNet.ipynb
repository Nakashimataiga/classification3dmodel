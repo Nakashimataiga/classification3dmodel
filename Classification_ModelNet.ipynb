{
 "cells": [
  {
   "cell_type": "code",
   "execution_count": 1,
   "metadata": {},
   "outputs": [
    {
     "name": "stderr",
     "output_type": "stream",
     "text": [
      "Using TensorFlow backend.\n"
     ]
    }
   ],
   "source": [
    "%matplotlib inline\n",
    "import logging\n",
    "import datetime\n",
    "import os\n",
    "import sys\n",
    "import numpy as np\n",
    "import matplotlib.pyplot as plt\n",
    "from sklearn.metrics import confusion_matrix\n",
    "import itertools\n",
    "from pylab import rcParams\n",
    "\n",
    "from __future__ import print_function\n",
    "import keras\n",
    "from keras.datasets import mnist\n",
    "from keras.models import Sequential\n",
    "from keras.layers import Dense, Dropout, Flatten\n",
    "from keras.layers import Conv3D, MaxPooling3D, BatchNormalization, GaussianNoise\n",
    "from keras import backend as K\n",
    "from keras.layers.core import Activation, Dense, Dropout, Flatten\n",
    "from keras.layers.advanced_activations import ReLU\n",
    "from keras.regularizers import l2\n",
    "from keras.callbacks import LearningRateScheduler, ModelCheckpoint\n",
    "from keras.optimizers import SGD\n",
    "from IPython.display import SVG\n",
    "from keras.utils.vis_utils import model_to_dot\n",
    "from keras.utils import plot_model\n"
   ]
  },
  {
   "cell_type": "code",
   "execution_count": 2,
   "metadata": {
    "collapsed": true
   },
   "outputs": [],
   "source": [
    "# memoryの制限\n",
    "import tensorflow as tf\n",
    "from keras.backend import tensorflow_backend\n",
    "\n",
    "config = tf.ConfigProto(gpu_options=tf.GPUOptions(allow_growth=True))\n",
    "session = tf.Session(config=config)\n",
    "tensorflow_backend.set_session(session)\n",
    "run_opts = tf.RunOptions(report_tensor_allocations_upon_oom = True)"
   ]
  },
  {
   "cell_type": "code",
   "execution_count": 3,
   "metadata": {
    "collapsed": true
   },
   "outputs": [],
   "source": [
    "#Tuning\n",
    "dataset = \"ModelNet10\"\n",
    "# dataset = \"ModelNet40\"\n",
    "cells = 48\n",
    "batch_size = 128\n",
    "epochs = 100\n",
    "learning_rate = 0.01"
   ]
  },
  {
   "cell_type": "code",
   "execution_count": 4,
   "metadata": {
    "collapsed": true
   },
   "outputs": [],
   "source": [
    "if dataset == \"ModelNet10\":\n",
    "    data_dir = \"data10/cell\" + str(cells) + \"/\"\n",
    "    fig_dir = \"fig10/cell\" + str(cells) + \"/\"\n",
    "    weights_dir = \"weights10/cell\" + str(cells) + \"/\"\n",
    "    num_classes = 10\n",
    "    class_name_modelnet = [\n",
    "    'bathtub',\n",
    "    'chair',\n",
    "    'dresser',\n",
    "    'night_stand',\n",
    "    'table',\n",
    "    'bed',\n",
    "    'desk',\n",
    "    'monitor',\n",
    "    'sofa',\n",
    "    'toilet',\n",
    "    ]"
   ]
  },
  {
   "cell_type": "code",
   "execution_count": 5,
   "metadata": {
    "collapsed": true
   },
   "outputs": [],
   "source": [
    "if dataset == \"ModelNet40\":\n",
    "    data_dir = \"data40/cell\" + str(cells) + \"/\"\n",
    "    fig_dir = \"fig40/cell\" + str(cells) + \"/\"\n",
    "    weights_dir = \"weights40/cell\" + str(cells) + \"/\"\n",
    "    num_classes = 40\n",
    "    class_name_modelnet = [\n",
    "    'airplane',\n",
    "    'bookshelf',\n",
    "    'chair',\n",
    "    'desk',\n",
    "    'glass_box',\n",
    "    'laptop',\n",
    "    'person',\n",
    "    'range_hood',\n",
    "    'stool',\n",
    "    'tv_stand',\n",
    "    'bathtub',\n",
    "    'bottle',\n",
    "    'cone',\n",
    "    'door',\n",
    "    'guitar',\n",
    "    'mantel',\n",
    "    'piano',\n",
    "    'sink',\n",
    "    'table',\n",
    "    'vase',\n",
    "    'bed',\n",
    "    'bowl',\n",
    "    'cup',\n",
    "    'dresser',\n",
    "    'keyboard',\n",
    "    'monitor',\n",
    "    'plant',\n",
    "    'sofa',\n",
    "    'tent',\n",
    "    'wardrobe',\n",
    "    'bench',\n",
    "    'car',\n",
    "    'curtain',\n",
    "    'flower_pot',\n",
    "    'lamp',\n",
    "    'night_stand',\n",
    "    'radio',\n",
    "    'stairs',\n",
    "    'toilet',\n",
    "    'xbox',\n",
    "    ]"
   ]
  },
  {
   "cell_type": "code",
   "execution_count": 6,
   "metadata": {
    "collapsed": true
   },
   "outputs": [],
   "source": [
    "train_or_test = [\"train\",\"test\"]"
   ]
  },
  {
   "cell_type": "code",
   "execution_count": 7,
   "metadata": {},
   "outputs": [],
   "source": [
    "if os.path.exists(weights_dir) == False:\n",
    "    os.makedirs(weights_dir)\n",
    "if os.path.exists(fig_dir) == False:\n",
    "    os.makedirs(fig_dir)"
   ]
  },
  {
   "cell_type": "code",
   "execution_count": null,
   "metadata": {
    "collapsed": true
   },
   "outputs": [],
   "source": []
  },
  {
   "cell_type": "code",
   "execution_count": 8,
   "metadata": {
    "collapsed": true
   },
   "outputs": [],
   "source": [
    "#set logging level DEBUG and output to stdout\n",
    "logging.basicConfig(stream=sys.stdout, level=logging.DEBUG)"
   ]
  },
  {
   "cell_type": "code",
   "execution_count": 9,
   "metadata": {},
   "outputs": [
    {
     "name": "stderr",
     "output_type": "stream",
     "text": [
      "/home/takitani/.pyenv/versions/anaconda3-5.0.1/lib/python3.6/site-packages/ipykernel_launcher.py:18: UserWarning: Update your `Conv3D` call to the Keras 2 API: `Conv3D(input_shape=(1, 48, 48..., kernel_size=(5, 5, 5), filters=32, strides=(2, 2, 2), padding=\"valid\", data_format=\"channels_first\", kernel_initializer=\"normal\", kernel_regularizer=<keras.reg..., bias_regularizer=<keras.reg...)`\n",
      "/home/takitani/.pyenv/versions/anaconda3-5.0.1/lib/python3.6/site-packages/keras/activations.py:186: UserWarning: Do not pass a layer instance (such as ReLU) as the activation argument of another layer. Instead, advanced activation layers should be used just like any other layer in a model.\n",
      "  identifier=identifier.__class__.__name__))\n",
      "/home/takitani/.pyenv/versions/anaconda3-5.0.1/lib/python3.6/site-packages/ipykernel_launcher.py:42: UserWarning: Update your `Dropout` call to the Keras 2 API: `Dropout(rate=0.4)`\n",
      "/home/takitani/.pyenv/versions/anaconda3-5.0.1/lib/python3.6/site-packages/ipykernel_launcher.py:54: UserWarning: Update your `Conv3D` call to the Keras 2 API: `Conv3D(kernel_size=(3, 3, 3), filters=32, strides=(1, 1, 1), padding=\"valid\", data_format=\"channels_first\", kernel_initializer=\"normal\", kernel_regularizer=<keras.reg..., bias_regularizer=<keras.reg...)`\n",
      "/home/takitani/.pyenv/versions/anaconda3-5.0.1/lib/python3.6/site-packages/ipykernel_launcher.py:79: UserWarning: Update your `MaxPooling3D` call to the Keras 2 API: `MaxPooling3D(pool_size=(2, 2, 2), strides=None, padding=\"valid\", data_format=\"channels_first\")`\n",
      "/home/takitani/.pyenv/versions/anaconda3-5.0.1/lib/python3.6/site-packages/ipykernel_launcher.py:82: UserWarning: Update your `Dropout` call to the Keras 2 API: `Dropout(rate=0.4)`\n",
      "/home/takitani/.pyenv/versions/anaconda3-5.0.1/lib/python3.6/site-packages/ipykernel_launcher.py:91: UserWarning: Update your `Dense` call to the Keras 2 API: `Dense(activation=\"linear\", units=528, kernel_initializer=\"normal\", kernel_regularizer=<keras.reg..., bias_regularizer=<keras.reg...)`\n",
      "/home/takitani/.pyenv/versions/anaconda3-5.0.1/lib/python3.6/site-packages/ipykernel_launcher.py:95: UserWarning: Update your `Dropout` call to the Keras 2 API: `Dropout(rate=0.5)`\n",
      "/home/takitani/.pyenv/versions/anaconda3-5.0.1/lib/python3.6/site-packages/ipykernel_launcher.py:102: UserWarning: Update your `Dense` call to the Keras 2 API: `Dense(activation=\"linear\", units=10, kernel_initializer=\"normal\", kernel_regularizer=<keras.reg..., bias_regularizer=<keras.reg...)`\n"
     ]
    }
   ],
   "source": [
    "# optimizer = SGD(lr=0.01, momentum=0.9, decay=0.00016667, nesterov=False)\n",
    "optimizer = SGD(lr=learning_rate, momentum=0.9, decay=0.00016667, nesterov=False)\n",
    "\n",
    "# init model\n",
    "model = Sequential()\n",
    "\n",
    "# convolution 1\n",
    "model.add(Conv3D(input_shape=(1, cells, cells, cells),\n",
    "                            nb_filter=32,\n",
    "                            kernel_dim1=5,\n",
    "                            kernel_dim2=5,\n",
    "                            kernel_dim3=5,\n",
    "                            init='normal',\n",
    "                            border_mode='valid',\n",
    "                            subsample=(2, 2, 2),\n",
    "                            dim_ordering='th',\n",
    "                            W_regularizer=l2(0.001),\n",
    "                            b_regularizer=l2(0.001),\n",
    "                            ))\n",
    "\n",
    "# # BatchNormalization 1\n",
    "# model.add(BatchNormalization(axis=-1, \n",
    "#                              momentum=0.99, \n",
    "#                              epsilon=0.001, \n",
    "#                              center=True, \n",
    "#                              scale=True, \n",
    "#                              beta_initializer='zeros', \n",
    "#                              gamma_initializer='ones', \n",
    "#                              moving_mean_initializer='zeros', \n",
    "#                              moving_variance_initializer='ones', \n",
    "#                              beta_regularizer=None, \n",
    "#                              gamma_regularizer=None, \n",
    "#                              beta_constraint=None, \n",
    "#                              gamma_constraint=None))\n",
    "\n",
    "\n",
    "\n",
    "#Activation ReLu\n",
    "model.add(Activation(ReLU()))\n",
    "\n",
    "# dropout 1\n",
    "model.add(Dropout(p=0.4))\n",
    "\n",
    "# convolution 2\n",
    "model.add(Conv3D(nb_filter=32,\n",
    "                            kernel_dim1=3,\n",
    "                            kernel_dim2=3,\n",
    "                            kernel_dim3=3,\n",
    "                            init='normal',\n",
    "                            border_mode='valid',\n",
    "                            subsample=(1, 1, 1),\n",
    "                            dim_ordering='th',\n",
    "                            W_regularizer=l2(0.001),\n",
    "                            b_regularizer=l2(0.001),\n",
    "                            ))\n",
    "\n",
    "# # BatchNormalization 2\n",
    "# model.add(BatchNormalization(axis=-1, \n",
    "#                              momentum=0.99, \n",
    "#                              epsilon=0.001, \n",
    "#                              center=True, \n",
    "#                              scale=True, \n",
    "#                              beta_initializer='zeros', \n",
    "#                              gamma_initializer='ones', \n",
    "#                              moving_mean_initializer='zeros', \n",
    "#                              moving_variance_initializer='ones', \n",
    "#                              beta_regularizer=None, \n",
    "#                              gamma_regularizer=None, \n",
    "#                              beta_constraint=None, \n",
    "#                              gamma_constraint=None))\n",
    "\n",
    "#Activation ReLu\n",
    "model.add(Activation(ReLU()))\n",
    "\n",
    "# max pool 1\n",
    "model.add(MaxPooling3D(pool_size=(2, 2, 2),\n",
    "                           strides=None,\n",
    "                           border_mode='valid',\n",
    "                           dim_ordering='th'))\n",
    "\n",
    "# dropout 2\n",
    "model.add(Dropout(p=0.4))\n",
    "\n",
    "# dense 1 (fully connected layer)\n",
    "model.add(Flatten())\n",
    "\n",
    "model.add(Dense(output_dim=528, #128\n",
    "                    init='normal',\n",
    "                    activation='linear',\n",
    "                    W_regularizer=l2(0.001),\n",
    "                    b_regularizer=l2(0.001),\n",
    "                    ))\n",
    "\n",
    "# dropout 3\n",
    "model.add(Dropout(p=0.5))\n",
    "\n",
    "# dense 2 (fully connected layer)\n",
    "model.add(Dense(output_dim=num_classes,\n",
    "                    init='normal',\n",
    "                    activation='linear',\n",
    "                    W_regularizer=l2(0.001),\n",
    "                    b_regularizer=l2(0.001),\n",
    "                    ))\n",
    "\n",
    "#Activation Softmax\n",
    "model.add(Activation(\"softmax\"))\n",
    "\n",
    "# compile model\n",
    "model.compile(loss='categorical_crossentropy', optimizer=optimizer, metrics=[\"accuracy\"])\n"
   ]
  },
  {
   "cell_type": "code",
   "execution_count": 10,
   "metadata": {},
   "outputs": [
    {
     "data": {
      "image/svg+xml": [
       "<svg height=\"1041pt\" viewBox=\"0.00 0.00 409.00 1041.00\" width=\"409pt\" xmlns=\"http://www.w3.org/2000/svg\" xmlns:xlink=\"http://www.w3.org/1999/xlink\">\n",
       "<g class=\"graph\" id=\"graph0\" transform=\"scale(1 1) rotate(0) translate(4 1037)\">\n",
       "<title>G</title>\n",
       "<polygon fill=\"white\" points=\"-4,4 -4,-1037 405,-1037 405,4 -4,4\" stroke=\"none\"/>\n",
       "<!-- 140368792755560 -->\n",
       "<g class=\"node\" id=\"node1\"><title>140368792755560</title>\n",
       "<polygon fill=\"none\" points=\"42,-913.5 42,-959.5 359,-959.5 359,-913.5 42,-913.5\" stroke=\"black\"/>\n",
       "<text font-family=\"Times,serif\" font-size=\"14.00\" text-anchor=\"middle\" x=\"103.5\" y=\"-932.8\">conv3d_1: Conv3D</text>\n",
       "<polyline fill=\"none\" points=\"165,-913.5 165,-959.5 \" stroke=\"black\"/>\n",
       "<text font-family=\"Times,serif\" font-size=\"14.00\" text-anchor=\"middle\" x=\"192.5\" y=\"-944.3\">input:</text>\n",
       "<polyline fill=\"none\" points=\"165,-936.5 220,-936.5 \" stroke=\"black\"/>\n",
       "<text font-family=\"Times,serif\" font-size=\"14.00\" text-anchor=\"middle\" x=\"192.5\" y=\"-921.3\">output:</text>\n",
       "<polyline fill=\"none\" points=\"220,-913.5 220,-959.5 \" stroke=\"black\"/>\n",
       "<text font-family=\"Times,serif\" font-size=\"14.00\" text-anchor=\"middle\" x=\"289.5\" y=\"-944.3\">(None, 1, 48, 48, 48)</text>\n",
       "<polyline fill=\"none\" points=\"220,-936.5 359,-936.5 \" stroke=\"black\"/>\n",
       "<text font-family=\"Times,serif\" font-size=\"14.00\" text-anchor=\"middle\" x=\"289.5\" y=\"-921.3\">(None, 32, 22, 22, 22)</text>\n",
       "</g>\n",
       "<!-- 140368792748160 -->\n",
       "<g class=\"node\" id=\"node2\"><title>140368792748160</title>\n",
       "<polygon fill=\"none\" points=\"29.5,-830.5 29.5,-876.5 371.5,-876.5 371.5,-830.5 29.5,-830.5\" stroke=\"black\"/>\n",
       "<text font-family=\"Times,serif\" font-size=\"14.00\" text-anchor=\"middle\" x=\"103.5\" y=\"-849.8\">activation_1: Activation</text>\n",
       "<polyline fill=\"none\" points=\"177.5,-830.5 177.5,-876.5 \" stroke=\"black\"/>\n",
       "<text font-family=\"Times,serif\" font-size=\"14.00\" text-anchor=\"middle\" x=\"205\" y=\"-861.3\">input:</text>\n",
       "<polyline fill=\"none\" points=\"177.5,-853.5 232.5,-853.5 \" stroke=\"black\"/>\n",
       "<text font-family=\"Times,serif\" font-size=\"14.00\" text-anchor=\"middle\" x=\"205\" y=\"-838.3\">output:</text>\n",
       "<polyline fill=\"none\" points=\"232.5,-830.5 232.5,-876.5 \" stroke=\"black\"/>\n",
       "<text font-family=\"Times,serif\" font-size=\"14.00\" text-anchor=\"middle\" x=\"302\" y=\"-861.3\">(None, 32, 22, 22, 22)</text>\n",
       "<polyline fill=\"none\" points=\"232.5,-853.5 371.5,-853.5 \" stroke=\"black\"/>\n",
       "<text font-family=\"Times,serif\" font-size=\"14.00\" text-anchor=\"middle\" x=\"302\" y=\"-838.3\">(None, 32, 22, 22, 22)</text>\n",
       "</g>\n",
       "<!-- 140368792755560&#45;&gt;140368792748160 -->\n",
       "<g class=\"edge\" id=\"edge2\"><title>140368792755560-&gt;140368792748160</title>\n",
       "<path d=\"M200.5,-913.366C200.5,-905.152 200.5,-895.658 200.5,-886.725\" fill=\"none\" stroke=\"black\"/>\n",
       "<polygon fill=\"black\" points=\"204,-886.607 200.5,-876.607 197,-886.607 204,-886.607\" stroke=\"black\"/>\n",
       "</g>\n",
       "<!-- 140368792748272 -->\n",
       "<g class=\"node\" id=\"node3\"><title>140368792748272</title>\n",
       "<polygon fill=\"none\" points=\"41,-747.5 41,-793.5 360,-793.5 360,-747.5 41,-747.5\" stroke=\"black\"/>\n",
       "<text font-family=\"Times,serif\" font-size=\"14.00\" text-anchor=\"middle\" x=\"103.5\" y=\"-766.8\">dropout_1: Dropout</text>\n",
       "<polyline fill=\"none\" points=\"166,-747.5 166,-793.5 \" stroke=\"black\"/>\n",
       "<text font-family=\"Times,serif\" font-size=\"14.00\" text-anchor=\"middle\" x=\"193.5\" y=\"-778.3\">input:</text>\n",
       "<polyline fill=\"none\" points=\"166,-770.5 221,-770.5 \" stroke=\"black\"/>\n",
       "<text font-family=\"Times,serif\" font-size=\"14.00\" text-anchor=\"middle\" x=\"193.5\" y=\"-755.3\">output:</text>\n",
       "<polyline fill=\"none\" points=\"221,-747.5 221,-793.5 \" stroke=\"black\"/>\n",
       "<text font-family=\"Times,serif\" font-size=\"14.00\" text-anchor=\"middle\" x=\"290.5\" y=\"-778.3\">(None, 32, 22, 22, 22)</text>\n",
       "<polyline fill=\"none\" points=\"221,-770.5 360,-770.5 \" stroke=\"black\"/>\n",
       "<text font-family=\"Times,serif\" font-size=\"14.00\" text-anchor=\"middle\" x=\"290.5\" y=\"-755.3\">(None, 32, 22, 22, 22)</text>\n",
       "</g>\n",
       "<!-- 140368792748160&#45;&gt;140368792748272 -->\n",
       "<g class=\"edge\" id=\"edge3\"><title>140368792748160-&gt;140368792748272</title>\n",
       "<path d=\"M200.5,-830.366C200.5,-822.152 200.5,-812.658 200.5,-803.725\" fill=\"none\" stroke=\"black\"/>\n",
       "<polygon fill=\"black\" points=\"204,-803.607 200.5,-793.607 197,-803.607 204,-803.607\" stroke=\"black\"/>\n",
       "</g>\n",
       "<!-- 140368660899152 -->\n",
       "<g class=\"node\" id=\"node4\"><title>140368660899152</title>\n",
       "<polygon fill=\"none\" points=\"42,-664.5 42,-710.5 359,-710.5 359,-664.5 42,-664.5\" stroke=\"black\"/>\n",
       "<text font-family=\"Times,serif\" font-size=\"14.00\" text-anchor=\"middle\" x=\"103.5\" y=\"-683.8\">conv3d_2: Conv3D</text>\n",
       "<polyline fill=\"none\" points=\"165,-664.5 165,-710.5 \" stroke=\"black\"/>\n",
       "<text font-family=\"Times,serif\" font-size=\"14.00\" text-anchor=\"middle\" x=\"192.5\" y=\"-695.3\">input:</text>\n",
       "<polyline fill=\"none\" points=\"165,-687.5 220,-687.5 \" stroke=\"black\"/>\n",
       "<text font-family=\"Times,serif\" font-size=\"14.00\" text-anchor=\"middle\" x=\"192.5\" y=\"-672.3\">output:</text>\n",
       "<polyline fill=\"none\" points=\"220,-664.5 220,-710.5 \" stroke=\"black\"/>\n",
       "<text font-family=\"Times,serif\" font-size=\"14.00\" text-anchor=\"middle\" x=\"289.5\" y=\"-695.3\">(None, 32, 22, 22, 22)</text>\n",
       "<polyline fill=\"none\" points=\"220,-687.5 359,-687.5 \" stroke=\"black\"/>\n",
       "<text font-family=\"Times,serif\" font-size=\"14.00\" text-anchor=\"middle\" x=\"289.5\" y=\"-672.3\">(None, 32, 20, 20, 20)</text>\n",
       "</g>\n",
       "<!-- 140368792748272&#45;&gt;140368660899152 -->\n",
       "<g class=\"edge\" id=\"edge4\"><title>140368792748272-&gt;140368660899152</title>\n",
       "<path d=\"M200.5,-747.366C200.5,-739.152 200.5,-729.658 200.5,-720.725\" fill=\"none\" stroke=\"black\"/>\n",
       "<polygon fill=\"black\" points=\"204,-720.607 200.5,-710.607 197,-720.607 204,-720.607\" stroke=\"black\"/>\n",
       "</g>\n",
       "<!-- 140368660900608 -->\n",
       "<g class=\"node\" id=\"node5\"><title>140368660900608</title>\n",
       "<polygon fill=\"none\" points=\"29.5,-581.5 29.5,-627.5 371.5,-627.5 371.5,-581.5 29.5,-581.5\" stroke=\"black\"/>\n",
       "<text font-family=\"Times,serif\" font-size=\"14.00\" text-anchor=\"middle\" x=\"103.5\" y=\"-600.8\">activation_2: Activation</text>\n",
       "<polyline fill=\"none\" points=\"177.5,-581.5 177.5,-627.5 \" stroke=\"black\"/>\n",
       "<text font-family=\"Times,serif\" font-size=\"14.00\" text-anchor=\"middle\" x=\"205\" y=\"-612.3\">input:</text>\n",
       "<polyline fill=\"none\" points=\"177.5,-604.5 232.5,-604.5 \" stroke=\"black\"/>\n",
       "<text font-family=\"Times,serif\" font-size=\"14.00\" text-anchor=\"middle\" x=\"205\" y=\"-589.3\">output:</text>\n",
       "<polyline fill=\"none\" points=\"232.5,-581.5 232.5,-627.5 \" stroke=\"black\"/>\n",
       "<text font-family=\"Times,serif\" font-size=\"14.00\" text-anchor=\"middle\" x=\"302\" y=\"-612.3\">(None, 32, 20, 20, 20)</text>\n",
       "<polyline fill=\"none\" points=\"232.5,-604.5 371.5,-604.5 \" stroke=\"black\"/>\n",
       "<text font-family=\"Times,serif\" font-size=\"14.00\" text-anchor=\"middle\" x=\"302\" y=\"-589.3\">(None, 32, 20, 20, 20)</text>\n",
       "</g>\n",
       "<!-- 140368660899152&#45;&gt;140368660900608 -->\n",
       "<g class=\"edge\" id=\"edge5\"><title>140368660899152-&gt;140368660900608</title>\n",
       "<path d=\"M200.5,-664.366C200.5,-656.152 200.5,-646.658 200.5,-637.725\" fill=\"none\" stroke=\"black\"/>\n",
       "<polygon fill=\"black\" points=\"204,-637.607 200.5,-627.607 197,-637.607 204,-637.607\" stroke=\"black\"/>\n",
       "</g>\n",
       "<!-- 140368660900720 -->\n",
       "<g class=\"node\" id=\"node6\"><title>140368660900720</title>\n",
       "<polygon fill=\"none\" points=\"-2.84217e-14,-498.5 -2.84217e-14,-544.5 401,-544.5 401,-498.5 -2.84217e-14,-498.5\" stroke=\"black\"/>\n",
       "<text font-family=\"Times,serif\" font-size=\"14.00\" text-anchor=\"middle\" x=\"103.5\" y=\"-517.8\">max_pooling3d_1: MaxPooling3D</text>\n",
       "<polyline fill=\"none\" points=\"207,-498.5 207,-544.5 \" stroke=\"black\"/>\n",
       "<text font-family=\"Times,serif\" font-size=\"14.00\" text-anchor=\"middle\" x=\"234.5\" y=\"-529.3\">input:</text>\n",
       "<polyline fill=\"none\" points=\"207,-521.5 262,-521.5 \" stroke=\"black\"/>\n",
       "<text font-family=\"Times,serif\" font-size=\"14.00\" text-anchor=\"middle\" x=\"234.5\" y=\"-506.3\">output:</text>\n",
       "<polyline fill=\"none\" points=\"262,-498.5 262,-544.5 \" stroke=\"black\"/>\n",
       "<text font-family=\"Times,serif\" font-size=\"14.00\" text-anchor=\"middle\" x=\"331.5\" y=\"-529.3\">(None, 32, 20, 20, 20)</text>\n",
       "<polyline fill=\"none\" points=\"262,-521.5 401,-521.5 \" stroke=\"black\"/>\n",
       "<text font-family=\"Times,serif\" font-size=\"14.00\" text-anchor=\"middle\" x=\"331.5\" y=\"-506.3\">(None, 32, 10, 10, 10)</text>\n",
       "</g>\n",
       "<!-- 140368660900608&#45;&gt;140368660900720 -->\n",
       "<g class=\"edge\" id=\"edge6\"><title>140368660900608-&gt;140368660900720</title>\n",
       "<path d=\"M200.5,-581.366C200.5,-573.152 200.5,-563.658 200.5,-554.725\" fill=\"none\" stroke=\"black\"/>\n",
       "<polygon fill=\"black\" points=\"204,-554.607 200.5,-544.607 197,-554.607 204,-554.607\" stroke=\"black\"/>\n",
       "</g>\n",
       "<!-- 140368660900384 -->\n",
       "<g class=\"node\" id=\"node7\"><title>140368660900384</title>\n",
       "<polygon fill=\"none\" points=\"41,-415.5 41,-461.5 360,-461.5 360,-415.5 41,-415.5\" stroke=\"black\"/>\n",
       "<text font-family=\"Times,serif\" font-size=\"14.00\" text-anchor=\"middle\" x=\"103.5\" y=\"-434.8\">dropout_2: Dropout</text>\n",
       "<polyline fill=\"none\" points=\"166,-415.5 166,-461.5 \" stroke=\"black\"/>\n",
       "<text font-family=\"Times,serif\" font-size=\"14.00\" text-anchor=\"middle\" x=\"193.5\" y=\"-446.3\">input:</text>\n",
       "<polyline fill=\"none\" points=\"166,-438.5 221,-438.5 \" stroke=\"black\"/>\n",
       "<text font-family=\"Times,serif\" font-size=\"14.00\" text-anchor=\"middle\" x=\"193.5\" y=\"-423.3\">output:</text>\n",
       "<polyline fill=\"none\" points=\"221,-415.5 221,-461.5 \" stroke=\"black\"/>\n",
       "<text font-family=\"Times,serif\" font-size=\"14.00\" text-anchor=\"middle\" x=\"290.5\" y=\"-446.3\">(None, 32, 10, 10, 10)</text>\n",
       "<polyline fill=\"none\" points=\"221,-438.5 360,-438.5 \" stroke=\"black\"/>\n",
       "<text font-family=\"Times,serif\" font-size=\"14.00\" text-anchor=\"middle\" x=\"290.5\" y=\"-423.3\">(None, 32, 10, 10, 10)</text>\n",
       "</g>\n",
       "<!-- 140368660900720&#45;&gt;140368660900384 -->\n",
       "<g class=\"edge\" id=\"edge7\"><title>140368660900720-&gt;140368660900384</title>\n",
       "<path d=\"M200.5,-498.366C200.5,-490.152 200.5,-480.658 200.5,-471.725\" fill=\"none\" stroke=\"black\"/>\n",
       "<polygon fill=\"black\" points=\"204,-471.607 200.5,-461.607 197,-471.607 204,-471.607\" stroke=\"black\"/>\n",
       "</g>\n",
       "<!-- 140368660901056 -->\n",
       "<g class=\"node\" id=\"node8\"><title>140368660901056</title>\n",
       "<polygon fill=\"none\" points=\"48.5,-332.5 48.5,-378.5 352.5,-378.5 352.5,-332.5 48.5,-332.5\" stroke=\"black\"/>\n",
       "<text font-family=\"Times,serif\" font-size=\"14.00\" text-anchor=\"middle\" x=\"103.5\" y=\"-351.8\">flatten_1: Flatten</text>\n",
       "<polyline fill=\"none\" points=\"158.5,-332.5 158.5,-378.5 \" stroke=\"black\"/>\n",
       "<text font-family=\"Times,serif\" font-size=\"14.00\" text-anchor=\"middle\" x=\"186\" y=\"-363.3\">input:</text>\n",
       "<polyline fill=\"none\" points=\"158.5,-355.5 213.5,-355.5 \" stroke=\"black\"/>\n",
       "<text font-family=\"Times,serif\" font-size=\"14.00\" text-anchor=\"middle\" x=\"186\" y=\"-340.3\">output:</text>\n",
       "<polyline fill=\"none\" points=\"213.5,-332.5 213.5,-378.5 \" stroke=\"black\"/>\n",
       "<text font-family=\"Times,serif\" font-size=\"14.00\" text-anchor=\"middle\" x=\"283\" y=\"-363.3\">(None, 32, 10, 10, 10)</text>\n",
       "<polyline fill=\"none\" points=\"213.5,-355.5 352.5,-355.5 \" stroke=\"black\"/>\n",
       "<text font-family=\"Times,serif\" font-size=\"14.00\" text-anchor=\"middle\" x=\"283\" y=\"-340.3\">(None, 32000)</text>\n",
       "</g>\n",
       "<!-- 140368660900384&#45;&gt;140368660901056 -->\n",
       "<g class=\"edge\" id=\"edge8\"><title>140368660900384-&gt;140368660901056</title>\n",
       "<path d=\"M200.5,-415.366C200.5,-407.152 200.5,-397.658 200.5,-388.725\" fill=\"none\" stroke=\"black\"/>\n",
       "<polygon fill=\"black\" points=\"204,-388.607 200.5,-378.607 197,-388.607 204,-388.607\" stroke=\"black\"/>\n",
       "</g>\n",
       "<!-- 140368660672184 -->\n",
       "<g class=\"node\" id=\"node9\"><title>140368660672184</title>\n",
       "<polygon fill=\"none\" points=\"74,-249.5 74,-295.5 327,-295.5 327,-249.5 74,-249.5\" stroke=\"black\"/>\n",
       "<text font-family=\"Times,serif\" font-size=\"14.00\" text-anchor=\"middle\" x=\"125\" y=\"-268.8\">dense_1: Dense</text>\n",
       "<polyline fill=\"none\" points=\"176,-249.5 176,-295.5 \" stroke=\"black\"/>\n",
       "<text font-family=\"Times,serif\" font-size=\"14.00\" text-anchor=\"middle\" x=\"203.5\" y=\"-280.3\">input:</text>\n",
       "<polyline fill=\"none\" points=\"176,-272.5 231,-272.5 \" stroke=\"black\"/>\n",
       "<text font-family=\"Times,serif\" font-size=\"14.00\" text-anchor=\"middle\" x=\"203.5\" y=\"-257.3\">output:</text>\n",
       "<polyline fill=\"none\" points=\"231,-249.5 231,-295.5 \" stroke=\"black\"/>\n",
       "<text font-family=\"Times,serif\" font-size=\"14.00\" text-anchor=\"middle\" x=\"279\" y=\"-280.3\">(None, 32000)</text>\n",
       "<polyline fill=\"none\" points=\"231,-272.5 327,-272.5 \" stroke=\"black\"/>\n",
       "<text font-family=\"Times,serif\" font-size=\"14.00\" text-anchor=\"middle\" x=\"279\" y=\"-257.3\">(None, 528)</text>\n",
       "</g>\n",
       "<!-- 140368660901056&#45;&gt;140368660672184 -->\n",
       "<g class=\"edge\" id=\"edge9\"><title>140368660901056-&gt;140368660672184</title>\n",
       "<path d=\"M200.5,-332.366C200.5,-324.152 200.5,-314.658 200.5,-305.725\" fill=\"none\" stroke=\"black\"/>\n",
       "<polygon fill=\"black\" points=\"204,-305.607 200.5,-295.607 197,-305.607 204,-305.607\" stroke=\"black\"/>\n",
       "</g>\n",
       "<!-- 140368660671008 -->\n",
       "<g class=\"node\" id=\"node10\"><title>140368660671008</title>\n",
       "<polygon fill=\"none\" points=\"69,-166.5 69,-212.5 332,-212.5 332,-166.5 69,-166.5\" stroke=\"black\"/>\n",
       "<text font-family=\"Times,serif\" font-size=\"14.00\" text-anchor=\"middle\" x=\"131.5\" y=\"-185.8\">dropout_3: Dropout</text>\n",
       "<polyline fill=\"none\" points=\"194,-166.5 194,-212.5 \" stroke=\"black\"/>\n",
       "<text font-family=\"Times,serif\" font-size=\"14.00\" text-anchor=\"middle\" x=\"221.5\" y=\"-197.3\">input:</text>\n",
       "<polyline fill=\"none\" points=\"194,-189.5 249,-189.5 \" stroke=\"black\"/>\n",
       "<text font-family=\"Times,serif\" font-size=\"14.00\" text-anchor=\"middle\" x=\"221.5\" y=\"-174.3\">output:</text>\n",
       "<polyline fill=\"none\" points=\"249,-166.5 249,-212.5 \" stroke=\"black\"/>\n",
       "<text font-family=\"Times,serif\" font-size=\"14.00\" text-anchor=\"middle\" x=\"290.5\" y=\"-197.3\">(None, 528)</text>\n",
       "<polyline fill=\"none\" points=\"249,-189.5 332,-189.5 \" stroke=\"black\"/>\n",
       "<text font-family=\"Times,serif\" font-size=\"14.00\" text-anchor=\"middle\" x=\"290.5\" y=\"-174.3\">(None, 528)</text>\n",
       "</g>\n",
       "<!-- 140368660672184&#45;&gt;140368660671008 -->\n",
       "<g class=\"edge\" id=\"edge10\"><title>140368660672184-&gt;140368660671008</title>\n",
       "<path d=\"M200.5,-249.366C200.5,-241.152 200.5,-231.658 200.5,-222.725\" fill=\"none\" stroke=\"black\"/>\n",
       "<polygon fill=\"black\" points=\"204,-222.607 200.5,-212.607 197,-222.607 204,-222.607\" stroke=\"black\"/>\n",
       "</g>\n",
       "<!-- 140368660360608 -->\n",
       "<g class=\"node\" id=\"node11\"><title>140368660360608</title>\n",
       "<polygon fill=\"none\" points=\"80.5,-83.5 80.5,-129.5 320.5,-129.5 320.5,-83.5 80.5,-83.5\" stroke=\"black\"/>\n",
       "<text font-family=\"Times,serif\" font-size=\"14.00\" text-anchor=\"middle\" x=\"131.5\" y=\"-102.8\">dense_2: Dense</text>\n",
       "<polyline fill=\"none\" points=\"182.5,-83.5 182.5,-129.5 \" stroke=\"black\"/>\n",
       "<text font-family=\"Times,serif\" font-size=\"14.00\" text-anchor=\"middle\" x=\"210\" y=\"-114.3\">input:</text>\n",
       "<polyline fill=\"none\" points=\"182.5,-106.5 237.5,-106.5 \" stroke=\"black\"/>\n",
       "<text font-family=\"Times,serif\" font-size=\"14.00\" text-anchor=\"middle\" x=\"210\" y=\"-91.3\">output:</text>\n",
       "<polyline fill=\"none\" points=\"237.5,-83.5 237.5,-129.5 \" stroke=\"black\"/>\n",
       "<text font-family=\"Times,serif\" font-size=\"14.00\" text-anchor=\"middle\" x=\"279\" y=\"-114.3\">(None, 528)</text>\n",
       "<polyline fill=\"none\" points=\"237.5,-106.5 320.5,-106.5 \" stroke=\"black\"/>\n",
       "<text font-family=\"Times,serif\" font-size=\"14.00\" text-anchor=\"middle\" x=\"279\" y=\"-91.3\">(None, 10)</text>\n",
       "</g>\n",
       "<!-- 140368660671008&#45;&gt;140368660360608 -->\n",
       "<g class=\"edge\" id=\"edge11\"><title>140368660671008-&gt;140368660360608</title>\n",
       "<path d=\"M200.5,-166.366C200.5,-158.152 200.5,-148.658 200.5,-139.725\" fill=\"none\" stroke=\"black\"/>\n",
       "<polygon fill=\"black\" points=\"204,-139.607 200.5,-129.607 197,-139.607 204,-139.607\" stroke=\"black\"/>\n",
       "</g>\n",
       "<!-- 140368660361112 -->\n",
       "<g class=\"node\" id=\"node12\"><title>140368660361112</title>\n",
       "<polygon fill=\"none\" points=\"61,-0.5 61,-46.5 340,-46.5 340,-0.5 61,-0.5\" stroke=\"black\"/>\n",
       "<text font-family=\"Times,serif\" font-size=\"14.00\" text-anchor=\"middle\" x=\"135\" y=\"-19.8\">activation_3: Activation</text>\n",
       "<polyline fill=\"none\" points=\"209,-0.5 209,-46.5 \" stroke=\"black\"/>\n",
       "<text font-family=\"Times,serif\" font-size=\"14.00\" text-anchor=\"middle\" x=\"236.5\" y=\"-31.3\">input:</text>\n",
       "<polyline fill=\"none\" points=\"209,-23.5 264,-23.5 \" stroke=\"black\"/>\n",
       "<text font-family=\"Times,serif\" font-size=\"14.00\" text-anchor=\"middle\" x=\"236.5\" y=\"-8.3\">output:</text>\n",
       "<polyline fill=\"none\" points=\"264,-0.5 264,-46.5 \" stroke=\"black\"/>\n",
       "<text font-family=\"Times,serif\" font-size=\"14.00\" text-anchor=\"middle\" x=\"302\" y=\"-31.3\">(None, 10)</text>\n",
       "<polyline fill=\"none\" points=\"264,-23.5 340,-23.5 \" stroke=\"black\"/>\n",
       "<text font-family=\"Times,serif\" font-size=\"14.00\" text-anchor=\"middle\" x=\"302\" y=\"-8.3\">(None, 10)</text>\n",
       "</g>\n",
       "<!-- 140368660360608&#45;&gt;140368660361112 -->\n",
       "<g class=\"edge\" id=\"edge12\"><title>140368660360608-&gt;140368660361112</title>\n",
       "<path d=\"M200.5,-83.3664C200.5,-75.1516 200.5,-65.6579 200.5,-56.7252\" fill=\"none\" stroke=\"black\"/>\n",
       "<polygon fill=\"black\" points=\"204,-56.6068 200.5,-46.6068 197,-56.6069 204,-56.6068\" stroke=\"black\"/>\n",
       "</g>\n",
       "<!-- 140370402545792 -->\n",
       "<g class=\"node\" id=\"node13\"><title>140370402545792</title>\n",
       "<polygon fill=\"none\" points=\"141.5,-996.5 141.5,-1032.5 259.5,-1032.5 259.5,-996.5 141.5,-996.5\" stroke=\"black\"/>\n",
       "<text font-family=\"Times,serif\" font-size=\"14.00\" text-anchor=\"middle\" x=\"200.5\" y=\"-1010.8\">140370402545792</text>\n",
       "</g>\n",
       "<!-- 140370402545792&#45;&gt;140368792755560 -->\n",
       "<g class=\"edge\" id=\"edge1\"><title>140370402545792-&gt;140368792755560</title>\n",
       "<path d=\"M200.5,-996.254C200.5,-988.363 200.5,-978.749 200.5,-969.602\" fill=\"none\" stroke=\"black\"/>\n",
       "<polygon fill=\"black\" points=\"204,-969.591 200.5,-959.591 197,-969.591 204,-969.591\" stroke=\"black\"/>\n",
       "</g>\n",
       "</g>\n",
       "</svg>"
      ],
      "text/plain": [
       "<IPython.core.display.SVG object>"
      ]
     },
     "execution_count": 10,
     "metadata": {},
     "output_type": "execute_result"
    }
   ],
   "source": [
    "#可視化\n",
    "SVG(model_to_dot(model,show_shapes=True).create(prog='dot', format='svg'))"
   ]
  },
  {
   "cell_type": "code",
   "execution_count": 11,
   "metadata": {},
   "outputs": [
    {
     "name": "stdout",
     "output_type": "stream",
     "text": [
      "_________________________________________________________________\n",
      "Layer (type)                 Output Shape              Param #   \n",
      "=================================================================\n",
      "conv3d_1 (Conv3D)            (None, 32, 22, 22, 22)    4032      \n",
      "_________________________________________________________________\n",
      "activation_1 (Activation)    (None, 32, 22, 22, 22)    0         \n",
      "_________________________________________________________________\n",
      "dropout_1 (Dropout)          (None, 32, 22, 22, 22)    0         \n",
      "_________________________________________________________________\n",
      "conv3d_2 (Conv3D)            (None, 32, 20, 20, 20)    27680     \n",
      "_________________________________________________________________\n",
      "activation_2 (Activation)    (None, 32, 20, 20, 20)    0         \n",
      "_________________________________________________________________\n",
      "max_pooling3d_1 (MaxPooling3 (None, 32, 10, 10, 10)    0         \n",
      "_________________________________________________________________\n",
      "dropout_2 (Dropout)          (None, 32, 10, 10, 10)    0         \n",
      "_________________________________________________________________\n",
      "flatten_1 (Flatten)          (None, 32000)             0         \n",
      "_________________________________________________________________\n",
      "dense_1 (Dense)              (None, 528)               16896528  \n",
      "_________________________________________________________________\n",
      "dropout_3 (Dropout)          (None, 528)               0         \n",
      "_________________________________________________________________\n",
      "dense_2 (Dense)              (None, 10)                5290      \n",
      "_________________________________________________________________\n",
      "activation_3 (Activation)    (None, 10)                0         \n",
      "=================================================================\n",
      "Total params: 16,933,530\n",
      "Trainable params: 16,933,530\n",
      "Non-trainable params: 0\n",
      "_________________________________________________________________\n"
     ]
    }
   ],
   "source": [
    "#サマリーの表示\n",
    "model.summary()"
   ]
  },
  {
   "cell_type": "code",
   "execution_count": 12,
   "metadata": {
    "collapsed": true
   },
   "outputs": [],
   "source": [
    "#モデルの図を保存\n",
    "plot_model(model, to_file=fig_dir + 'model.png',show_shapes='True')"
   ]
  },
  {
   "cell_type": "code",
   "execution_count": null,
   "metadata": {
    "collapsed": true
   },
   "outputs": [],
   "source": []
  },
  {
   "cell_type": "code",
   "execution_count": null,
   "metadata": {
    "collapsed": true
   },
   "outputs": [],
   "source": []
  },
  {
   "cell_type": "code",
   "execution_count": 13,
   "metadata": {
    "collapsed": true
   },
   "outputs": [],
   "source": [
    "x_train = np.load( data_dir  + \"x_train.npy\")\n",
    "x_test = np.load( data_dir  + \"x_test.npy\")\n",
    "y_train = np.load( data_dir + \"y_train.npy\")\n",
    "y_test = np.load( data_dir + \"y_test.npy\")"
   ]
  },
  {
   "cell_type": "code",
   "execution_count": 14,
   "metadata": {},
   "outputs": [
    {
     "data": {
      "text/plain": [
       "(3991, 1, 48, 48, 48)"
      ]
     },
     "execution_count": 14,
     "metadata": {},
     "output_type": "execute_result"
    }
   ],
   "source": [
    "x_train.shape"
   ]
  },
  {
   "cell_type": "code",
   "execution_count": 15,
   "metadata": {},
   "outputs": [
    {
     "data": {
      "text/plain": [
       "(3991, 10)"
      ]
     },
     "execution_count": 15,
     "metadata": {},
     "output_type": "execute_result"
    }
   ],
   "source": [
    "y_train.shape"
   ]
  },
  {
   "cell_type": "code",
   "execution_count": 16,
   "metadata": {},
   "outputs": [
    {
     "data": {
      "text/plain": [
       "(908, 1, 48, 48, 48)"
      ]
     },
     "execution_count": 16,
     "metadata": {},
     "output_type": "execute_result"
    }
   ],
   "source": [
    "x_test.shape"
   ]
  },
  {
   "cell_type": "code",
   "execution_count": 17,
   "metadata": {},
   "outputs": [
    {
     "data": {
      "text/plain": [
       "(908, 10)"
      ]
     },
     "execution_count": 17,
     "metadata": {},
     "output_type": "execute_result"
    }
   ],
   "source": [
    "y_test.shape"
   ]
  },
  {
   "cell_type": "code",
   "execution_count": null,
   "metadata": {
    "collapsed": true
   },
   "outputs": [],
   "source": []
  },
  {
   "cell_type": "code",
   "execution_count": null,
   "metadata": {
    "collapsed": true
   },
   "outputs": [],
   "source": []
  },
  {
   "cell_type": "code",
   "execution_count": null,
   "metadata": {
    "collapsed": true
   },
   "outputs": [],
   "source": [
    "# es_cb = keras.callbacks.EarlyStopping(monitor='val_loss', patience=0, verbose=0, mode='auto')"
   ]
  },
  {
   "cell_type": "code",
   "execution_count": null,
   "metadata": {
    "scrolled": false
   },
   "outputs": [
    {
     "name": "stdout",
     "output_type": "stream",
     "text": [
      "Train on 3991 samples, validate on 908 samples\n",
      "Epoch 1/100\n",
      "3991/3991 [==============================] - 18s 4ms/step - loss: 43.8120 - acc: 0.6034 - val_loss: 42.7050 - val_acc: 0.7599\n",
      "Epoch 2/100\n",
      "3991/3991 [==============================] - 15s 4ms/step - loss: 42.3338 - acc: 0.8043 - val_loss: 42.0804 - val_acc: 0.8040\n",
      "Epoch 3/100\n",
      "3991/3991 [==============================] - 15s 4ms/step - loss: 41.6753 - acc: 0.8512 - val_loss: 41.4922 - val_acc: 0.8161\n",
      "Epoch 4/100\n",
      "3991/3991 [==============================] - 15s 4ms/step - loss: 41.0923 - acc: 0.8710 - val_loss: 40.9175 - val_acc: 0.8315\n",
      "Epoch 5/100\n",
      "3991/3991 [==============================] - 15s 4ms/step - loss: 40.5279 - acc: 0.8860 - val_loss: 40.3971 - val_acc: 0.8370\n",
      "Epoch 6/100\n",
      "3991/3991 [==============================] - 15s 4ms/step - loss: 40.0047 - acc: 0.8988 - val_loss: 39.9057 - val_acc: 0.8491\n",
      "Epoch 7/100\n",
      "3991/3991 [==============================] - 15s 4ms/step - loss: 39.4780 - acc: 0.9045 - val_loss: 39.3390 - val_acc: 0.8623\n",
      "Epoch 8/100\n",
      "3991/3991 [==============================] - 15s 4ms/step - loss: 38.9715 - acc: 0.9143 - val_loss: 38.8763 - val_acc: 0.8634\n",
      "Epoch 9/100\n",
      "1792/3991 [============>.................] - ETA: 7s - loss: 38.5885 - acc: 0.9202"
     ]
    }
   ],
   "source": [
    "result = model.fit(x_train, y_train,\n",
    "                   batch_size=batch_size,\n",
    "                   epochs=epochs,\n",
    "                   verbose=1,\n",
    "                   validation_data=(x_test, y_test))\n",
    "#                    callbacks=[es_cb])\n",
    "\n",
    "time_now = datetime.datetime.now()\n",
    "time_now = \"_{0}_{1}_{2}_{3}_{4}_{5}\".format(time_now.year, time_now.month, time_now.day,\n",
    "                                             time_now.hour, time_now.minute, time_now.second)\n",
    "logging.info(\"save model weights as [weights_{0}.h5]\".format(time_now))\n",
    "model.save_weights(weights_dir+\"weights_{0}.h5\".format(time_now), False)"
   ]
  },
  {
   "cell_type": "code",
   "execution_count": null,
   "metadata": {},
   "outputs": [],
   "source": [
    "loss,acc = model.evaluate(x_test, y_test, verbose=0)\n",
    "print('Test loss:', loss)\n",
    "print('Test accuracy:', acc)"
   ]
  },
  {
   "cell_type": "code",
   "execution_count": null,
   "metadata": {
    "collapsed": true
   },
   "outputs": [],
   "source": [
    "rcParams[\"figure.figsize\"] = [6.4, 4.8]"
   ]
  },
  {
   "cell_type": "code",
   "execution_count": null,
   "metadata": {},
   "outputs": [],
   "source": [
    "plt.plot(range(1, len(result.history['acc'])+1), result.history['acc'], label=\"training\")\n",
    "plt.plot(range(1, len(result.history['val_acc'])+1), result.history['val_acc'], label=\"validation\")\n",
    "plt.xlabel('Epochs')\n",
    "plt.ylabel('Accuracy')\n",
    "plt.ylim([0.5,1])\n",
    "plt.legend()\n",
    "plt.title(\" {} / cell {}\".format(dataset,cells))\n",
    "plt.savefig(fig_dir + 'acc.svg')\n",
    "plt.show()"
   ]
  },
  {
   "cell_type": "code",
   "execution_count": null,
   "metadata": {},
   "outputs": [],
   "source": [
    "plt.plot(range(1, len(result.history['loss'])+1), result.history['loss'], label=\"loss\")\n",
    "plt.plot(range(1, len(result.history['val_loss'])+1), result.history['val_loss'], label=\"validation_loss\")\n",
    "plt.xlabel('Epochs')\n",
    "plt.ylabel('Accuracy')\n",
    "plt.legend()\n",
    "plt.title(\" {} / cell {}\".format(dataset,cells))\n",
    "plt.savefig(fig_dir  + 'loss.svg')\n",
    "plt.show()"
   ]
  },
  {
   "cell_type": "code",
   "execution_count": null,
   "metadata": {},
   "outputs": [],
   "source": [
    "labels_pred = model.predict_classes(x_test,verbose=0)\n",
    "confusion_matrix(np.argmax(y_test, axis=1), labels_pred)"
   ]
  },
  {
   "cell_type": "code",
   "execution_count": null,
   "metadata": {},
   "outputs": [],
   "source": [
    "# グラフのサイズ\n",
    "rcParams['figure.figsize'] = 10,8\n",
    "\n",
    "def plot_confusion_matrix(cm, classes,\n",
    "                          title='Confusion matrix',\n",
    "                          cmap=plt.cm.Blues):\n",
    "    \"\"\"\n",
    "    This function prints and plots the confusion matrix.\n",
    "    Normalization can be applied by setting `normalize=True`.\n",
    "    \"\"\"\n",
    "    cm_normalize = cm.astype('float') / cm.sum(axis=1)[:, np.newaxis]\n",
    "    plt.imshow(cm_normalize, interpolation='nearest', cmap=cmap)\n",
    "    plt.title(title)\n",
    "    plt.colorbar()\n",
    "    tick_marks = np.arange(len(classes))\n",
    "    plt.xticks(tick_marks, classes, rotation=90)\n",
    "    plt.yticks(tick_marks, classes)\n",
    "    thresh = cm.max() / 2\n",
    "    \n",
    "    for i, j in itertools.product(range(cm.shape[0]), range(cm.shape[1])):\n",
    "        plt.text(j, i, format(cm[i, j], \"d\"),\n",
    "                 horizontalalignment=\"center\",\n",
    "                 color=\"white\" if cm[i, j] > thresh else \"black\")\n",
    "\n",
    "    plt.ylabel('True label')\n",
    "    plt.xlabel('Predicted label')\n",
    "    plt.tight_layout()\n",
    "\n",
    "\n",
    "# Compute confusion matrix\n",
    "cnf_matrix = confusion_matrix(np.argmax(y_test, axis=1), labels_pred)\n",
    "np.set_printoptions(precision=2)\n",
    "\n",
    "# Plot non-normalized confusion matrix\n",
    "plt.figure()\n",
    "plot_confusion_matrix(cnf_matrix, classes=class_name_modelnet,\n",
    "                      title='Normalized_confusion_matrix')\n",
    "plt.savefig(fig_dir + 'Normalized_confusion_matrix.svg')\n",
    "plt.show()"
   ]
  },
  {
   "cell_type": "code",
   "execution_count": null,
   "metadata": {
    "collapsed": true
   },
   "outputs": [],
   "source": []
  },
  {
   "cell_type": "code",
   "execution_count": null,
   "metadata": {
    "collapsed": true
   },
   "outputs": [],
   "source": []
  },
  {
   "cell_type": "code",
   "execution_count": null,
   "metadata": {
    "collapsed": true
   },
   "outputs": [],
   "source": []
  },
  {
   "cell_type": "markdown",
   "metadata": {},
   "source": [
    "# dataseto MIRO \n",
    "# CONV2DLSTM\n",
    "# lamda"
   ]
  },
  {
   "cell_type": "code",
   "execution_count": null,
   "metadata": {
    "collapsed": true
   },
   "outputs": [],
   "source": []
  },
  {
   "cell_type": "code",
   "execution_count": null,
   "metadata": {
    "collapsed": true
   },
   "outputs": [],
   "source": []
  }
 ],
 "metadata": {
  "kernelspec": {
   "display_name": "Python 3",
   "language": "python",
   "name": "python3"
  },
  "language_info": {
   "codemirror_mode": {
    "name": "ipython",
    "version": 3
   },
   "file_extension": ".py",
   "mimetype": "text/x-python",
   "name": "python",
   "nbconvert_exporter": "python",
   "pygments_lexer": "ipython3",
   "version": "3.6.3"
  }
 },
 "nbformat": 4,
 "nbformat_minor": 2
}
