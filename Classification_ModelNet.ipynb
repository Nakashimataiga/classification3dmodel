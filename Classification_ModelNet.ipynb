{
 "cells": [
  {
   "cell_type": "code",
   "execution_count": 1,
   "metadata": {},
   "outputs": [
    {
     "name": "stderr",
     "output_type": "stream",
     "text": [
      "Using TensorFlow backend.\n"
     ]
    }
   ],
   "source": [
    "%matplotlib inline\n",
    "import logging\n",
    "import datetime\n",
    "import os\n",
    "import sys\n",
    "import numpy as np\n",
    "import matplotlib.pyplot as plt\n",
    " \n",
    "\n",
    "from __future__ import print_function\n",
    "import keras\n",
    "from keras.datasets import mnist\n",
    "from keras.models import Sequential\n",
    "from keras.layers import Dense, Dropout, Flatten\n",
    "from keras.layers import Conv3D, MaxPooling3D, BatchNormalization, GaussianNoise\n",
    "from keras import backend as K\n",
    "from keras.layers.core import Activation, Dense, Dropout, Flatten\n",
    "from keras.layers.advanced_activations import ReLU\n",
    "from keras.regularizers import l2\n",
    "from keras.callbacks import LearningRateScheduler, ModelCheckpoint\n",
    "from keras.optimizers import SGD\n",
    "from IPython.display import SVG\n",
    "from keras.utils.vis_utils import model_to_dot\n",
    "from keras.utils import plot_model\n"
   ]
  },
  {
   "cell_type": "code",
   "execution_count": 2,
   "metadata": {
    "collapsed": true
   },
   "outputs": [],
   "source": [
    "# # memoryの制限\n",
    "# import tensorflow as tf\n",
    "# from keras.backend import tensorflow_backend\n",
    "\n",
    "# config = tf.ConfigProto(gpu_options=tf.GPUOptions(allow_growth=True))\n",
    "# session = tf.Session(config=config)\n",
    "# tensorflow_backend.set_session(session)\n",
    "# run_opts = tf.RunOptions(report_tensor_allocations_upon_oom = True)"
   ]
  },
  {
   "cell_type": "code",
   "execution_count": 3,
   "metadata": {
    "collapsed": true
   },
   "outputs": [],
   "source": [
    "#Tuning\n",
    "dataset = \"ModelNet10\"  #or \"ModelNet40\"\n",
    "cells = 32\n",
    "batch_size = 128\n",
    "epochs = 200\n",
    "learning_rate = 0.01"
   ]
  },
  {
   "cell_type": "code",
   "execution_count": null,
   "metadata": {
    "collapsed": true
   },
   "outputs": [],
   "source": []
  },
  {
   "cell_type": "code",
   "execution_count": 4,
   "metadata": {
    "collapsed": true
   },
   "outputs": [],
   "source": [
    "if dataset == \"ModelNet10\":\n",
    "    data_dir = \"data10/cell\" + str(cells) + \"/\"\n",
    "    weights_dir = \"weights10/cell\" + str(cells) + \"/\"\n",
    "    num_classes = 10\n",
    "    class_name_modelnet = [\n",
    "    'bathtub',\n",
    "    'chair',\n",
    "    'dresser',\n",
    "    'night_stand',\n",
    "    'table',\n",
    "    'bed',\n",
    "    'desk',\n",
    "    'monitor',\n",
    "    'sofa',\n",
    "    'toilet',\n",
    "    ]"
   ]
  },
  {
   "cell_type": "code",
   "execution_count": 5,
   "metadata": {
    "collapsed": true
   },
   "outputs": [],
   "source": [
    "if dataset == \"ModelNet40\":\n",
    "    data_dir = \"data40/cell\" + str(cells) + \"/\"\n",
    "    weights_dir = \"weights40/cell\" + str(cells) + \"/\"\n",
    "    num_classes = 40\n",
    "    class_name_modelnet = [\n",
    "    'airplane',\n",
    "    'bookshelf',\n",
    "    'chair',\n",
    "    'desk',\n",
    "    'glass_box',\n",
    "    'laptop',\n",
    "    'person',\n",
    "    'range_hood',\n",
    "    'stool',\n",
    "    'tv_stand',\n",
    "    'bathtub',\n",
    "    'bottle',\n",
    "    'cone',\n",
    "    'door',\n",
    "    'guitar',\n",
    "    'mantel',\n",
    "    'piano',\n",
    "    'sink',\n",
    "    'table',\n",
    "    'vase',\n",
    "    'bed',\n",
    "    'bowl',\n",
    "    'cup',\n",
    "    'dresser',\n",
    "    'keyboard',\n",
    "    'monitor',\n",
    "    'plant',\n",
    "    'sofa',\n",
    "    'tent',\n",
    "    'wardrobe',\n",
    "    'bench',\n",
    "    'car',\n",
    "    'curtain',\n",
    "    'flower_pot',\n",
    "    'lamp',\n",
    "    'night_stand',\n",
    "    'radio',\n",
    "    'stairs',\n",
    "    'toilet',\n",
    "    'xbox',\n",
    "    ]"
   ]
  },
  {
   "cell_type": "code",
   "execution_count": 6,
   "metadata": {
    "collapsed": true
   },
   "outputs": [],
   "source": [
    "train_or_test = [\"train\",\"test\"]"
   ]
  },
  {
   "cell_type": "code",
   "execution_count": 7,
   "metadata": {
    "collapsed": true
   },
   "outputs": [],
   "source": [
    "if os.path.exists(weights_dir) == False:\n",
    "    os.mkdir(weights_dir)"
   ]
  },
  {
   "cell_type": "code",
   "execution_count": 8,
   "metadata": {
    "collapsed": true
   },
   "outputs": [],
   "source": [
    "#set logging level DEBUG and output to stdout\n",
    "logging.basicConfig(stream=sys.stdout, level=logging.DEBUG)"
   ]
  },
  {
   "cell_type": "code",
   "execution_count": 9,
   "metadata": {},
   "outputs": [
    {
     "name": "stderr",
     "output_type": "stream",
     "text": [
      "/home/takitani/.pyenv/versions/anaconda3-5.0.1/lib/python3.6/site-packages/ipykernel_launcher.py:18: UserWarning: Update your `Conv3D` call to the Keras 2 API: `Conv3D(input_shape=(1, 32, 32..., kernel_size=(5, 5, 5), filters=32, strides=(2, 2, 2), padding=\"valid\", data_format=\"channels_first\", kernel_initializer=\"normal\", kernel_regularizer=<keras.reg..., bias_regularizer=<keras.reg...)`\n",
      "/home/takitani/.pyenv/versions/anaconda3-5.0.1/lib/python3.6/site-packages/keras/activations.py:186: UserWarning: Do not pass a layer instance (such as ReLU) as the activation argument of another layer. Instead, advanced activation layers should be used just like any other layer in a model.\n",
      "  identifier=identifier.__class__.__name__))\n",
      "/home/takitani/.pyenv/versions/anaconda3-5.0.1/lib/python3.6/site-packages/ipykernel_launcher.py:42: UserWarning: Update your `Dropout` call to the Keras 2 API: `Dropout(rate=0.4)`\n",
      "/home/takitani/.pyenv/versions/anaconda3-5.0.1/lib/python3.6/site-packages/ipykernel_launcher.py:54: UserWarning: Update your `Conv3D` call to the Keras 2 API: `Conv3D(kernel_size=(3, 3, 3), filters=32, strides=(1, 1, 1), padding=\"valid\", data_format=\"channels_first\", kernel_initializer=\"normal\", kernel_regularizer=<keras.reg..., bias_regularizer=<keras.reg...)`\n",
      "/home/takitani/.pyenv/versions/anaconda3-5.0.1/lib/python3.6/site-packages/ipykernel_launcher.py:79: UserWarning: Update your `MaxPooling3D` call to the Keras 2 API: `MaxPooling3D(pool_size=(2, 2, 2), strides=None, padding=\"valid\", data_format=\"channels_first\")`\n",
      "/home/takitani/.pyenv/versions/anaconda3-5.0.1/lib/python3.6/site-packages/ipykernel_launcher.py:82: UserWarning: Update your `Dropout` call to the Keras 2 API: `Dropout(rate=0.4)`\n",
      "/home/takitani/.pyenv/versions/anaconda3-5.0.1/lib/python3.6/site-packages/ipykernel_launcher.py:91: UserWarning: Update your `Dense` call to the Keras 2 API: `Dense(activation=\"linear\", units=528, kernel_initializer=\"normal\", kernel_regularizer=<keras.reg..., bias_regularizer=<keras.reg...)`\n",
      "/home/takitani/.pyenv/versions/anaconda3-5.0.1/lib/python3.6/site-packages/ipykernel_launcher.py:95: UserWarning: Update your `Dropout` call to the Keras 2 API: `Dropout(rate=0.5)`\n",
      "/home/takitani/.pyenv/versions/anaconda3-5.0.1/lib/python3.6/site-packages/ipykernel_launcher.py:102: UserWarning: Update your `Dense` call to the Keras 2 API: `Dense(activation=\"linear\", units=10, kernel_initializer=\"normal\", kernel_regularizer=<keras.reg..., bias_regularizer=<keras.reg...)`\n"
     ]
    }
   ],
   "source": [
    "# optimizer = SGD(lr=0.01, momentum=0.9, decay=0.00016667, nesterov=False)\n",
    "optimizer = SGD(lr=learning_rate, momentum=0.9, decay=0.00016667, nesterov=False)\n",
    "\n",
    "# init model\n",
    "model = Sequential()\n",
    "\n",
    "# convolution 1\n",
    "model.add(Conv3D(input_shape=(1, cells, cells, cells),\n",
    "                            nb_filter=32,\n",
    "                            kernel_dim1=5,\n",
    "                            kernel_dim2=5,\n",
    "                            kernel_dim3=5,\n",
    "                            init='normal',\n",
    "                            border_mode='valid',\n",
    "                            subsample=(2, 2, 2),\n",
    "                            dim_ordering='th',\n",
    "                            W_regularizer=l2(0.001),\n",
    "                            b_regularizer=l2(0.001),\n",
    "                            ))\n",
    "\n",
    "# # BatchNormalization 1\n",
    "# model.add(BatchNormalization(axis=-1, \n",
    "#                              momentum=0.99, \n",
    "#                              epsilon=0.001, \n",
    "#                              center=True, \n",
    "#                              scale=True, \n",
    "#                              beta_initializer='zeros', \n",
    "#                              gamma_initializer='ones', \n",
    "#                              moving_mean_initializer='zeros', \n",
    "#                              moving_variance_initializer='ones', \n",
    "#                              beta_regularizer=None, \n",
    "#                              gamma_regularizer=None, \n",
    "#                              beta_constraint=None, \n",
    "#                              gamma_constraint=None))\n",
    "\n",
    "\n",
    "\n",
    "#Activation ReLu\n",
    "model.add(Activation(ReLU()))\n",
    "\n",
    "# dropout 1\n",
    "model.add(Dropout(p=0.4))\n",
    "\n",
    "# convolution 2\n",
    "model.add(Conv3D(nb_filter=32,\n",
    "                            kernel_dim1=3,\n",
    "                            kernel_dim2=3,\n",
    "                            kernel_dim3=3,\n",
    "                            init='normal',\n",
    "                            border_mode='valid',\n",
    "                            subsample=(1, 1, 1),\n",
    "                            dim_ordering='th',\n",
    "                            W_regularizer=l2(0.001),\n",
    "                            b_regularizer=l2(0.001),\n",
    "                            ))\n",
    "\n",
    "# # BatchNormalization 2\n",
    "# model.add(BatchNormalization(axis=-1, \n",
    "#                              momentum=0.99, \n",
    "#                              epsilon=0.001, \n",
    "#                              center=True, \n",
    "#                              scale=True, \n",
    "#                              beta_initializer='zeros', \n",
    "#                              gamma_initializer='ones', \n",
    "#                              moving_mean_initializer='zeros', \n",
    "#                              moving_variance_initializer='ones', \n",
    "#                              beta_regularizer=None, \n",
    "#                              gamma_regularizer=None, \n",
    "#                              beta_constraint=None, \n",
    "#                              gamma_constraint=None))\n",
    "\n",
    "#Activation ReLu\n",
    "model.add(Activation(ReLU()))\n",
    "\n",
    "# max pool 1\n",
    "model.add(MaxPooling3D(pool_size=(2, 2, 2),\n",
    "                           strides=None,\n",
    "                           border_mode='valid',\n",
    "                           dim_ordering='th'))\n",
    "\n",
    "# dropout 2\n",
    "model.add(Dropout(p=0.4))\n",
    "\n",
    "# dense 1 (fully connected layer)\n",
    "model.add(Flatten())\n",
    "\n",
    "model.add(Dense(output_dim=528, #128\n",
    "                    init='normal',\n",
    "                    activation='linear',\n",
    "                    W_regularizer=l2(0.001),\n",
    "                    b_regularizer=l2(0.001),\n",
    "                    ))\n",
    "\n",
    "# dropout 3\n",
    "model.add(Dropout(p=0.5))\n",
    "\n",
    "# dense 2 (fully connected layer)\n",
    "model.add(Dense(output_dim=num_classes,\n",
    "                    init='normal',\n",
    "                    activation='linear',\n",
    "                    W_regularizer=l2(0.001),\n",
    "                    b_regularizer=l2(0.001),\n",
    "                    ))\n",
    "\n",
    "#Activation Softmax\n",
    "model.add(Activation(\"softmax\"))\n",
    "\n",
    "# compile model\n",
    "model.compile(loss='categorical_crossentropy', optimizer=optimizer, metrics=[\"accuracy\"])\n"
   ]
  },
  {
   "cell_type": "code",
   "execution_count": 10,
   "metadata": {},
   "outputs": [
    {
     "data": {
      "image/svg+xml": [
       "<svg height=\"1041pt\" viewBox=\"0.00 0.00 409.00 1041.00\" width=\"409pt\" xmlns=\"http://www.w3.org/2000/svg\" xmlns:xlink=\"http://www.w3.org/1999/xlink\">\n",
       "<g class=\"graph\" id=\"graph0\" transform=\"scale(1 1) rotate(0) translate(4 1037)\">\n",
       "<title>G</title>\n",
       "<polygon fill=\"white\" points=\"-4,4 -4,-1037 405,-1037 405,4 -4,4\" stroke=\"none\"/>\n",
       "<!-- 140381560912080 -->\n",
       "<g class=\"node\" id=\"node1\"><title>140381560912080</title>\n",
       "<polygon fill=\"none\" points=\"42,-913.5 42,-959.5 359,-959.5 359,-913.5 42,-913.5\" stroke=\"black\"/>\n",
       "<text font-family=\"Times,serif\" font-size=\"14.00\" text-anchor=\"middle\" x=\"103.5\" y=\"-932.8\">conv3d_1: Conv3D</text>\n",
       "<polyline fill=\"none\" points=\"165,-913.5 165,-959.5 \" stroke=\"black\"/>\n",
       "<text font-family=\"Times,serif\" font-size=\"14.00\" text-anchor=\"middle\" x=\"192.5\" y=\"-944.3\">input:</text>\n",
       "<polyline fill=\"none\" points=\"165,-936.5 220,-936.5 \" stroke=\"black\"/>\n",
       "<text font-family=\"Times,serif\" font-size=\"14.00\" text-anchor=\"middle\" x=\"192.5\" y=\"-921.3\">output:</text>\n",
       "<polyline fill=\"none\" points=\"220,-913.5 220,-959.5 \" stroke=\"black\"/>\n",
       "<text font-family=\"Times,serif\" font-size=\"14.00\" text-anchor=\"middle\" x=\"289.5\" y=\"-944.3\">(None, 1, 32, 32, 32)</text>\n",
       "<polyline fill=\"none\" points=\"220,-936.5 359,-936.5 \" stroke=\"black\"/>\n",
       "<text font-family=\"Times,serif\" font-size=\"14.00\" text-anchor=\"middle\" x=\"289.5\" y=\"-921.3\">(None, 32, 14, 14, 14)</text>\n",
       "</g>\n",
       "<!-- 140381560913032 -->\n",
       "<g class=\"node\" id=\"node2\"><title>140381560913032</title>\n",
       "<polygon fill=\"none\" points=\"29.5,-830.5 29.5,-876.5 371.5,-876.5 371.5,-830.5 29.5,-830.5\" stroke=\"black\"/>\n",
       "<text font-family=\"Times,serif\" font-size=\"14.00\" text-anchor=\"middle\" x=\"103.5\" y=\"-849.8\">activation_1: Activation</text>\n",
       "<polyline fill=\"none\" points=\"177.5,-830.5 177.5,-876.5 \" stroke=\"black\"/>\n",
       "<text font-family=\"Times,serif\" font-size=\"14.00\" text-anchor=\"middle\" x=\"205\" y=\"-861.3\">input:</text>\n",
       "<polyline fill=\"none\" points=\"177.5,-853.5 232.5,-853.5 \" stroke=\"black\"/>\n",
       "<text font-family=\"Times,serif\" font-size=\"14.00\" text-anchor=\"middle\" x=\"205\" y=\"-838.3\">output:</text>\n",
       "<polyline fill=\"none\" points=\"232.5,-830.5 232.5,-876.5 \" stroke=\"black\"/>\n",
       "<text font-family=\"Times,serif\" font-size=\"14.00\" text-anchor=\"middle\" x=\"302\" y=\"-861.3\">(None, 32, 14, 14, 14)</text>\n",
       "<polyline fill=\"none\" points=\"232.5,-853.5 371.5,-853.5 \" stroke=\"black\"/>\n",
       "<text font-family=\"Times,serif\" font-size=\"14.00\" text-anchor=\"middle\" x=\"302\" y=\"-838.3\">(None, 32, 14, 14, 14)</text>\n",
       "</g>\n",
       "<!-- 140381560912080&#45;&gt;140381560913032 -->\n",
       "<g class=\"edge\" id=\"edge2\"><title>140381560912080-&gt;140381560913032</title>\n",
       "<path d=\"M200.5,-913.366C200.5,-905.152 200.5,-895.658 200.5,-886.725\" fill=\"none\" stroke=\"black\"/>\n",
       "<polygon fill=\"black\" points=\"204,-886.607 200.5,-876.607 197,-886.607 204,-886.607\" stroke=\"black\"/>\n",
       "</g>\n",
       "<!-- 140381560912752 -->\n",
       "<g class=\"node\" id=\"node3\"><title>140381560912752</title>\n",
       "<polygon fill=\"none\" points=\"41,-747.5 41,-793.5 360,-793.5 360,-747.5 41,-747.5\" stroke=\"black\"/>\n",
       "<text font-family=\"Times,serif\" font-size=\"14.00\" text-anchor=\"middle\" x=\"103.5\" y=\"-766.8\">dropout_1: Dropout</text>\n",
       "<polyline fill=\"none\" points=\"166,-747.5 166,-793.5 \" stroke=\"black\"/>\n",
       "<text font-family=\"Times,serif\" font-size=\"14.00\" text-anchor=\"middle\" x=\"193.5\" y=\"-778.3\">input:</text>\n",
       "<polyline fill=\"none\" points=\"166,-770.5 221,-770.5 \" stroke=\"black\"/>\n",
       "<text font-family=\"Times,serif\" font-size=\"14.00\" text-anchor=\"middle\" x=\"193.5\" y=\"-755.3\">output:</text>\n",
       "<polyline fill=\"none\" points=\"221,-747.5 221,-793.5 \" stroke=\"black\"/>\n",
       "<text font-family=\"Times,serif\" font-size=\"14.00\" text-anchor=\"middle\" x=\"290.5\" y=\"-778.3\">(None, 32, 14, 14, 14)</text>\n",
       "<polyline fill=\"none\" points=\"221,-770.5 360,-770.5 \" stroke=\"black\"/>\n",
       "<text font-family=\"Times,serif\" font-size=\"14.00\" text-anchor=\"middle\" x=\"290.5\" y=\"-755.3\">(None, 32, 14, 14, 14)</text>\n",
       "</g>\n",
       "<!-- 140381560913032&#45;&gt;140381560912752 -->\n",
       "<g class=\"edge\" id=\"edge3\"><title>140381560913032-&gt;140381560912752</title>\n",
       "<path d=\"M200.5,-830.366C200.5,-822.152 200.5,-812.658 200.5,-803.725\" fill=\"none\" stroke=\"black\"/>\n",
       "<polygon fill=\"black\" points=\"204,-803.607 200.5,-793.607 197,-803.607 204,-803.607\" stroke=\"black\"/>\n",
       "</g>\n",
       "<!-- 140381560394752 -->\n",
       "<g class=\"node\" id=\"node4\"><title>140381560394752</title>\n",
       "<polygon fill=\"none\" points=\"42,-664.5 42,-710.5 359,-710.5 359,-664.5 42,-664.5\" stroke=\"black\"/>\n",
       "<text font-family=\"Times,serif\" font-size=\"14.00\" text-anchor=\"middle\" x=\"103.5\" y=\"-683.8\">conv3d_2: Conv3D</text>\n",
       "<polyline fill=\"none\" points=\"165,-664.5 165,-710.5 \" stroke=\"black\"/>\n",
       "<text font-family=\"Times,serif\" font-size=\"14.00\" text-anchor=\"middle\" x=\"192.5\" y=\"-695.3\">input:</text>\n",
       "<polyline fill=\"none\" points=\"165,-687.5 220,-687.5 \" stroke=\"black\"/>\n",
       "<text font-family=\"Times,serif\" font-size=\"14.00\" text-anchor=\"middle\" x=\"192.5\" y=\"-672.3\">output:</text>\n",
       "<polyline fill=\"none\" points=\"220,-664.5 220,-710.5 \" stroke=\"black\"/>\n",
       "<text font-family=\"Times,serif\" font-size=\"14.00\" text-anchor=\"middle\" x=\"289.5\" y=\"-695.3\">(None, 32, 14, 14, 14)</text>\n",
       "<polyline fill=\"none\" points=\"220,-687.5 359,-687.5 \" stroke=\"black\"/>\n",
       "<text font-family=\"Times,serif\" font-size=\"14.00\" text-anchor=\"middle\" x=\"289.5\" y=\"-672.3\">(None, 32, 12, 12, 12)</text>\n",
       "</g>\n",
       "<!-- 140381560912752&#45;&gt;140381560394752 -->\n",
       "<g class=\"edge\" id=\"edge4\"><title>140381560912752-&gt;140381560394752</title>\n",
       "<path d=\"M200.5,-747.366C200.5,-739.152 200.5,-729.658 200.5,-720.725\" fill=\"none\" stroke=\"black\"/>\n",
       "<polygon fill=\"black\" points=\"204,-720.607 200.5,-710.607 197,-720.607 204,-720.607\" stroke=\"black\"/>\n",
       "</g>\n",
       "<!-- 140381560395872 -->\n",
       "<g class=\"node\" id=\"node5\"><title>140381560395872</title>\n",
       "<polygon fill=\"none\" points=\"29.5,-581.5 29.5,-627.5 371.5,-627.5 371.5,-581.5 29.5,-581.5\" stroke=\"black\"/>\n",
       "<text font-family=\"Times,serif\" font-size=\"14.00\" text-anchor=\"middle\" x=\"103.5\" y=\"-600.8\">activation_2: Activation</text>\n",
       "<polyline fill=\"none\" points=\"177.5,-581.5 177.5,-627.5 \" stroke=\"black\"/>\n",
       "<text font-family=\"Times,serif\" font-size=\"14.00\" text-anchor=\"middle\" x=\"205\" y=\"-612.3\">input:</text>\n",
       "<polyline fill=\"none\" points=\"177.5,-604.5 232.5,-604.5 \" stroke=\"black\"/>\n",
       "<text font-family=\"Times,serif\" font-size=\"14.00\" text-anchor=\"middle\" x=\"205\" y=\"-589.3\">output:</text>\n",
       "<polyline fill=\"none\" points=\"232.5,-581.5 232.5,-627.5 \" stroke=\"black\"/>\n",
       "<text font-family=\"Times,serif\" font-size=\"14.00\" text-anchor=\"middle\" x=\"302\" y=\"-612.3\">(None, 32, 12, 12, 12)</text>\n",
       "<polyline fill=\"none\" points=\"232.5,-604.5 371.5,-604.5 \" stroke=\"black\"/>\n",
       "<text font-family=\"Times,serif\" font-size=\"14.00\" text-anchor=\"middle\" x=\"302\" y=\"-589.3\">(None, 32, 12, 12, 12)</text>\n",
       "</g>\n",
       "<!-- 140381560394752&#45;&gt;140381560395872 -->\n",
       "<g class=\"edge\" id=\"edge5\"><title>140381560394752-&gt;140381560395872</title>\n",
       "<path d=\"M200.5,-664.366C200.5,-656.152 200.5,-646.658 200.5,-637.725\" fill=\"none\" stroke=\"black\"/>\n",
       "<polygon fill=\"black\" points=\"204,-637.607 200.5,-627.607 197,-637.607 204,-637.607\" stroke=\"black\"/>\n",
       "</g>\n",
       "<!-- 140381560397664 -->\n",
       "<g class=\"node\" id=\"node6\"><title>140381560397664</title>\n",
       "<polygon fill=\"none\" points=\"-2.84217e-14,-498.5 -2.84217e-14,-544.5 401,-544.5 401,-498.5 -2.84217e-14,-498.5\" stroke=\"black\"/>\n",
       "<text font-family=\"Times,serif\" font-size=\"14.00\" text-anchor=\"middle\" x=\"103.5\" y=\"-517.8\">max_pooling3d_1: MaxPooling3D</text>\n",
       "<polyline fill=\"none\" points=\"207,-498.5 207,-544.5 \" stroke=\"black\"/>\n",
       "<text font-family=\"Times,serif\" font-size=\"14.00\" text-anchor=\"middle\" x=\"234.5\" y=\"-529.3\">input:</text>\n",
       "<polyline fill=\"none\" points=\"207,-521.5 262,-521.5 \" stroke=\"black\"/>\n",
       "<text font-family=\"Times,serif\" font-size=\"14.00\" text-anchor=\"middle\" x=\"234.5\" y=\"-506.3\">output:</text>\n",
       "<polyline fill=\"none\" points=\"262,-498.5 262,-544.5 \" stroke=\"black\"/>\n",
       "<text font-family=\"Times,serif\" font-size=\"14.00\" text-anchor=\"middle\" x=\"331.5\" y=\"-529.3\">(None, 32, 12, 12, 12)</text>\n",
       "<polyline fill=\"none\" points=\"262,-521.5 401,-521.5 \" stroke=\"black\"/>\n",
       "<text font-family=\"Times,serif\" font-size=\"14.00\" text-anchor=\"middle\" x=\"331.5\" y=\"-506.3\">(None, 32, 6, 6, 6)</text>\n",
       "</g>\n",
       "<!-- 140381560395872&#45;&gt;140381560397664 -->\n",
       "<g class=\"edge\" id=\"edge6\"><title>140381560395872-&gt;140381560397664</title>\n",
       "<path d=\"M200.5,-581.366C200.5,-573.152 200.5,-563.658 200.5,-554.725\" fill=\"none\" stroke=\"black\"/>\n",
       "<polygon fill=\"black\" points=\"204,-554.607 200.5,-544.607 197,-554.607 204,-554.607\" stroke=\"black\"/>\n",
       "</g>\n",
       "<!-- 140381560395704 -->\n",
       "<g class=\"node\" id=\"node7\"><title>140381560395704</title>\n",
       "<polygon fill=\"none\" points=\"51,-415.5 51,-461.5 350,-461.5 350,-415.5 51,-415.5\" stroke=\"black\"/>\n",
       "<text font-family=\"Times,serif\" font-size=\"14.00\" text-anchor=\"middle\" x=\"113.5\" y=\"-434.8\">dropout_2: Dropout</text>\n",
       "<polyline fill=\"none\" points=\"176,-415.5 176,-461.5 \" stroke=\"black\"/>\n",
       "<text font-family=\"Times,serif\" font-size=\"14.00\" text-anchor=\"middle\" x=\"203.5\" y=\"-446.3\">input:</text>\n",
       "<polyline fill=\"none\" points=\"176,-438.5 231,-438.5 \" stroke=\"black\"/>\n",
       "<text font-family=\"Times,serif\" font-size=\"14.00\" text-anchor=\"middle\" x=\"203.5\" y=\"-423.3\">output:</text>\n",
       "<polyline fill=\"none\" points=\"231,-415.5 231,-461.5 \" stroke=\"black\"/>\n",
       "<text font-family=\"Times,serif\" font-size=\"14.00\" text-anchor=\"middle\" x=\"290.5\" y=\"-446.3\">(None, 32, 6, 6, 6)</text>\n",
       "<polyline fill=\"none\" points=\"231,-438.5 350,-438.5 \" stroke=\"black\"/>\n",
       "<text font-family=\"Times,serif\" font-size=\"14.00\" text-anchor=\"middle\" x=\"290.5\" y=\"-423.3\">(None, 32, 6, 6, 6)</text>\n",
       "</g>\n",
       "<!-- 140381560397664&#45;&gt;140381560395704 -->\n",
       "<g class=\"edge\" id=\"edge7\"><title>140381560397664-&gt;140381560395704</title>\n",
       "<path d=\"M200.5,-498.366C200.5,-490.152 200.5,-480.658 200.5,-471.725\" fill=\"none\" stroke=\"black\"/>\n",
       "<polygon fill=\"black\" points=\"204,-471.607 200.5,-461.607 197,-471.607 204,-471.607\" stroke=\"black\"/>\n",
       "</g>\n",
       "<!-- 140381560396264 -->\n",
       "<g class=\"node\" id=\"node8\"><title>140381560396264</title>\n",
       "<polygon fill=\"none\" points=\"58.5,-332.5 58.5,-378.5 342.5,-378.5 342.5,-332.5 58.5,-332.5\" stroke=\"black\"/>\n",
       "<text font-family=\"Times,serif\" font-size=\"14.00\" text-anchor=\"middle\" x=\"113.5\" y=\"-351.8\">flatten_1: Flatten</text>\n",
       "<polyline fill=\"none\" points=\"168.5,-332.5 168.5,-378.5 \" stroke=\"black\"/>\n",
       "<text font-family=\"Times,serif\" font-size=\"14.00\" text-anchor=\"middle\" x=\"196\" y=\"-363.3\">input:</text>\n",
       "<polyline fill=\"none\" points=\"168.5,-355.5 223.5,-355.5 \" stroke=\"black\"/>\n",
       "<text font-family=\"Times,serif\" font-size=\"14.00\" text-anchor=\"middle\" x=\"196\" y=\"-340.3\">output:</text>\n",
       "<polyline fill=\"none\" points=\"223.5,-332.5 223.5,-378.5 \" stroke=\"black\"/>\n",
       "<text font-family=\"Times,serif\" font-size=\"14.00\" text-anchor=\"middle\" x=\"283\" y=\"-363.3\">(None, 32, 6, 6, 6)</text>\n",
       "<polyline fill=\"none\" points=\"223.5,-355.5 342.5,-355.5 \" stroke=\"black\"/>\n",
       "<text font-family=\"Times,serif\" font-size=\"14.00\" text-anchor=\"middle\" x=\"283\" y=\"-340.3\">(None, 6912)</text>\n",
       "</g>\n",
       "<!-- 140381560395704&#45;&gt;140381560396264 -->\n",
       "<g class=\"edge\" id=\"edge8\"><title>140381560395704-&gt;140381560396264</title>\n",
       "<path d=\"M200.5,-415.366C200.5,-407.152 200.5,-397.658 200.5,-388.725\" fill=\"none\" stroke=\"black\"/>\n",
       "<polygon fill=\"black\" points=\"204,-388.607 200.5,-378.607 197,-388.607 204,-388.607\" stroke=\"black\"/>\n",
       "</g>\n",
       "<!-- 140381559762728 -->\n",
       "<g class=\"node\" id=\"node9\"><title>140381559762728</title>\n",
       "<polygon fill=\"none\" points=\"77.5,-249.5 77.5,-295.5 323.5,-295.5 323.5,-249.5 77.5,-249.5\" stroke=\"black\"/>\n",
       "<text font-family=\"Times,serif\" font-size=\"14.00\" text-anchor=\"middle\" x=\"128.5\" y=\"-268.8\">dense_1: Dense</text>\n",
       "<polyline fill=\"none\" points=\"179.5,-249.5 179.5,-295.5 \" stroke=\"black\"/>\n",
       "<text font-family=\"Times,serif\" font-size=\"14.00\" text-anchor=\"middle\" x=\"207\" y=\"-280.3\">input:</text>\n",
       "<polyline fill=\"none\" points=\"179.5,-272.5 234.5,-272.5 \" stroke=\"black\"/>\n",
       "<text font-family=\"Times,serif\" font-size=\"14.00\" text-anchor=\"middle\" x=\"207\" y=\"-257.3\">output:</text>\n",
       "<polyline fill=\"none\" points=\"234.5,-249.5 234.5,-295.5 \" stroke=\"black\"/>\n",
       "<text font-family=\"Times,serif\" font-size=\"14.00\" text-anchor=\"middle\" x=\"279\" y=\"-280.3\">(None, 6912)</text>\n",
       "<polyline fill=\"none\" points=\"234.5,-272.5 323.5,-272.5 \" stroke=\"black\"/>\n",
       "<text font-family=\"Times,serif\" font-size=\"14.00\" text-anchor=\"middle\" x=\"279\" y=\"-257.3\">(None, 528)</text>\n",
       "</g>\n",
       "<!-- 140381560396264&#45;&gt;140381559762728 -->\n",
       "<g class=\"edge\" id=\"edge9\"><title>140381560396264-&gt;140381559762728</title>\n",
       "<path d=\"M200.5,-332.366C200.5,-324.152 200.5,-314.658 200.5,-305.725\" fill=\"none\" stroke=\"black\"/>\n",
       "<polygon fill=\"black\" points=\"204,-305.607 200.5,-295.607 197,-305.607 204,-305.607\" stroke=\"black\"/>\n",
       "</g>\n",
       "<!-- 140381559760488 -->\n",
       "<g class=\"node\" id=\"node10\"><title>140381559760488</title>\n",
       "<polygon fill=\"none\" points=\"69,-166.5 69,-212.5 332,-212.5 332,-166.5 69,-166.5\" stroke=\"black\"/>\n",
       "<text font-family=\"Times,serif\" font-size=\"14.00\" text-anchor=\"middle\" x=\"131.5\" y=\"-185.8\">dropout_3: Dropout</text>\n",
       "<polyline fill=\"none\" points=\"194,-166.5 194,-212.5 \" stroke=\"black\"/>\n",
       "<text font-family=\"Times,serif\" font-size=\"14.00\" text-anchor=\"middle\" x=\"221.5\" y=\"-197.3\">input:</text>\n",
       "<polyline fill=\"none\" points=\"194,-189.5 249,-189.5 \" stroke=\"black\"/>\n",
       "<text font-family=\"Times,serif\" font-size=\"14.00\" text-anchor=\"middle\" x=\"221.5\" y=\"-174.3\">output:</text>\n",
       "<polyline fill=\"none\" points=\"249,-166.5 249,-212.5 \" stroke=\"black\"/>\n",
       "<text font-family=\"Times,serif\" font-size=\"14.00\" text-anchor=\"middle\" x=\"290.5\" y=\"-197.3\">(None, 528)</text>\n",
       "<polyline fill=\"none\" points=\"249,-189.5 332,-189.5 \" stroke=\"black\"/>\n",
       "<text font-family=\"Times,serif\" font-size=\"14.00\" text-anchor=\"middle\" x=\"290.5\" y=\"-174.3\">(None, 528)</text>\n",
       "</g>\n",
       "<!-- 140381559762728&#45;&gt;140381559760488 -->\n",
       "<g class=\"edge\" id=\"edge10\"><title>140381559762728-&gt;140381559760488</title>\n",
       "<path d=\"M200.5,-249.366C200.5,-241.152 200.5,-231.658 200.5,-222.725\" fill=\"none\" stroke=\"black\"/>\n",
       "<polygon fill=\"black\" points=\"204,-222.607 200.5,-212.607 197,-222.607 204,-222.607\" stroke=\"black\"/>\n",
       "</g>\n",
       "<!-- 140381559929320 -->\n",
       "<g class=\"node\" id=\"node11\"><title>140381559929320</title>\n",
       "<polygon fill=\"none\" points=\"80.5,-83.5 80.5,-129.5 320.5,-129.5 320.5,-83.5 80.5,-83.5\" stroke=\"black\"/>\n",
       "<text font-family=\"Times,serif\" font-size=\"14.00\" text-anchor=\"middle\" x=\"131.5\" y=\"-102.8\">dense_2: Dense</text>\n",
       "<polyline fill=\"none\" points=\"182.5,-83.5 182.5,-129.5 \" stroke=\"black\"/>\n",
       "<text font-family=\"Times,serif\" font-size=\"14.00\" text-anchor=\"middle\" x=\"210\" y=\"-114.3\">input:</text>\n",
       "<polyline fill=\"none\" points=\"182.5,-106.5 237.5,-106.5 \" stroke=\"black\"/>\n",
       "<text font-family=\"Times,serif\" font-size=\"14.00\" text-anchor=\"middle\" x=\"210\" y=\"-91.3\">output:</text>\n",
       "<polyline fill=\"none\" points=\"237.5,-83.5 237.5,-129.5 \" stroke=\"black\"/>\n",
       "<text font-family=\"Times,serif\" font-size=\"14.00\" text-anchor=\"middle\" x=\"279\" y=\"-114.3\">(None, 528)</text>\n",
       "<polyline fill=\"none\" points=\"237.5,-106.5 320.5,-106.5 \" stroke=\"black\"/>\n",
       "<text font-family=\"Times,serif\" font-size=\"14.00\" text-anchor=\"middle\" x=\"279\" y=\"-91.3\">(None, 10)</text>\n",
       "</g>\n",
       "<!-- 140381559760488&#45;&gt;140381559929320 -->\n",
       "<g class=\"edge\" id=\"edge11\"><title>140381559760488-&gt;140381559929320</title>\n",
       "<path d=\"M200.5,-166.366C200.5,-158.152 200.5,-148.658 200.5,-139.725\" fill=\"none\" stroke=\"black\"/>\n",
       "<polygon fill=\"black\" points=\"204,-139.607 200.5,-129.607 197,-139.607 204,-139.607\" stroke=\"black\"/>\n",
       "</g>\n",
       "<!-- 140381559928928 -->\n",
       "<g class=\"node\" id=\"node12\"><title>140381559928928</title>\n",
       "<polygon fill=\"none\" points=\"61,-0.5 61,-46.5 340,-46.5 340,-0.5 61,-0.5\" stroke=\"black\"/>\n",
       "<text font-family=\"Times,serif\" font-size=\"14.00\" text-anchor=\"middle\" x=\"135\" y=\"-19.8\">activation_3: Activation</text>\n",
       "<polyline fill=\"none\" points=\"209,-0.5 209,-46.5 \" stroke=\"black\"/>\n",
       "<text font-family=\"Times,serif\" font-size=\"14.00\" text-anchor=\"middle\" x=\"236.5\" y=\"-31.3\">input:</text>\n",
       "<polyline fill=\"none\" points=\"209,-23.5 264,-23.5 \" stroke=\"black\"/>\n",
       "<text font-family=\"Times,serif\" font-size=\"14.00\" text-anchor=\"middle\" x=\"236.5\" y=\"-8.3\">output:</text>\n",
       "<polyline fill=\"none\" points=\"264,-0.5 264,-46.5 \" stroke=\"black\"/>\n",
       "<text font-family=\"Times,serif\" font-size=\"14.00\" text-anchor=\"middle\" x=\"302\" y=\"-31.3\">(None, 10)</text>\n",
       "<polyline fill=\"none\" points=\"264,-23.5 340,-23.5 \" stroke=\"black\"/>\n",
       "<text font-family=\"Times,serif\" font-size=\"14.00\" text-anchor=\"middle\" x=\"302\" y=\"-8.3\">(None, 10)</text>\n",
       "</g>\n",
       "<!-- 140381559929320&#45;&gt;140381559928928 -->\n",
       "<g class=\"edge\" id=\"edge12\"><title>140381559929320-&gt;140381559928928</title>\n",
       "<path d=\"M200.5,-83.3664C200.5,-75.1516 200.5,-65.6579 200.5,-56.7252\" fill=\"none\" stroke=\"black\"/>\n",
       "<polygon fill=\"black\" points=\"204,-56.6068 200.5,-46.6068 197,-56.6069 204,-56.6068\" stroke=\"black\"/>\n",
       "</g>\n",
       "<!-- 140381560912976 -->\n",
       "<g class=\"node\" id=\"node13\"><title>140381560912976</title>\n",
       "<polygon fill=\"none\" points=\"141.5,-996.5 141.5,-1032.5 259.5,-1032.5 259.5,-996.5 141.5,-996.5\" stroke=\"black\"/>\n",
       "<text font-family=\"Times,serif\" font-size=\"14.00\" text-anchor=\"middle\" x=\"200.5\" y=\"-1010.8\">140381560912976</text>\n",
       "</g>\n",
       "<!-- 140381560912976&#45;&gt;140381560912080 -->\n",
       "<g class=\"edge\" id=\"edge1\"><title>140381560912976-&gt;140381560912080</title>\n",
       "<path d=\"M200.5,-996.254C200.5,-988.363 200.5,-978.749 200.5,-969.602\" fill=\"none\" stroke=\"black\"/>\n",
       "<polygon fill=\"black\" points=\"204,-969.591 200.5,-959.591 197,-969.591 204,-969.591\" stroke=\"black\"/>\n",
       "</g>\n",
       "</g>\n",
       "</svg>"
      ],
      "text/plain": [
       "<IPython.core.display.SVG object>"
      ]
     },
     "execution_count": 10,
     "metadata": {},
     "output_type": "execute_result"
    }
   ],
   "source": [
    "#可視化\n",
    "SVG(model_to_dot(model,show_shapes=True).create(prog='dot', format='svg'))"
   ]
  },
  {
   "cell_type": "code",
   "execution_count": 11,
   "metadata": {},
   "outputs": [
    {
     "name": "stdout",
     "output_type": "stream",
     "text": [
      "_________________________________________________________________\n",
      "Layer (type)                 Output Shape              Param #   \n",
      "=================================================================\n",
      "conv3d_1 (Conv3D)            (None, 32, 14, 14, 14)    4032      \n",
      "_________________________________________________________________\n",
      "activation_1 (Activation)    (None, 32, 14, 14, 14)    0         \n",
      "_________________________________________________________________\n",
      "dropout_1 (Dropout)          (None, 32, 14, 14, 14)    0         \n",
      "_________________________________________________________________\n",
      "conv3d_2 (Conv3D)            (None, 32, 12, 12, 12)    27680     \n",
      "_________________________________________________________________\n",
      "activation_2 (Activation)    (None, 32, 12, 12, 12)    0         \n",
      "_________________________________________________________________\n",
      "max_pooling3d_1 (MaxPooling3 (None, 32, 6, 6, 6)       0         \n",
      "_________________________________________________________________\n",
      "dropout_2 (Dropout)          (None, 32, 6, 6, 6)       0         \n",
      "_________________________________________________________________\n",
      "flatten_1 (Flatten)          (None, 6912)              0         \n",
      "_________________________________________________________________\n",
      "dense_1 (Dense)              (None, 528)               3650064   \n",
      "_________________________________________________________________\n",
      "dropout_3 (Dropout)          (None, 528)               0         \n",
      "_________________________________________________________________\n",
      "dense_2 (Dense)              (None, 10)                5290      \n",
      "_________________________________________________________________\n",
      "activation_3 (Activation)    (None, 10)                0         \n",
      "=================================================================\n",
      "Total params: 3,687,066\n",
      "Trainable params: 3,687,066\n",
      "Non-trainable params: 0\n",
      "_________________________________________________________________\n"
     ]
    }
   ],
   "source": [
    "#サマリーの表示\n",
    "model.summary()"
   ]
  },
  {
   "cell_type": "code",
   "execution_count": 12,
   "metadata": {
    "collapsed": true
   },
   "outputs": [],
   "source": [
    "#モデルの図を保存\n",
    "plot_model(model, to_file='model.png',show_shapes='True')"
   ]
  },
  {
   "cell_type": "code",
   "execution_count": null,
   "metadata": {
    "collapsed": true
   },
   "outputs": [],
   "source": []
  },
  {
   "cell_type": "code",
   "execution_count": null,
   "metadata": {
    "collapsed": true
   },
   "outputs": [],
   "source": []
  },
  {
   "cell_type": "code",
   "execution_count": 13,
   "metadata": {
    "collapsed": true
   },
   "outputs": [],
   "source": [
    "x_train = np.load( data_dir  + \"x_train.npy\")\n",
    "x_test = np.load( data_dir  + \"x_test.npy\")\n",
    "y_train = np.load( data_dir + \"y_train.npy\")\n",
    "y_test = np.load( data_dir + \"y_test.npy\")"
   ]
  },
  {
   "cell_type": "code",
   "execution_count": 14,
   "metadata": {},
   "outputs": [
    {
     "data": {
      "text/plain": [
       "(3991, 1, 32, 32, 32)"
      ]
     },
     "execution_count": 14,
     "metadata": {},
     "output_type": "execute_result"
    }
   ],
   "source": [
    "x_train.shape"
   ]
  },
  {
   "cell_type": "code",
   "execution_count": 15,
   "metadata": {},
   "outputs": [
    {
     "data": {
      "text/plain": [
       "(3991, 10)"
      ]
     },
     "execution_count": 15,
     "metadata": {},
     "output_type": "execute_result"
    }
   ],
   "source": [
    "y_train.shape"
   ]
  },
  {
   "cell_type": "code",
   "execution_count": 16,
   "metadata": {},
   "outputs": [
    {
     "data": {
      "text/plain": [
       "(908, 1, 32, 32, 32)"
      ]
     },
     "execution_count": 16,
     "metadata": {},
     "output_type": "execute_result"
    }
   ],
   "source": [
    "x_test.shape"
   ]
  },
  {
   "cell_type": "code",
   "execution_count": 17,
   "metadata": {},
   "outputs": [
    {
     "data": {
      "text/plain": [
       "(908, 10)"
      ]
     },
     "execution_count": 17,
     "metadata": {},
     "output_type": "execute_result"
    }
   ],
   "source": [
    "y_test.shape"
   ]
  },
  {
   "cell_type": "code",
   "execution_count": null,
   "metadata": {
    "collapsed": true
   },
   "outputs": [],
   "source": []
  },
  {
   "cell_type": "code",
   "execution_count": null,
   "metadata": {
    "collapsed": true
   },
   "outputs": [],
   "source": []
  },
  {
   "cell_type": "code",
   "execution_count": 18,
   "metadata": {},
   "outputs": [],
   "source": [
    "es_cb = keras.callbacks.EarlyStopping(monitor='val_loss', patience=0, verbose=0, mode='auto')"
   ]
  },
  {
   "cell_type": "code",
   "execution_count": 19,
   "metadata": {
    "scrolled": false
   },
   "outputs": [
    {
     "name": "stdout",
     "output_type": "stream",
     "text": [
      "Train on 3991 samples, validate on 908 samples\n",
      "Epoch 1/200\n",
      "3991/3991 [==============================] - 5s 1ms/step - loss: 10.8713 - acc: 0.5254 - val_loss: 10.0168 - val_acc: 0.7335\n",
      "Epoch 2/200\n",
      "3991/3991 [==============================] - 3s 818us/step - loss: 9.7248 - acc: 0.7973 - val_loss: 9.6121 - val_acc: 0.8238\n",
      "Epoch 3/200\n",
      "3991/3991 [==============================] - 3s 801us/step - loss: 9.4074 - acc: 0.8569 - val_loss: 9.3692 - val_acc: 0.8447\n",
      "Epoch 4/200\n",
      "3991/3991 [==============================] - 3s 813us/step - loss: 9.2129 - acc: 0.8825 - val_loss: 9.2052 - val_acc: 0.8634\n",
      "Epoch 5/200\n",
      "3991/3991 [==============================] - 3s 819us/step - loss: 9.0778 - acc: 0.8900 - val_loss: 9.0968 - val_acc: 0.8601\n",
      "Epoch 6/200\n",
      "3991/3991 [==============================] - 3s 801us/step - loss: 8.9155 - acc: 0.9128 - val_loss: 8.9671 - val_acc: 0.8590\n",
      "Epoch 7/200\n",
      "3991/3991 [==============================] - 3s 824us/step - loss: 8.7739 - acc: 0.9231 - val_loss: 8.8333 - val_acc: 0.8733\n",
      "Epoch 8/200\n",
      "3991/3991 [==============================] - 3s 807us/step - loss: 8.6518 - acc: 0.9266 - val_loss: 8.7380 - val_acc: 0.8822\n",
      "Epoch 9/200\n",
      "3991/3991 [==============================] - 3s 823us/step - loss: 8.5474 - acc: 0.9308 - val_loss: 8.6144 - val_acc: 0.8822\n",
      "Epoch 10/200\n",
      "3991/3991 [==============================] - 3s 777us/step - loss: 8.4452 - acc: 0.9241 - val_loss: 8.4987 - val_acc: 0.8844\n",
      "Epoch 11/200\n",
      "3991/3991 [==============================] - 3s 790us/step - loss: 8.3277 - acc: 0.9351 - val_loss: 8.4171 - val_acc: 0.8700\n",
      "Epoch 12/200\n",
      "3991/3991 [==============================] - 3s 819us/step - loss: 8.2276 - acc: 0.9288 - val_loss: 8.3129 - val_acc: 0.8811\n",
      "Epoch 13/200\n",
      "3991/3991 [==============================] - 3s 782us/step - loss: 8.1148 - acc: 0.9419 - val_loss: 8.2234 - val_acc: 0.8789\n",
      "Epoch 14/200\n",
      "3991/3991 [==============================] - 3s 813us/step - loss: 8.0138 - acc: 0.9389 - val_loss: 8.1308 - val_acc: 0.8678\n",
      "Epoch 15/200\n",
      "3991/3991 [==============================] - 3s 796us/step - loss: 7.9153 - acc: 0.9419 - val_loss: 8.0391 - val_acc: 0.8767\n",
      "Epoch 16/200\n",
      "3991/3991 [==============================] - 3s 814us/step - loss: 7.8348 - acc: 0.9411 - val_loss: 7.9222 - val_acc: 0.8833\n",
      "Epoch 17/200\n",
      "3991/3991 [==============================] - 3s 812us/step - loss: 7.7123 - acc: 0.9466 - val_loss: 7.8259 - val_acc: 0.8932\n",
      "Epoch 18/200\n",
      "3991/3991 [==============================] - 3s 822us/step - loss: 7.6255 - acc: 0.9479 - val_loss: 7.7450 - val_acc: 0.8800\n",
      "Epoch 19/200\n",
      "3991/3991 [==============================] - 3s 817us/step - loss: 7.5329 - acc: 0.9496 - val_loss: 7.6604 - val_acc: 0.8899\n",
      "Epoch 20/200\n",
      "3991/3991 [==============================] - 3s 818us/step - loss: 7.4389 - acc: 0.9506 - val_loss: 7.5738 - val_acc: 0.8888\n",
      "Epoch 21/200\n",
      "3991/3991 [==============================] - 3s 818us/step - loss: 7.3496 - acc: 0.9526 - val_loss: 7.4846 - val_acc: 0.8899\n",
      "Epoch 22/200\n",
      "3991/3991 [==============================] - 3s 797us/step - loss: 7.2696 - acc: 0.9549 - val_loss: 7.3960 - val_acc: 0.8954\n",
      "Epoch 23/200\n",
      "3991/3991 [==============================] - 3s 825us/step - loss: 7.1807 - acc: 0.9574 - val_loss: 7.3186 - val_acc: 0.8899\n",
      "Epoch 24/200\n",
      "3991/3991 [==============================] - 3s 788us/step - loss: 7.0893 - acc: 0.9622 - val_loss: 7.2249 - val_acc: 0.8965\n",
      "Epoch 25/200\n",
      "3991/3991 [==============================] - 3s 761us/step - loss: 7.0117 - acc: 0.9592 - val_loss: 7.1834 - val_acc: 0.8943\n",
      "Epoch 26/200\n",
      "3991/3991 [==============================] - 3s 762us/step - loss: 6.9412 - acc: 0.9604 - val_loss: 7.0847 - val_acc: 0.8877\n",
      "Epoch 27/200\n",
      "3991/3991 [==============================] - 3s 766us/step - loss: 6.8636 - acc: 0.9572 - val_loss: 7.0271 - val_acc: 0.8899\n",
      "Epoch 28/200\n",
      "3991/3991 [==============================] - 3s 765us/step - loss: 6.7740 - acc: 0.9629 - val_loss: 6.9398 - val_acc: 0.8877\n",
      "Epoch 29/200\n",
      "3991/3991 [==============================] - 3s 766us/step - loss: 6.7048 - acc: 0.9657 - val_loss: 6.8674 - val_acc: 0.8866\n",
      "Epoch 30/200\n",
      "3991/3991 [==============================] - 3s 768us/step - loss: 6.6293 - acc: 0.9644 - val_loss: 6.8141 - val_acc: 0.8899\n",
      "Epoch 31/200\n",
      "3991/3991 [==============================] - 3s 768us/step - loss: 6.5718 - acc: 0.9584 - val_loss: 6.7177 - val_acc: 0.8888\n",
      "Epoch 32/200\n",
      "3991/3991 [==============================] - 3s 760us/step - loss: 6.4862 - acc: 0.9622 - val_loss: 6.6406 - val_acc: 0.8888\n",
      "Epoch 33/200\n",
      "3991/3991 [==============================] - 3s 770us/step - loss: 6.4121 - acc: 0.9654 - val_loss: 6.5841 - val_acc: 0.8965\n",
      "Epoch 34/200\n",
      "3991/3991 [==============================] - 3s 758us/step - loss: 6.3433 - acc: 0.9682 - val_loss: 6.5059 - val_acc: 0.8888\n",
      "Epoch 35/200\n",
      "3991/3991 [==============================] - 3s 766us/step - loss: 6.2666 - acc: 0.9704 - val_loss: 6.4598 - val_acc: 0.8899\n",
      "Epoch 36/200\n",
      "3991/3991 [==============================] - 3s 756us/step - loss: 6.2089 - acc: 0.9687 - val_loss: 6.4001 - val_acc: 0.8833\n",
      "Epoch 37/200\n",
      "3991/3991 [==============================] - 3s 757us/step - loss: 6.1357 - acc: 0.9702 - val_loss: 6.3215 - val_acc: 0.8954\n",
      "Epoch 38/200\n",
      "3991/3991 [==============================] - 3s 772us/step - loss: 6.0636 - acc: 0.9724 - val_loss: 6.2709 - val_acc: 0.8866\n",
      "Epoch 39/200\n",
      "3991/3991 [==============================] - 3s 767us/step - loss: 6.0088 - acc: 0.9699 - val_loss: 6.1859 - val_acc: 0.8888\n",
      "Epoch 40/200\n",
      "3991/3991 [==============================] - 3s 759us/step - loss: 5.9442 - acc: 0.9702 - val_loss: 6.1332 - val_acc: 0.8921\n",
      "Epoch 41/200\n",
      "3991/3991 [==============================] - 3s 757us/step - loss: 5.8837 - acc: 0.9712 - val_loss: 6.0558 - val_acc: 0.8954\n",
      "Epoch 42/200\n",
      "3991/3991 [==============================] - 3s 757us/step - loss: 5.8233 - acc: 0.9724 - val_loss: 6.0046 - val_acc: 0.9020\n",
      "Epoch 43/200\n",
      "3991/3991 [==============================] - 3s 769us/step - loss: 5.7599 - acc: 0.9734 - val_loss: 5.9516 - val_acc: 0.8877\n",
      "Epoch 44/200\n",
      "3991/3991 [==============================] - 3s 763us/step - loss: 5.6977 - acc: 0.9757 - val_loss: 5.8791 - val_acc: 0.8943\n",
      "Epoch 45/200\n",
      "3991/3991 [==============================] - 3s 766us/step - loss: 5.6310 - acc: 0.9777 - val_loss: 5.8348 - val_acc: 0.8965\n",
      "Epoch 46/200\n",
      "3991/3991 [==============================] - 3s 769us/step - loss: 5.5783 - acc: 0.9767 - val_loss: 5.7780 - val_acc: 0.8899\n",
      "Epoch 47/200\n",
      "3991/3991 [==============================] - 3s 761us/step - loss: 5.5303 - acc: 0.9764 - val_loss: 5.7137 - val_acc: 0.8921\n",
      "Epoch 48/200\n",
      "3991/3991 [==============================] - 3s 758us/step - loss: 5.4696 - acc: 0.9764 - val_loss: 5.6562 - val_acc: 0.8899\n",
      "Epoch 49/200\n",
      "3991/3991 [==============================] - 3s 757us/step - loss: 5.4173 - acc: 0.9734 - val_loss: 5.6084 - val_acc: 0.8932\n",
      "Epoch 50/200\n",
      "3991/3991 [==============================] - 3s 760us/step - loss: 5.3593 - acc: 0.9744 - val_loss: 5.5355 - val_acc: 0.8976\n",
      "Epoch 51/200\n",
      "3991/3991 [==============================] - 3s 763us/step - loss: 5.3031 - acc: 0.9749 - val_loss: 5.4830 - val_acc: 0.9020\n",
      "Epoch 52/200\n",
      "3991/3991 [==============================] - 3s 765us/step - loss: 5.2435 - acc: 0.9805 - val_loss: 5.4500 - val_acc: 0.8932\n",
      "Epoch 53/200\n",
      "3991/3991 [==============================] - 3s 760us/step - loss: 5.1970 - acc: 0.9792 - val_loss: 5.3846 - val_acc: 0.9064\n",
      "Epoch 54/200\n",
      "3991/3991 [==============================] - 3s 771us/step - loss: 5.1447 - acc: 0.9812 - val_loss: 5.3506 - val_acc: 0.9031\n",
      "Epoch 55/200\n",
      "3991/3991 [==============================] - 3s 766us/step - loss: 5.0949 - acc: 0.9812 - val_loss: 5.2931 - val_acc: 0.8998\n",
      "Epoch 56/200\n",
      "3991/3991 [==============================] - 3s 761us/step - loss: 5.0461 - acc: 0.9787 - val_loss: 5.2483 - val_acc: 0.8965\n",
      "Epoch 57/200\n",
      "3991/3991 [==============================] - 3s 767us/step - loss: 4.9934 - acc: 0.9800 - val_loss: 5.2205 - val_acc: 0.8877\n",
      "Epoch 58/200\n",
      "3991/3991 [==============================] - 3s 761us/step - loss: 4.9438 - acc: 0.9807 - val_loss: 5.1606 - val_acc: 0.8987\n",
      "Epoch 59/200\n",
      "3991/3991 [==============================] - 3s 774us/step - loss: 4.8966 - acc: 0.9817 - val_loss: 5.0957 - val_acc: 0.9042\n",
      "Epoch 60/200\n"
     ]
    },
    {
     "name": "stdout",
     "output_type": "stream",
     "text": [
      "3991/3991 [==============================] - 3s 765us/step - loss: 4.8517 - acc: 0.9815 - val_loss: 5.0498 - val_acc: 0.9009\n",
      "Epoch 61/200\n",
      "3991/3991 [==============================] - 3s 767us/step - loss: 4.8020 - acc: 0.9825 - val_loss: 5.0230 - val_acc: 0.9009\n",
      "Epoch 62/200\n",
      "3991/3991 [==============================] - 3s 766us/step - loss: 4.7569 - acc: 0.9812 - val_loss: 4.9669 - val_acc: 0.9053\n",
      "Epoch 63/200\n",
      "3991/3991 [==============================] - 3s 759us/step - loss: 4.7188 - acc: 0.9782 - val_loss: 4.9124 - val_acc: 0.8998\n",
      "Epoch 64/200\n",
      "3991/3991 [==============================] - 3s 761us/step - loss: 4.6692 - acc: 0.9802 - val_loss: 4.8892 - val_acc: 0.8877\n",
      "Epoch 65/200\n",
      "3991/3991 [==============================] - 3s 764us/step - loss: 4.6288 - acc: 0.9782 - val_loss: 4.8296 - val_acc: 0.9009\n",
      "Epoch 66/200\n",
      "3991/3991 [==============================] - 3s 773us/step - loss: 4.5801 - acc: 0.9815 - val_loss: 4.7891 - val_acc: 0.8998\n",
      "Epoch 67/200\n",
      "3991/3991 [==============================] - 3s 762us/step - loss: 4.5384 - acc: 0.9832 - val_loss: 4.7644 - val_acc: 0.8844\n",
      "Epoch 68/200\n",
      "3991/3991 [==============================] - 3s 766us/step - loss: 4.4897 - acc: 0.9827 - val_loss: 4.7093 - val_acc: 0.8987\n",
      "Epoch 69/200\n",
      "3991/3991 [==============================] - 3s 762us/step - loss: 4.4467 - acc: 0.9852 - val_loss: 4.6864 - val_acc: 0.8943\n",
      "Epoch 70/200\n",
      "3991/3991 [==============================] - 3s 757us/step - loss: 4.4168 - acc: 0.9820 - val_loss: 4.6217 - val_acc: 0.9042\n",
      "Epoch 71/200\n",
      "3991/3991 [==============================] - 3s 766us/step - loss: 4.3689 - acc: 0.9837 - val_loss: 4.5816 - val_acc: 0.9064\n",
      "Epoch 72/200\n",
      "3991/3991 [==============================] - 3s 774us/step - loss: 4.3267 - acc: 0.9870 - val_loss: 4.5503 - val_acc: 0.8976\n",
      "Epoch 73/200\n",
      "3991/3991 [==============================] - 3s 766us/step - loss: 4.2911 - acc: 0.9830 - val_loss: 4.5197 - val_acc: 0.9064\n",
      "Epoch 74/200\n",
      "3991/3991 [==============================] - 3s 757us/step - loss: 4.2527 - acc: 0.9817 - val_loss: 4.4788 - val_acc: 0.9009\n",
      "Epoch 75/200\n",
      "3991/3991 [==============================] - 3s 760us/step - loss: 4.2106 - acc: 0.9837 - val_loss: 4.4341 - val_acc: 0.9042\n",
      "Epoch 76/200\n",
      "3991/3991 [==============================] - 3s 762us/step - loss: 4.1765 - acc: 0.9827 - val_loss: 4.4007 - val_acc: 0.9042\n",
      "Epoch 77/200\n",
      "3991/3991 [==============================] - 3s 769us/step - loss: 4.1382 - acc: 0.9867 - val_loss: 4.3794 - val_acc: 0.8987\n",
      "Epoch 78/200\n",
      "3991/3991 [==============================] - 3s 763us/step - loss: 4.1029 - acc: 0.9845 - val_loss: 4.3370 - val_acc: 0.8910\n",
      "Epoch 79/200\n",
      "3991/3991 [==============================] - 3s 761us/step - loss: 4.0621 - acc: 0.9865 - val_loss: 4.2931 - val_acc: 0.9053\n",
      "Epoch 80/200\n",
      "3991/3991 [==============================] - 3s 761us/step - loss: 4.0319 - acc: 0.9822 - val_loss: 4.2557 - val_acc: 0.9042\n",
      "Epoch 81/200\n",
      "3991/3991 [==============================] - 3s 757us/step - loss: 3.9955 - acc: 0.9845 - val_loss: 4.2077 - val_acc: 0.9119\n",
      "Epoch 82/200\n",
      "3991/3991 [==============================] - 3s 765us/step - loss: 3.9536 - acc: 0.9860 - val_loss: 4.1892 - val_acc: 0.9053\n",
      "Epoch 83/200\n",
      "3991/3991 [==============================] - 3s 764us/step - loss: 3.9233 - acc: 0.9835 - val_loss: 4.1588 - val_acc: 0.9086\n",
      "Epoch 84/200\n",
      "3991/3991 [==============================] - 3s 759us/step - loss: 3.8911 - acc: 0.9842 - val_loss: 4.1241 - val_acc: 0.8998\n",
      "Epoch 85/200\n",
      "3991/3991 [==============================] - 3s 768us/step - loss: 3.8569 - acc: 0.9845 - val_loss: 4.0864 - val_acc: 0.9064\n",
      "Epoch 86/200\n",
      "3991/3991 [==============================] - 3s 776us/step - loss: 3.8202 - acc: 0.9867 - val_loss: 4.0641 - val_acc: 0.8998\n",
      "Epoch 87/200\n",
      "3991/3991 [==============================] - 3s 772us/step - loss: 3.7854 - acc: 0.9862 - val_loss: 4.0386 - val_acc: 0.8910\n",
      "Epoch 88/200\n",
      "3991/3991 [==============================] - 3s 760us/step - loss: 3.7559 - acc: 0.9860 - val_loss: 3.9863 - val_acc: 0.9042\n",
      "Epoch 89/200\n",
      "3991/3991 [==============================] - 3s 765us/step - loss: 3.7224 - acc: 0.9875 - val_loss: 3.9484 - val_acc: 0.9042\n",
      "Epoch 90/200\n",
      "3991/3991 [==============================] - 3s 763us/step - loss: 3.6967 - acc: 0.9832 - val_loss: 3.9359 - val_acc: 0.9064\n",
      "Epoch 91/200\n",
      "3991/3991 [==============================] - 3s 767us/step - loss: 3.6700 - acc: 0.9822 - val_loss: 3.8967 - val_acc: 0.8976\n",
      "Epoch 92/200\n",
      "3991/3991 [==============================] - 3s 763us/step - loss: 3.6293 - acc: 0.9862 - val_loss: 3.8731 - val_acc: 0.8987\n",
      "Epoch 93/200\n",
      "3991/3991 [==============================] - 3s 757us/step - loss: 3.6001 - acc: 0.9850 - val_loss: 3.8404 - val_acc: 0.9053\n",
      "Epoch 94/200\n",
      "3991/3991 [==============================] - 3s 759us/step - loss: 3.5674 - acc: 0.9882 - val_loss: 3.8031 - val_acc: 0.9042\n",
      "Epoch 95/200\n",
      "3991/3991 [==============================] - 3s 759us/step - loss: 3.5382 - acc: 0.9882 - val_loss: 3.7762 - val_acc: 0.9064\n",
      "Epoch 96/200\n",
      "3991/3991 [==============================] - 3s 761us/step - loss: 3.5051 - acc: 0.9885 - val_loss: 3.7507 - val_acc: 0.9053\n",
      "Epoch 97/200\n",
      "3991/3991 [==============================] - 3s 761us/step - loss: 3.4837 - acc: 0.9855 - val_loss: 3.7159 - val_acc: 0.9053\n",
      "Epoch 98/200\n",
      "3991/3991 [==============================] - 3s 784us/step - loss: 3.4557 - acc: 0.9857 - val_loss: 3.6850 - val_acc: 0.9042\n",
      "Epoch 99/200\n",
      "3991/3991 [==============================] - 3s 820us/step - loss: 3.4217 - acc: 0.9895 - val_loss: 3.6638 - val_acc: 0.9031\n",
      "Epoch 100/200\n",
      "3991/3991 [==============================] - 3s 824us/step - loss: 3.3948 - acc: 0.9880 - val_loss: 3.6245 - val_acc: 0.9097\n",
      "Epoch 101/200\n",
      "3991/3991 [==============================] - 3s 828us/step - loss: 3.3599 - acc: 0.9890 - val_loss: 3.6043 - val_acc: 0.9108\n",
      "Epoch 102/200\n",
      "3991/3991 [==============================] - 3s 825us/step - loss: 3.3381 - acc: 0.9862 - val_loss: 3.5929 - val_acc: 0.9042\n",
      "Epoch 103/200\n",
      "3991/3991 [==============================] - 3s 804us/step - loss: 3.3102 - acc: 0.9882 - val_loss: 3.5589 - val_acc: 0.9075\n",
      "Epoch 104/200\n",
      "3991/3991 [==============================] - 3s 817us/step - loss: 3.2819 - acc: 0.9887 - val_loss: 3.5310 - val_acc: 0.9031\n",
      "Epoch 105/200\n",
      "3991/3991 [==============================] - 3s 873us/step - loss: 3.2561 - acc: 0.9887 - val_loss: 3.4939 - val_acc: 0.9064\n",
      "Epoch 106/200\n",
      "3991/3991 [==============================] - 4s 883us/step - loss: 3.2305 - acc: 0.9890 - val_loss: 3.4774 - val_acc: 0.9086\n",
      "Epoch 107/200\n",
      "3991/3991 [==============================] - 4s 897us/step - loss: 3.2059 - acc: 0.9872 - val_loss: 3.4539 - val_acc: 0.9031\n",
      "Epoch 108/200\n",
      "3991/3991 [==============================] - 4s 882us/step - loss: 3.1828 - acc: 0.9882 - val_loss: 3.4218 - val_acc: 0.9064\n",
      "Epoch 109/200\n",
      "3991/3991 [==============================] - 4s 897us/step - loss: 3.1560 - acc: 0.9867 - val_loss: 3.4042 - val_acc: 0.9042\n",
      "Epoch 110/200\n",
      "3991/3991 [==============================] - 4s 894us/step - loss: 3.1276 - acc: 0.9897 - val_loss: 3.3580 - val_acc: 0.9163\n",
      "Epoch 111/200\n",
      "3991/3991 [==============================] - 4s 887us/step - loss: 3.0993 - acc: 0.9897 - val_loss: 3.3372 - val_acc: 0.9097\n",
      "Epoch 112/200\n",
      "3991/3991 [==============================] - 4s 892us/step - loss: 3.0814 - acc: 0.9885 - val_loss: 3.3217 - val_acc: 0.9053\n",
      "Epoch 113/200\n",
      "3991/3991 [==============================] - 4s 897us/step - loss: 3.0555 - acc: 0.9895 - val_loss: 3.2957 - val_acc: 0.9031\n",
      "Epoch 114/200\n",
      "3991/3991 [==============================] - 4s 894us/step - loss: 3.0293 - acc: 0.9902 - val_loss: 3.2835 - val_acc: 0.9020\n",
      "Epoch 115/200\n",
      "3991/3991 [==============================] - 4s 898us/step - loss: 3.0066 - acc: 0.9890 - val_loss: 3.2595 - val_acc: 0.9064\n",
      "Epoch 116/200\n",
      "3991/3991 [==============================] - 4s 895us/step - loss: 2.9862 - acc: 0.9885 - val_loss: 3.2250 - val_acc: 0.9086\n",
      "Epoch 117/200\n",
      "3991/3991 [==============================] - 4s 892us/step - loss: 2.9587 - acc: 0.9895 - val_loss: 3.2185 - val_acc: 0.9009\n",
      "Epoch 118/200\n",
      "3991/3991 [==============================] - 4s 888us/step - loss: 2.9375 - acc: 0.9887 - val_loss: 3.1897 - val_acc: 0.9031\n",
      "Epoch 119/200\n"
     ]
    },
    {
     "name": "stdout",
     "output_type": "stream",
     "text": [
      "3991/3991 [==============================] - 4s 894us/step - loss: 2.9160 - acc: 0.9895 - val_loss: 3.1586 - val_acc: 0.9086\n",
      "Epoch 120/200\n",
      "3991/3991 [==============================] - 4s 891us/step - loss: 2.8942 - acc: 0.9892 - val_loss: 3.1417 - val_acc: 0.9031\n",
      "Epoch 121/200\n",
      "3991/3991 [==============================] - 4s 891us/step - loss: 2.8732 - acc: 0.9900 - val_loss: 3.1271 - val_acc: 0.8998\n",
      "Epoch 122/200\n",
      "3991/3991 [==============================] - 4s 896us/step - loss: 2.8508 - acc: 0.9907 - val_loss: 3.1020 - val_acc: 0.9053\n",
      "Epoch 123/200\n",
      "3991/3991 [==============================] - 4s 897us/step - loss: 2.8246 - acc: 0.9907 - val_loss: 3.0740 - val_acc: 0.9097\n",
      "Epoch 124/200\n",
      "3991/3991 [==============================] - 4s 900us/step - loss: 2.8064 - acc: 0.9902 - val_loss: 3.0671 - val_acc: 0.9086\n",
      "Epoch 125/200\n",
      "3991/3991 [==============================] - 4s 887us/step - loss: 2.7874 - acc: 0.9885 - val_loss: 3.0328 - val_acc: 0.9075\n",
      "Epoch 126/200\n",
      "3991/3991 [==============================] - 4s 894us/step - loss: 2.7661 - acc: 0.9890 - val_loss: 3.0304 - val_acc: 0.9075\n",
      "Epoch 127/200\n",
      "3991/3991 [==============================] - 4s 894us/step - loss: 2.7424 - acc: 0.9915 - val_loss: 2.9862 - val_acc: 0.9119\n",
      "Epoch 128/200\n",
      "3991/3991 [==============================] - 4s 893us/step - loss: 2.7187 - acc: 0.9925 - val_loss: 2.9649 - val_acc: 0.9119\n",
      "Epoch 129/200\n",
      "3991/3991 [==============================] - 4s 897us/step - loss: 2.7052 - acc: 0.9890 - val_loss: 2.9637 - val_acc: 0.9042\n",
      "Epoch 130/200\n",
      "3991/3991 [==============================] - 4s 881us/step - loss: 2.6836 - acc: 0.9907 - val_loss: 2.9503 - val_acc: 0.9031\n",
      "Epoch 131/200\n",
      "3991/3991 [==============================] - 4s 896us/step - loss: 2.6607 - acc: 0.9917 - val_loss: 2.9129 - val_acc: 0.9130\n",
      "Epoch 132/200\n",
      "3991/3991 [==============================] - 4s 897us/step - loss: 2.6452 - acc: 0.9900 - val_loss: 2.9068 - val_acc: 0.9119\n",
      "Epoch 133/200\n",
      "3991/3991 [==============================] - 4s 899us/step - loss: 2.6238 - acc: 0.9910 - val_loss: 2.9016 - val_acc: 0.9075\n",
      "Epoch 134/200\n",
      "3991/3991 [==============================] - 4s 886us/step - loss: 2.6043 - acc: 0.9900 - val_loss: 2.8664 - val_acc: 0.9075\n",
      "Epoch 135/200\n",
      "3991/3991 [==============================] - 3s 876us/step - loss: 2.5849 - acc: 0.9905 - val_loss: 2.8486 - val_acc: 0.9053\n",
      "Epoch 136/200\n",
      "3991/3991 [==============================] - 4s 892us/step - loss: 2.5663 - acc: 0.9907 - val_loss: 2.8417 - val_acc: 0.9020\n",
      "Epoch 137/200\n",
      "3991/3991 [==============================] - 4s 890us/step - loss: 2.5470 - acc: 0.9917 - val_loss: 2.8235 - val_acc: 0.9042\n",
      "Epoch 138/200\n",
      "3991/3991 [==============================] - 4s 894us/step - loss: 2.5312 - acc: 0.9892 - val_loss: 2.7939 - val_acc: 0.9075\n",
      "Epoch 139/200\n",
      "3991/3991 [==============================] - 4s 894us/step - loss: 2.5098 - acc: 0.9900 - val_loss: 2.7849 - val_acc: 0.9053\n",
      "Epoch 140/200\n",
      "3991/3991 [==============================] - 4s 898us/step - loss: 2.4898 - acc: 0.9905 - val_loss: 2.7770 - val_acc: 0.8932\n",
      "Epoch 141/200\n",
      "3991/3991 [==============================] - 4s 888us/step - loss: 2.4774 - acc: 0.9890 - val_loss: 2.7440 - val_acc: 0.9042\n",
      "Epoch 142/200\n",
      "3991/3991 [==============================] - 4s 893us/step - loss: 2.4588 - acc: 0.9902 - val_loss: 2.7200 - val_acc: 0.9064\n",
      "Epoch 143/200\n",
      "3991/3991 [==============================] - 4s 883us/step - loss: 2.4378 - acc: 0.9920 - val_loss: 2.7018 - val_acc: 0.9130\n",
      "Epoch 144/200\n",
      "3991/3991 [==============================] - 4s 877us/step - loss: 2.4265 - acc: 0.9887 - val_loss: 2.6687 - val_acc: 0.9163\n",
      "Epoch 145/200\n",
      "3991/3991 [==============================] - 4s 893us/step - loss: 2.4015 - acc: 0.9935 - val_loss: 2.6499 - val_acc: 0.9163\n",
      "Epoch 146/200\n",
      "3991/3991 [==============================] - 4s 888us/step - loss: 2.3836 - acc: 0.9947 - val_loss: 2.6615 - val_acc: 0.9031\n",
      "INFO:root:save model weights as [weights__2018_10_11_17_38_6.h5]\n"
     ]
    }
   ],
   "source": [
    "\n",
    "result = model.fit(x_train, y_train,\n",
    "                   batch_size=batch_size,\n",
    "                   epochs=epochs,\n",
    "                   verbose=1,\n",
    "                   validation_data=(x_test, y_test), \n",
    "                   callbacks=[es_cb])\n",
    "\n",
    "time_now = datetime.datetime.now()\n",
    "time_now = \"_{0}_{1}_{2}_{3}_{4}_{5}\".format(time_now.year, time_now.month, time_now.day,\n",
    "                                             time_now.hour, time_now.minute, time_now.second)\n",
    "logging.info(\"save model weights as [weights_{0}.h5]\".format(time_now))\n",
    "model.save_weights(weights_dir+\"weights_{0}.h5\".format(time_now), False)"
   ]
  },
  {
   "cell_type": "code",
   "execution_count": null,
   "metadata": {
    "collapsed": true
   },
   "outputs": [],
   "source": []
  },
  {
   "cell_type": "code",
   "execution_count": 20,
   "metadata": {},
   "outputs": [
    {
     "name": "stdout",
     "output_type": "stream",
     "text": [
      "Test loss: 2.66149459011\n",
      "Test accuracy: 0.903083700703\n"
     ]
    }
   ],
   "source": [
    "loss,acc = model.evaluate(x_test, y_test, verbose=0)\n",
    "print('Test loss:', loss)\n",
    "print('Test accuracy:', acc)"
   ]
  },
  {
   "cell_type": "code",
   "execution_count": 34,
   "metadata": {},
   "outputs": [
    {
     "data": {
      "image/png": "[encoded data removed]",
      "text/plain": [
       "<matplotlib.figure.Figure at 0x7fad10776cc0>"
      ]
     },
     "metadata": {},
     "output_type": "display_data"
    }
   ],
   "source": [
    "\n",
    "plt.plot(range(1, len(result.history['acc'])+1), result.history['acc'], label=\"training\")\n",
    "plt.plot(range(1, len(result.history['val_acc'])+1), result.history['val_acc'], label=\"validation\")\n",
    "plt.xlabel('Epochs')\n",
    "plt.ylabel('Accuracy')\n",
    "plt.ylim([0,1])\n",
    "plt.legend()\n",
    "plt.title(\" {} / cell {}\".format(dataset,cells))\n",
    "plt.show()\n"
   ]
  },
  {
   "cell_type": "code",
   "execution_count": 40,
   "metadata": {},
   "outputs": [
    {
     "data": {
      "image/png": "[encoded data removed]",
      "text/plain": [
       "<matplotlib.figure.Figure at 0x7facb1ee3c50>"
      ]
     },
     "metadata": {},
     "output_type": "display_data"
    }
   ],
   "source": [
    "plt.plot(range(1, len(result.history['loss'])+1), result.history['loss'], label=\"loss\")\n",
    "plt.plot(range(1, len(result.history['val_loss'])+1), result.history['val_loss'], label=\"validation_loss\")\n",
    "plt.xlabel('Epochs')\n",
    "plt.ylabel('Accuracy')\n",
    "plt.legend()\n",
    "plt.title(\" {} / cell {}\".format(dataset,cells))\n",
    "plt.show()"
   ]
  },
  {
   "cell_type": "code",
   "execution_count": null,
   "metadata": {
    "collapsed": true
   },
   "outputs": [],
   "source": []
  },
  {
   "cell_type": "markdown",
   "metadata": {},
   "source": [
    "以下，メモ"
   ]
  },
  {
   "cell_type": "code",
   "execution_count": 23,
   "metadata": {},
   "outputs": [
    {
     "data": {
      "text/plain": [
       "[<tf.Tensor 'conv3d_1_input:0' shape=(?, 1, 32, 32, 32) dtype=float32>]"
      ]
     },
     "execution_count": 23,
     "metadata": {},
     "output_type": "execute_result"
    }
   ],
   "source": [
    "model.inputs"
   ]
  },
  {
   "cell_type": "code",
   "execution_count": null,
   "metadata": {
    "collapsed": true
   },
   "outputs": [],
   "source": []
  },
  {
   "cell_type": "code",
   "execution_count": 24,
   "metadata": {},
   "outputs": [
    {
     "ename": "AttributeError",
     "evalue": "'ReLU' object has no attribute '__name__'",
     "output_type": "error",
     "traceback": [
      "\u001b[0;31m---------------------------------------------------------------------------\u001b[0m",
      "\u001b[0;31mAttributeError\u001b[0m                            Traceback (most recent call last)",
      "\u001b[0;32m<ipython-input-24-73e947cf6566>\u001b[0m in \u001b[0;36m<module>\u001b[0;34m()\u001b[0m\n\u001b[0;32m----> 1\u001b[0;31m \u001b[0mjson_string\u001b[0m \u001b[0;34m=\u001b[0m \u001b[0mmodel\u001b[0m\u001b[0;34m.\u001b[0m\u001b[0mto_json\u001b[0m\u001b[0;34m(\u001b[0m\u001b[0;34m)\u001b[0m\u001b[0;34m\u001b[0m\u001b[0m\n\u001b[0m\u001b[1;32m      2\u001b[0m \u001b[0mopen\u001b[0m\u001b[0;34m(\u001b[0m\u001b[0;34m'model.json'\u001b[0m\u001b[0;34m,\u001b[0m \u001b[0;34m'w'\u001b[0m\u001b[0;34m)\u001b[0m\u001b[0;34m.\u001b[0m\u001b[0mwrite\u001b[0m\u001b[0;34m(\u001b[0m\u001b[0mjson_string\u001b[0m\u001b[0;34m)\u001b[0m\u001b[0;34m\u001b[0m\u001b[0m\n",
      "\u001b[0;32m~/.pyenv/versions/anaconda3-5.0.1/lib/python3.6/site-packages/keras/engine/network.py\u001b[0m in \u001b[0;36mto_json\u001b[0;34m(self, **kwargs)\u001b[0m\n\u001b[1;32m   1221\u001b[0m             \u001b[0;32mraise\u001b[0m \u001b[0mTypeError\u001b[0m\u001b[0;34m(\u001b[0m\u001b[0;34m'Not JSON Serializable:'\u001b[0m\u001b[0;34m,\u001b[0m \u001b[0mobj\u001b[0m\u001b[0;34m)\u001b[0m\u001b[0;34m\u001b[0m\u001b[0m\n\u001b[1;32m   1222\u001b[0m \u001b[0;34m\u001b[0m\u001b[0m\n\u001b[0;32m-> 1223\u001b[0;31m         \u001b[0mmodel_config\u001b[0m \u001b[0;34m=\u001b[0m \u001b[0mself\u001b[0m\u001b[0;34m.\u001b[0m\u001b[0m_updated_config\u001b[0m\u001b[0;34m(\u001b[0m\u001b[0;34m)\u001b[0m\u001b[0;34m\u001b[0m\u001b[0m\n\u001b[0m\u001b[1;32m   1224\u001b[0m         \u001b[0;32mreturn\u001b[0m \u001b[0mjson\u001b[0m\u001b[0;34m.\u001b[0m\u001b[0mdumps\u001b[0m\u001b[0;34m(\u001b[0m\u001b[0mmodel_config\u001b[0m\u001b[0;34m,\u001b[0m \u001b[0mdefault\u001b[0m\u001b[0;34m=\u001b[0m\u001b[0mget_json_type\u001b[0m\u001b[0;34m,\u001b[0m \u001b[0;34m**\u001b[0m\u001b[0mkwargs\u001b[0m\u001b[0;34m)\u001b[0m\u001b[0;34m\u001b[0m\u001b[0m\n\u001b[1;32m   1225\u001b[0m \u001b[0;34m\u001b[0m\u001b[0m\n",
      "\u001b[0;32m~/.pyenv/versions/anaconda3-5.0.1/lib/python3.6/site-packages/keras/engine/network.py\u001b[0m in \u001b[0;36m_updated_config\u001b[0;34m(self)\u001b[0m\n\u001b[1;32m   1188\u001b[0m         \u001b[0;32mfrom\u001b[0m \u001b[0;34m.\u001b[0m\u001b[0;34m.\u001b[0m \u001b[0;32mimport\u001b[0m \u001b[0m__version__\u001b[0m \u001b[0;32mas\u001b[0m \u001b[0mkeras_version\u001b[0m\u001b[0;34m\u001b[0m\u001b[0m\n\u001b[1;32m   1189\u001b[0m \u001b[0;34m\u001b[0m\u001b[0m\n\u001b[0;32m-> 1190\u001b[0;31m         \u001b[0mconfig\u001b[0m \u001b[0;34m=\u001b[0m \u001b[0mself\u001b[0m\u001b[0;34m.\u001b[0m\u001b[0mget_config\u001b[0m\u001b[0;34m(\u001b[0m\u001b[0;34m)\u001b[0m\u001b[0;34m\u001b[0m\u001b[0m\n\u001b[0m\u001b[1;32m   1191\u001b[0m         model_config = {\n\u001b[1;32m   1192\u001b[0m             \u001b[0;34m'class_name'\u001b[0m\u001b[0;34m:\u001b[0m \u001b[0mself\u001b[0m\u001b[0;34m.\u001b[0m\u001b[0m__class__\u001b[0m\u001b[0;34m.\u001b[0m\u001b[0m__name__\u001b[0m\u001b[0;34m,\u001b[0m\u001b[0;34m\u001b[0m\u001b[0m\n",
      "\u001b[0;32m~/.pyenv/versions/anaconda3-5.0.1/lib/python3.6/site-packages/keras/engine/sequential.py\u001b[0m in \u001b[0;36mget_config\u001b[0;34m(self)\u001b[0m\n\u001b[1;32m    281\u001b[0m             config.append({\n\u001b[1;32m    282\u001b[0m                 \u001b[0;34m'class_name'\u001b[0m\u001b[0;34m:\u001b[0m \u001b[0mlayer\u001b[0m\u001b[0;34m.\u001b[0m\u001b[0m__class__\u001b[0m\u001b[0;34m.\u001b[0m\u001b[0m__name__\u001b[0m\u001b[0;34m,\u001b[0m\u001b[0;34m\u001b[0m\u001b[0m\n\u001b[0;32m--> 283\u001b[0;31m                 \u001b[0;34m'config'\u001b[0m\u001b[0;34m:\u001b[0m \u001b[0mlayer\u001b[0m\u001b[0;34m.\u001b[0m\u001b[0mget_config\u001b[0m\u001b[0;34m(\u001b[0m\u001b[0;34m)\u001b[0m\u001b[0;34m\u001b[0m\u001b[0m\n\u001b[0m\u001b[1;32m    284\u001b[0m             })\n\u001b[1;32m    285\u001b[0m         \u001b[0;32mreturn\u001b[0m \u001b[0mcopy\u001b[0m\u001b[0;34m.\u001b[0m\u001b[0mdeepcopy\u001b[0m\u001b[0;34m(\u001b[0m\u001b[0mconfig\u001b[0m\u001b[0;34m)\u001b[0m\u001b[0;34m\u001b[0m\u001b[0m\n",
      "\u001b[0;32m~/.pyenv/versions/anaconda3-5.0.1/lib/python3.6/site-packages/keras/layers/core.py\u001b[0m in \u001b[0;36mget_config\u001b[0;34m(self)\u001b[0m\n\u001b[1;32m    306\u001b[0m \u001b[0;34m\u001b[0m\u001b[0m\n\u001b[1;32m    307\u001b[0m     \u001b[0;32mdef\u001b[0m \u001b[0mget_config\u001b[0m\u001b[0;34m(\u001b[0m\u001b[0mself\u001b[0m\u001b[0;34m)\u001b[0m\u001b[0;34m:\u001b[0m\u001b[0;34m\u001b[0m\u001b[0m\n\u001b[0;32m--> 308\u001b[0;31m         \u001b[0mconfig\u001b[0m \u001b[0;34m=\u001b[0m \u001b[0;34m{\u001b[0m\u001b[0;34m'activation'\u001b[0m\u001b[0;34m:\u001b[0m \u001b[0mactivations\u001b[0m\u001b[0;34m.\u001b[0m\u001b[0mserialize\u001b[0m\u001b[0;34m(\u001b[0m\u001b[0mself\u001b[0m\u001b[0;34m.\u001b[0m\u001b[0mactivation\u001b[0m\u001b[0;34m)\u001b[0m\u001b[0;34m}\u001b[0m\u001b[0;34m\u001b[0m\u001b[0m\n\u001b[0m\u001b[1;32m    309\u001b[0m         \u001b[0mbase_config\u001b[0m \u001b[0;34m=\u001b[0m \u001b[0msuper\u001b[0m\u001b[0;34m(\u001b[0m\u001b[0mActivation\u001b[0m\u001b[0;34m,\u001b[0m \u001b[0mself\u001b[0m\u001b[0;34m)\u001b[0m\u001b[0;34m.\u001b[0m\u001b[0mget_config\u001b[0m\u001b[0;34m(\u001b[0m\u001b[0;34m)\u001b[0m\u001b[0;34m\u001b[0m\u001b[0m\n\u001b[1;32m    310\u001b[0m         \u001b[0;32mreturn\u001b[0m \u001b[0mdict\u001b[0m\u001b[0;34m(\u001b[0m\u001b[0mlist\u001b[0m\u001b[0;34m(\u001b[0m\u001b[0mbase_config\u001b[0m\u001b[0;34m.\u001b[0m\u001b[0mitems\u001b[0m\u001b[0;34m(\u001b[0m\u001b[0;34m)\u001b[0m\u001b[0;34m)\u001b[0m \u001b[0;34m+\u001b[0m \u001b[0mlist\u001b[0m\u001b[0;34m(\u001b[0m\u001b[0mconfig\u001b[0m\u001b[0;34m.\u001b[0m\u001b[0mitems\u001b[0m\u001b[0;34m(\u001b[0m\u001b[0;34m)\u001b[0m\u001b[0;34m)\u001b[0m\u001b[0;34m)\u001b[0m\u001b[0;34m\u001b[0m\u001b[0m\n",
      "\u001b[0;32m~/.pyenv/versions/anaconda3-5.0.1/lib/python3.6/site-packages/keras/activations.py\u001b[0m in \u001b[0;36mserialize\u001b[0;34m(activation)\u001b[0m\n\u001b[1;32m    160\u001b[0m \u001b[0;34m\u001b[0m\u001b[0m\n\u001b[1;32m    161\u001b[0m \u001b[0;32mdef\u001b[0m \u001b[0mserialize\u001b[0m\u001b[0;34m(\u001b[0m\u001b[0mactivation\u001b[0m\u001b[0;34m)\u001b[0m\u001b[0;34m:\u001b[0m\u001b[0;34m\u001b[0m\u001b[0m\n\u001b[0;32m--> 162\u001b[0;31m     \u001b[0;32mreturn\u001b[0m \u001b[0mactivation\u001b[0m\u001b[0;34m.\u001b[0m\u001b[0m__name__\u001b[0m\u001b[0;34m\u001b[0m\u001b[0m\n\u001b[0m\u001b[1;32m    163\u001b[0m \u001b[0;34m\u001b[0m\u001b[0m\n\u001b[1;32m    164\u001b[0m \u001b[0;34m\u001b[0m\u001b[0m\n",
      "\u001b[0;31mAttributeError\u001b[0m: 'ReLU' object has no attribute '__name__'"
     ]
    }
   ],
   "source": [
    "json_string = model.to_json()\n",
    "open('model.json', 'w').write(json_string)"
   ]
  },
  {
   "cell_type": "code",
   "execution_count": null,
   "metadata": {
    "collapsed": true
   },
   "outputs": [],
   "source": []
  },
  {
   "cell_type": "code",
   "execution_count": null,
   "metadata": {
    "collapsed": true
   },
   "outputs": [],
   "source": []
  },
  {
   "cell_type": "code",
   "execution_count": null,
   "metadata": {
    "collapsed": true
   },
   "outputs": [],
   "source": []
  }
 ],
 "metadata": {
  "kernelspec": {
   "display_name": "Python 3",
   "language": "python",
   "name": "python3"
  },
  "language_info": {
   "codemirror_mode": {
    "name": "ipython",
    "version": 3
   },
   "file_extension": ".py",
   "mimetype": "text/x-python",
   "name": "python",
   "nbconvert_exporter": "python",
   "pygments_lexer": "ipython3",
   "version": "3.6.3"
  }
 },
 "nbformat": 4,
 "nbformat_minor": 2
}
