{
 "cells": [
  {
   "cell_type": "code",
   "execution_count": 1,
   "metadata": {},
   "outputs": [],
   "source": [
    "from __future__ import print_function"
   ]
  },
  {
   "cell_type": "code",
   "execution_count": 2,
   "metadata": {},
   "outputs": [
    {
     "name": "stderr",
     "output_type": "stream",
     "text": [
      "Using TensorFlow backend.\n"
     ]
    }
   ],
   "source": [
    "%matplotlib inline\n",
    "import logging\n",
    "import datetime\n",
    "import os\n",
    "import sys\n",
    "import numpy as np\n",
    "import matplotlib.pyplot as plt\n",
    "from sklearn.metrics import confusion_matrix\n",
    "import itertools\n",
    "from pylab import rcParams\n",
    "\n",
    "import keras\n",
    "from keras.models import Sequential\n",
    "from keras.layers import Dense, Dropout, Flatten\n",
    "from keras.layers import Conv3D, MaxPooling3D, BatchNormalization, GaussianNoise\n",
    "from keras import backend as K\n",
    "from keras.layers.core import Activation, Dense, Dropout, Flatten\n",
    "from keras.layers.advanced_activations import ReLU\n",
    "from keras.regularizers import l2\n",
    "from keras.callbacks import LearningRateScheduler, ModelCheckpoint\n",
    "from keras.optimizers import SGD\n",
    "from IPython.display import SVG\n",
    "from keras.utils.vis_utils import model_to_dot\n",
    "from keras.utils import plot_model\n"
   ]
  },
  {
   "cell_type": "code",
   "execution_count": 3,
   "metadata": {},
   "outputs": [],
   "source": [
    "# memoryの制限\n",
    "import tensorflow as tf\n",
    "from keras.backend import tensorflow_backend as K\n",
    "config = tf.ConfigProto()\n",
    "config.gpu_options.visible_device_list = \"0\"\n",
    "config.gpu_options.per_process_gpu_memory_fraction = 0.3\n",
    "config.gpu_options.allow_growth = True\n",
    "sess = tf.Session(config=config)\n",
    "K.set_session(sess)"
   ]
  },
  {
   "cell_type": "code",
   "execution_count": 4,
   "metadata": {},
   "outputs": [
    {
     "data": {
      "text/plain": [
       "[name: \"/device:CPU:0\"\n",
       " device_type: \"CPU\"\n",
       " memory_limit: 268435456\n",
       " locality {\n",
       " }\n",
       " incarnation: 10613582014036259153, name: \"/device:GPU:0\"\n",
       " device_type: \"GPU\"\n",
       " memory_limit: 1269065318\n",
       " locality {\n",
       "   bus_id: 1\n",
       "   links {\n",
       "   }\n",
       " }\n",
       " incarnation: 224174539153257534\n",
       " physical_device_desc: \"device: 0, name: GeForce GTX 970, pci bus id: 0000:01:00.0, compute capability: 5.2\", name: \"/device:GPU:1\"\n",
       " device_type: \"GPU\"\n",
       " memory_limit: 213450752\n",
       " locality {\n",
       "   bus_id: 1\n",
       "   links {\n",
       "   }\n",
       " }\n",
       " incarnation: 12984831753745886569\n",
       " physical_device_desc: \"device: 1, name: Tesla K40c, pci bus id: 0000:02:00.0, compute capability: 3.5\"]"
      ]
     },
     "execution_count": 4,
     "metadata": {},
     "output_type": "execute_result"
    }
   ],
   "source": [
    "#GPUを認識できてるか確認\n",
    "from tensorflow.python.client import device_lib\n",
    "device_lib.list_local_devices()"
   ]
  },
  {
   "cell_type": "code",
   "execution_count": 5,
   "metadata": {},
   "outputs": [],
   "source": [
    "#Tuning\n",
    "dataset = \"ModelNet10\"\n",
    "# dataset = \"ModelNet40\"\n",
    "cells = 32\n",
    "batch_size = 128\n",
    "epochs = 40\n",
    "learning_rate = 0.01"
   ]
  },
  {
   "cell_type": "code",
   "execution_count": 6,
   "metadata": {},
   "outputs": [],
   "source": [
    "if dataset == \"ModelNet10\":\n",
    "    data_dir = \"data10/cell\" + str(cells) + \"/\"\n",
    "    fig_dir = \"fig10/cell\" + str(cells) + \"/\"\n",
    "    weights_dir = \"weights10/cell\" + str(cells) + \"/\"\n",
    "    num_classes = 10\n",
    "    class_name_modelnet = [\n",
    "    'bathtub',\n",
    "    'chair',\n",
    "    'dresser',\n",
    "    'night_stand',\n",
    "    'table',\n",
    "    'bed',\n",
    "    'desk',\n",
    "    'monitor',\n",
    "    'sofa',\n",
    "    'toilet',\n",
    "    ]"
   ]
  },
  {
   "cell_type": "code",
   "execution_count": 7,
   "metadata": {},
   "outputs": [],
   "source": [
    "if dataset == \"ModelNet40\":\n",
    "    data_dir = \"data40/cell\" + str(cells) + \"/\"\n",
    "    fig_dir = \"fig40/cell\" + str(cells) + \"/\"\n",
    "    weights_dir = \"weights40/cell\" + str(cells) + \"/\"\n",
    "    num_classes = 40\n",
    "    class_name_modelnet = [\n",
    "    'airplane',\n",
    "    'bookshelf',\n",
    "    'chair',\n",
    "    'desk',\n",
    "    'glass_box',\n",
    "    'laptop',\n",
    "    'person',\n",
    "    'range_hood',\n",
    "    'stool',\n",
    "    'tv_stand',\n",
    "    'bathtub',\n",
    "    'bottle',\n",
    "    'cone',\n",
    "    'door',\n",
    "    'guitar',\n",
    "    'mantel',\n",
    "    'piano',\n",
    "    'sink',\n",
    "    'table',\n",
    "    'vase',\n",
    "    'bed',\n",
    "    'bowl',\n",
    "    'cup',\n",
    "    'dresser',\n",
    "    'keyboard',\n",
    "    'monitor',\n",
    "    'plant',\n",
    "    'sofa',\n",
    "    'tent',\n",
    "    'wardrobe',\n",
    "    'bench',\n",
    "    'car',\n",
    "    'curtain',\n",
    "    'flower_pot',\n",
    "    'lamp',\n",
    "    'night_stand',\n",
    "    'radio',\n",
    "    'stairs',\n",
    "    'toilet',\n",
    "    'xbox',\n",
    "    ]"
   ]
  },
  {
   "cell_type": "code",
   "execution_count": 8,
   "metadata": {},
   "outputs": [],
   "source": [
    "train_or_test = [\"train\",\"test\"]"
   ]
  },
  {
   "cell_type": "code",
   "execution_count": 9,
   "metadata": {},
   "outputs": [],
   "source": [
    "if os.path.exists(weights_dir) == False:\n",
    "    os.makedirs(weights_dir)\n",
    "if os.path.exists(fig_dir) == False:\n",
    "    os.makedirs(fig_dir)"
   ]
  },
  {
   "cell_type": "code",
   "execution_count": 10,
   "metadata": {},
   "outputs": [
    {
     "name": "stderr",
     "output_type": "stream",
     "text": [
      "/home/takitani/anaconda3/lib/python3.6/site-packages/ipykernel_launcher.py:18: UserWarning: Update your `Conv3D` call to the Keras 2 API: `Conv3D(input_shape=(1, 32, 32..., kernel_size=(5, 5, 5), filters=32, strides=(2, 2, 2), padding=\"valid\", data_format=\"channels_first\", kernel_initializer=\"normal\", kernel_regularizer=<keras.reg..., bias_regularizer=<keras.reg...)`\n",
      "/home/takitani/anaconda3/lib/python3.6/site-packages/keras/activations.py:211: UserWarning: Do not pass a layer instance (such as ReLU) as the activation argument of another layer. Instead, advanced activation layers should be used just like any other layer in a model.\n",
      "  identifier=identifier.__class__.__name__))\n",
      "/home/takitani/anaconda3/lib/python3.6/site-packages/ipykernel_launcher.py:42: UserWarning: Update your `Dropout` call to the Keras 2 API: `Dropout(rate=0.4)`\n",
      "/home/takitani/anaconda3/lib/python3.6/site-packages/ipykernel_launcher.py:54: UserWarning: Update your `Conv3D` call to the Keras 2 API: `Conv3D(kernel_size=(3, 3, 3), filters=32, strides=(1, 1, 1), padding=\"valid\", data_format=\"channels_first\", kernel_initializer=\"normal\", kernel_regularizer=<keras.reg..., bias_regularizer=<keras.reg...)`\n",
      "/home/takitani/anaconda3/lib/python3.6/site-packages/ipykernel_launcher.py:79: UserWarning: Update your `MaxPooling3D` call to the Keras 2 API: `MaxPooling3D(pool_size=(2, 2, 2), strides=None, padding=\"valid\", data_format=\"channels_first\")`\n",
      "/home/takitani/anaconda3/lib/python3.6/site-packages/ipykernel_launcher.py:82: UserWarning: Update your `Dropout` call to the Keras 2 API: `Dropout(rate=0.4)`\n",
      "/home/takitani/anaconda3/lib/python3.6/site-packages/ipykernel_launcher.py:91: UserWarning: Update your `Dense` call to the Keras 2 API: `Dense(activation=\"linear\", units=528, kernel_initializer=\"normal\", kernel_regularizer=<keras.reg..., bias_regularizer=<keras.reg...)`\n",
      "/home/takitani/anaconda3/lib/python3.6/site-packages/ipykernel_launcher.py:95: UserWarning: Update your `Dropout` call to the Keras 2 API: `Dropout(rate=0.5)`\n",
      "/home/takitani/anaconda3/lib/python3.6/site-packages/ipykernel_launcher.py:102: UserWarning: Update your `Dense` call to the Keras 2 API: `Dense(activation=\"linear\", units=10, kernel_initializer=\"normal\", kernel_regularizer=<keras.reg..., bias_regularizer=<keras.reg...)`\n"
     ]
    }
   ],
   "source": [
    "# optimizer = SGD(lr=0.01, momentum=0.9, decay=0.00016667, nesterov=False)\n",
    "optimizer = SGD(lr=learning_rate, momentum=0.9, decay=0.00016667, nesterov=False)\n",
    "\n",
    "# init model\n",
    "model = Sequential()\n",
    "\n",
    "# convolution 1\n",
    "model.add(Conv3D(input_shape=(1, cells, cells, cells),\n",
    "                            nb_filter=32,\n",
    "                            kernel_dim1=5,\n",
    "                            kernel_dim2=5,\n",
    "                            kernel_dim3=5,\n",
    "                            init='normal',\n",
    "                            border_mode='valid',\n",
    "                            subsample=(2, 2, 2),\n",
    "                            dim_ordering='th',\n",
    "                            W_regularizer=l2(0.001),\n",
    "                            b_regularizer=l2(0.001),\n",
    "                            ))\n",
    "\n",
    "# # BatchNormalization 1\n",
    "# model.add(BatchNormalization(axis=-1, \n",
    "#                              momentum=0.99, \n",
    "#                              epsilon=0.001, \n",
    "#                              center=True, \n",
    "#                              scale=True, \n",
    "#                              beta_initializer='zeros', \n",
    "#                              gamma_initializer='ones', \n",
    "#                              moving_mean_initializer='zeros', \n",
    "#                              moving_variance_initializer='ones', \n",
    "#                              beta_regularizer=None, \n",
    "#                              gamma_regularizer=None, \n",
    "#                              beta_constraint=None, \n",
    "#                              gamma_constraint=None))\n",
    "\n",
    "\n",
    "\n",
    "#Activation ReLu\n",
    "model.add(Activation(ReLU()))\n",
    "\n",
    "# dropout 1\n",
    "model.add(Dropout(p=0.4))\n",
    "\n",
    "# convolution 2\n",
    "model.add(Conv3D(nb_filter=32,\n",
    "                            kernel_dim1=3,\n",
    "                            kernel_dim2=3,\n",
    "                            kernel_dim3=3,\n",
    "                            init='normal',\n",
    "                            border_mode='valid',\n",
    "                            subsample=(1, 1, 1),\n",
    "                            dim_ordering='th',\n",
    "                            W_regularizer=l2(0.001),\n",
    "                            b_regularizer=l2(0.001),\n",
    "                            ))\n",
    "\n",
    "# # BatchNormalization 2\n",
    "# model.add(BatchNormalization(axis=-1, \n",
    "#                              momentum=0.99, \n",
    "#                              epsilon=0.001, \n",
    "#                              center=True, \n",
    "#                              scale=True, \n",
    "#                              beta_initializer='zeros', \n",
    "#                              gamma_initializer='ones', \n",
    "#                              moving_mean_initializer='zeros', \n",
    "#                              moving_variance_initializer='ones', \n",
    "#                              beta_regularizer=None, \n",
    "#                              gamma_regularizer=None, \n",
    "#                              beta_constraint=None, \n",
    "#                              gamma_constraint=None))\n",
    "\n",
    "#Activation ReLu\n",
    "model.add(Activation(ReLU()))\n",
    "\n",
    "# max pool 1\n",
    "model.add(MaxPooling3D(pool_size=(2, 2, 2),\n",
    "                           strides=None,\n",
    "                           border_mode='valid',\n",
    "                           dim_ordering='th'))\n",
    "\n",
    "# dropout 2\n",
    "model.add(Dropout(p=0.4))\n",
    "\n",
    "# dense 1 (fully connected layer)\n",
    "model.add(Flatten())\n",
    "\n",
    "model.add(Dense(output_dim=528, #128\n",
    "                    init='normal',\n",
    "                    activation='linear',\n",
    "                    W_regularizer=l2(0.001),\n",
    "                    b_regularizer=l2(0.001),\n",
    "                    ))\n",
    "\n",
    "# dropout 3\n",
    "model.add(Dropout(p=0.5))\n",
    "\n",
    "# dense 2 (fully connected layer)\n",
    "model.add(Dense(output_dim=num_classes,\n",
    "                    init='normal',\n",
    "                    activation='linear',\n",
    "                    W_regularizer=l2(0.001),\n",
    "                    b_regularizer=l2(0.001),\n",
    "                    ))\n",
    "\n",
    "#Activation Softmax\n",
    "model.add(Activation(\"softmax\"))\n",
    "\n",
    "# compile model\n",
    "model.compile(loss='categorical_crossentropy', optimizer=optimizer, metrics=[\"accuracy\"])\n"
   ]
  },
  {
   "cell_type": "code",
   "execution_count": 11,
   "metadata": {},
   "outputs": [
    {
     "data": {
      "image/svg+xml": [
       "<svg height=\"1041pt\" viewBox=\"0.00 0.00 409.00 1041.00\" width=\"409pt\" xmlns=\"http://www.w3.org/2000/svg\" xmlns:xlink=\"http://www.w3.org/1999/xlink\">\n",
       "<g class=\"graph\" id=\"graph0\" transform=\"scale(1 1) rotate(0) translate(4 1037)\">\n",
       "<title>G</title>\n",
       "<polygon fill=\"white\" points=\"-4,4 -4,-1037 405,-1037 405,4 -4,4\" stroke=\"none\"/>\n",
       "<!-- 140147706076576 -->\n",
       "<g class=\"node\" id=\"node1\"><title>140147706076576</title>\n",
       "<polygon fill=\"none\" points=\"42,-913.5 42,-959.5 359,-959.5 359,-913.5 42,-913.5\" stroke=\"black\"/>\n",
       "<text font-family=\"Times,serif\" font-size=\"14.00\" text-anchor=\"middle\" x=\"103.5\" y=\"-932.8\">conv3d_1: Conv3D</text>\n",
       "<polyline fill=\"none\" points=\"165,-913.5 165,-959.5 \" stroke=\"black\"/>\n",
       "<text font-family=\"Times,serif\" font-size=\"14.00\" text-anchor=\"middle\" x=\"192.5\" y=\"-944.3\">input:</text>\n",
       "<polyline fill=\"none\" points=\"165,-936.5 220,-936.5 \" stroke=\"black\"/>\n",
       "<text font-family=\"Times,serif\" font-size=\"14.00\" text-anchor=\"middle\" x=\"192.5\" y=\"-921.3\">output:</text>\n",
       "<polyline fill=\"none\" points=\"220,-913.5 220,-959.5 \" stroke=\"black\"/>\n",
       "<text font-family=\"Times,serif\" font-size=\"14.00\" text-anchor=\"middle\" x=\"289.5\" y=\"-944.3\">(None, 1, 32, 32, 32)</text>\n",
       "<polyline fill=\"none\" points=\"220,-936.5 359,-936.5 \" stroke=\"black\"/>\n",
       "<text font-family=\"Times,serif\" font-size=\"14.00\" text-anchor=\"middle\" x=\"289.5\" y=\"-921.3\">(None, 32, 14, 14, 14)</text>\n",
       "</g>\n",
       "<!-- 140147705602344 -->\n",
       "<g class=\"node\" id=\"node2\"><title>140147705602344</title>\n",
       "<polygon fill=\"none\" points=\"29.5,-830.5 29.5,-876.5 371.5,-876.5 371.5,-830.5 29.5,-830.5\" stroke=\"black\"/>\n",
       "<text font-family=\"Times,serif\" font-size=\"14.00\" text-anchor=\"middle\" x=\"103.5\" y=\"-849.8\">activation_1: Activation</text>\n",
       "<polyline fill=\"none\" points=\"177.5,-830.5 177.5,-876.5 \" stroke=\"black\"/>\n",
       "<text font-family=\"Times,serif\" font-size=\"14.00\" text-anchor=\"middle\" x=\"205\" y=\"-861.3\">input:</text>\n",
       "<polyline fill=\"none\" points=\"177.5,-853.5 232.5,-853.5 \" stroke=\"black\"/>\n",
       "<text font-family=\"Times,serif\" font-size=\"14.00\" text-anchor=\"middle\" x=\"205\" y=\"-838.3\">output:</text>\n",
       "<polyline fill=\"none\" points=\"232.5,-830.5 232.5,-876.5 \" stroke=\"black\"/>\n",
       "<text font-family=\"Times,serif\" font-size=\"14.00\" text-anchor=\"middle\" x=\"302\" y=\"-861.3\">(None, 32, 14, 14, 14)</text>\n",
       "<polyline fill=\"none\" points=\"232.5,-853.5 371.5,-853.5 \" stroke=\"black\"/>\n",
       "<text font-family=\"Times,serif\" font-size=\"14.00\" text-anchor=\"middle\" x=\"302\" y=\"-838.3\">(None, 32, 14, 14, 14)</text>\n",
       "</g>\n",
       "<!-- 140147706076576&#45;&gt;140147705602344 -->\n",
       "<g class=\"edge\" id=\"edge2\"><title>140147706076576-&gt;140147705602344</title>\n",
       "<path d=\"M200.5,-913.366C200.5,-905.152 200.5,-895.658 200.5,-886.725\" fill=\"none\" stroke=\"black\"/>\n",
       "<polygon fill=\"black\" points=\"204,-886.607 200.5,-876.607 197,-886.607 204,-886.607\" stroke=\"black\"/>\n",
       "</g>\n",
       "<!-- 140147705602288 -->\n",
       "<g class=\"node\" id=\"node3\"><title>140147705602288</title>\n",
       "<polygon fill=\"none\" points=\"41,-747.5 41,-793.5 360,-793.5 360,-747.5 41,-747.5\" stroke=\"black\"/>\n",
       "<text font-family=\"Times,serif\" font-size=\"14.00\" text-anchor=\"middle\" x=\"103.5\" y=\"-766.8\">dropout_1: Dropout</text>\n",
       "<polyline fill=\"none\" points=\"166,-747.5 166,-793.5 \" stroke=\"black\"/>\n",
       "<text font-family=\"Times,serif\" font-size=\"14.00\" text-anchor=\"middle\" x=\"193.5\" y=\"-778.3\">input:</text>\n",
       "<polyline fill=\"none\" points=\"166,-770.5 221,-770.5 \" stroke=\"black\"/>\n",
       "<text font-family=\"Times,serif\" font-size=\"14.00\" text-anchor=\"middle\" x=\"193.5\" y=\"-755.3\">output:</text>\n",
       "<polyline fill=\"none\" points=\"221,-747.5 221,-793.5 \" stroke=\"black\"/>\n",
       "<text font-family=\"Times,serif\" font-size=\"14.00\" text-anchor=\"middle\" x=\"290.5\" y=\"-778.3\">(None, 32, 14, 14, 14)</text>\n",
       "<polyline fill=\"none\" points=\"221,-770.5 360,-770.5 \" stroke=\"black\"/>\n",
       "<text font-family=\"Times,serif\" font-size=\"14.00\" text-anchor=\"middle\" x=\"290.5\" y=\"-755.3\">(None, 32, 14, 14, 14)</text>\n",
       "</g>\n",
       "<!-- 140147705602344&#45;&gt;140147705602288 -->\n",
       "<g class=\"edge\" id=\"edge3\"><title>140147705602344-&gt;140147705602288</title>\n",
       "<path d=\"M200.5,-830.366C200.5,-822.152 200.5,-812.658 200.5,-803.725\" fill=\"none\" stroke=\"black\"/>\n",
       "<polygon fill=\"black\" points=\"204,-803.607 200.5,-793.607 197,-803.607 204,-803.607\" stroke=\"black\"/>\n",
       "</g>\n",
       "<!-- 140147705113456 -->\n",
       "<g class=\"node\" id=\"node4\"><title>140147705113456</title>\n",
       "<polygon fill=\"none\" points=\"42,-664.5 42,-710.5 359,-710.5 359,-664.5 42,-664.5\" stroke=\"black\"/>\n",
       "<text font-family=\"Times,serif\" font-size=\"14.00\" text-anchor=\"middle\" x=\"103.5\" y=\"-683.8\">conv3d_2: Conv3D</text>\n",
       "<polyline fill=\"none\" points=\"165,-664.5 165,-710.5 \" stroke=\"black\"/>\n",
       "<text font-family=\"Times,serif\" font-size=\"14.00\" text-anchor=\"middle\" x=\"192.5\" y=\"-695.3\">input:</text>\n",
       "<polyline fill=\"none\" points=\"165,-687.5 220,-687.5 \" stroke=\"black\"/>\n",
       "<text font-family=\"Times,serif\" font-size=\"14.00\" text-anchor=\"middle\" x=\"192.5\" y=\"-672.3\">output:</text>\n",
       "<polyline fill=\"none\" points=\"220,-664.5 220,-710.5 \" stroke=\"black\"/>\n",
       "<text font-family=\"Times,serif\" font-size=\"14.00\" text-anchor=\"middle\" x=\"289.5\" y=\"-695.3\">(None, 32, 14, 14, 14)</text>\n",
       "<polyline fill=\"none\" points=\"220,-687.5 359,-687.5 \" stroke=\"black\"/>\n",
       "<text font-family=\"Times,serif\" font-size=\"14.00\" text-anchor=\"middle\" x=\"289.5\" y=\"-672.3\">(None, 32, 12, 12, 12)</text>\n",
       "</g>\n",
       "<!-- 140147705602288&#45;&gt;140147705113456 -->\n",
       "<g class=\"edge\" id=\"edge4\"><title>140147705602288-&gt;140147705113456</title>\n",
       "<path d=\"M200.5,-747.366C200.5,-739.152 200.5,-729.658 200.5,-720.725\" fill=\"none\" stroke=\"black\"/>\n",
       "<polygon fill=\"black\" points=\"204,-720.607 200.5,-710.607 197,-720.607 204,-720.607\" stroke=\"black\"/>\n",
       "</g>\n",
       "<!-- 140147704797112 -->\n",
       "<g class=\"node\" id=\"node5\"><title>140147704797112</title>\n",
       "<polygon fill=\"none\" points=\"29.5,-581.5 29.5,-627.5 371.5,-627.5 371.5,-581.5 29.5,-581.5\" stroke=\"black\"/>\n",
       "<text font-family=\"Times,serif\" font-size=\"14.00\" text-anchor=\"middle\" x=\"103.5\" y=\"-600.8\">activation_2: Activation</text>\n",
       "<polyline fill=\"none\" points=\"177.5,-581.5 177.5,-627.5 \" stroke=\"black\"/>\n",
       "<text font-family=\"Times,serif\" font-size=\"14.00\" text-anchor=\"middle\" x=\"205\" y=\"-612.3\">input:</text>\n",
       "<polyline fill=\"none\" points=\"177.5,-604.5 232.5,-604.5 \" stroke=\"black\"/>\n",
       "<text font-family=\"Times,serif\" font-size=\"14.00\" text-anchor=\"middle\" x=\"205\" y=\"-589.3\">output:</text>\n",
       "<polyline fill=\"none\" points=\"232.5,-581.5 232.5,-627.5 \" stroke=\"black\"/>\n",
       "<text font-family=\"Times,serif\" font-size=\"14.00\" text-anchor=\"middle\" x=\"302\" y=\"-612.3\">(None, 32, 12, 12, 12)</text>\n",
       "<polyline fill=\"none\" points=\"232.5,-604.5 371.5,-604.5 \" stroke=\"black\"/>\n",
       "<text font-family=\"Times,serif\" font-size=\"14.00\" text-anchor=\"middle\" x=\"302\" y=\"-589.3\">(None, 32, 12, 12, 12)</text>\n",
       "</g>\n",
       "<!-- 140147705113456&#45;&gt;140147704797112 -->\n",
       "<g class=\"edge\" id=\"edge5\"><title>140147705113456-&gt;140147704797112</title>\n",
       "<path d=\"M200.5,-664.366C200.5,-656.152 200.5,-646.658 200.5,-637.725\" fill=\"none\" stroke=\"black\"/>\n",
       "<polygon fill=\"black\" points=\"204,-637.607 200.5,-627.607 197,-637.607 204,-637.607\" stroke=\"black\"/>\n",
       "</g>\n",
       "<!-- 140147704798288 -->\n",
       "<g class=\"node\" id=\"node6\"><title>140147704798288</title>\n",
       "<polygon fill=\"none\" points=\"-2.84217e-14,-498.5 -2.84217e-14,-544.5 401,-544.5 401,-498.5 -2.84217e-14,-498.5\" stroke=\"black\"/>\n",
       "<text font-family=\"Times,serif\" font-size=\"14.00\" text-anchor=\"middle\" x=\"103.5\" y=\"-517.8\">max_pooling3d_1: MaxPooling3D</text>\n",
       "<polyline fill=\"none\" points=\"207,-498.5 207,-544.5 \" stroke=\"black\"/>\n",
       "<text font-family=\"Times,serif\" font-size=\"14.00\" text-anchor=\"middle\" x=\"234.5\" y=\"-529.3\">input:</text>\n",
       "<polyline fill=\"none\" points=\"207,-521.5 262,-521.5 \" stroke=\"black\"/>\n",
       "<text font-family=\"Times,serif\" font-size=\"14.00\" text-anchor=\"middle\" x=\"234.5\" y=\"-506.3\">output:</text>\n",
       "<polyline fill=\"none\" points=\"262,-498.5 262,-544.5 \" stroke=\"black\"/>\n",
       "<text font-family=\"Times,serif\" font-size=\"14.00\" text-anchor=\"middle\" x=\"331.5\" y=\"-529.3\">(None, 32, 12, 12, 12)</text>\n",
       "<polyline fill=\"none\" points=\"262,-521.5 401,-521.5 \" stroke=\"black\"/>\n",
       "<text font-family=\"Times,serif\" font-size=\"14.00\" text-anchor=\"middle\" x=\"331.5\" y=\"-506.3\">(None, 32, 6, 6, 6)</text>\n",
       "</g>\n",
       "<!-- 140147704797112&#45;&gt;140147704798288 -->\n",
       "<g class=\"edge\" id=\"edge6\"><title>140147704797112-&gt;140147704798288</title>\n",
       "<path d=\"M200.5,-581.366C200.5,-573.152 200.5,-563.658 200.5,-554.725\" fill=\"none\" stroke=\"black\"/>\n",
       "<polygon fill=\"black\" points=\"204,-554.607 200.5,-544.607 197,-554.607 204,-554.607\" stroke=\"black\"/>\n",
       "</g>\n",
       "<!-- 140147704797504 -->\n",
       "<g class=\"node\" id=\"node7\"><title>140147704797504</title>\n",
       "<polygon fill=\"none\" points=\"51,-415.5 51,-461.5 350,-461.5 350,-415.5 51,-415.5\" stroke=\"black\"/>\n",
       "<text font-family=\"Times,serif\" font-size=\"14.00\" text-anchor=\"middle\" x=\"113.5\" y=\"-434.8\">dropout_2: Dropout</text>\n",
       "<polyline fill=\"none\" points=\"176,-415.5 176,-461.5 \" stroke=\"black\"/>\n",
       "<text font-family=\"Times,serif\" font-size=\"14.00\" text-anchor=\"middle\" x=\"203.5\" y=\"-446.3\">input:</text>\n",
       "<polyline fill=\"none\" points=\"176,-438.5 231,-438.5 \" stroke=\"black\"/>\n",
       "<text font-family=\"Times,serif\" font-size=\"14.00\" text-anchor=\"middle\" x=\"203.5\" y=\"-423.3\">output:</text>\n",
       "<polyline fill=\"none\" points=\"231,-415.5 231,-461.5 \" stroke=\"black\"/>\n",
       "<text font-family=\"Times,serif\" font-size=\"14.00\" text-anchor=\"middle\" x=\"290.5\" y=\"-446.3\">(None, 32, 6, 6, 6)</text>\n",
       "<polyline fill=\"none\" points=\"231,-438.5 350,-438.5 \" stroke=\"black\"/>\n",
       "<text font-family=\"Times,serif\" font-size=\"14.00\" text-anchor=\"middle\" x=\"290.5\" y=\"-423.3\">(None, 32, 6, 6, 6)</text>\n",
       "</g>\n",
       "<!-- 140147704798288&#45;&gt;140147704797504 -->\n",
       "<g class=\"edge\" id=\"edge7\"><title>140147704798288-&gt;140147704797504</title>\n",
       "<path d=\"M200.5,-498.366C200.5,-490.152 200.5,-480.658 200.5,-471.725\" fill=\"none\" stroke=\"black\"/>\n",
       "<polygon fill=\"black\" points=\"204,-471.607 200.5,-461.607 197,-471.607 204,-471.607\" stroke=\"black\"/>\n",
       "</g>\n",
       "<!-- 140147704795992 -->\n",
       "<g class=\"node\" id=\"node8\"><title>140147704795992</title>\n",
       "<polygon fill=\"none\" points=\"58.5,-332.5 58.5,-378.5 342.5,-378.5 342.5,-332.5 58.5,-332.5\" stroke=\"black\"/>\n",
       "<text font-family=\"Times,serif\" font-size=\"14.00\" text-anchor=\"middle\" x=\"113.5\" y=\"-351.8\">flatten_1: Flatten</text>\n",
       "<polyline fill=\"none\" points=\"168.5,-332.5 168.5,-378.5 \" stroke=\"black\"/>\n",
       "<text font-family=\"Times,serif\" font-size=\"14.00\" text-anchor=\"middle\" x=\"196\" y=\"-363.3\">input:</text>\n",
       "<polyline fill=\"none\" points=\"168.5,-355.5 223.5,-355.5 \" stroke=\"black\"/>\n",
       "<text font-family=\"Times,serif\" font-size=\"14.00\" text-anchor=\"middle\" x=\"196\" y=\"-340.3\">output:</text>\n",
       "<polyline fill=\"none\" points=\"223.5,-332.5 223.5,-378.5 \" stroke=\"black\"/>\n",
       "<text font-family=\"Times,serif\" font-size=\"14.00\" text-anchor=\"middle\" x=\"283\" y=\"-363.3\">(None, 32, 6, 6, 6)</text>\n",
       "<polyline fill=\"none\" points=\"223.5,-355.5 342.5,-355.5 \" stroke=\"black\"/>\n",
       "<text font-family=\"Times,serif\" font-size=\"14.00\" text-anchor=\"middle\" x=\"283\" y=\"-340.3\">(None, 6912)</text>\n",
       "</g>\n",
       "<!-- 140147704797504&#45;&gt;140147704795992 -->\n",
       "<g class=\"edge\" id=\"edge8\"><title>140147704797504-&gt;140147704795992</title>\n",
       "<path d=\"M200.5,-415.366C200.5,-407.152 200.5,-397.658 200.5,-388.725\" fill=\"none\" stroke=\"black\"/>\n",
       "<polygon fill=\"black\" points=\"204,-388.607 200.5,-378.607 197,-388.607 204,-388.607\" stroke=\"black\"/>\n",
       "</g>\n",
       "<!-- 140147704658464 -->\n",
       "<g class=\"node\" id=\"node9\"><title>140147704658464</title>\n",
       "<polygon fill=\"none\" points=\"77.5,-249.5 77.5,-295.5 323.5,-295.5 323.5,-249.5 77.5,-249.5\" stroke=\"black\"/>\n",
       "<text font-family=\"Times,serif\" font-size=\"14.00\" text-anchor=\"middle\" x=\"128.5\" y=\"-268.8\">dense_1: Dense</text>\n",
       "<polyline fill=\"none\" points=\"179.5,-249.5 179.5,-295.5 \" stroke=\"black\"/>\n",
       "<text font-family=\"Times,serif\" font-size=\"14.00\" text-anchor=\"middle\" x=\"207\" y=\"-280.3\">input:</text>\n",
       "<polyline fill=\"none\" points=\"179.5,-272.5 234.5,-272.5 \" stroke=\"black\"/>\n",
       "<text font-family=\"Times,serif\" font-size=\"14.00\" text-anchor=\"middle\" x=\"207\" y=\"-257.3\">output:</text>\n",
       "<polyline fill=\"none\" points=\"234.5,-249.5 234.5,-295.5 \" stroke=\"black\"/>\n",
       "<text font-family=\"Times,serif\" font-size=\"14.00\" text-anchor=\"middle\" x=\"279\" y=\"-280.3\">(None, 6912)</text>\n",
       "<polyline fill=\"none\" points=\"234.5,-272.5 323.5,-272.5 \" stroke=\"black\"/>\n",
       "<text font-family=\"Times,serif\" font-size=\"14.00\" text-anchor=\"middle\" x=\"279\" y=\"-257.3\">(None, 528)</text>\n",
       "</g>\n",
       "<!-- 140147704795992&#45;&gt;140147704658464 -->\n",
       "<g class=\"edge\" id=\"edge9\"><title>140147704795992-&gt;140147704658464</title>\n",
       "<path d=\"M200.5,-332.366C200.5,-324.152 200.5,-314.658 200.5,-305.725\" fill=\"none\" stroke=\"black\"/>\n",
       "<polygon fill=\"black\" points=\"204,-305.607 200.5,-295.607 197,-305.607 204,-305.607\" stroke=\"black\"/>\n",
       "</g>\n",
       "<!-- 140147704658016 -->\n",
       "<g class=\"node\" id=\"node10\"><title>140147704658016</title>\n",
       "<polygon fill=\"none\" points=\"69,-166.5 69,-212.5 332,-212.5 332,-166.5 69,-166.5\" stroke=\"black\"/>\n",
       "<text font-family=\"Times,serif\" font-size=\"14.00\" text-anchor=\"middle\" x=\"131.5\" y=\"-185.8\">dropout_3: Dropout</text>\n",
       "<polyline fill=\"none\" points=\"194,-166.5 194,-212.5 \" stroke=\"black\"/>\n",
       "<text font-family=\"Times,serif\" font-size=\"14.00\" text-anchor=\"middle\" x=\"221.5\" y=\"-197.3\">input:</text>\n",
       "<polyline fill=\"none\" points=\"194,-189.5 249,-189.5 \" stroke=\"black\"/>\n",
       "<text font-family=\"Times,serif\" font-size=\"14.00\" text-anchor=\"middle\" x=\"221.5\" y=\"-174.3\">output:</text>\n",
       "<polyline fill=\"none\" points=\"249,-166.5 249,-212.5 \" stroke=\"black\"/>\n",
       "<text font-family=\"Times,serif\" font-size=\"14.00\" text-anchor=\"middle\" x=\"290.5\" y=\"-197.3\">(None, 528)</text>\n",
       "<polyline fill=\"none\" points=\"249,-189.5 332,-189.5 \" stroke=\"black\"/>\n",
       "<text font-family=\"Times,serif\" font-size=\"14.00\" text-anchor=\"middle\" x=\"290.5\" y=\"-174.3\">(None, 528)</text>\n",
       "</g>\n",
       "<!-- 140147704658464&#45;&gt;140147704658016 -->\n",
       "<g class=\"edge\" id=\"edge10\"><title>140147704658464-&gt;140147704658016</title>\n",
       "<path d=\"M200.5,-249.366C200.5,-241.152 200.5,-231.658 200.5,-222.725\" fill=\"none\" stroke=\"black\"/>\n",
       "<polygon fill=\"black\" points=\"204,-222.607 200.5,-212.607 197,-222.607 204,-222.607\" stroke=\"black\"/>\n",
       "</g>\n",
       "<!-- 140147704403896 -->\n",
       "<g class=\"node\" id=\"node11\"><title>140147704403896</title>\n",
       "<polygon fill=\"none\" points=\"80.5,-83.5 80.5,-129.5 320.5,-129.5 320.5,-83.5 80.5,-83.5\" stroke=\"black\"/>\n",
       "<text font-family=\"Times,serif\" font-size=\"14.00\" text-anchor=\"middle\" x=\"131.5\" y=\"-102.8\">dense_2: Dense</text>\n",
       "<polyline fill=\"none\" points=\"182.5,-83.5 182.5,-129.5 \" stroke=\"black\"/>\n",
       "<text font-family=\"Times,serif\" font-size=\"14.00\" text-anchor=\"middle\" x=\"210\" y=\"-114.3\">input:</text>\n",
       "<polyline fill=\"none\" points=\"182.5,-106.5 237.5,-106.5 \" stroke=\"black\"/>\n",
       "<text font-family=\"Times,serif\" font-size=\"14.00\" text-anchor=\"middle\" x=\"210\" y=\"-91.3\">output:</text>\n",
       "<polyline fill=\"none\" points=\"237.5,-83.5 237.5,-129.5 \" stroke=\"black\"/>\n",
       "<text font-family=\"Times,serif\" font-size=\"14.00\" text-anchor=\"middle\" x=\"279\" y=\"-114.3\">(None, 528)</text>\n",
       "<polyline fill=\"none\" points=\"237.5,-106.5 320.5,-106.5 \" stroke=\"black\"/>\n",
       "<text font-family=\"Times,serif\" font-size=\"14.00\" text-anchor=\"middle\" x=\"279\" y=\"-91.3\">(None, 10)</text>\n",
       "</g>\n",
       "<!-- 140147704658016&#45;&gt;140147704403896 -->\n",
       "<g class=\"edge\" id=\"edge11\"><title>140147704658016-&gt;140147704403896</title>\n",
       "<path d=\"M200.5,-166.366C200.5,-158.152 200.5,-148.658 200.5,-139.725\" fill=\"none\" stroke=\"black\"/>\n",
       "<polygon fill=\"black\" points=\"204,-139.607 200.5,-129.607 197,-139.607 204,-139.607\" stroke=\"black\"/>\n",
       "</g>\n",
       "<!-- 140147704404456 -->\n",
       "<g class=\"node\" id=\"node12\"><title>140147704404456</title>\n",
       "<polygon fill=\"none\" points=\"61,-0.5 61,-46.5 340,-46.5 340,-0.5 61,-0.5\" stroke=\"black\"/>\n",
       "<text font-family=\"Times,serif\" font-size=\"14.00\" text-anchor=\"middle\" x=\"135\" y=\"-19.8\">activation_3: Activation</text>\n",
       "<polyline fill=\"none\" points=\"209,-0.5 209,-46.5 \" stroke=\"black\"/>\n",
       "<text font-family=\"Times,serif\" font-size=\"14.00\" text-anchor=\"middle\" x=\"236.5\" y=\"-31.3\">input:</text>\n",
       "<polyline fill=\"none\" points=\"209,-23.5 264,-23.5 \" stroke=\"black\"/>\n",
       "<text font-family=\"Times,serif\" font-size=\"14.00\" text-anchor=\"middle\" x=\"236.5\" y=\"-8.3\">output:</text>\n",
       "<polyline fill=\"none\" points=\"264,-0.5 264,-46.5 \" stroke=\"black\"/>\n",
       "<text font-family=\"Times,serif\" font-size=\"14.00\" text-anchor=\"middle\" x=\"302\" y=\"-31.3\">(None, 10)</text>\n",
       "<polyline fill=\"none\" points=\"264,-23.5 340,-23.5 \" stroke=\"black\"/>\n",
       "<text font-family=\"Times,serif\" font-size=\"14.00\" text-anchor=\"middle\" x=\"302\" y=\"-8.3\">(None, 10)</text>\n",
       "</g>\n",
       "<!-- 140147704403896&#45;&gt;140147704404456 -->\n",
       "<g class=\"edge\" id=\"edge12\"><title>140147704403896-&gt;140147704404456</title>\n",
       "<path d=\"M200.5,-83.3664C200.5,-75.1516 200.5,-65.6579 200.5,-56.7252\" fill=\"none\" stroke=\"black\"/>\n",
       "<polygon fill=\"black\" points=\"204,-56.6068 200.5,-46.6068 197,-56.6069 204,-56.6068\" stroke=\"black\"/>\n",
       "</g>\n",
       "<!-- 140147705602960 -->\n",
       "<g class=\"node\" id=\"node13\"><title>140147705602960</title>\n",
       "<polygon fill=\"none\" points=\"141.5,-996.5 141.5,-1032.5 259.5,-1032.5 259.5,-996.5 141.5,-996.5\" stroke=\"black\"/>\n",
       "<text font-family=\"Times,serif\" font-size=\"14.00\" text-anchor=\"middle\" x=\"200.5\" y=\"-1010.8\">140147705602960</text>\n",
       "</g>\n",
       "<!-- 140147705602960&#45;&gt;140147706076576 -->\n",
       "<g class=\"edge\" id=\"edge1\"><title>140147705602960-&gt;140147706076576</title>\n",
       "<path d=\"M200.5,-996.254C200.5,-988.363 200.5,-978.749 200.5,-969.602\" fill=\"none\" stroke=\"black\"/>\n",
       "<polygon fill=\"black\" points=\"204,-969.591 200.5,-959.591 197,-969.591 204,-969.591\" stroke=\"black\"/>\n",
       "</g>\n",
       "</g>\n",
       "</svg>"
      ],
      "text/plain": [
       "<IPython.core.display.SVG object>"
      ]
     },
     "execution_count": 11,
     "metadata": {},
     "output_type": "execute_result"
    }
   ],
   "source": [
    "#可視化\n",
    "SVG(model_to_dot(model,show_shapes=True).create(prog='dot', format='svg'))"
   ]
  },
  {
   "cell_type": "code",
   "execution_count": 12,
   "metadata": {},
   "outputs": [
    {
     "name": "stdout",
     "output_type": "stream",
     "text": [
      "_________________________________________________________________\n",
      "Layer (type)                 Output Shape              Param #   \n",
      "=================================================================\n",
      "conv3d_1 (Conv3D)            (None, 32, 14, 14, 14)    4032      \n",
      "_________________________________________________________________\n",
      "activation_1 (Activation)    (None, 32, 14, 14, 14)    0         \n",
      "_________________________________________________________________\n",
      "dropout_1 (Dropout)          (None, 32, 14, 14, 14)    0         \n",
      "_________________________________________________________________\n",
      "conv3d_2 (Conv3D)            (None, 32, 12, 12, 12)    27680     \n",
      "_________________________________________________________________\n",
      "activation_2 (Activation)    (None, 32, 12, 12, 12)    0         \n",
      "_________________________________________________________________\n",
      "max_pooling3d_1 (MaxPooling3 (None, 32, 6, 6, 6)       0         \n",
      "_________________________________________________________________\n",
      "dropout_2 (Dropout)          (None, 32, 6, 6, 6)       0         \n",
      "_________________________________________________________________\n",
      "flatten_1 (Flatten)          (None, 6912)              0         \n",
      "_________________________________________________________________\n",
      "dense_1 (Dense)              (None, 528)               3650064   \n",
      "_________________________________________________________________\n",
      "dropout_3 (Dropout)          (None, 528)               0         \n",
      "_________________________________________________________________\n",
      "dense_2 (Dense)              (None, 10)                5290      \n",
      "_________________________________________________________________\n",
      "activation_3 (Activation)    (None, 10)                0         \n",
      "=================================================================\n",
      "Total params: 3,687,066\n",
      "Trainable params: 3,687,066\n",
      "Non-trainable params: 0\n",
      "_________________________________________________________________\n"
     ]
    }
   ],
   "source": [
    "#サマリーの表示\n",
    "model.summary()"
   ]
  },
  {
   "cell_type": "code",
   "execution_count": 13,
   "metadata": {},
   "outputs": [],
   "source": [
    "#モデルの図を保存\n",
    "plot_model(model, to_file=fig_dir + 'model.png',show_shapes='True')"
   ]
  },
  {
   "cell_type": "code",
   "execution_count": 14,
   "metadata": {},
   "outputs": [
    {
     "data": {
      "text/plain": [
       "<keras.engine.sequential.Sequential at 0x7f76ae3c9c50>"
      ]
     },
     "execution_count": 14,
     "metadata": {},
     "output_type": "execute_result"
    }
   ],
   "source": [
    "model"
   ]
  },
  {
   "cell_type": "code",
   "execution_count": null,
   "metadata": {},
   "outputs": [],
   "source": []
  },
  {
   "cell_type": "code",
   "execution_count": null,
   "metadata": {},
   "outputs": [],
   "source": []
  },
  {
   "cell_type": "code",
   "execution_count": 15,
   "metadata": {},
   "outputs": [],
   "source": [
    "x_train = np.load( data_dir  + \"x_train.npy\")\n",
    "x_test = np.load( data_dir  + \"x_test.npy\")\n",
    "y_train = np.load( data_dir + \"y_train.npy\")\n",
    "y_test = np.load( data_dir + \"y_test.npy\")"
   ]
  },
  {
   "cell_type": "code",
   "execution_count": 16,
   "metadata": {},
   "outputs": [
    {
     "data": {
      "text/plain": [
       "(3991, 1, 32, 32, 32)"
      ]
     },
     "execution_count": 16,
     "metadata": {},
     "output_type": "execute_result"
    }
   ],
   "source": [
    "x_train.shape"
   ]
  },
  {
   "cell_type": "code",
   "execution_count": 17,
   "metadata": {},
   "outputs": [
    {
     "data": {
      "text/plain": [
       "(3991, 10)"
      ]
     },
     "execution_count": 17,
     "metadata": {},
     "output_type": "execute_result"
    }
   ],
   "source": [
    "y_train.shape"
   ]
  },
  {
   "cell_type": "code",
   "execution_count": 18,
   "metadata": {},
   "outputs": [
    {
     "data": {
      "text/plain": [
       "(908, 1, 32, 32, 32)"
      ]
     },
     "execution_count": 18,
     "metadata": {},
     "output_type": "execute_result"
    }
   ],
   "source": [
    "x_test.shape"
   ]
  },
  {
   "cell_type": "code",
   "execution_count": 19,
   "metadata": {},
   "outputs": [
    {
     "data": {
      "text/plain": [
       "(908, 10)"
      ]
     },
     "execution_count": 19,
     "metadata": {},
     "output_type": "execute_result"
    }
   ],
   "source": [
    "y_test.shape"
   ]
  },
  {
   "cell_type": "code",
   "execution_count": null,
   "metadata": {},
   "outputs": [],
   "source": []
  },
  {
   "cell_type": "code",
   "execution_count": null,
   "metadata": {},
   "outputs": [],
   "source": []
  },
  {
   "cell_type": "code",
   "execution_count": 20,
   "metadata": {},
   "outputs": [],
   "source": [
    "# es_cb = keras.callbacks.EarlyStopping(monitor='val_loss', patience=0, verbose=0, mode='auto')"
   ]
  },
  {
   "cell_type": "code",
   "execution_count": 21,
   "metadata": {
    "scrolled": false
   },
   "outputs": [
    {
     "name": "stdout",
     "output_type": "stream",
     "text": [
      "Train on 3991 samples, validate on 908 samples\n",
      "Epoch 1/40\n",
      "3991/3991 [==============================] - 5s 1ms/step - loss: 10.7216 - acc: 0.5415 - val_loss: 10.1384 - val_acc: 0.7379\n",
      "Epoch 2/40\n",
      "3991/3991 [==============================] - 3s 803us/step - loss: 9.7161 - acc: 0.7975 - val_loss: 9.6174 - val_acc: 0.8062\n",
      "Epoch 3/40\n",
      "3991/3991 [==============================] - 3s 822us/step - loss: 9.4390 - acc: 0.8504 - val_loss: 9.3906 - val_acc: 0.8491\n",
      "Epoch 4/40\n",
      "3991/3991 [==============================] - 3s 747us/step - loss: 9.2536 - acc: 0.8737 - val_loss: 9.2650 - val_acc: 0.8513\n",
      "Epoch 5/40\n",
      "3991/3991 [==============================] - 3s 818us/step - loss: 9.0804 - acc: 0.8963 - val_loss: 9.1001 - val_acc: 0.8524\n",
      "Epoch 6/40\n",
      "3991/3991 [==============================] - 3s 799us/step - loss: 8.9334 - acc: 0.9070 - val_loss: 8.9865 - val_acc: 0.8700\n",
      "Epoch 7/40\n",
      "3991/3991 [==============================] - 3s 773us/step - loss: 8.8181 - acc: 0.9113 - val_loss: 8.8961 - val_acc: 0.8392\n",
      "Epoch 8/40\n",
      "3991/3991 [==============================] - 3s 791us/step - loss: 8.6625 - acc: 0.9233 - val_loss: 8.7482 - val_acc: 0.8711\n",
      "Epoch 9/40\n",
      "3991/3991 [==============================] - 3s 817us/step - loss: 8.5561 - acc: 0.9271 - val_loss: 8.6294 - val_acc: 0.8811\n",
      "Epoch 10/40\n",
      "3991/3991 [==============================] - 3s 815us/step - loss: 8.4460 - acc: 0.9266 - val_loss: 8.5345 - val_acc: 0.8711\n",
      "Epoch 11/40\n",
      "3991/3991 [==============================] - 3s 792us/step - loss: 8.3302 - acc: 0.9301 - val_loss: 8.4013 - val_acc: 0.8822\n",
      "Epoch 12/40\n",
      "3991/3991 [==============================] - 3s 783us/step - loss: 8.2171 - acc: 0.9406 - val_loss: 8.3444 - val_acc: 0.8722\n",
      "Epoch 13/40\n",
      "3991/3991 [==============================] - 3s 785us/step - loss: 8.1130 - acc: 0.9396 - val_loss: 8.1991 - val_acc: 0.8899\n",
      "Epoch 14/40\n",
      "3991/3991 [==============================] - 3s 787us/step - loss: 8.0229 - acc: 0.9396 - val_loss: 8.1274 - val_acc: 0.8811\n",
      "Epoch 15/40\n",
      "3991/3991 [==============================] - 3s 799us/step - loss: 7.9188 - acc: 0.9414 - val_loss: 8.0114 - val_acc: 0.8910\n",
      "Epoch 16/40\n",
      "3991/3991 [==============================] - 3s 785us/step - loss: 7.8276 - acc: 0.9464 - val_loss: 7.9311 - val_acc: 0.8844\n",
      "Epoch 17/40\n",
      "3991/3991 [==============================] - 3s 761us/step - loss: 7.7338 - acc: 0.9436 - val_loss: 7.8246 - val_acc: 0.8921\n",
      "Epoch 18/40\n",
      "3991/3991 [==============================] - 3s 793us/step - loss: 7.6233 - acc: 0.9531 - val_loss: 7.7484 - val_acc: 0.8811\n",
      "Epoch 19/40\n",
      "3991/3991 [==============================] - 3s 783us/step - loss: 7.5283 - acc: 0.9544 - val_loss: 7.6979 - val_acc: 0.8767\n",
      "Epoch 20/40\n",
      "3991/3991 [==============================] - 3s 786us/step - loss: 7.4628 - acc: 0.9469 - val_loss: 7.5821 - val_acc: 0.8877\n",
      "Epoch 21/40\n",
      "3991/3991 [==============================] - 3s 749us/step - loss: 7.3488 - acc: 0.9584 - val_loss: 7.4989 - val_acc: 0.8910\n",
      "Epoch 22/40\n",
      "3991/3991 [==============================] - 3s 787us/step - loss: 7.2691 - acc: 0.9574 - val_loss: 7.3889 - val_acc: 0.8910\n",
      "Epoch 23/40\n",
      "3991/3991 [==============================] - 3s 806us/step - loss: 7.1902 - acc: 0.9594 - val_loss: 7.3123 - val_acc: 0.8998\n",
      "Epoch 24/40\n",
      "3991/3991 [==============================] - 3s 790us/step - loss: 7.1174 - acc: 0.9531 - val_loss: 7.2376 - val_acc: 0.8866\n",
      "Epoch 25/40\n",
      "3991/3991 [==============================] - 3s 756us/step - loss: 7.0309 - acc: 0.9544 - val_loss: 7.1520 - val_acc: 0.9031\n",
      "Epoch 26/40\n",
      "3991/3991 [==============================] - 3s 810us/step - loss: 6.9441 - acc: 0.9617 - val_loss: 7.0793 - val_acc: 0.8954\n",
      "Epoch 27/40\n",
      "3991/3991 [==============================] - 3s 771us/step - loss: 6.8703 - acc: 0.9597 - val_loss: 7.0067 - val_acc: 0.8932\n",
      "Epoch 28/40\n",
      "3991/3991 [==============================] - 3s 815us/step - loss: 6.7821 - acc: 0.9642 - val_loss: 6.9358 - val_acc: 0.8910\n",
      "Epoch 29/40\n",
      "3991/3991 [==============================] - 3s 757us/step - loss: 6.7112 - acc: 0.9624 - val_loss: 6.9380 - val_acc: 0.8678\n",
      "Epoch 30/40\n",
      "3991/3991 [==============================] - 3s 779us/step - loss: 6.6422 - acc: 0.9644 - val_loss: 6.7948 - val_acc: 0.8921\n",
      "Epoch 31/40\n",
      "3991/3991 [==============================] - 3s 755us/step - loss: 6.5606 - acc: 0.9664 - val_loss: 6.7133 - val_acc: 0.8954\n",
      "Epoch 32/40\n",
      "3991/3991 [==============================] - 3s 808us/step - loss: 6.4848 - acc: 0.9694 - val_loss: 6.6611 - val_acc: 0.8954\n",
      "Epoch 33/40\n",
      "3991/3991 [==============================] - 3s 795us/step - loss: 6.4205 - acc: 0.9689 - val_loss: 6.5998 - val_acc: 0.8921\n",
      "Epoch 34/40\n",
      "3991/3991 [==============================] - 3s 826us/step - loss: 6.3472 - acc: 0.9712 - val_loss: 6.5324 - val_acc: 0.8954\n",
      "Epoch 35/40\n",
      "3991/3991 [==============================] - 3s 794us/step - loss: 6.2792 - acc: 0.9699 - val_loss: 6.4490 - val_acc: 0.8987\n",
      "Epoch 36/40\n",
      "3991/3991 [==============================] - 3s 790us/step - loss: 6.2119 - acc: 0.9689 - val_loss: 6.4017 - val_acc: 0.8910\n",
      "Epoch 37/40\n",
      "3991/3991 [==============================] - 3s 799us/step - loss: 6.1402 - acc: 0.9717 - val_loss: 6.3186 - val_acc: 0.8976\n",
      "Epoch 38/40\n",
      "3991/3991 [==============================] - 3s 765us/step - loss: 6.0711 - acc: 0.9727 - val_loss: 6.2683 - val_acc: 0.8943\n",
      "Epoch 39/40\n",
      "3991/3991 [==============================] - 3s 820us/step - loss: 6.0152 - acc: 0.9702 - val_loss: 6.2255 - val_acc: 0.8833\n",
      "Epoch 40/40\n",
      "3991/3991 [==============================] - 3s 780us/step - loss: 5.9635 - acc: 0.9647 - val_loss: 6.1461 - val_acc: 0.8910\n"
     ]
    }
   ],
   "source": [
    "result = model.fit(x_train, y_train,\n",
    "                   batch_size=batch_size,\n",
    "                   epochs=epochs,\n",
    "                   verbose=1,\n",
    "                   validation_data=(x_test, y_test))\n",
    "#                    callbacks=[es_cb])\n",
    "\n",
    "time_now = datetime.datetime.now()\n",
    "time_now = \"_{0}_{1}_{2}_{3}_{4}_{5}\".format(time_now.year, time_now.month, time_now.day,\n",
    "                                             time_now.hour, time_now.minute, time_now.second)\n",
    "logging.info(\"save model weights as [weights_{0}.h5]\".format(time_now))\n",
    "model.save_weights(weights_dir+\"weights_{0}.h5\".format(time_now), False)"
   ]
  },
  {
   "cell_type": "code",
   "execution_count": 22,
   "metadata": {},
   "outputs": [
    {
     "name": "stdout",
     "output_type": "stream",
     "text": [
      "Test loss: 6.146114519514176\n",
      "Test accuracy: 0.8909691629955947\n"
     ]
    }
   ],
   "source": [
    "loss,acc = model.evaluate(x_test, y_test, verbose=0)\n",
    "print('Test loss:', loss)\n",
    "print('Test accuracy:', acc)"
   ]
  },
  {
   "cell_type": "code",
   "execution_count": 23,
   "metadata": {},
   "outputs": [],
   "source": [
    "rcParams[\"figure.figsize\"] = [6.4, 4.8]"
   ]
  },
  {
   "cell_type": "code",
   "execution_count": 24,
   "metadata": {},
   "outputs": [
    {
     "data": {
      "image/png": "[encoded data removed]",
      "text/plain": [
       "<Figure size 460.8x345.6 with 1 Axes>"
      ]
     },
     "metadata": {
      "needs_background": "light"
     },
     "output_type": "display_data"
    }
   ],
   "source": [
    "plt.plot(range(1, len(result.history['acc'])+1), result.history['acc'], label=\"training\")\n",
    "plt.plot(range(1, len(result.history['val_acc'])+1), result.history['val_acc'], label=\"validation\")\n",
    "plt.xlabel('Epochs')\n",
    "plt.ylabel('Accuracy')\n",
    "plt.ylim([0.5,1])\n",
    "plt.legend()\n",
    "plt.title(\" {} / cell {}\".format(dataset,cells))\n",
    "plt.savefig(fig_dir + 'acc.svg')\n",
    "plt.show()"
   ]
  },
  {
   "cell_type": "code",
   "execution_count": 25,
   "metadata": {},
   "outputs": [
    {
     "data": {
      "image/png": "[encoded data removed]",
      "text/plain": [
       "<Figure size 460.8x345.6 with 1 Axes>"
      ]
     },
     "metadata": {
      "needs_background": "light"
     },
     "output_type": "display_data"
    }
   ],
   "source": [
    "plt.plot(range(1, len(result.history['loss'])+1), result.history['loss'], label=\"loss\")\n",
    "plt.plot(range(1, len(result.history['val_loss'])+1), result.history['val_loss'], label=\"validation_loss\")\n",
    "plt.xlabel('Epochs')\n",
    "plt.ylabel('loss')\n",
    "plt.legend()\n",
    "plt.title(\" {} / cell {}\".format(dataset,cells))\n",
    "plt.savefig(fig_dir  + 'loss.svg')\n",
    "plt.show()"
   ]
  },
  {
   "cell_type": "code",
   "execution_count": 26,
   "metadata": {},
   "outputs": [
    {
     "data": {
      "text/plain": [
       "array([[ 47,   0,   0,   0,   0,   3,   0,   0,   0,   0],\n",
       "       [  0,  98,   0,   0,   0,   2,   0,   0,   0,   0],\n",
       "       [  0,   0,  75,   8,   0,   1,   1,   1,   0,   0],\n",
       "       [  0,   0,  19,  56,   9,   2,   0,   0,   0,   0],\n",
       "       [  0,   0,   0,   1,  69,   0,  30,   0,   0,   0],\n",
       "       [  0,   0,   0,   0,   0, 100,   0,   0,   0,   0],\n",
       "       [  0,   0,   0,   2,  11,   0,  70,   0,   3,   0],\n",
       "       [  0,   0,   0,   1,   0,   0,   1,  98,   0,   0],\n",
       "       [  0,   0,   2,   1,   0,   0,   0,   0,  97,   0],\n",
       "       [  0,   0,   0,   1,   0,   0,   0,   0,   0,  99]])"
      ]
     },
     "execution_count": 26,
     "metadata": {},
     "output_type": "execute_result"
    }
   ],
   "source": [
    "labels_pred = model.predict_classes(x_test,verbose=0)\n",
    "confusion_matrix(np.argmax(y_test, axis=1), labels_pred)"
   ]
  },
  {
   "cell_type": "code",
   "execution_count": 27,
   "metadata": {},
   "outputs": [
    {
     "data": {
      "text/plain": [
       "array([0, 0, 0, 0, 5, 0, 0, 0, 0, 0, 0, 0, 0, 0, 0, 5, 0, 0, 0, 0, 0, 0,\n",
       "       0, 0, 0, 0, 0, 0, 0, 0, 0, 0, 0, 0, 0, 0, 0, 0, 0, 0, 0, 0, 0, 0,\n",
       "       5, 0, 0, 0, 0, 0, 1, 1, 1, 1, 1, 1, 1, 1, 1, 1, 1, 1, 1, 1, 1, 1,\n",
       "       1, 1, 1, 1, 1, 1, 1, 5, 1, 1, 1, 1, 1, 1, 1, 1, 1, 1, 1, 1, 1, 1,\n",
       "       1, 1, 1, 1, 1, 1, 1, 1, 1, 1, 1, 1, 1, 1, 1, 1, 1, 1, 1, 1, 1, 1,\n",
       "       1, 1, 1, 1, 1, 1, 1, 1, 1, 1, 1, 1, 1, 5, 1, 1, 1, 1, 1, 1, 1, 1,\n",
       "       1, 1, 1, 1, 1, 1, 1, 1, 1, 1, 1, 1, 1, 1, 1, 1, 1, 1, 2, 2, 2, 2,\n",
       "       2, 2, 3, 2, 2, 2, 2, 5, 2, 2, 2, 2, 2, 2, 3, 6, 2, 2, 2, 2, 2, 2,\n",
       "       2, 2, 2, 2, 2, 2, 2, 2, 2, 2, 2, 2, 2, 2, 2, 2, 2, 2, 2, 2, 2, 2,\n",
       "       2, 2, 3, 2, 2, 2, 2, 3, 2, 2, 2, 2, 2, 2, 2, 2, 2, 2, 2, 2, 2, 3,\n",
       "       3, 2, 2, 2, 2, 3, 2, 2, 2, 3, 2, 2, 2, 2, 7, 2, 3, 3, 2, 3, 2, 3,\n",
       "       2, 3, 3, 3, 2, 3, 3, 4, 4, 2, 2, 4, 3, 3, 3, 3, 4, 3, 2, 3, 3, 2,\n",
       "       3, 3, 3, 3, 3, 2, 3, 3, 3, 3, 3, 3, 3, 4, 3, 3, 3, 3, 3, 5, 3, 3,\n",
       "       3, 3, 3, 4, 2, 2, 3, 3, 2, 3, 4, 4, 5, 3, 3, 3, 2, 2, 4, 3, 2, 2,\n",
       "       3, 3, 2, 3, 3, 3, 3, 2, 3, 3, 3, 2, 3, 3, 4, 4, 4, 4, 4, 4, 6, 4,\n",
       "       6, 4, 4, 4, 4, 4, 4, 6, 6, 4, 4, 6, 4, 3, 6, 6, 4, 4, 6, 6, 6, 4,\n",
       "       4, 6, 4, 4, 4, 6, 4, 4, 4, 4, 4, 6, 6, 4, 4, 4, 4, 4, 4, 4, 4, 4,\n",
       "       4, 4, 4, 4, 4, 4, 6, 4, 4, 4, 4, 4, 4, 4, 6, 6, 4, 6, 4, 4, 4, 6,\n",
       "       6, 6, 4, 4, 4, 6, 6, 4, 6, 4, 6, 6, 4, 4, 4, 6, 6, 4, 6, 4, 4, 6,\n",
       "       4, 4, 4, 4, 5, 5, 5, 5, 5, 5, 5, 5, 5, 5, 5, 5, 5, 5, 5, 5, 5, 5,\n",
       "       5, 5, 5, 5, 5, 5, 5, 5, 5, 5, 5, 5, 5, 5, 5, 5, 5, 5, 5, 5, 5, 5,\n",
       "       5, 5, 5, 5, 5, 5, 5, 5, 5, 5, 5, 5, 5, 5, 5, 5, 5, 5, 5, 5, 5, 5,\n",
       "       5, 5, 5, 5, 5, 5, 5, 5, 5, 5, 5, 5, 5, 5, 5, 5, 5, 5, 5, 5, 5, 5,\n",
       "       5, 5, 5, 5, 5, 5, 5, 5, 5, 5, 5, 5, 5, 5, 5, 5, 4, 6, 6, 3, 6, 6,\n",
       "       6, 6, 6, 6, 6, 6, 6, 6, 4, 6, 6, 6, 6, 6, 6, 6, 6, 6, 6, 6, 4, 4,\n",
       "       6, 6, 6, 8, 6, 6, 6, 6, 6, 6, 6, 6, 6, 6, 6, 6, 6, 6, 6, 6, 6, 6,\n",
       "       3, 6, 4, 6, 6, 6, 6, 6, 4, 6, 6, 6, 6, 6, 6, 8, 6, 6, 6, 6, 6, 6,\n",
       "       6, 6, 6, 4, 6, 8, 6, 4, 4, 6, 4, 6, 4, 6, 7, 7, 7, 7, 7, 7, 7, 7,\n",
       "       7, 7, 7, 7, 7, 7, 7, 7, 7, 7, 7, 7, 7, 3, 7, 7, 7, 7, 7, 7, 7, 7,\n",
       "       7, 7, 7, 7, 7, 7, 7, 7, 7, 7, 7, 7, 7, 7, 7, 7, 7, 7, 7, 7, 7, 7,\n",
       "       7, 7, 7, 7, 7, 7, 7, 7, 7, 7, 7, 7, 7, 7, 7, 7, 7, 7, 7, 7, 7, 7,\n",
       "       7, 7, 7, 7, 7, 7, 7, 7, 7, 7, 7, 6, 7, 7, 7, 7, 7, 7, 7, 7, 7, 7,\n",
       "       7, 7, 7, 7, 8, 8, 8, 8, 8, 8, 8, 8, 8, 8, 8, 8, 8, 8, 8, 8, 8, 8,\n",
       "       8, 8, 8, 8, 8, 8, 3, 8, 8, 8, 8, 8, 8, 8, 8, 8, 8, 8, 8, 8, 8, 2,\n",
       "       8, 8, 8, 8, 8, 8, 8, 8, 8, 8, 8, 8, 8, 8, 8, 8, 8, 8, 8, 8, 8, 8,\n",
       "       2, 8, 8, 8, 8, 8, 8, 8, 8, 8, 8, 8, 8, 8, 8, 8, 8, 8, 8, 8, 8, 8,\n",
       "       8, 8, 8, 8, 8, 8, 8, 8, 8, 8, 8, 8, 8, 8, 8, 8, 9, 9, 9, 9, 9, 9,\n",
       "       9, 9, 9, 9, 9, 9, 9, 9, 9, 9, 9, 9, 9, 9, 9, 9, 9, 9, 9, 9, 9, 9,\n",
       "       9, 9, 9, 9, 9, 9, 9, 9, 9, 9, 9, 9, 9, 9, 9, 9, 9, 9, 9, 9, 9, 9,\n",
       "       9, 9, 9, 9, 9, 9, 9, 9, 9, 9, 9, 9, 9, 9, 9, 9, 9, 9, 9, 9, 9, 9,\n",
       "       3, 9, 9, 9, 9, 9, 9, 9, 9, 9, 9, 9, 9, 9, 9, 9, 9, 9, 9, 9, 9, 9,\n",
       "       9, 9, 9, 9, 9, 9])"
      ]
     },
     "execution_count": 27,
     "metadata": {},
     "output_type": "execute_result"
    }
   ],
   "source": [
    "labels_pred"
   ]
  },
  {
   "cell_type": "code",
   "execution_count": 28,
   "metadata": {},
   "outputs": [
    {
     "data": {
      "image/png": "[encoded data removed]",
      "text/plain": [
       "<Figure size 720x576 with 2 Axes>"
      ]
     },
     "metadata": {
      "needs_background": "light"
     },
     "output_type": "display_data"
    }
   ],
   "source": [
    "# グラフのサイズ\n",
    "rcParams['figure.figsize'] = 10,8\n",
    "\n",
    "def plot_confusion_matrix(cm, classes,\n",
    "                          title='Confusion matrix',\n",
    "                          cmap=plt.cm.Blues):\n",
    "    \"\"\"\n",
    "    This function prints and plots the confusion matrix.\n",
    "    Normalization can be applied by setting `normalize=True`.\n",
    "    \"\"\"\n",
    "    cm_normalize = cm.astype('float') / cm.sum(axis=1)[:, np.newaxis]\n",
    "    plt.imshow(cm_normalize, interpolation='nearest', cmap=cmap)\n",
    "    plt.title(title)\n",
    "    plt.colorbar()\n",
    "    tick_marks = np.arange(len(classes))\n",
    "    plt.xticks(tick_marks, classes, rotation=90)\n",
    "    plt.yticks(tick_marks, classes)\n",
    "    thresh = cm.max() / 2\n",
    "    \n",
    "    for i, j in itertools.product(range(cm.shape[0]), range(cm.shape[1])):\n",
    "        plt.text(j, i, format(cm[i, j], \"d\"),\n",
    "                 horizontalalignment=\"center\",\n",
    "                 color=\"white\" if cm[i, j] > thresh else \"black\")\n",
    "\n",
    "    plt.ylabel('True label')\n",
    "    plt.xlabel('Predicted label')\n",
    "    plt.tight_layout()\n",
    "\n",
    "\n",
    "# Compute confusion matrix\n",
    "cnf_matrix = confusion_matrix(np.argmax(y_test, axis=1), labels_pred)\n",
    "np.set_printoptions(precision=2)\n",
    "\n",
    "# Plot non-normalized confusion matrix\n",
    "plt.figure()\n",
    "plot_confusion_matrix(cnf_matrix, classes=class_name_modelnet,\n",
    "                      title='Normalized_confusion_matrix')\n",
    "plt.savefig(fig_dir + 'Normalized_confusion_matrix.svg')\n",
    "plt.show()"
   ]
  },
  {
   "cell_type": "code",
   "execution_count": 29,
   "metadata": {},
   "outputs": [
    {
     "data": {
      "text/plain": [
       "array([0, 0, 0, 0, 0, 0, 0, 0, 0, 0, 0, 0, 0, 0, 0, 0, 0, 0, 0, 0, 0, 0,\n",
       "       0, 0, 0, 0, 0, 0, 0, 0, 0, 0, 0, 0, 0, 0, 0, 0, 0, 0, 0, 0, 0, 0,\n",
       "       0, 0, 0, 0, 0, 0, 1, 1, 1, 1, 1, 1, 1, 1, 1, 1, 1, 1, 1, 1, 1, 1,\n",
       "       1, 1, 1, 1, 1, 1, 1, 1, 1, 1, 1, 1, 1, 1, 1, 1, 1, 1, 1, 1, 1, 1,\n",
       "       1, 1, 1, 1, 1, 1, 1, 1, 1, 1, 1, 1, 1, 1, 1, 1, 1, 1, 1, 1, 1, 1,\n",
       "       1, 1, 1, 1, 1, 1, 1, 1, 1, 1, 1, 1, 1, 1, 1, 1, 1, 1, 1, 1, 1, 1,\n",
       "       1, 1, 1, 1, 1, 1, 1, 1, 1, 1, 1, 1, 1, 1, 1, 1, 1, 1, 2, 2, 2, 2,\n",
       "       2, 2, 2, 2, 2, 2, 2, 2, 2, 2, 2, 2, 2, 2, 2, 2, 2, 2, 2, 2, 2, 2,\n",
       "       2, 2, 2, 2, 2, 2, 2, 2, 2, 2, 2, 2, 2, 2, 2, 2, 2, 2, 2, 2, 2, 2,\n",
       "       2, 2, 2, 2, 2, 2, 2, 2, 2, 2, 2, 2, 2, 2, 2, 2, 2, 2, 2, 2, 2, 2,\n",
       "       2, 2, 2, 2, 2, 2, 2, 2, 2, 2, 2, 2, 2, 2, 2, 2, 3, 3, 3, 3, 3, 3,\n",
       "       3, 3, 3, 3, 3, 3, 3, 3, 3, 3, 3, 3, 3, 3, 3, 3, 3, 3, 3, 3, 3, 3,\n",
       "       3, 3, 3, 3, 3, 3, 3, 3, 3, 3, 3, 3, 3, 3, 3, 3, 3, 3, 3, 3, 3, 3,\n",
       "       3, 3, 3, 3, 3, 3, 3, 3, 3, 3, 3, 3, 3, 3, 3, 3, 3, 3, 3, 3, 3, 3,\n",
       "       3, 3, 3, 3, 3, 3, 3, 3, 3, 3, 3, 3, 3, 3, 4, 4, 4, 4, 4, 4, 4, 4,\n",
       "       4, 4, 4, 4, 4, 4, 4, 4, 4, 4, 4, 4, 4, 4, 4, 4, 4, 4, 4, 4, 4, 4,\n",
       "       4, 4, 4, 4, 4, 4, 4, 4, 4, 4, 4, 4, 4, 4, 4, 4, 4, 4, 4, 4, 4, 4,\n",
       "       4, 4, 4, 4, 4, 4, 4, 4, 4, 4, 4, 4, 4, 4, 4, 4, 4, 4, 4, 4, 4, 4,\n",
       "       4, 4, 4, 4, 4, 4, 4, 4, 4, 4, 4, 4, 4, 4, 4, 4, 4, 4, 4, 4, 4, 4,\n",
       "       4, 4, 4, 4, 5, 5, 5, 5, 5, 5, 5, 5, 5, 5, 5, 5, 5, 5, 5, 5, 5, 5,\n",
       "       5, 5, 5, 5, 5, 5, 5, 5, 5, 5, 5, 5, 5, 5, 5, 5, 5, 5, 5, 5, 5, 5,\n",
       "       5, 5, 5, 5, 5, 5, 5, 5, 5, 5, 5, 5, 5, 5, 5, 5, 5, 5, 5, 5, 5, 5,\n",
       "       5, 5, 5, 5, 5, 5, 5, 5, 5, 5, 5, 5, 5, 5, 5, 5, 5, 5, 5, 5, 5, 5,\n",
       "       5, 5, 5, 5, 5, 5, 5, 5, 5, 5, 5, 5, 5, 5, 5, 5, 6, 6, 6, 6, 6, 6,\n",
       "       6, 6, 6, 6, 6, 6, 6, 6, 6, 6, 6, 6, 6, 6, 6, 6, 6, 6, 6, 6, 6, 6,\n",
       "       6, 6, 6, 6, 6, 6, 6, 6, 6, 6, 6, 6, 6, 6, 6, 6, 6, 6, 6, 6, 6, 6,\n",
       "       6, 6, 6, 6, 6, 6, 6, 6, 6, 6, 6, 6, 6, 6, 6, 6, 6, 6, 6, 6, 6, 6,\n",
       "       6, 6, 6, 6, 6, 6, 6, 6, 6, 6, 6, 6, 6, 6, 7, 7, 7, 7, 7, 7, 7, 7,\n",
       "       7, 7, 7, 7, 7, 7, 7, 7, 7, 7, 7, 7, 7, 7, 7, 7, 7, 7, 7, 7, 7, 7,\n",
       "       7, 7, 7, 7, 7, 7, 7, 7, 7, 7, 7, 7, 7, 7, 7, 7, 7, 7, 7, 7, 7, 7,\n",
       "       7, 7, 7, 7, 7, 7, 7, 7, 7, 7, 7, 7, 7, 7, 7, 7, 7, 7, 7, 7, 7, 7,\n",
       "       7, 7, 7, 7, 7, 7, 7, 7, 7, 7, 7, 7, 7, 7, 7, 7, 7, 7, 7, 7, 7, 7,\n",
       "       7, 7, 7, 7, 8, 8, 8, 8, 8, 8, 8, 8, 8, 8, 8, 8, 8, 8, 8, 8, 8, 8,\n",
       "       8, 8, 8, 8, 8, 8, 8, 8, 8, 8, 8, 8, 8, 8, 8, 8, 8, 8, 8, 8, 8, 8,\n",
       "       8, 8, 8, 8, 8, 8, 8, 8, 8, 8, 8, 8, 8, 8, 8, 8, 8, 8, 8, 8, 8, 8,\n",
       "       8, 8, 8, 8, 8, 8, 8, 8, 8, 8, 8, 8, 8, 8, 8, 8, 8, 8, 8, 8, 8, 8,\n",
       "       8, 8, 8, 8, 8, 8, 8, 8, 8, 8, 8, 8, 8, 8, 8, 8, 9, 9, 9, 9, 9, 9,\n",
       "       9, 9, 9, 9, 9, 9, 9, 9, 9, 9, 9, 9, 9, 9, 9, 9, 9, 9, 9, 9, 9, 9,\n",
       "       9, 9, 9, 9, 9, 9, 9, 9, 9, 9, 9, 9, 9, 9, 9, 9, 9, 9, 9, 9, 9, 9,\n",
       "       9, 9, 9, 9, 9, 9, 9, 9, 9, 9, 9, 9, 9, 9, 9, 9, 9, 9, 9, 9, 9, 9,\n",
       "       9, 9, 9, 9, 9, 9, 9, 9, 9, 9, 9, 9, 9, 9, 9, 9, 9, 9, 9, 9, 9, 9,\n",
       "       9, 9, 9, 9, 9, 9])"
      ]
     },
     "execution_count": 29,
     "metadata": {},
     "output_type": "execute_result"
    }
   ],
   "source": [
    "np.argmax(y_test, axis=1)"
   ]
  },
  {
   "cell_type": "code",
   "execution_count": null,
   "metadata": {},
   "outputs": [],
   "source": []
  },
  {
   "cell_type": "code",
   "execution_count": null,
   "metadata": {},
   "outputs": [],
   "source": []
  },
  {
   "cell_type": "markdown",
   "metadata": {},
   "source": [
    "# dataseto MIRO \n",
    "# CONV2DLSTM\n",
    "# lamda"
   ]
  },
  {
   "cell_type": "code",
   "execution_count": null,
   "metadata": {},
   "outputs": [],
   "source": []
  },
  {
   "cell_type": "code",
   "execution_count": null,
   "metadata": {},
   "outputs": [],
   "source": []
  },
  {
   "cell_type": "code",
   "execution_count": null,
   "metadata": {},
   "outputs": [],
   "source": []
  }
 ],
 "metadata": {
  "kernelspec": {
   "display_name": "Python 3",
   "language": "python",
   "name": "python3"
  },
  "language_info": {
   "codemirror_mode": {
    "name": "ipython",
    "version": 3
   },
   "file_extension": ".py",
   "mimetype": "text/x-python",
   "name": "python",
   "nbconvert_exporter": "python",
   "pygments_lexer": "ipython3",
   "version": "3.6.6"
  }
 },
 "nbformat": 4,
 "nbformat_minor": 2
}
