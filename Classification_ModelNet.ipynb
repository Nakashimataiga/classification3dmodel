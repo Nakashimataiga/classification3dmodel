{
 "cells": [
  {
   "cell_type": "code",
   "execution_count": 1,
   "metadata": {},
   "outputs": [
    {
     "name": "stderr",
     "output_type": "stream",
     "text": [
      "Using TensorFlow backend.\n"
     ]
    }
   ],
   "source": [
    "%matplotlib inline\n",
    "import logging\n",
    "import datetime\n",
    "import os\n",
    "import sys\n",
    "import numpy as np\n",
    "import matplotlib.pyplot as plt\n",
    "from sklearn.metrics import confusion_matrix\n",
    "import itertools\n",
    "from pylab import rcParams\n",
    "\n",
    "from __future__ import print_function\n",
    "import keras\n",
    "from keras.datasets import mnist\n",
    "from keras.models import Sequential\n",
    "from keras.layers import Dense, Dropout, Flatten\n",
    "from keras.layers import Conv3D, MaxPooling3D, BatchNormalization, GaussianNoise\n",
    "from keras import backend as K\n",
    "from keras.layers.core import Activation, Dense, Dropout, Flatten\n",
    "from keras.layers.advanced_activations import ReLU\n",
    "from keras.regularizers import l2\n",
    "from keras.callbacks import LearningRateScheduler, ModelCheckpoint\n",
    "from keras.optimizers import SGD\n",
    "from IPython.display import SVG\n",
    "from keras.utils.vis_utils import model_to_dot\n",
    "from keras.utils import plot_model\n"
   ]
  },
  {
   "cell_type": "code",
   "execution_count": 3,
   "metadata": {},
   "outputs": [],
   "source": [
    "# memoryの制限\n",
    "import tensorflow as tf\n",
    "from keras import backend as K\n",
    "config = tf.ConfigProto()\n",
    "config.gpu_options.per_process_gpu_memory_fraction = 0.3\n",
    "config.gpu_options.allow_growth = True\n",
    "sess = tf.Session(config=config)\n",
    "K.set_session(sess)"
   ]
  },
  {
   "cell_type": "code",
   "execution_count": null,
   "metadata": {
    "collapsed": true
   },
   "outputs": [],
   "source": [
    "#Tuning\n",
    "dataset = \"ModelNet10\"\n",
    "# dataset = \"ModelNet40\"\n",
    "cells = 32\n",
    "batch_size = 128\n",
    "epochs = 2\n",
    "learning_rate = 0.01"
   ]
  },
  {
   "cell_type": "code",
   "execution_count": null,
   "metadata": {
    "collapsed": true
   },
   "outputs": [],
   "source": [
    "if dataset == \"ModelNet10\":\n",
    "    data_dir = \"data10/cell\" + str(cells) + \"/\"\n",
    "    fig_dir = \"fig10/cell\" + str(cells) + \"/\"\n",
    "    weights_dir = \"weights10/cell\" + str(cells) + \"/\"\n",
    "    num_classes = 10\n",
    "    class_name_modelnet = [\n",
    "    'bathtub',\n",
    "    'chair',\n",
    "    'dresser',\n",
    "    'night_stand',\n",
    "    'table',\n",
    "    'bed',\n",
    "    'desk',\n",
    "    'monitor',\n",
    "    'sofa',\n",
    "    'toilet',\n",
    "    ]"
   ]
  },
  {
   "cell_type": "code",
   "execution_count": null,
   "metadata": {
    "collapsed": true
   },
   "outputs": [],
   "source": [
    "if dataset == \"ModelNet40\":\n",
    "    data_dir = \"data40/cell\" + str(cells) + \"/\"\n",
    "    fig_dir = \"fig40/cell\" + str(cells) + \"/\"\n",
    "    weights_dir = \"weights40/cell\" + str(cells) + \"/\"\n",
    "    num_classes = 40\n",
    "    class_name_modelnet = [\n",
    "    'airplane',\n",
    "    'bookshelf',\n",
    "    'chair',\n",
    "    'desk',\n",
    "    'glass_box',\n",
    "    'laptop',\n",
    "    'person',\n",
    "    'range_hood',\n",
    "    'stool',\n",
    "    'tv_stand',\n",
    "    'bathtub',\n",
    "    'bottle',\n",
    "    'cone',\n",
    "    'door',\n",
    "    'guitar',\n",
    "    'mantel',\n",
    "    'piano',\n",
    "    'sink',\n",
    "    'table',\n",
    "    'vase',\n",
    "    'bed',\n",
    "    'bowl',\n",
    "    'cup',\n",
    "    'dresser',\n",
    "    'keyboard',\n",
    "    'monitor',\n",
    "    'plant',\n",
    "    'sofa',\n",
    "    'tent',\n",
    "    'wardrobe',\n",
    "    'bench',\n",
    "    'car',\n",
    "    'curtain',\n",
    "    'flower_pot',\n",
    "    'lamp',\n",
    "    'night_stand',\n",
    "    'radio',\n",
    "    'stairs',\n",
    "    'toilet',\n",
    "    'xbox',\n",
    "    ]"
   ]
  },
  {
   "cell_type": "code",
   "execution_count": null,
   "metadata": {
    "collapsed": true
   },
   "outputs": [],
   "source": [
    "train_or_test = [\"train\",\"test\"]"
   ]
  },
  {
   "cell_type": "code",
   "execution_count": null,
   "metadata": {
    "collapsed": true
   },
   "outputs": [],
   "source": [
    "if os.path.exists(weights_dir) == False:\n",
    "    os.makedirs(weights_dir)\n",
    "if os.path.exists(fig_dir) == False:\n",
    "    os.makedirs(fig_dir)"
   ]
  },
  {
   "cell_type": "code",
   "execution_count": null,
   "metadata": {
    "collapsed": true
   },
   "outputs": [],
   "source": []
  },
  {
   "cell_type": "code",
   "execution_count": 8,
   "metadata": {
    "collapsed": true
   },
   "outputs": [],
   "source": [
    "#set logging level DEBUG and output to stdout\n",
    "logging.basicConfig(stream=sys.stdout, level=logging.DEBUG)"
   ]
  },
  {
   "cell_type": "code",
   "execution_count": 9,
   "metadata": {},
   "outputs": [
    {
     "name": "stderr",
     "output_type": "stream",
     "text": [
      "/home/takitani/.pyenv/versions/anaconda3-5.0.1/lib/python3.6/site-packages/ipykernel_launcher.py:18: UserWarning: Update your `Conv3D` call to the Keras 2 API: `Conv3D(input_shape=(1, 32, 32..., kernel_size=(5, 5, 5), filters=32, strides=(2, 2, 2), padding=\"valid\", data_format=\"channels_first\", kernel_initializer=\"normal\", kernel_regularizer=<keras.reg..., bias_regularizer=<keras.reg...)`\n",
      "/home/takitani/.pyenv/versions/anaconda3-5.0.1/lib/python3.6/site-packages/keras/activations.py:186: UserWarning: Do not pass a layer instance (such as ReLU) as the activation argument of another layer. Instead, advanced activation layers should be used just like any other layer in a model.\n",
      "  identifier=identifier.__class__.__name__))\n",
      "/home/takitani/.pyenv/versions/anaconda3-5.0.1/lib/python3.6/site-packages/ipykernel_launcher.py:42: UserWarning: Update your `Dropout` call to the Keras 2 API: `Dropout(rate=0.4)`\n",
      "/home/takitani/.pyenv/versions/anaconda3-5.0.1/lib/python3.6/site-packages/ipykernel_launcher.py:54: UserWarning: Update your `Conv3D` call to the Keras 2 API: `Conv3D(kernel_size=(3, 3, 3), filters=32, strides=(1, 1, 1), padding=\"valid\", data_format=\"channels_first\", kernel_initializer=\"normal\", kernel_regularizer=<keras.reg..., bias_regularizer=<keras.reg...)`\n",
      "/home/takitani/.pyenv/versions/anaconda3-5.0.1/lib/python3.6/site-packages/ipykernel_launcher.py:79: UserWarning: Update your `MaxPooling3D` call to the Keras 2 API: `MaxPooling3D(pool_size=(2, 2, 2), strides=None, padding=\"valid\", data_format=\"channels_first\")`\n",
      "/home/takitani/.pyenv/versions/anaconda3-5.0.1/lib/python3.6/site-packages/ipykernel_launcher.py:82: UserWarning: Update your `Dropout` call to the Keras 2 API: `Dropout(rate=0.4)`\n",
      "/home/takitani/.pyenv/versions/anaconda3-5.0.1/lib/python3.6/site-packages/ipykernel_launcher.py:91: UserWarning: Update your `Dense` call to the Keras 2 API: `Dense(activation=\"linear\", units=528, kernel_initializer=\"normal\", kernel_regularizer=<keras.reg..., bias_regularizer=<keras.reg...)`\n",
      "/home/takitani/.pyenv/versions/anaconda3-5.0.1/lib/python3.6/site-packages/ipykernel_launcher.py:95: UserWarning: Update your `Dropout` call to the Keras 2 API: `Dropout(rate=0.5)`\n",
      "/home/takitani/.pyenv/versions/anaconda3-5.0.1/lib/python3.6/site-packages/ipykernel_launcher.py:102: UserWarning: Update your `Dense` call to the Keras 2 API: `Dense(activation=\"linear\", units=10, kernel_initializer=\"normal\", kernel_regularizer=<keras.reg..., bias_regularizer=<keras.reg...)`\n"
     ]
    }
   ],
   "source": [
    "# optimizer = SGD(lr=0.01, momentum=0.9, decay=0.00016667, nesterov=False)\n",
    "optimizer = SGD(lr=learning_rate, momentum=0.9, decay=0.00016667, nesterov=False)\n",
    "\n",
    "# init model\n",
    "model = Sequential()\n",
    "\n",
    "# convolution 1\n",
    "model.add(Conv3D(input_shape=(1, cells, cells, cells),\n",
    "                            nb_filter=32,\n",
    "                            kernel_dim1=5,\n",
    "                            kernel_dim2=5,\n",
    "                            kernel_dim3=5,\n",
    "                            init='normal',\n",
    "                            border_mode='valid',\n",
    "                            subsample=(2, 2, 2),\n",
    "                            dim_ordering='th',\n",
    "                            W_regularizer=l2(0.001),\n",
    "                            b_regularizer=l2(0.001),\n",
    "                            ))\n",
    "\n",
    "# # BatchNormalization 1\n",
    "# model.add(BatchNormalization(axis=-1, \n",
    "#                              momentum=0.99, \n",
    "#                              epsilon=0.001, \n",
    "#                              center=True, \n",
    "#                              scale=True, \n",
    "#                              beta_initializer='zeros', \n",
    "#                              gamma_initializer='ones', \n",
    "#                              moving_mean_initializer='zeros', \n",
    "#                              moving_variance_initializer='ones', \n",
    "#                              beta_regularizer=None, \n",
    "#                              gamma_regularizer=None, \n",
    "#                              beta_constraint=None, \n",
    "#                              gamma_constraint=None))\n",
    "\n",
    "\n",
    "\n",
    "#Activation ReLu\n",
    "model.add(Activation(ReLU()))\n",
    "\n",
    "# dropout 1\n",
    "model.add(Dropout(p=0.4))\n",
    "\n",
    "# convolution 2\n",
    "model.add(Conv3D(nb_filter=32,\n",
    "                            kernel_dim1=3,\n",
    "                            kernel_dim2=3,\n",
    "                            kernel_dim3=3,\n",
    "                            init='normal',\n",
    "                            border_mode='valid',\n",
    "                            subsample=(1, 1, 1),\n",
    "                            dim_ordering='th',\n",
    "                            W_regularizer=l2(0.001),\n",
    "                            b_regularizer=l2(0.001),\n",
    "                            ))\n",
    "\n",
    "# # BatchNormalization 2\n",
    "# model.add(BatchNormalization(axis=-1, \n",
    "#                              momentum=0.99, \n",
    "#                              epsilon=0.001, \n",
    "#                              center=True, \n",
    "#                              scale=True, \n",
    "#                              beta_initializer='zeros', \n",
    "#                              gamma_initializer='ones', \n",
    "#                              moving_mean_initializer='zeros', \n",
    "#                              moving_variance_initializer='ones', \n",
    "#                              beta_regularizer=None, \n",
    "#                              gamma_regularizer=None, \n",
    "#                              beta_constraint=None, \n",
    "#                              gamma_constraint=None))\n",
    "\n",
    "#Activation ReLu\n",
    "model.add(Activation(ReLU()))\n",
    "\n",
    "# max pool 1\n",
    "model.add(MaxPooling3D(pool_size=(2, 2, 2),\n",
    "                           strides=None,\n",
    "                           border_mode='valid',\n",
    "                           dim_ordering='th'))\n",
    "\n",
    "# dropout 2\n",
    "model.add(Dropout(p=0.4))\n",
    "\n",
    "# dense 1 (fully connected layer)\n",
    "model.add(Flatten())\n",
    "\n",
    "model.add(Dense(output_dim=528, #128\n",
    "                    init='normal',\n",
    "                    activation='linear',\n",
    "                    W_regularizer=l2(0.001),\n",
    "                    b_regularizer=l2(0.001),\n",
    "                    ))\n",
    "\n",
    "# dropout 3\n",
    "model.add(Dropout(p=0.5))\n",
    "\n",
    "# dense 2 (fully connected layer)\n",
    "model.add(Dense(output_dim=num_classes,\n",
    "                    init='normal',\n",
    "                    activation='linear',\n",
    "                    W_regularizer=l2(0.001),\n",
    "                    b_regularizer=l2(0.001),\n",
    "                    ))\n",
    "\n",
    "#Activation Softmax\n",
    "model.add(Activation(\"softmax\"))\n",
    "\n",
    "# compile model\n",
    "model.compile(loss='categorical_crossentropy', optimizer=optimizer, metrics=[\"accuracy\"])\n"
   ]
  },
  {
   "cell_type": "code",
   "execution_count": 10,
   "metadata": {},
   "outputs": [
    {
     "data": {
      "image/svg+xml": [
       "<svg height=\"1041pt\" viewBox=\"0.00 0.00 409.00 1041.00\" width=\"409pt\" xmlns=\"http://www.w3.org/2000/svg\" xmlns:xlink=\"http://www.w3.org/1999/xlink\">\n",
       "<g class=\"graph\" id=\"graph0\" transform=\"scale(1 1) rotate(0) translate(4 1037)\">\n",
       "<title>G</title>\n",
       "<polygon fill=\"white\" points=\"-4,4 -4,-1037 405,-1037 405,4 -4,4\" stroke=\"none\"/>\n",
       "<!-- 139872331731184 -->\n",
       "<g class=\"node\" id=\"node1\"><title>139872331731184</title>\n",
       "<polygon fill=\"none\" points=\"42,-913.5 42,-959.5 359,-959.5 359,-913.5 42,-913.5\" stroke=\"black\"/>\n",
       "<text font-family=\"Times,serif\" font-size=\"14.00\" text-anchor=\"middle\" x=\"103.5\" y=\"-932.8\">conv3d_1: Conv3D</text>\n",
       "<polyline fill=\"none\" points=\"165,-913.5 165,-959.5 \" stroke=\"black\"/>\n",
       "<text font-family=\"Times,serif\" font-size=\"14.00\" text-anchor=\"middle\" x=\"192.5\" y=\"-944.3\">input:</text>\n",
       "<polyline fill=\"none\" points=\"165,-936.5 220,-936.5 \" stroke=\"black\"/>\n",
       "<text font-family=\"Times,serif\" font-size=\"14.00\" text-anchor=\"middle\" x=\"192.5\" y=\"-921.3\">output:</text>\n",
       "<polyline fill=\"none\" points=\"220,-913.5 220,-959.5 \" stroke=\"black\"/>\n",
       "<text font-family=\"Times,serif\" font-size=\"14.00\" text-anchor=\"middle\" x=\"289.5\" y=\"-944.3\">(None, 1, 32, 32, 32)</text>\n",
       "<polyline fill=\"none\" points=\"220,-936.5 359,-936.5 \" stroke=\"black\"/>\n",
       "<text font-family=\"Times,serif\" font-size=\"14.00\" text-anchor=\"middle\" x=\"289.5\" y=\"-921.3\">(None, 32, 14, 14, 14)</text>\n",
       "</g>\n",
       "<!-- 139872331732024 -->\n",
       "<g class=\"node\" id=\"node2\"><title>139872331732024</title>\n",
       "<polygon fill=\"none\" points=\"29.5,-830.5 29.5,-876.5 371.5,-876.5 371.5,-830.5 29.5,-830.5\" stroke=\"black\"/>\n",
       "<text font-family=\"Times,serif\" font-size=\"14.00\" text-anchor=\"middle\" x=\"103.5\" y=\"-849.8\">activation_1: Activation</text>\n",
       "<polyline fill=\"none\" points=\"177.5,-830.5 177.5,-876.5 \" stroke=\"black\"/>\n",
       "<text font-family=\"Times,serif\" font-size=\"14.00\" text-anchor=\"middle\" x=\"205\" y=\"-861.3\">input:</text>\n",
       "<polyline fill=\"none\" points=\"177.5,-853.5 232.5,-853.5 \" stroke=\"black\"/>\n",
       "<text font-family=\"Times,serif\" font-size=\"14.00\" text-anchor=\"middle\" x=\"205\" y=\"-838.3\">output:</text>\n",
       "<polyline fill=\"none\" points=\"232.5,-830.5 232.5,-876.5 \" stroke=\"black\"/>\n",
       "<text font-family=\"Times,serif\" font-size=\"14.00\" text-anchor=\"middle\" x=\"302\" y=\"-861.3\">(None, 32, 14, 14, 14)</text>\n",
       "<polyline fill=\"none\" points=\"232.5,-853.5 371.5,-853.5 \" stroke=\"black\"/>\n",
       "<text font-family=\"Times,serif\" font-size=\"14.00\" text-anchor=\"middle\" x=\"302\" y=\"-838.3\">(None, 32, 14, 14, 14)</text>\n",
       "</g>\n",
       "<!-- 139872331731184&#45;&gt;139872331732024 -->\n",
       "<g class=\"edge\" id=\"edge2\"><title>139872331731184-&gt;139872331732024</title>\n",
       "<path d=\"M200.5,-913.366C200.5,-905.152 200.5,-895.658 200.5,-886.725\" fill=\"none\" stroke=\"black\"/>\n",
       "<polygon fill=\"black\" points=\"204,-886.607 200.5,-876.607 197,-886.607 204,-886.607\" stroke=\"black\"/>\n",
       "</g>\n",
       "<!-- 139872331731240 -->\n",
       "<g class=\"node\" id=\"node3\"><title>139872331731240</title>\n",
       "<polygon fill=\"none\" points=\"41,-747.5 41,-793.5 360,-793.5 360,-747.5 41,-747.5\" stroke=\"black\"/>\n",
       "<text font-family=\"Times,serif\" font-size=\"14.00\" text-anchor=\"middle\" x=\"103.5\" y=\"-766.8\">dropout_1: Dropout</text>\n",
       "<polyline fill=\"none\" points=\"166,-747.5 166,-793.5 \" stroke=\"black\"/>\n",
       "<text font-family=\"Times,serif\" font-size=\"14.00\" text-anchor=\"middle\" x=\"193.5\" y=\"-778.3\">input:</text>\n",
       "<polyline fill=\"none\" points=\"166,-770.5 221,-770.5 \" stroke=\"black\"/>\n",
       "<text font-family=\"Times,serif\" font-size=\"14.00\" text-anchor=\"middle\" x=\"193.5\" y=\"-755.3\">output:</text>\n",
       "<polyline fill=\"none\" points=\"221,-747.5 221,-793.5 \" stroke=\"black\"/>\n",
       "<text font-family=\"Times,serif\" font-size=\"14.00\" text-anchor=\"middle\" x=\"290.5\" y=\"-778.3\">(None, 32, 14, 14, 14)</text>\n",
       "<polyline fill=\"none\" points=\"221,-770.5 360,-770.5 \" stroke=\"black\"/>\n",
       "<text font-family=\"Times,serif\" font-size=\"14.00\" text-anchor=\"middle\" x=\"290.5\" y=\"-755.3\">(None, 32, 14, 14, 14)</text>\n",
       "</g>\n",
       "<!-- 139872331732024&#45;&gt;139872331731240 -->\n",
       "<g class=\"edge\" id=\"edge3\"><title>139872331732024-&gt;139872331731240</title>\n",
       "<path d=\"M200.5,-830.366C200.5,-822.152 200.5,-812.658 200.5,-803.725\" fill=\"none\" stroke=\"black\"/>\n",
       "<polygon fill=\"black\" points=\"204,-803.607 200.5,-793.607 197,-803.607 204,-803.607\" stroke=\"black\"/>\n",
       "</g>\n",
       "<!-- 139872256173616 -->\n",
       "<g class=\"node\" id=\"node4\"><title>139872256173616</title>\n",
       "<polygon fill=\"none\" points=\"42,-664.5 42,-710.5 359,-710.5 359,-664.5 42,-664.5\" stroke=\"black\"/>\n",
       "<text font-family=\"Times,serif\" font-size=\"14.00\" text-anchor=\"middle\" x=\"103.5\" y=\"-683.8\">conv3d_2: Conv3D</text>\n",
       "<polyline fill=\"none\" points=\"165,-664.5 165,-710.5 \" stroke=\"black\"/>\n",
       "<text font-family=\"Times,serif\" font-size=\"14.00\" text-anchor=\"middle\" x=\"192.5\" y=\"-695.3\">input:</text>\n",
       "<polyline fill=\"none\" points=\"165,-687.5 220,-687.5 \" stroke=\"black\"/>\n",
       "<text font-family=\"Times,serif\" font-size=\"14.00\" text-anchor=\"middle\" x=\"192.5\" y=\"-672.3\">output:</text>\n",
       "<polyline fill=\"none\" points=\"220,-664.5 220,-710.5 \" stroke=\"black\"/>\n",
       "<text font-family=\"Times,serif\" font-size=\"14.00\" text-anchor=\"middle\" x=\"289.5\" y=\"-695.3\">(None, 32, 14, 14, 14)</text>\n",
       "<polyline fill=\"none\" points=\"220,-687.5 359,-687.5 \" stroke=\"black\"/>\n",
       "<text font-family=\"Times,serif\" font-size=\"14.00\" text-anchor=\"middle\" x=\"289.5\" y=\"-672.3\">(None, 32, 12, 12, 12)</text>\n",
       "</g>\n",
       "<!-- 139872331731240&#45;&gt;139872256173616 -->\n",
       "<g class=\"edge\" id=\"edge4\"><title>139872331731240-&gt;139872256173616</title>\n",
       "<path d=\"M200.5,-747.366C200.5,-739.152 200.5,-729.658 200.5,-720.725\" fill=\"none\" stroke=\"black\"/>\n",
       "<polygon fill=\"black\" points=\"204,-720.607 200.5,-710.607 197,-720.607 204,-720.607\" stroke=\"black\"/>\n",
       "</g>\n",
       "<!-- 139872256370896 -->\n",
       "<g class=\"node\" id=\"node5\"><title>139872256370896</title>\n",
       "<polygon fill=\"none\" points=\"29.5,-581.5 29.5,-627.5 371.5,-627.5 371.5,-581.5 29.5,-581.5\" stroke=\"black\"/>\n",
       "<text font-family=\"Times,serif\" font-size=\"14.00\" text-anchor=\"middle\" x=\"103.5\" y=\"-600.8\">activation_2: Activation</text>\n",
       "<polyline fill=\"none\" points=\"177.5,-581.5 177.5,-627.5 \" stroke=\"black\"/>\n",
       "<text font-family=\"Times,serif\" font-size=\"14.00\" text-anchor=\"middle\" x=\"205\" y=\"-612.3\">input:</text>\n",
       "<polyline fill=\"none\" points=\"177.5,-604.5 232.5,-604.5 \" stroke=\"black\"/>\n",
       "<text font-family=\"Times,serif\" font-size=\"14.00\" text-anchor=\"middle\" x=\"205\" y=\"-589.3\">output:</text>\n",
       "<polyline fill=\"none\" points=\"232.5,-581.5 232.5,-627.5 \" stroke=\"black\"/>\n",
       "<text font-family=\"Times,serif\" font-size=\"14.00\" text-anchor=\"middle\" x=\"302\" y=\"-612.3\">(None, 32, 12, 12, 12)</text>\n",
       "<polyline fill=\"none\" points=\"232.5,-604.5 371.5,-604.5 \" stroke=\"black\"/>\n",
       "<text font-family=\"Times,serif\" font-size=\"14.00\" text-anchor=\"middle\" x=\"302\" y=\"-589.3\">(None, 32, 12, 12, 12)</text>\n",
       "</g>\n",
       "<!-- 139872256173616&#45;&gt;139872256370896 -->\n",
       "<g class=\"edge\" id=\"edge5\"><title>139872256173616-&gt;139872256370896</title>\n",
       "<path d=\"M200.5,-664.366C200.5,-656.152 200.5,-646.658 200.5,-637.725\" fill=\"none\" stroke=\"black\"/>\n",
       "<polygon fill=\"black\" points=\"204,-637.607 200.5,-627.607 197,-637.607 204,-637.607\" stroke=\"black\"/>\n",
       "</g>\n",
       "<!-- 139872256372184 -->\n",
       "<g class=\"node\" id=\"node6\"><title>139872256372184</title>\n",
       "<polygon fill=\"none\" points=\"-2.84217e-14,-498.5 -2.84217e-14,-544.5 401,-544.5 401,-498.5 -2.84217e-14,-498.5\" stroke=\"black\"/>\n",
       "<text font-family=\"Times,serif\" font-size=\"14.00\" text-anchor=\"middle\" x=\"103.5\" y=\"-517.8\">max_pooling3d_1: MaxPooling3D</text>\n",
       "<polyline fill=\"none\" points=\"207,-498.5 207,-544.5 \" stroke=\"black\"/>\n",
       "<text font-family=\"Times,serif\" font-size=\"14.00\" text-anchor=\"middle\" x=\"234.5\" y=\"-529.3\">input:</text>\n",
       "<polyline fill=\"none\" points=\"207,-521.5 262,-521.5 \" stroke=\"black\"/>\n",
       "<text font-family=\"Times,serif\" font-size=\"14.00\" text-anchor=\"middle\" x=\"234.5\" y=\"-506.3\">output:</text>\n",
       "<polyline fill=\"none\" points=\"262,-498.5 262,-544.5 \" stroke=\"black\"/>\n",
       "<text font-family=\"Times,serif\" font-size=\"14.00\" text-anchor=\"middle\" x=\"331.5\" y=\"-529.3\">(None, 32, 12, 12, 12)</text>\n",
       "<polyline fill=\"none\" points=\"262,-521.5 401,-521.5 \" stroke=\"black\"/>\n",
       "<text font-family=\"Times,serif\" font-size=\"14.00\" text-anchor=\"middle\" x=\"331.5\" y=\"-506.3\">(None, 32, 6, 6, 6)</text>\n",
       "</g>\n",
       "<!-- 139872256370896&#45;&gt;139872256372184 -->\n",
       "<g class=\"edge\" id=\"edge6\"><title>139872256370896-&gt;139872256372184</title>\n",
       "<path d=\"M200.5,-581.366C200.5,-573.152 200.5,-563.658 200.5,-554.725\" fill=\"none\" stroke=\"black\"/>\n",
       "<polygon fill=\"black\" points=\"204,-554.607 200.5,-544.607 197,-554.607 204,-554.607\" stroke=\"black\"/>\n",
       "</g>\n",
       "<!-- 139872256372352 -->\n",
       "<g class=\"node\" id=\"node7\"><title>139872256372352</title>\n",
       "<polygon fill=\"none\" points=\"51,-415.5 51,-461.5 350,-461.5 350,-415.5 51,-415.5\" stroke=\"black\"/>\n",
       "<text font-family=\"Times,serif\" font-size=\"14.00\" text-anchor=\"middle\" x=\"113.5\" y=\"-434.8\">dropout_2: Dropout</text>\n",
       "<polyline fill=\"none\" points=\"176,-415.5 176,-461.5 \" stroke=\"black\"/>\n",
       "<text font-family=\"Times,serif\" font-size=\"14.00\" text-anchor=\"middle\" x=\"203.5\" y=\"-446.3\">input:</text>\n",
       "<polyline fill=\"none\" points=\"176,-438.5 231,-438.5 \" stroke=\"black\"/>\n",
       "<text font-family=\"Times,serif\" font-size=\"14.00\" text-anchor=\"middle\" x=\"203.5\" y=\"-423.3\">output:</text>\n",
       "<polyline fill=\"none\" points=\"231,-415.5 231,-461.5 \" stroke=\"black\"/>\n",
       "<text font-family=\"Times,serif\" font-size=\"14.00\" text-anchor=\"middle\" x=\"290.5\" y=\"-446.3\">(None, 32, 6, 6, 6)</text>\n",
       "<polyline fill=\"none\" points=\"231,-438.5 350,-438.5 \" stroke=\"black\"/>\n",
       "<text font-family=\"Times,serif\" font-size=\"14.00\" text-anchor=\"middle\" x=\"290.5\" y=\"-423.3\">(None, 32, 6, 6, 6)</text>\n",
       "</g>\n",
       "<!-- 139872256372184&#45;&gt;139872256372352 -->\n",
       "<g class=\"edge\" id=\"edge7\"><title>139872256372184-&gt;139872256372352</title>\n",
       "<path d=\"M200.5,-498.366C200.5,-490.152 200.5,-480.658 200.5,-471.725\" fill=\"none\" stroke=\"black\"/>\n",
       "<polygon fill=\"black\" points=\"204,-471.607 200.5,-461.607 197,-471.607 204,-471.607\" stroke=\"black\"/>\n",
       "</g>\n",
       "<!-- 139872256372632 -->\n",
       "<g class=\"node\" id=\"node8\"><title>139872256372632</title>\n",
       "<polygon fill=\"none\" points=\"58.5,-332.5 58.5,-378.5 342.5,-378.5 342.5,-332.5 58.5,-332.5\" stroke=\"black\"/>\n",
       "<text font-family=\"Times,serif\" font-size=\"14.00\" text-anchor=\"middle\" x=\"113.5\" y=\"-351.8\">flatten_1: Flatten</text>\n",
       "<polyline fill=\"none\" points=\"168.5,-332.5 168.5,-378.5 \" stroke=\"black\"/>\n",
       "<text font-family=\"Times,serif\" font-size=\"14.00\" text-anchor=\"middle\" x=\"196\" y=\"-363.3\">input:</text>\n",
       "<polyline fill=\"none\" points=\"168.5,-355.5 223.5,-355.5 \" stroke=\"black\"/>\n",
       "<text font-family=\"Times,serif\" font-size=\"14.00\" text-anchor=\"middle\" x=\"196\" y=\"-340.3\">output:</text>\n",
       "<polyline fill=\"none\" points=\"223.5,-332.5 223.5,-378.5 \" stroke=\"black\"/>\n",
       "<text font-family=\"Times,serif\" font-size=\"14.00\" text-anchor=\"middle\" x=\"283\" y=\"-363.3\">(None, 32, 6, 6, 6)</text>\n",
       "<polyline fill=\"none\" points=\"223.5,-355.5 342.5,-355.5 \" stroke=\"black\"/>\n",
       "<text font-family=\"Times,serif\" font-size=\"14.00\" text-anchor=\"middle\" x=\"283\" y=\"-340.3\">(None, 6912)</text>\n",
       "</g>\n",
       "<!-- 139872256372352&#45;&gt;139872256372632 -->\n",
       "<g class=\"edge\" id=\"edge8\"><title>139872256372352-&gt;139872256372632</title>\n",
       "<path d=\"M200.5,-415.366C200.5,-407.152 200.5,-397.658 200.5,-388.725\" fill=\"none\" stroke=\"black\"/>\n",
       "<polygon fill=\"black\" points=\"204,-388.607 200.5,-378.607 197,-388.607 204,-388.607\" stroke=\"black\"/>\n",
       "</g>\n",
       "<!-- 139872255711272 -->\n",
       "<g class=\"node\" id=\"node9\"><title>139872255711272</title>\n",
       "<polygon fill=\"none\" points=\"77.5,-249.5 77.5,-295.5 323.5,-295.5 323.5,-249.5 77.5,-249.5\" stroke=\"black\"/>\n",
       "<text font-family=\"Times,serif\" font-size=\"14.00\" text-anchor=\"middle\" x=\"128.5\" y=\"-268.8\">dense_1: Dense</text>\n",
       "<polyline fill=\"none\" points=\"179.5,-249.5 179.5,-295.5 \" stroke=\"black\"/>\n",
       "<text font-family=\"Times,serif\" font-size=\"14.00\" text-anchor=\"middle\" x=\"207\" y=\"-280.3\">input:</text>\n",
       "<polyline fill=\"none\" points=\"179.5,-272.5 234.5,-272.5 \" stroke=\"black\"/>\n",
       "<text font-family=\"Times,serif\" font-size=\"14.00\" text-anchor=\"middle\" x=\"207\" y=\"-257.3\">output:</text>\n",
       "<polyline fill=\"none\" points=\"234.5,-249.5 234.5,-295.5 \" stroke=\"black\"/>\n",
       "<text font-family=\"Times,serif\" font-size=\"14.00\" text-anchor=\"middle\" x=\"279\" y=\"-280.3\">(None, 6912)</text>\n",
       "<polyline fill=\"none\" points=\"234.5,-272.5 323.5,-272.5 \" stroke=\"black\"/>\n",
       "<text font-family=\"Times,serif\" font-size=\"14.00\" text-anchor=\"middle\" x=\"279\" y=\"-257.3\">(None, 528)</text>\n",
       "</g>\n",
       "<!-- 139872256372632&#45;&gt;139872255711272 -->\n",
       "<g class=\"edge\" id=\"edge9\"><title>139872256372632-&gt;139872255711272</title>\n",
       "<path d=\"M200.5,-332.366C200.5,-324.152 200.5,-314.658 200.5,-305.725\" fill=\"none\" stroke=\"black\"/>\n",
       "<polygon fill=\"black\" points=\"204,-305.607 200.5,-295.607 197,-305.607 204,-305.607\" stroke=\"black\"/>\n",
       "</g>\n",
       "<!-- 139872256102296 -->\n",
       "<g class=\"node\" id=\"node10\"><title>139872256102296</title>\n",
       "<polygon fill=\"none\" points=\"69,-166.5 69,-212.5 332,-212.5 332,-166.5 69,-166.5\" stroke=\"black\"/>\n",
       "<text font-family=\"Times,serif\" font-size=\"14.00\" text-anchor=\"middle\" x=\"131.5\" y=\"-185.8\">dropout_3: Dropout</text>\n",
       "<polyline fill=\"none\" points=\"194,-166.5 194,-212.5 \" stroke=\"black\"/>\n",
       "<text font-family=\"Times,serif\" font-size=\"14.00\" text-anchor=\"middle\" x=\"221.5\" y=\"-197.3\">input:</text>\n",
       "<polyline fill=\"none\" points=\"194,-189.5 249,-189.5 \" stroke=\"black\"/>\n",
       "<text font-family=\"Times,serif\" font-size=\"14.00\" text-anchor=\"middle\" x=\"221.5\" y=\"-174.3\">output:</text>\n",
       "<polyline fill=\"none\" points=\"249,-166.5 249,-212.5 \" stroke=\"black\"/>\n",
       "<text font-family=\"Times,serif\" font-size=\"14.00\" text-anchor=\"middle\" x=\"290.5\" y=\"-197.3\">(None, 528)</text>\n",
       "<polyline fill=\"none\" points=\"249,-189.5 332,-189.5 \" stroke=\"black\"/>\n",
       "<text font-family=\"Times,serif\" font-size=\"14.00\" text-anchor=\"middle\" x=\"290.5\" y=\"-174.3\">(None, 528)</text>\n",
       "</g>\n",
       "<!-- 139872255711272&#45;&gt;139872256102296 -->\n",
       "<g class=\"edge\" id=\"edge10\"><title>139872255711272-&gt;139872256102296</title>\n",
       "<path d=\"M200.5,-249.366C200.5,-241.152 200.5,-231.658 200.5,-222.725\" fill=\"none\" stroke=\"black\"/>\n",
       "<polygon fill=\"black\" points=\"204,-222.607 200.5,-212.607 197,-222.607 204,-222.607\" stroke=\"black\"/>\n",
       "</g>\n",
       "<!-- 139872255810024 -->\n",
       "<g class=\"node\" id=\"node11\"><title>139872255810024</title>\n",
       "<polygon fill=\"none\" points=\"80.5,-83.5 80.5,-129.5 320.5,-129.5 320.5,-83.5 80.5,-83.5\" stroke=\"black\"/>\n",
       "<text font-family=\"Times,serif\" font-size=\"14.00\" text-anchor=\"middle\" x=\"131.5\" y=\"-102.8\">dense_2: Dense</text>\n",
       "<polyline fill=\"none\" points=\"182.5,-83.5 182.5,-129.5 \" stroke=\"black\"/>\n",
       "<text font-family=\"Times,serif\" font-size=\"14.00\" text-anchor=\"middle\" x=\"210\" y=\"-114.3\">input:</text>\n",
       "<polyline fill=\"none\" points=\"182.5,-106.5 237.5,-106.5 \" stroke=\"black\"/>\n",
       "<text font-family=\"Times,serif\" font-size=\"14.00\" text-anchor=\"middle\" x=\"210\" y=\"-91.3\">output:</text>\n",
       "<polyline fill=\"none\" points=\"237.5,-83.5 237.5,-129.5 \" stroke=\"black\"/>\n",
       "<text font-family=\"Times,serif\" font-size=\"14.00\" text-anchor=\"middle\" x=\"279\" y=\"-114.3\">(None, 528)</text>\n",
       "<polyline fill=\"none\" points=\"237.5,-106.5 320.5,-106.5 \" stroke=\"black\"/>\n",
       "<text font-family=\"Times,serif\" font-size=\"14.00\" text-anchor=\"middle\" x=\"279\" y=\"-91.3\">(None, 10)</text>\n",
       "</g>\n",
       "<!-- 139872256102296&#45;&gt;139872255810024 -->\n",
       "<g class=\"edge\" id=\"edge11\"><title>139872256102296-&gt;139872255810024</title>\n",
       "<path d=\"M200.5,-166.366C200.5,-158.152 200.5,-148.658 200.5,-139.725\" fill=\"none\" stroke=\"black\"/>\n",
       "<polygon fill=\"black\" points=\"204,-139.607 200.5,-129.607 197,-139.607 204,-139.607\" stroke=\"black\"/>\n",
       "</g>\n",
       "<!-- 139872255811536 -->\n",
       "<g class=\"node\" id=\"node12\"><title>139872255811536</title>\n",
       "<polygon fill=\"none\" points=\"61,-0.5 61,-46.5 340,-46.5 340,-0.5 61,-0.5\" stroke=\"black\"/>\n",
       "<text font-family=\"Times,serif\" font-size=\"14.00\" text-anchor=\"middle\" x=\"135\" y=\"-19.8\">activation_3: Activation</text>\n",
       "<polyline fill=\"none\" points=\"209,-0.5 209,-46.5 \" stroke=\"black\"/>\n",
       "<text font-family=\"Times,serif\" font-size=\"14.00\" text-anchor=\"middle\" x=\"236.5\" y=\"-31.3\">input:</text>\n",
       "<polyline fill=\"none\" points=\"209,-23.5 264,-23.5 \" stroke=\"black\"/>\n",
       "<text font-family=\"Times,serif\" font-size=\"14.00\" text-anchor=\"middle\" x=\"236.5\" y=\"-8.3\">output:</text>\n",
       "<polyline fill=\"none\" points=\"264,-0.5 264,-46.5 \" stroke=\"black\"/>\n",
       "<text font-family=\"Times,serif\" font-size=\"14.00\" text-anchor=\"middle\" x=\"302\" y=\"-31.3\">(None, 10)</text>\n",
       "<polyline fill=\"none\" points=\"264,-23.5 340,-23.5 \" stroke=\"black\"/>\n",
       "<text font-family=\"Times,serif\" font-size=\"14.00\" text-anchor=\"middle\" x=\"302\" y=\"-8.3\">(None, 10)</text>\n",
       "</g>\n",
       "<!-- 139872255810024&#45;&gt;139872255811536 -->\n",
       "<g class=\"edge\" id=\"edge12\"><title>139872255810024-&gt;139872255811536</title>\n",
       "<path d=\"M200.5,-83.3664C200.5,-75.1516 200.5,-65.6579 200.5,-56.7252\" fill=\"none\" stroke=\"black\"/>\n",
       "<polygon fill=\"black\" points=\"204,-56.6068 200.5,-46.6068 197,-56.6069 204,-56.6068\" stroke=\"black\"/>\n",
       "</g>\n",
       "<!-- 139872331731968 -->\n",
       "<g class=\"node\" id=\"node13\"><title>139872331731968</title>\n",
       "<polygon fill=\"none\" points=\"141.5,-996.5 141.5,-1032.5 259.5,-1032.5 259.5,-996.5 141.5,-996.5\" stroke=\"black\"/>\n",
       "<text font-family=\"Times,serif\" font-size=\"14.00\" text-anchor=\"middle\" x=\"200.5\" y=\"-1010.8\">139872331731968</text>\n",
       "</g>\n",
       "<!-- 139872331731968&#45;&gt;139872331731184 -->\n",
       "<g class=\"edge\" id=\"edge1\"><title>139872331731968-&gt;139872331731184</title>\n",
       "<path d=\"M200.5,-996.254C200.5,-988.363 200.5,-978.749 200.5,-969.602\" fill=\"none\" stroke=\"black\"/>\n",
       "<polygon fill=\"black\" points=\"204,-969.591 200.5,-959.591 197,-969.591 204,-969.591\" stroke=\"black\"/>\n",
       "</g>\n",
       "</g>\n",
       "</svg>"
      ],
      "text/plain": [
       "<IPython.core.display.SVG object>"
      ]
     },
     "execution_count": 10,
     "metadata": {},
     "output_type": "execute_result"
    }
   ],
   "source": [
    "#可視化\n",
    "SVG(model_to_dot(model,show_shapes=True).create(prog='dot', format='svg'))"
   ]
  },
  {
   "cell_type": "code",
   "execution_count": 11,
   "metadata": {},
   "outputs": [
    {
     "name": "stdout",
     "output_type": "stream",
     "text": [
      "_________________________________________________________________\n",
      "Layer (type)                 Output Shape              Param #   \n",
      "=================================================================\n",
      "conv3d_1 (Conv3D)            (None, 32, 14, 14, 14)    4032      \n",
      "_________________________________________________________________\n",
      "activation_1 (Activation)    (None, 32, 14, 14, 14)    0         \n",
      "_________________________________________________________________\n",
      "dropout_1 (Dropout)          (None, 32, 14, 14, 14)    0         \n",
      "_________________________________________________________________\n",
      "conv3d_2 (Conv3D)            (None, 32, 12, 12, 12)    27680     \n",
      "_________________________________________________________________\n",
      "activation_2 (Activation)    (None, 32, 12, 12, 12)    0         \n",
      "_________________________________________________________________\n",
      "max_pooling3d_1 (MaxPooling3 (None, 32, 6, 6, 6)       0         \n",
      "_________________________________________________________________\n",
      "dropout_2 (Dropout)          (None, 32, 6, 6, 6)       0         \n",
      "_________________________________________________________________\n",
      "flatten_1 (Flatten)          (None, 6912)              0         \n",
      "_________________________________________________________________\n",
      "dense_1 (Dense)              (None, 528)               3650064   \n",
      "_________________________________________________________________\n",
      "dropout_3 (Dropout)          (None, 528)               0         \n",
      "_________________________________________________________________\n",
      "dense_2 (Dense)              (None, 10)                5290      \n",
      "_________________________________________________________________\n",
      "activation_3 (Activation)    (None, 10)                0         \n",
      "=================================================================\n",
      "Total params: 3,687,066\n",
      "Trainable params: 3,687,066\n",
      "Non-trainable params: 0\n",
      "_________________________________________________________________\n"
     ]
    }
   ],
   "source": [
    "#サマリーの表示\n",
    "model.summary()"
   ]
  },
  {
   "cell_type": "code",
   "execution_count": 12,
   "metadata": {
    "collapsed": true
   },
   "outputs": [],
   "source": [
    "#モデルの図を保存\n",
    "plot_model(model, to_file=fig_dir + 'model.png',show_shapes='True')"
   ]
  },
  {
   "cell_type": "code",
   "execution_count": 13,
   "metadata": {},
   "outputs": [
    {
     "data": {
      "text/plain": [
       "<keras.engine.sequential.Sequential at 0x7f3690a4cf60>"
      ]
     },
     "execution_count": 13,
     "metadata": {},
     "output_type": "execute_result"
    }
   ],
   "source": [
    "model"
   ]
  },
  {
   "cell_type": "code",
   "execution_count": null,
   "metadata": {
    "collapsed": true
   },
   "outputs": [],
   "source": []
  },
  {
   "cell_type": "code",
   "execution_count": null,
   "metadata": {
    "collapsed": true
   },
   "outputs": [],
   "source": []
  },
  {
   "cell_type": "code",
   "execution_count": 14,
   "metadata": {
    "collapsed": true
   },
   "outputs": [],
   "source": [
    "x_train = np.load( data_dir  + \"x_train.npy\")\n",
    "x_test = np.load( data_dir  + \"x_test.npy\")\n",
    "y_train = np.load( data_dir + \"y_train.npy\")\n",
    "y_test = np.load( data_dir + \"y_test.npy\")"
   ]
  },
  {
   "cell_type": "code",
   "execution_count": 15,
   "metadata": {},
   "outputs": [
    {
     "data": {
      "text/plain": [
       "(3991, 1, 32, 32, 32)"
      ]
     },
     "execution_count": 15,
     "metadata": {},
     "output_type": "execute_result"
    }
   ],
   "source": [
    "x_train.shape"
   ]
  },
  {
   "cell_type": "code",
   "execution_count": 16,
   "metadata": {},
   "outputs": [
    {
     "data": {
      "text/plain": [
       "(3991, 10)"
      ]
     },
     "execution_count": 16,
     "metadata": {},
     "output_type": "execute_result"
    }
   ],
   "source": [
    "y_train.shape"
   ]
  },
  {
   "cell_type": "code",
   "execution_count": 17,
   "metadata": {},
   "outputs": [
    {
     "data": {
      "text/plain": [
       "(908, 1, 32, 32, 32)"
      ]
     },
     "execution_count": 17,
     "metadata": {},
     "output_type": "execute_result"
    }
   ],
   "source": [
    "x_test.shape"
   ]
  },
  {
   "cell_type": "code",
   "execution_count": 18,
   "metadata": {},
   "outputs": [
    {
     "data": {
      "text/plain": [
       "(908, 10)"
      ]
     },
     "execution_count": 18,
     "metadata": {},
     "output_type": "execute_result"
    }
   ],
   "source": [
    "y_test.shape"
   ]
  },
  {
   "cell_type": "code",
   "execution_count": null,
   "metadata": {
    "collapsed": true
   },
   "outputs": [],
   "source": []
  },
  {
   "cell_type": "code",
   "execution_count": null,
   "metadata": {
    "collapsed": true
   },
   "outputs": [],
   "source": []
  },
  {
   "cell_type": "code",
   "execution_count": null,
   "metadata": {
    "collapsed": true
   },
   "outputs": [],
   "source": [
    "# es_cb = keras.callbacks.EarlyStopping(monitor='val_loss', patience=0, verbose=0, mode='auto')"
   ]
  },
  {
   "cell_type": "code",
   "execution_count": 21,
   "metadata": {
    "scrolled": false
   },
   "outputs": [
    {
     "name": "stdout",
     "output_type": "stream",
     "text": [
      "Train on 3991 samples, validate on 908 samples\n",
      "Epoch 1/2\n"
     ]
    },
    {
     "ename": "ResourceExhaustedError",
     "evalue": "OOM when allocating tensor of shape [] and type float\n\t [[Node: conv3d_1/weight_regularizer/mul/x = Const[dtype=DT_FLOAT, value=Tensor<type: float shape: [] values: 0.001>, _device=\"/job:localhost/replica:0/task:0/device:GPU:0\"]()]]",
     "output_type": "error",
     "traceback": [
      "\u001b[0;31m---------------------------------------------------------------------------\u001b[0m",
      "\u001b[0;31mResourceExhaustedError\u001b[0m                    Traceback (most recent call last)",
      "\u001b[0;32m<ipython-input-21-57013e610834>\u001b[0m in \u001b[0;36m<module>\u001b[0;34m()\u001b[0m\n\u001b[1;32m      3\u001b[0m                    \u001b[0mepochs\u001b[0m\u001b[0;34m=\u001b[0m\u001b[0mepochs\u001b[0m\u001b[0;34m,\u001b[0m\u001b[0;34m\u001b[0m\u001b[0m\n\u001b[1;32m      4\u001b[0m                    \u001b[0mverbose\u001b[0m\u001b[0;34m=\u001b[0m\u001b[0;36m1\u001b[0m\u001b[0;34m,\u001b[0m\u001b[0;34m\u001b[0m\u001b[0m\n\u001b[0;32m----> 5\u001b[0;31m                    validation_data=(x_test, y_test))\n\u001b[0m\u001b[1;32m      6\u001b[0m \u001b[0;31m#                    callbacks=[es_cb])\u001b[0m\u001b[0;34m\u001b[0m\u001b[0;34m\u001b[0m\u001b[0m\n\u001b[1;32m      7\u001b[0m \u001b[0;34m\u001b[0m\u001b[0m\n",
      "\u001b[0;32m~/.pyenv/versions/anaconda3-5.0.1/lib/python3.6/site-packages/keras/engine/training.py\u001b[0m in \u001b[0;36mfit\u001b[0;34m(self, x, y, batch_size, epochs, verbose, callbacks, validation_split, validation_data, shuffle, class_weight, sample_weight, initial_epoch, steps_per_epoch, validation_steps, **kwargs)\u001b[0m\n\u001b[1;32m   1040\u001b[0m                                         \u001b[0minitial_epoch\u001b[0m\u001b[0;34m=\u001b[0m\u001b[0minitial_epoch\u001b[0m\u001b[0;34m,\u001b[0m\u001b[0;34m\u001b[0m\u001b[0m\n\u001b[1;32m   1041\u001b[0m                                         \u001b[0msteps_per_epoch\u001b[0m\u001b[0;34m=\u001b[0m\u001b[0msteps_per_epoch\u001b[0m\u001b[0;34m,\u001b[0m\u001b[0;34m\u001b[0m\u001b[0m\n\u001b[0;32m-> 1042\u001b[0;31m                                         validation_steps=validation_steps)\n\u001b[0m\u001b[1;32m   1043\u001b[0m \u001b[0;34m\u001b[0m\u001b[0m\n\u001b[1;32m   1044\u001b[0m     def evaluate(self, x=None, y=None,\n",
      "\u001b[0;32m~/.pyenv/versions/anaconda3-5.0.1/lib/python3.6/site-packages/keras/engine/training_arrays.py\u001b[0m in \u001b[0;36mfit_loop\u001b[0;34m(model, f, ins, out_labels, batch_size, epochs, verbose, callbacks, val_f, val_ins, shuffle, callback_metrics, initial_epoch, steps_per_epoch, validation_steps)\u001b[0m\n\u001b[1;32m    197\u001b[0m                     \u001b[0mins_batch\u001b[0m\u001b[0;34m[\u001b[0m\u001b[0mi\u001b[0m\u001b[0;34m]\u001b[0m \u001b[0;34m=\u001b[0m \u001b[0mins_batch\u001b[0m\u001b[0;34m[\u001b[0m\u001b[0mi\u001b[0m\u001b[0;34m]\u001b[0m\u001b[0;34m.\u001b[0m\u001b[0mtoarray\u001b[0m\u001b[0;34m(\u001b[0m\u001b[0;34m)\u001b[0m\u001b[0;34m\u001b[0m\u001b[0m\n\u001b[1;32m    198\u001b[0m \u001b[0;34m\u001b[0m\u001b[0m\n\u001b[0;32m--> 199\u001b[0;31m                 \u001b[0mouts\u001b[0m \u001b[0;34m=\u001b[0m \u001b[0mf\u001b[0m\u001b[0;34m(\u001b[0m\u001b[0mins_batch\u001b[0m\u001b[0;34m)\u001b[0m\u001b[0;34m\u001b[0m\u001b[0m\n\u001b[0m\u001b[1;32m    200\u001b[0m                 \u001b[0;32mif\u001b[0m \u001b[0;32mnot\u001b[0m \u001b[0misinstance\u001b[0m\u001b[0;34m(\u001b[0m\u001b[0mouts\u001b[0m\u001b[0;34m,\u001b[0m \u001b[0mlist\u001b[0m\u001b[0;34m)\u001b[0m\u001b[0;34m:\u001b[0m\u001b[0;34m\u001b[0m\u001b[0m\n\u001b[1;32m    201\u001b[0m                     \u001b[0mouts\u001b[0m \u001b[0;34m=\u001b[0m \u001b[0;34m[\u001b[0m\u001b[0mouts\u001b[0m\u001b[0;34m]\u001b[0m\u001b[0;34m\u001b[0m\u001b[0m\n",
      "\u001b[0;32m~/.pyenv/versions/anaconda3-5.0.1/lib/python3.6/site-packages/keras/backend/tensorflow_backend.py\u001b[0m in \u001b[0;36m__call__\u001b[0;34m(self, inputs)\u001b[0m\n\u001b[1;32m   2659\u001b[0m                 \u001b[0;32mreturn\u001b[0m \u001b[0mself\u001b[0m\u001b[0;34m.\u001b[0m\u001b[0m_legacy_call\u001b[0m\u001b[0;34m(\u001b[0m\u001b[0minputs\u001b[0m\u001b[0;34m)\u001b[0m\u001b[0;34m\u001b[0m\u001b[0m\n\u001b[1;32m   2660\u001b[0m \u001b[0;34m\u001b[0m\u001b[0m\n\u001b[0;32m-> 2661\u001b[0;31m             \u001b[0;32mreturn\u001b[0m \u001b[0mself\u001b[0m\u001b[0;34m.\u001b[0m\u001b[0m_call\u001b[0m\u001b[0;34m(\u001b[0m\u001b[0minputs\u001b[0m\u001b[0;34m)\u001b[0m\u001b[0;34m\u001b[0m\u001b[0m\n\u001b[0m\u001b[1;32m   2662\u001b[0m         \u001b[0;32melse\u001b[0m\u001b[0;34m:\u001b[0m\u001b[0;34m\u001b[0m\u001b[0m\n\u001b[1;32m   2663\u001b[0m             \u001b[0;32mif\u001b[0m \u001b[0mpy_any\u001b[0m\u001b[0;34m(\u001b[0m\u001b[0mis_tensor\u001b[0m\u001b[0;34m(\u001b[0m\u001b[0mx\u001b[0m\u001b[0;34m)\u001b[0m \u001b[0;32mfor\u001b[0m \u001b[0mx\u001b[0m \u001b[0;32min\u001b[0m \u001b[0minputs\u001b[0m\u001b[0;34m)\u001b[0m\u001b[0;34m:\u001b[0m\u001b[0;34m\u001b[0m\u001b[0m\n",
      "\u001b[0;32m~/.pyenv/versions/anaconda3-5.0.1/lib/python3.6/site-packages/keras/backend/tensorflow_backend.py\u001b[0m in \u001b[0;36m_call\u001b[0;34m(self, inputs)\u001b[0m\n\u001b[1;32m   2628\u001b[0m                                 \u001b[0mfeed_symbols\u001b[0m\u001b[0;34m,\u001b[0m\u001b[0;34m\u001b[0m\u001b[0m\n\u001b[1;32m   2629\u001b[0m                                 \u001b[0msymbol_vals\u001b[0m\u001b[0;34m,\u001b[0m\u001b[0;34m\u001b[0m\u001b[0m\n\u001b[0;32m-> 2630\u001b[0;31m                                 session)\n\u001b[0m\u001b[1;32m   2631\u001b[0m         \u001b[0mfetched\u001b[0m \u001b[0;34m=\u001b[0m \u001b[0mself\u001b[0m\u001b[0;34m.\u001b[0m\u001b[0m_callable_fn\u001b[0m\u001b[0;34m(\u001b[0m\u001b[0;34m*\u001b[0m\u001b[0marray_vals\u001b[0m\u001b[0;34m)\u001b[0m\u001b[0;34m\u001b[0m\u001b[0m\n\u001b[1;32m   2632\u001b[0m         \u001b[0;32mreturn\u001b[0m \u001b[0mfetched\u001b[0m\u001b[0;34m[\u001b[0m\u001b[0;34m:\u001b[0m\u001b[0mlen\u001b[0m\u001b[0;34m(\u001b[0m\u001b[0mself\u001b[0m\u001b[0;34m.\u001b[0m\u001b[0moutputs\u001b[0m\u001b[0;34m)\u001b[0m\u001b[0;34m]\u001b[0m\u001b[0;34m\u001b[0m\u001b[0m\n",
      "\u001b[0;32m~/.pyenv/versions/anaconda3-5.0.1/lib/python3.6/site-packages/keras/backend/tensorflow_backend.py\u001b[0m in \u001b[0;36m_make_callable\u001b[0;34m(self, feed_arrays, feed_symbols, symbol_vals, session)\u001b[0m\n\u001b[1;32m   2580\u001b[0m         \u001b[0mcallable_opts\u001b[0m\u001b[0;34m.\u001b[0m\u001b[0mtarget\u001b[0m\u001b[0;34m.\u001b[0m\u001b[0mappend\u001b[0m\u001b[0;34m(\u001b[0m\u001b[0mself\u001b[0m\u001b[0;34m.\u001b[0m\u001b[0mupdates_op\u001b[0m\u001b[0;34m.\u001b[0m\u001b[0mname\u001b[0m\u001b[0;34m)\u001b[0m\u001b[0;34m\u001b[0m\u001b[0m\n\u001b[1;32m   2581\u001b[0m         \u001b[0;31m# Create callable.\u001b[0m\u001b[0;34m\u001b[0m\u001b[0;34m\u001b[0m\u001b[0m\n\u001b[0;32m-> 2582\u001b[0;31m         \u001b[0mcallable_fn\u001b[0m \u001b[0;34m=\u001b[0m \u001b[0msession\u001b[0m\u001b[0;34m.\u001b[0m\u001b[0m_make_callable_from_options\u001b[0m\u001b[0;34m(\u001b[0m\u001b[0mcallable_opts\u001b[0m\u001b[0;34m)\u001b[0m\u001b[0;34m\u001b[0m\u001b[0m\n\u001b[0m\u001b[1;32m   2583\u001b[0m         \u001b[0;31m# Cache parameters corresponding to the generated callable, so that\u001b[0m\u001b[0;34m\u001b[0m\u001b[0;34m\u001b[0m\u001b[0m\n\u001b[1;32m   2584\u001b[0m         \u001b[0;31m# we can detect future mismatches and refresh the callable.\u001b[0m\u001b[0;34m\u001b[0m\u001b[0;34m\u001b[0m\u001b[0m\n",
      "\u001b[0;32m~/.pyenv/versions/anaconda3-5.0.1/lib/python3.6/site-packages/tensorflow/python/client/session.py\u001b[0m in \u001b[0;36m_make_callable_from_options\u001b[0;34m(self, callable_options)\u001b[0m\n\u001b[1;32m   1412\u001b[0m     \"\"\"\n\u001b[1;32m   1413\u001b[0m     \u001b[0mself\u001b[0m\u001b[0;34m.\u001b[0m\u001b[0m_extend_graph\u001b[0m\u001b[0;34m(\u001b[0m\u001b[0;34m)\u001b[0m\u001b[0;34m\u001b[0m\u001b[0m\n\u001b[0;32m-> 1414\u001b[0;31m     \u001b[0;32mreturn\u001b[0m \u001b[0mBaseSession\u001b[0m\u001b[0;34m.\u001b[0m\u001b[0m_Callable\u001b[0m\u001b[0;34m(\u001b[0m\u001b[0mself\u001b[0m\u001b[0;34m,\u001b[0m \u001b[0mcallable_options\u001b[0m\u001b[0;34m)\u001b[0m\u001b[0;34m\u001b[0m\u001b[0m\n\u001b[0m\u001b[1;32m   1415\u001b[0m \u001b[0;34m\u001b[0m\u001b[0m\n\u001b[1;32m   1416\u001b[0m \u001b[0;34m\u001b[0m\u001b[0m\n",
      "\u001b[0;32m~/.pyenv/versions/anaconda3-5.0.1/lib/python3.6/site-packages/tensorflow/python/client/session.py\u001b[0m in \u001b[0;36m__init__\u001b[0;34m(self, session, callable_options)\u001b[0m\n\u001b[1;32m   1366\u001b[0m         \u001b[0;32mwith\u001b[0m \u001b[0merrors\u001b[0m\u001b[0;34m.\u001b[0m\u001b[0mraise_exception_on_not_ok_status\u001b[0m\u001b[0;34m(\u001b[0m\u001b[0;34m)\u001b[0m \u001b[0;32mas\u001b[0m \u001b[0mstatus\u001b[0m\u001b[0;34m:\u001b[0m\u001b[0;34m\u001b[0m\u001b[0m\n\u001b[1;32m   1367\u001b[0m           self._handle = tf_session.TF_SessionMakeCallable(\n\u001b[0;32m-> 1368\u001b[0;31m               session._session, options_ptr, status)\n\u001b[0m\u001b[1;32m   1369\u001b[0m       \u001b[0;32mfinally\u001b[0m\u001b[0;34m:\u001b[0m\u001b[0;34m\u001b[0m\u001b[0m\n\u001b[1;32m   1370\u001b[0m         \u001b[0mtf_session\u001b[0m\u001b[0;34m.\u001b[0m\u001b[0mTF_DeleteBuffer\u001b[0m\u001b[0;34m(\u001b[0m\u001b[0moptions_ptr\u001b[0m\u001b[0;34m)\u001b[0m\u001b[0;34m\u001b[0m\u001b[0m\n",
      "\u001b[0;32m~/.pyenv/versions/anaconda3-5.0.1/lib/python3.6/site-packages/tensorflow/python/framework/errors_impl.py\u001b[0m in \u001b[0;36m__exit__\u001b[0;34m(self, type_arg, value_arg, traceback_arg)\u001b[0m\n\u001b[1;32m    517\u001b[0m             \u001b[0;32mNone\u001b[0m\u001b[0;34m,\u001b[0m \u001b[0;32mNone\u001b[0m\u001b[0;34m,\u001b[0m\u001b[0;34m\u001b[0m\u001b[0m\n\u001b[1;32m    518\u001b[0m             \u001b[0mcompat\u001b[0m\u001b[0;34m.\u001b[0m\u001b[0mas_text\u001b[0m\u001b[0;34m(\u001b[0m\u001b[0mc_api\u001b[0m\u001b[0;34m.\u001b[0m\u001b[0mTF_Message\u001b[0m\u001b[0;34m(\u001b[0m\u001b[0mself\u001b[0m\u001b[0;34m.\u001b[0m\u001b[0mstatus\u001b[0m\u001b[0;34m.\u001b[0m\u001b[0mstatus\u001b[0m\u001b[0;34m)\u001b[0m\u001b[0;34m)\u001b[0m\u001b[0;34m,\u001b[0m\u001b[0;34m\u001b[0m\u001b[0m\n\u001b[0;32m--> 519\u001b[0;31m             c_api.TF_GetCode(self.status.status))\n\u001b[0m\u001b[1;32m    520\u001b[0m     \u001b[0;31m# Delete the underlying status object from memory otherwise it stays alive\u001b[0m\u001b[0;34m\u001b[0m\u001b[0;34m\u001b[0m\u001b[0m\n\u001b[1;32m    521\u001b[0m     \u001b[0;31m# as there is a reference to status from this from the traceback due to\u001b[0m\u001b[0;34m\u001b[0m\u001b[0;34m\u001b[0m\u001b[0m\n",
      "\u001b[0;31mResourceExhaustedError\u001b[0m: OOM when allocating tensor of shape [] and type float\n\t [[Node: conv3d_1/weight_regularizer/mul/x = Const[dtype=DT_FLOAT, value=Tensor<type: float shape: [] values: 0.001>, _device=\"/job:localhost/replica:0/task:0/device:GPU:0\"]()]]"
     ]
    }
   ],
   "source": [
    "result = model.fit(x_train, y_train,\n",
    "                   batch_size=batch_size,\n",
    "                   epochs=epochs,\n",
    "                   verbose=1,\n",
    "                   validation_data=(x_test, y_test))\n",
    "#                    callbacks=[es_cb])\n",
    "\n",
    "time_now = datetime.datetime.now()\n",
    "time_now = \"_{0}_{1}_{2}_{3}_{4}_{5}\".format(time_now.year, time_now.month, time_now.day,\n",
    "                                             time_now.hour, time_now.minute, time_now.second)\n",
    "logging.info(\"save model weights as [weights_{0}.h5]\".format(time_now))\n",
    "model.save_weights(weights_dir+\"weights_{0}.h5\".format(time_now), False)"
   ]
  },
  {
   "cell_type": "code",
   "execution_count": null,
   "metadata": {
    "collapsed": true
   },
   "outputs": [],
   "source": [
    "loss,acc = model.evaluate(x_test, y_test, verbose=0)\n",
    "print('Test loss:', loss)\n",
    "print('Test accuracy:', acc)"
   ]
  },
  {
   "cell_type": "code",
   "execution_count": null,
   "metadata": {
    "collapsed": true
   },
   "outputs": [],
   "source": [
    "rcParams[\"figure.figsize\"] = [6.4, 4.8]"
   ]
  },
  {
   "cell_type": "code",
   "execution_count": null,
   "metadata": {
    "collapsed": true
   },
   "outputs": [],
   "source": [
    "plt.plot(range(1, len(result.history['acc'])+1), result.history['acc'], label=\"training\")\n",
    "plt.plot(range(1, len(result.history['val_acc'])+1), result.history['val_acc'], label=\"validation\")\n",
    "plt.xlabel('Epochs')\n",
    "plt.ylabel('Accuracy')\n",
    "plt.ylim([0.5,1])\n",
    "plt.legend()\n",
    "plt.title(\" {} / cell {}\".format(dataset,cells))\n",
    "plt.savefig(fig_dir + 'acc.svg')\n",
    "plt.show()"
   ]
  },
  {
   "cell_type": "code",
   "execution_count": null,
   "metadata": {
    "collapsed": true
   },
   "outputs": [],
   "source": [
    "plt.plot(range(1, len(result.history['loss'])+1), result.history['loss'], label=\"loss\")\n",
    "plt.plot(range(1, len(result.history['val_loss'])+1), result.history['val_loss'], label=\"validation_loss\")\n",
    "plt.xlabel('Epochs')\n",
    "plt.ylabel('loss')\n",
    "plt.legend()\n",
    "plt.title(\" {} / cell {}\".format(dataset,cells))\n",
    "plt.savefig(fig_dir  + 'loss.svg')\n",
    "plt.show()"
   ]
  },
  {
   "cell_type": "code",
   "execution_count": null,
   "metadata": {
    "collapsed": true
   },
   "outputs": [],
   "source": [
    "labels_pred = model.predict_classes(x_test,verbose=0)\n",
    "confusion_matrix(np.argmax(y_test, axis=1), labels_pred)"
   ]
  },
  {
   "cell_type": "code",
   "execution_count": null,
   "metadata": {
    "collapsed": true
   },
   "outputs": [],
   "source": [
    "labels_pred"
   ]
  },
  {
   "cell_type": "code",
   "execution_count": null,
   "metadata": {
    "collapsed": true
   },
   "outputs": [],
   "source": [
    "# グラフのサイズ\n",
    "rcParams['figure.figsize'] = 10,8\n",
    "\n",
    "def plot_confusion_matrix(cm, classes,\n",
    "                          title='Confusion matrix',\n",
    "                          cmap=plt.cm.Blues):\n",
    "    \"\"\"\n",
    "    This function prints and plots the confusion matrix.\n",
    "    Normalization can be applied by setting `normalize=True`.\n",
    "    \"\"\"\n",
    "    cm_normalize = cm.astype('float') / cm.sum(axis=1)[:, np.newaxis]\n",
    "    plt.imshow(cm_normalize, interpolation='nearest', cmap=cmap)\n",
    "    plt.title(title)\n",
    "    plt.colorbar()\n",
    "    tick_marks = np.arange(len(classes))\n",
    "    plt.xticks(tick_marks, classes, rotation=90)\n",
    "    plt.yticks(tick_marks, classes)\n",
    "    thresh = cm.max() / 2\n",
    "    \n",
    "    for i, j in itertools.product(range(cm.shape[0]), range(cm.shape[1])):\n",
    "        plt.text(j, i, format(cm[i, j], \"d\"),\n",
    "                 horizontalalignment=\"center\",\n",
    "                 color=\"white\" if cm[i, j] > thresh else \"black\")\n",
    "\n",
    "    plt.ylabel('True label')\n",
    "    plt.xlabel('Predicted label')\n",
    "    plt.tight_layout()\n",
    "\n",
    "\n",
    "# Compute confusion matrix\n",
    "cnf_matrix = confusion_matrix(np.argmax(y_test, axis=1), labels_pred)\n",
    "np.set_printoptions(precision=2)\n",
    "\n",
    "# Plot non-normalized confusion matrix\n",
    "plt.figure()\n",
    "plot_confusion_matrix(cnf_matrix, classes=class_name_modelnet,\n",
    "                      title='Normalized_confusion_matrix')\n",
    "plt.savefig(fig_dir + 'Normalized_confusion_matrix.svg')\n",
    "plt.show()"
   ]
  },
  {
   "cell_type": "code",
   "execution_count": 23,
   "metadata": {},
   "outputs": [
    {
     "data": {
      "text/plain": [
       "array([0, 0, 0, 0, 0, 0, 0, 0, 0, 0, 0, 0, 0, 0, 0, 0, 0, 0, 0, 0, 0, 0, 0,\n",
       "       0, 0, 0, 0, 0, 0, 0, 0, 0, 0, 0, 0, 0, 0, 0, 0, 0, 0, 0, 0, 0, 0, 0,\n",
       "       0, 0, 0, 0, 1, 1, 1, 1, 1, 1, 1, 1, 1, 1, 1, 1, 1, 1, 1, 1, 1, 1, 1,\n",
       "       1, 1, 1, 1, 1, 1, 1, 1, 1, 1, 1, 1, 1, 1, 1, 1, 1, 1, 1, 1, 1, 1, 1,\n",
       "       1, 1, 1, 1, 1, 1, 1, 1, 1, 1, 1, 1, 1, 1, 1, 1, 1, 1, 1, 1, 1, 1, 1,\n",
       "       1, 1, 1, 1, 1, 1, 1, 1, 1, 1, 1, 1, 1, 1, 1, 1, 1, 1, 1, 1, 1, 1, 1,\n",
       "       1, 1, 1, 1, 1, 1, 1, 1, 1, 1, 1, 1, 2, 2, 2, 2, 2, 2, 2, 2, 2, 2, 2,\n",
       "       2, 2, 2, 2, 2, 2, 2, 2, 2, 2, 2, 2, 2, 2, 2, 2, 2, 2, 2, 2, 2, 2, 2,\n",
       "       2, 2, 2, 2, 2, 2, 2, 2, 2, 2, 2, 2, 2, 2, 2, 2, 2, 2, 2, 2, 2, 2, 2,\n",
       "       2, 2, 2, 2, 2, 2, 2, 2, 2, 2, 2, 2, 2, 2, 2, 2, 2, 2, 2, 2, 2, 2, 2,\n",
       "       2, 2, 2, 2, 2, 2, 3, 3, 3, 3, 3, 3, 3, 3, 3, 3, 3, 3, 3, 3, 3, 3, 3,\n",
       "       3, 3, 3, 3, 3, 3, 3, 3, 3, 3, 3, 3, 3, 3, 3, 3, 3, 3, 3, 3, 3, 3, 3,\n",
       "       3, 3, 3, 3, 3, 3, 3, 3, 3, 3, 3, 3, 3, 3, 3, 3, 3, 3, 3, 3, 3, 3, 3,\n",
       "       3, 3, 3, 3, 3, 3, 3, 3, 3, 3, 3, 3, 3, 3, 3, 3, 3, 3, 3, 3, 3, 3, 3,\n",
       "       4, 4, 4, 4, 4, 4, 4, 4, 4, 4, 4, 4, 4, 4, 4, 4, 4, 4, 4, 4, 4, 4, 4,\n",
       "       4, 4, 4, 4, 4, 4, 4, 4, 4, 4, 4, 4, 4, 4, 4, 4, 4, 4, 4, 4, 4, 4, 4,\n",
       "       4, 4, 4, 4, 4, 4, 4, 4, 4, 4, 4, 4, 4, 4, 4, 4, 4, 4, 4, 4, 4, 4, 4,\n",
       "       4, 4, 4, 4, 4, 4, 4, 4, 4, 4, 4, 4, 4, 4, 4, 4, 4, 4, 4, 4, 4, 4, 4,\n",
       "       4, 4, 4, 4, 4, 4, 4, 4, 5, 5, 5, 5, 5, 5, 5, 5, 5, 5, 5, 5, 5, 5, 5,\n",
       "       5, 5, 5, 5, 5, 5, 5, 5, 5, 5, 5, 5, 5, 5, 5, 5, 5, 5, 5, 5, 5, 5, 5,\n",
       "       5, 5, 5, 5, 5, 5, 5, 5, 5, 5, 5, 5, 5, 5, 5, 5, 5, 5, 5, 5, 5, 5, 5,\n",
       "       5, 5, 5, 5, 5, 5, 5, 5, 5, 5, 5, 5, 5, 5, 5, 5, 5, 5, 5, 5, 5, 5, 5,\n",
       "       5, 5, 5, 5, 5, 5, 5, 5, 5, 5, 5, 5, 5, 5, 5, 5, 6, 6, 6, 6, 6, 6, 6,\n",
       "       6, 6, 6, 6, 6, 6, 6, 6, 6, 6, 6, 6, 6, 6, 6, 6, 6, 6, 6, 6, 6, 6, 6,\n",
       "       6, 6, 6, 6, 6, 6, 6, 6, 6, 6, 6, 6, 6, 6, 6, 6, 6, 6, 6, 6, 6, 6, 6,\n",
       "       6, 6, 6, 6, 6, 6, 6, 6, 6, 6, 6, 6, 6, 6, 6, 6, 6, 6, 6, 6, 6, 6, 6,\n",
       "       6, 6, 6, 6, 6, 6, 6, 6, 6, 6, 7, 7, 7, 7, 7, 7, 7, 7, 7, 7, 7, 7, 7,\n",
       "       7, 7, 7, 7, 7, 7, 7, 7, 7, 7, 7, 7, 7, 7, 7, 7, 7, 7, 7, 7, 7, 7, 7,\n",
       "       7, 7, 7, 7, 7, 7, 7, 7, 7, 7, 7, 7, 7, 7, 7, 7, 7, 7, 7, 7, 7, 7, 7,\n",
       "       7, 7, 7, 7, 7, 7, 7, 7, 7, 7, 7, 7, 7, 7, 7, 7, 7, 7, 7, 7, 7, 7, 7,\n",
       "       7, 7, 7, 7, 7, 7, 7, 7, 7, 7, 7, 7, 7, 7, 7, 7, 7, 7, 8, 8, 8, 8, 8,\n",
       "       8, 8, 8, 8, 8, 8, 8, 8, 8, 8, 8, 8, 8, 8, 8, 8, 8, 8, 8, 8, 8, 8, 8,\n",
       "       8, 8, 8, 8, 8, 8, 8, 8, 8, 8, 8, 8, 8, 8, 8, 8, 8, 8, 8, 8, 8, 8, 8,\n",
       "       8, 8, 8, 8, 8, 8, 8, 8, 8, 8, 8, 8, 8, 8, 8, 8, 8, 8, 8, 8, 8, 8, 8,\n",
       "       8, 8, 8, 8, 8, 8, 8, 8, 8, 8, 8, 8, 8, 8, 8, 8, 8, 8, 8, 8, 8, 8, 8,\n",
       "       8, 8, 8, 9, 9, 9, 9, 9, 9, 9, 9, 9, 9, 9, 9, 9, 9, 9, 9, 9, 9, 9, 9,\n",
       "       9, 9, 9, 9, 9, 9, 9, 9, 9, 9, 9, 9, 9, 9, 9, 9, 9, 9, 9, 9, 9, 9, 9,\n",
       "       9, 9, 9, 9, 9, 9, 9, 9, 9, 9, 9, 9, 9, 9, 9, 9, 9, 9, 9, 9, 9, 9, 9,\n",
       "       9, 9, 9, 9, 9, 9, 9, 9, 9, 9, 9, 9, 9, 9, 9, 9, 9, 9, 9, 9, 9, 9, 9,\n",
       "       9, 9, 9, 9, 9, 9, 9, 9, 9, 9, 9])"
      ]
     },
     "execution_count": 23,
     "metadata": {},
     "output_type": "execute_result"
    }
   ],
   "source": [
    "np.argmax(y_test, axis=1)"
   ]
  },
  {
   "cell_type": "code",
   "execution_count": null,
   "metadata": {
    "collapsed": true
   },
   "outputs": [],
   "source": []
  },
  {
   "cell_type": "code",
   "execution_count": null,
   "metadata": {
    "collapsed": true
   },
   "outputs": [],
   "source": []
  },
  {
   "cell_type": "markdown",
   "metadata": {},
   "source": [
    "# dataseto MIRO \n",
    "# CONV2DLSTM\n",
    "# lamda"
   ]
  },
  {
   "cell_type": "code",
   "execution_count": null,
   "metadata": {
    "collapsed": true
   },
   "outputs": [],
   "source": []
  },
  {
   "cell_type": "code",
   "execution_count": null,
   "metadata": {
    "collapsed": true
   },
   "outputs": [],
   "source": []
  }
 ],
 "metadata": {
  "kernelspec": {
   "display_name": "Python 3",
   "language": "python",
   "name": "python3"
  },
  "language_info": {
   "codemirror_mode": {
    "name": "ipython",
    "version": 3
   },
   "file_extension": ".py",
   "mimetype": "text/x-python",
   "name": "python",
   "nbconvert_exporter": "python",
   "pygments_lexer": "ipython3",
   "version": "3.6.3"
  }
 },
 "nbformat": 4,
 "nbformat_minor": 2
}
