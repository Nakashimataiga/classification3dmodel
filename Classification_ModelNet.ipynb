{
 "cells": [
  {
   "cell_type": "code",
   "execution_count": 1,
   "metadata": {},
   "outputs": [
    {
     "name": "stderr",
     "output_type": "stream",
     "text": [
      "Using TensorFlow backend.\n"
     ]
    }
   ],
   "source": [
    "%matplotlib inline\n",
    "import logging\n",
    "import datetime\n",
    "import os\n",
    "import sys\n",
    "import numpy as np\n",
    "import matplotlib.pyplot as plt\n",
    "from sklearn.metrics import confusion_matrix\n",
    "import itertools\n",
    " \n",
    "\n",
    "from __future__ import print_function\n",
    "import keras\n",
    "from keras.datasets import mnist\n",
    "from keras.models import Sequential\n",
    "from keras.layers import Dense, Dropout, Flatten\n",
    "from keras.layers import Conv3D, MaxPooling3D, BatchNormalization, GaussianNoise\n",
    "from keras import backend as K\n",
    "from keras.layers.core import Activation, Dense, Dropout, Flatten\n",
    "from keras.layers.advanced_activations import ReLU\n",
    "from keras.regularizers import l2\n",
    "from keras.callbacks import LearningRateScheduler, ModelCheckpoint\n",
    "from keras.optimizers import SGD\n",
    "from IPython.display import SVG\n",
    "from keras.utils.vis_utils import model_to_dot\n",
    "from keras.utils import plot_model\n"
   ]
  },
  {
   "cell_type": "code",
   "execution_count": 2,
   "metadata": {
    "collapsed": true
   },
   "outputs": [],
   "source": [
    "# # memoryの制限\n",
    "# import tensorflow as tf\n",
    "# from keras.backend import tensorflow_backend\n",
    "\n",
    "# config = tf.ConfigProto(gpu_options=tf.GPUOptions(allow_growth=True))\n",
    "# session = tf.Session(config=config)\n",
    "# tensorflow_backend.set_session(session)\n",
    "# run_opts = tf.RunOptions(report_tensor_allocations_upon_oom = True)"
   ]
  },
  {
   "cell_type": "code",
   "execution_count": 3,
   "metadata": {
    "collapsed": true
   },
   "outputs": [],
   "source": [
    "#Tuning\n",
    "dataset = \"ModelNet10\"  #or \"ModelNet40\"\n",
    "cells = 32\n",
    "batch_size = 128\n",
    "epochs = 150\n",
    "learning_rate = 0.01"
   ]
  },
  {
   "cell_type": "code",
   "execution_count": 4,
   "metadata": {
    "collapsed": true
   },
   "outputs": [],
   "source": [
    "if dataset == \"ModelNet10\":\n",
    "    data_dir = \"data10/cell\" + str(cells) + \"/\"\n",
    "    weights_dir = \"weights10/cell\" + str(cells) + \"/\"\n",
    "    num_classes = 10\n",
    "    class_name_modelnet = [\n",
    "    'bathtub',\n",
    "    'chair',\n",
    "    'dresser',\n",
    "    'night_stand',\n",
    "    'table',\n",
    "    'bed',\n",
    "    'desk',\n",
    "    'monitor',\n",
    "    'sofa',\n",
    "    'toilet',\n",
    "    ]"
   ]
  },
  {
   "cell_type": "code",
   "execution_count": 5,
   "metadata": {
    "collapsed": true
   },
   "outputs": [],
   "source": [
    "if dataset == \"ModelNet40\":\n",
    "    data_dir = \"data40/cell\" + str(cells) + \"/\"\n",
    "    weights_dir = \"weights40/cell\" + str(cells) + \"/\"\n",
    "    num_classes = 40\n",
    "    class_name_modelnet = [\n",
    "    'airplane',\n",
    "    'bookshelf',\n",
    "    'chair',\n",
    "    'desk',\n",
    "    'glass_box',\n",
    "    'laptop',\n",
    "    'person',\n",
    "    'range_hood',\n",
    "    'stool',\n",
    "    'tv_stand',\n",
    "    'bathtub',\n",
    "    'bottle',\n",
    "    'cone',\n",
    "    'door',\n",
    "    'guitar',\n",
    "    'mantel',\n",
    "    'piano',\n",
    "    'sink',\n",
    "    'table',\n",
    "    'vase',\n",
    "    'bed',\n",
    "    'bowl',\n",
    "    'cup',\n",
    "    'dresser',\n",
    "    'keyboard',\n",
    "    'monitor',\n",
    "    'plant',\n",
    "    'sofa',\n",
    "    'tent',\n",
    "    'wardrobe',\n",
    "    'bench',\n",
    "    'car',\n",
    "    'curtain',\n",
    "    'flower_pot',\n",
    "    'lamp',\n",
    "    'night_stand',\n",
    "    'radio',\n",
    "    'stairs',\n",
    "    'toilet',\n",
    "    'xbox',\n",
    "    ]"
   ]
  },
  {
   "cell_type": "code",
   "execution_count": 6,
   "metadata": {
    "collapsed": true
   },
   "outputs": [],
   "source": [
    "train_or_test = [\"train\",\"test\"]"
   ]
  },
  {
   "cell_type": "code",
   "execution_count": 7,
   "metadata": {
    "collapsed": true
   },
   "outputs": [],
   "source": [
    "if os.path.exists(weights_dir) == False:\n",
    "    os.mkdir(weights_dir)"
   ]
  },
  {
   "cell_type": "code",
   "execution_count": 8,
   "metadata": {
    "collapsed": true
   },
   "outputs": [],
   "source": [
    "#set logging level DEBUG and output to stdout\n",
    "logging.basicConfig(stream=sys.stdout, level=logging.DEBUG)"
   ]
  },
  {
   "cell_type": "code",
   "execution_count": 9,
   "metadata": {},
   "outputs": [
    {
     "name": "stderr",
     "output_type": "stream",
     "text": [
      "/home/takitani/.pyenv/versions/anaconda3-5.0.1/lib/python3.6/site-packages/ipykernel_launcher.py:18: UserWarning: Update your `Conv3D` call to the Keras 2 API: `Conv3D(input_shape=(1, 32, 32..., kernel_size=(5, 5, 5), filters=32, strides=(2, 2, 2), padding=\"valid\", data_format=\"channels_first\", kernel_initializer=\"normal\", kernel_regularizer=<keras.reg..., bias_regularizer=<keras.reg...)`\n",
      "/home/takitani/.pyenv/versions/anaconda3-5.0.1/lib/python3.6/site-packages/keras/activations.py:186: UserWarning: Do not pass a layer instance (such as ReLU) as the activation argument of another layer. Instead, advanced activation layers should be used just like any other layer in a model.\n",
      "  identifier=identifier.__class__.__name__))\n",
      "/home/takitani/.pyenv/versions/anaconda3-5.0.1/lib/python3.6/site-packages/ipykernel_launcher.py:42: UserWarning: Update your `Dropout` call to the Keras 2 API: `Dropout(rate=0.4)`\n",
      "/home/takitani/.pyenv/versions/anaconda3-5.0.1/lib/python3.6/site-packages/ipykernel_launcher.py:54: UserWarning: Update your `Conv3D` call to the Keras 2 API: `Conv3D(kernel_size=(3, 3, 3), filters=32, strides=(1, 1, 1), padding=\"valid\", data_format=\"channels_first\", kernel_initializer=\"normal\", kernel_regularizer=<keras.reg..., bias_regularizer=<keras.reg...)`\n",
      "/home/takitani/.pyenv/versions/anaconda3-5.0.1/lib/python3.6/site-packages/ipykernel_launcher.py:79: UserWarning: Update your `MaxPooling3D` call to the Keras 2 API: `MaxPooling3D(pool_size=(2, 2, 2), strides=None, padding=\"valid\", data_format=\"channels_first\")`\n",
      "/home/takitani/.pyenv/versions/anaconda3-5.0.1/lib/python3.6/site-packages/ipykernel_launcher.py:82: UserWarning: Update your `Dropout` call to the Keras 2 API: `Dropout(rate=0.4)`\n",
      "/home/takitani/.pyenv/versions/anaconda3-5.0.1/lib/python3.6/site-packages/ipykernel_launcher.py:91: UserWarning: Update your `Dense` call to the Keras 2 API: `Dense(activation=\"linear\", units=528, kernel_initializer=\"normal\", kernel_regularizer=<keras.reg..., bias_regularizer=<keras.reg...)`\n",
      "/home/takitani/.pyenv/versions/anaconda3-5.0.1/lib/python3.6/site-packages/ipykernel_launcher.py:95: UserWarning: Update your `Dropout` call to the Keras 2 API: `Dropout(rate=0.5)`\n",
      "/home/takitani/.pyenv/versions/anaconda3-5.0.1/lib/python3.6/site-packages/ipykernel_launcher.py:102: UserWarning: Update your `Dense` call to the Keras 2 API: `Dense(activation=\"linear\", units=10, kernel_initializer=\"normal\", kernel_regularizer=<keras.reg..., bias_regularizer=<keras.reg...)`\n"
     ]
    }
   ],
   "source": [
    "# optimizer = SGD(lr=0.01, momentum=0.9, decay=0.00016667, nesterov=False)\n",
    "optimizer = SGD(lr=learning_rate, momentum=0.9, decay=0.00016667, nesterov=False)\n",
    "\n",
    "# init model\n",
    "model = Sequential()\n",
    "\n",
    "# convolution 1\n",
    "model.add(Conv3D(input_shape=(1, cells, cells, cells),\n",
    "                            nb_filter=32,\n",
    "                            kernel_dim1=5,\n",
    "                            kernel_dim2=5,\n",
    "                            kernel_dim3=5,\n",
    "                            init='normal',\n",
    "                            border_mode='valid',\n",
    "                            subsample=(2, 2, 2),\n",
    "                            dim_ordering='th',\n",
    "                            W_regularizer=l2(0.001),\n",
    "                            b_regularizer=l2(0.001),\n",
    "                            ))\n",
    "\n",
    "# # BatchNormalization 1\n",
    "# model.add(BatchNormalization(axis=-1, \n",
    "#                              momentum=0.99, \n",
    "#                              epsilon=0.001, \n",
    "#                              center=True, \n",
    "#                              scale=True, \n",
    "#                              beta_initializer='zeros', \n",
    "#                              gamma_initializer='ones', \n",
    "#                              moving_mean_initializer='zeros', \n",
    "#                              moving_variance_initializer='ones', \n",
    "#                              beta_regularizer=None, \n",
    "#                              gamma_regularizer=None, \n",
    "#                              beta_constraint=None, \n",
    "#                              gamma_constraint=None))\n",
    "\n",
    "\n",
    "\n",
    "#Activation ReLu\n",
    "model.add(Activation(ReLU()))\n",
    "\n",
    "# dropout 1\n",
    "model.add(Dropout(p=0.4))\n",
    "\n",
    "# convolution 2\n",
    "model.add(Conv3D(nb_filter=32,\n",
    "                            kernel_dim1=3,\n",
    "                            kernel_dim2=3,\n",
    "                            kernel_dim3=3,\n",
    "                            init='normal',\n",
    "                            border_mode='valid',\n",
    "                            subsample=(1, 1, 1),\n",
    "                            dim_ordering='th',\n",
    "                            W_regularizer=l2(0.001),\n",
    "                            b_regularizer=l2(0.001),\n",
    "                            ))\n",
    "\n",
    "# # BatchNormalization 2\n",
    "# model.add(BatchNormalization(axis=-1, \n",
    "#                              momentum=0.99, \n",
    "#                              epsilon=0.001, \n",
    "#                              center=True, \n",
    "#                              scale=True, \n",
    "#                              beta_initializer='zeros', \n",
    "#                              gamma_initializer='ones', \n",
    "#                              moving_mean_initializer='zeros', \n",
    "#                              moving_variance_initializer='ones', \n",
    "#                              beta_regularizer=None, \n",
    "#                              gamma_regularizer=None, \n",
    "#                              beta_constraint=None, \n",
    "#                              gamma_constraint=None))\n",
    "\n",
    "#Activation ReLu\n",
    "model.add(Activation(ReLU()))\n",
    "\n",
    "# max pool 1\n",
    "model.add(MaxPooling3D(pool_size=(2, 2, 2),\n",
    "                           strides=None,\n",
    "                           border_mode='valid',\n",
    "                           dim_ordering='th'))\n",
    "\n",
    "# dropout 2\n",
    "model.add(Dropout(p=0.4))\n",
    "\n",
    "# dense 1 (fully connected layer)\n",
    "model.add(Flatten())\n",
    "\n",
    "model.add(Dense(output_dim=528, #128\n",
    "                    init='normal',\n",
    "                    activation='linear',\n",
    "                    W_regularizer=l2(0.001),\n",
    "                    b_regularizer=l2(0.001),\n",
    "                    ))\n",
    "\n",
    "# dropout 3\n",
    "model.add(Dropout(p=0.5))\n",
    "\n",
    "# dense 2 (fully connected layer)\n",
    "model.add(Dense(output_dim=num_classes,\n",
    "                    init='normal',\n",
    "                    activation='linear',\n",
    "                    W_regularizer=l2(0.001),\n",
    "                    b_regularizer=l2(0.001),\n",
    "                    ))\n",
    "\n",
    "#Activation Softmax\n",
    "model.add(Activation(\"softmax\"))\n",
    "\n",
    "# compile model\n",
    "model.compile(loss='categorical_crossentropy', optimizer=optimizer, metrics=[\"accuracy\"])\n"
   ]
  },
  {
   "cell_type": "code",
   "execution_count": 10,
   "metadata": {},
   "outputs": [
    {
     "data": {
      "image/svg+xml": [
       "<svg height=\"1041pt\" viewBox=\"0.00 0.00 409.00 1041.00\" width=\"409pt\" xmlns=\"http://www.w3.org/2000/svg\" xmlns:xlink=\"http://www.w3.org/1999/xlink\">\n",
       "<g class=\"graph\" id=\"graph0\" transform=\"scale(1 1) rotate(0) translate(4 1037)\">\n",
       "<title>G</title>\n",
       "<polygon fill=\"white\" points=\"-4,4 -4,-1037 405,-1037 405,4 -4,4\" stroke=\"none\"/>\n",
       "<!-- 140128903293416 -->\n",
       "<g class=\"node\" id=\"node1\"><title>140128903293416</title>\n",
       "<polygon fill=\"none\" points=\"42,-913.5 42,-959.5 359,-959.5 359,-913.5 42,-913.5\" stroke=\"black\"/>\n",
       "<text font-family=\"Times,serif\" font-size=\"14.00\" text-anchor=\"middle\" x=\"103.5\" y=\"-932.8\">conv3d_1: Conv3D</text>\n",
       "<polyline fill=\"none\" points=\"165,-913.5 165,-959.5 \" stroke=\"black\"/>\n",
       "<text font-family=\"Times,serif\" font-size=\"14.00\" text-anchor=\"middle\" x=\"192.5\" y=\"-944.3\">input:</text>\n",
       "<polyline fill=\"none\" points=\"165,-936.5 220,-936.5 \" stroke=\"black\"/>\n",
       "<text font-family=\"Times,serif\" font-size=\"14.00\" text-anchor=\"middle\" x=\"192.5\" y=\"-921.3\">output:</text>\n",
       "<polyline fill=\"none\" points=\"220,-913.5 220,-959.5 \" stroke=\"black\"/>\n",
       "<text font-family=\"Times,serif\" font-size=\"14.00\" text-anchor=\"middle\" x=\"289.5\" y=\"-944.3\">(None, 1, 32, 32, 32)</text>\n",
       "<polyline fill=\"none\" points=\"220,-936.5 359,-936.5 \" stroke=\"black\"/>\n",
       "<text font-family=\"Times,serif\" font-size=\"14.00\" text-anchor=\"middle\" x=\"289.5\" y=\"-921.3\">(None, 32, 14, 14, 14)</text>\n",
       "</g>\n",
       "<!-- 140128903294424 -->\n",
       "<g class=\"node\" id=\"node2\"><title>140128903294424</title>\n",
       "<polygon fill=\"none\" points=\"29.5,-830.5 29.5,-876.5 371.5,-876.5 371.5,-830.5 29.5,-830.5\" stroke=\"black\"/>\n",
       "<text font-family=\"Times,serif\" font-size=\"14.00\" text-anchor=\"middle\" x=\"103.5\" y=\"-849.8\">activation_1: Activation</text>\n",
       "<polyline fill=\"none\" points=\"177.5,-830.5 177.5,-876.5 \" stroke=\"black\"/>\n",
       "<text font-family=\"Times,serif\" font-size=\"14.00\" text-anchor=\"middle\" x=\"205\" y=\"-861.3\">input:</text>\n",
       "<polyline fill=\"none\" points=\"177.5,-853.5 232.5,-853.5 \" stroke=\"black\"/>\n",
       "<text font-family=\"Times,serif\" font-size=\"14.00\" text-anchor=\"middle\" x=\"205\" y=\"-838.3\">output:</text>\n",
       "<polyline fill=\"none\" points=\"232.5,-830.5 232.5,-876.5 \" stroke=\"black\"/>\n",
       "<text font-family=\"Times,serif\" font-size=\"14.00\" text-anchor=\"middle\" x=\"302\" y=\"-861.3\">(None, 32, 14, 14, 14)</text>\n",
       "<polyline fill=\"none\" points=\"232.5,-853.5 371.5,-853.5 \" stroke=\"black\"/>\n",
       "<text font-family=\"Times,serif\" font-size=\"14.00\" text-anchor=\"middle\" x=\"302\" y=\"-838.3\">(None, 32, 14, 14, 14)</text>\n",
       "</g>\n",
       "<!-- 140128903293416&#45;&gt;140128903294424 -->\n",
       "<g class=\"edge\" id=\"edge2\"><title>140128903293416-&gt;140128903294424</title>\n",
       "<path d=\"M200.5,-913.366C200.5,-905.152 200.5,-895.658 200.5,-886.725\" fill=\"none\" stroke=\"black\"/>\n",
       "<polygon fill=\"black\" points=\"204,-886.607 200.5,-876.607 197,-886.607 204,-886.607\" stroke=\"black\"/>\n",
       "</g>\n",
       "<!-- 140128903294144 -->\n",
       "<g class=\"node\" id=\"node3\"><title>140128903294144</title>\n",
       "<polygon fill=\"none\" points=\"41,-747.5 41,-793.5 360,-793.5 360,-747.5 41,-747.5\" stroke=\"black\"/>\n",
       "<text font-family=\"Times,serif\" font-size=\"14.00\" text-anchor=\"middle\" x=\"103.5\" y=\"-766.8\">dropout_1: Dropout</text>\n",
       "<polyline fill=\"none\" points=\"166,-747.5 166,-793.5 \" stroke=\"black\"/>\n",
       "<text font-family=\"Times,serif\" font-size=\"14.00\" text-anchor=\"middle\" x=\"193.5\" y=\"-778.3\">input:</text>\n",
       "<polyline fill=\"none\" points=\"166,-770.5 221,-770.5 \" stroke=\"black\"/>\n",
       "<text font-family=\"Times,serif\" font-size=\"14.00\" text-anchor=\"middle\" x=\"193.5\" y=\"-755.3\">output:</text>\n",
       "<polyline fill=\"none\" points=\"221,-747.5 221,-793.5 \" stroke=\"black\"/>\n",
       "<text font-family=\"Times,serif\" font-size=\"14.00\" text-anchor=\"middle\" x=\"290.5\" y=\"-778.3\">(None, 32, 14, 14, 14)</text>\n",
       "<polyline fill=\"none\" points=\"221,-770.5 360,-770.5 \" stroke=\"black\"/>\n",
       "<text font-family=\"Times,serif\" font-size=\"14.00\" text-anchor=\"middle\" x=\"290.5\" y=\"-755.3\">(None, 32, 14, 14, 14)</text>\n",
       "</g>\n",
       "<!-- 140128903294424&#45;&gt;140128903294144 -->\n",
       "<g class=\"edge\" id=\"edge3\"><title>140128903294424-&gt;140128903294144</title>\n",
       "<path d=\"M200.5,-830.366C200.5,-822.152 200.5,-812.658 200.5,-803.725\" fill=\"none\" stroke=\"black\"/>\n",
       "<polygon fill=\"black\" points=\"204,-803.607 200.5,-793.607 197,-803.607 204,-803.607\" stroke=\"black\"/>\n",
       "</g>\n",
       "<!-- 140128902845720 -->\n",
       "<g class=\"node\" id=\"node4\"><title>140128902845720</title>\n",
       "<polygon fill=\"none\" points=\"42,-664.5 42,-710.5 359,-710.5 359,-664.5 42,-664.5\" stroke=\"black\"/>\n",
       "<text font-family=\"Times,serif\" font-size=\"14.00\" text-anchor=\"middle\" x=\"103.5\" y=\"-683.8\">conv3d_2: Conv3D</text>\n",
       "<polyline fill=\"none\" points=\"165,-664.5 165,-710.5 \" stroke=\"black\"/>\n",
       "<text font-family=\"Times,serif\" font-size=\"14.00\" text-anchor=\"middle\" x=\"192.5\" y=\"-695.3\">input:</text>\n",
       "<polyline fill=\"none\" points=\"165,-687.5 220,-687.5 \" stroke=\"black\"/>\n",
       "<text font-family=\"Times,serif\" font-size=\"14.00\" text-anchor=\"middle\" x=\"192.5\" y=\"-672.3\">output:</text>\n",
       "<polyline fill=\"none\" points=\"220,-664.5 220,-710.5 \" stroke=\"black\"/>\n",
       "<text font-family=\"Times,serif\" font-size=\"14.00\" text-anchor=\"middle\" x=\"289.5\" y=\"-695.3\">(None, 32, 14, 14, 14)</text>\n",
       "<polyline fill=\"none\" points=\"220,-687.5 359,-687.5 \" stroke=\"black\"/>\n",
       "<text font-family=\"Times,serif\" font-size=\"14.00\" text-anchor=\"middle\" x=\"289.5\" y=\"-672.3\">(None, 32, 12, 12, 12)</text>\n",
       "</g>\n",
       "<!-- 140128903294144&#45;&gt;140128902845720 -->\n",
       "<g class=\"edge\" id=\"edge4\"><title>140128903294144-&gt;140128902845720</title>\n",
       "<path d=\"M200.5,-747.366C200.5,-739.152 200.5,-729.658 200.5,-720.725\" fill=\"none\" stroke=\"black\"/>\n",
       "<polygon fill=\"black\" points=\"204,-720.607 200.5,-710.607 197,-720.607 204,-720.607\" stroke=\"black\"/>\n",
       "</g>\n",
       "<!-- 140128902845160 -->\n",
       "<g class=\"node\" id=\"node5\"><title>140128902845160</title>\n",
       "<polygon fill=\"none\" points=\"29.5,-581.5 29.5,-627.5 371.5,-627.5 371.5,-581.5 29.5,-581.5\" stroke=\"black\"/>\n",
       "<text font-family=\"Times,serif\" font-size=\"14.00\" text-anchor=\"middle\" x=\"103.5\" y=\"-600.8\">activation_2: Activation</text>\n",
       "<polyline fill=\"none\" points=\"177.5,-581.5 177.5,-627.5 \" stroke=\"black\"/>\n",
       "<text font-family=\"Times,serif\" font-size=\"14.00\" text-anchor=\"middle\" x=\"205\" y=\"-612.3\">input:</text>\n",
       "<polyline fill=\"none\" points=\"177.5,-604.5 232.5,-604.5 \" stroke=\"black\"/>\n",
       "<text font-family=\"Times,serif\" font-size=\"14.00\" text-anchor=\"middle\" x=\"205\" y=\"-589.3\">output:</text>\n",
       "<polyline fill=\"none\" points=\"232.5,-581.5 232.5,-627.5 \" stroke=\"black\"/>\n",
       "<text font-family=\"Times,serif\" font-size=\"14.00\" text-anchor=\"middle\" x=\"302\" y=\"-612.3\">(None, 32, 12, 12, 12)</text>\n",
       "<polyline fill=\"none\" points=\"232.5,-604.5 371.5,-604.5 \" stroke=\"black\"/>\n",
       "<text font-family=\"Times,serif\" font-size=\"14.00\" text-anchor=\"middle\" x=\"302\" y=\"-589.3\">(None, 32, 12, 12, 12)</text>\n",
       "</g>\n",
       "<!-- 140128902845720&#45;&gt;140128902845160 -->\n",
       "<g class=\"edge\" id=\"edge5\"><title>140128902845720-&gt;140128902845160</title>\n",
       "<path d=\"M200.5,-664.366C200.5,-656.152 200.5,-646.658 200.5,-637.725\" fill=\"none\" stroke=\"black\"/>\n",
       "<polygon fill=\"black\" points=\"204,-637.607 200.5,-627.607 197,-637.607 204,-637.607\" stroke=\"black\"/>\n",
       "</g>\n",
       "<!-- 140128902848464 -->\n",
       "<g class=\"node\" id=\"node6\"><title>140128902848464</title>\n",
       "<polygon fill=\"none\" points=\"-2.84217e-14,-498.5 -2.84217e-14,-544.5 401,-544.5 401,-498.5 -2.84217e-14,-498.5\" stroke=\"black\"/>\n",
       "<text font-family=\"Times,serif\" font-size=\"14.00\" text-anchor=\"middle\" x=\"103.5\" y=\"-517.8\">max_pooling3d_1: MaxPooling3D</text>\n",
       "<polyline fill=\"none\" points=\"207,-498.5 207,-544.5 \" stroke=\"black\"/>\n",
       "<text font-family=\"Times,serif\" font-size=\"14.00\" text-anchor=\"middle\" x=\"234.5\" y=\"-529.3\">input:</text>\n",
       "<polyline fill=\"none\" points=\"207,-521.5 262,-521.5 \" stroke=\"black\"/>\n",
       "<text font-family=\"Times,serif\" font-size=\"14.00\" text-anchor=\"middle\" x=\"234.5\" y=\"-506.3\">output:</text>\n",
       "<polyline fill=\"none\" points=\"262,-498.5 262,-544.5 \" stroke=\"black\"/>\n",
       "<text font-family=\"Times,serif\" font-size=\"14.00\" text-anchor=\"middle\" x=\"331.5\" y=\"-529.3\">(None, 32, 12, 12, 12)</text>\n",
       "<polyline fill=\"none\" points=\"262,-521.5 401,-521.5 \" stroke=\"black\"/>\n",
       "<text font-family=\"Times,serif\" font-size=\"14.00\" text-anchor=\"middle\" x=\"331.5\" y=\"-506.3\">(None, 32, 6, 6, 6)</text>\n",
       "</g>\n",
       "<!-- 140128902845160&#45;&gt;140128902848464 -->\n",
       "<g class=\"edge\" id=\"edge6\"><title>140128902845160-&gt;140128902848464</title>\n",
       "<path d=\"M200.5,-581.366C200.5,-573.152 200.5,-563.658 200.5,-554.725\" fill=\"none\" stroke=\"black\"/>\n",
       "<polygon fill=\"black\" points=\"204,-554.607 200.5,-544.607 197,-554.607 204,-554.607\" stroke=\"black\"/>\n",
       "</g>\n",
       "<!-- 140128902846560 -->\n",
       "<g class=\"node\" id=\"node7\"><title>140128902846560</title>\n",
       "<polygon fill=\"none\" points=\"51,-415.5 51,-461.5 350,-461.5 350,-415.5 51,-415.5\" stroke=\"black\"/>\n",
       "<text font-family=\"Times,serif\" font-size=\"14.00\" text-anchor=\"middle\" x=\"113.5\" y=\"-434.8\">dropout_2: Dropout</text>\n",
       "<polyline fill=\"none\" points=\"176,-415.5 176,-461.5 \" stroke=\"black\"/>\n",
       "<text font-family=\"Times,serif\" font-size=\"14.00\" text-anchor=\"middle\" x=\"203.5\" y=\"-446.3\">input:</text>\n",
       "<polyline fill=\"none\" points=\"176,-438.5 231,-438.5 \" stroke=\"black\"/>\n",
       "<text font-family=\"Times,serif\" font-size=\"14.00\" text-anchor=\"middle\" x=\"203.5\" y=\"-423.3\">output:</text>\n",
       "<polyline fill=\"none\" points=\"231,-415.5 231,-461.5 \" stroke=\"black\"/>\n",
       "<text font-family=\"Times,serif\" font-size=\"14.00\" text-anchor=\"middle\" x=\"290.5\" y=\"-446.3\">(None, 32, 6, 6, 6)</text>\n",
       "<polyline fill=\"none\" points=\"231,-438.5 350,-438.5 \" stroke=\"black\"/>\n",
       "<text font-family=\"Times,serif\" font-size=\"14.00\" text-anchor=\"middle\" x=\"290.5\" y=\"-423.3\">(None, 32, 6, 6, 6)</text>\n",
       "</g>\n",
       "<!-- 140128902848464&#45;&gt;140128902846560 -->\n",
       "<g class=\"edge\" id=\"edge7\"><title>140128902848464-&gt;140128902846560</title>\n",
       "<path d=\"M200.5,-498.366C200.5,-490.152 200.5,-480.658 200.5,-471.725\" fill=\"none\" stroke=\"black\"/>\n",
       "<polygon fill=\"black\" points=\"204,-471.607 200.5,-461.607 197,-471.607 204,-471.607\" stroke=\"black\"/>\n",
       "</g>\n",
       "<!-- 140128902847344 -->\n",
       "<g class=\"node\" id=\"node8\"><title>140128902847344</title>\n",
       "<polygon fill=\"none\" points=\"58.5,-332.5 58.5,-378.5 342.5,-378.5 342.5,-332.5 58.5,-332.5\" stroke=\"black\"/>\n",
       "<text font-family=\"Times,serif\" font-size=\"14.00\" text-anchor=\"middle\" x=\"113.5\" y=\"-351.8\">flatten_1: Flatten</text>\n",
       "<polyline fill=\"none\" points=\"168.5,-332.5 168.5,-378.5 \" stroke=\"black\"/>\n",
       "<text font-family=\"Times,serif\" font-size=\"14.00\" text-anchor=\"middle\" x=\"196\" y=\"-363.3\">input:</text>\n",
       "<polyline fill=\"none\" points=\"168.5,-355.5 223.5,-355.5 \" stroke=\"black\"/>\n",
       "<text font-family=\"Times,serif\" font-size=\"14.00\" text-anchor=\"middle\" x=\"196\" y=\"-340.3\">output:</text>\n",
       "<polyline fill=\"none\" points=\"223.5,-332.5 223.5,-378.5 \" stroke=\"black\"/>\n",
       "<text font-family=\"Times,serif\" font-size=\"14.00\" text-anchor=\"middle\" x=\"283\" y=\"-363.3\">(None, 32, 6, 6, 6)</text>\n",
       "<polyline fill=\"none\" points=\"223.5,-355.5 342.5,-355.5 \" stroke=\"black\"/>\n",
       "<text font-family=\"Times,serif\" font-size=\"14.00\" text-anchor=\"middle\" x=\"283\" y=\"-340.3\">(None, 6912)</text>\n",
       "</g>\n",
       "<!-- 140128902846560&#45;&gt;140128902847344 -->\n",
       "<g class=\"edge\" id=\"edge8\"><title>140128902846560-&gt;140128902847344</title>\n",
       "<path d=\"M200.5,-415.366C200.5,-407.152 200.5,-397.658 200.5,-388.725\" fill=\"none\" stroke=\"black\"/>\n",
       "<polygon fill=\"black\" points=\"204,-388.607 200.5,-378.607 197,-388.607 204,-388.607\" stroke=\"black\"/>\n",
       "</g>\n",
       "<!-- 140128902645632 -->\n",
       "<g class=\"node\" id=\"node9\"><title>140128902645632</title>\n",
       "<polygon fill=\"none\" points=\"77.5,-249.5 77.5,-295.5 323.5,-295.5 323.5,-249.5 77.5,-249.5\" stroke=\"black\"/>\n",
       "<text font-family=\"Times,serif\" font-size=\"14.00\" text-anchor=\"middle\" x=\"128.5\" y=\"-268.8\">dense_1: Dense</text>\n",
       "<polyline fill=\"none\" points=\"179.5,-249.5 179.5,-295.5 \" stroke=\"black\"/>\n",
       "<text font-family=\"Times,serif\" font-size=\"14.00\" text-anchor=\"middle\" x=\"207\" y=\"-280.3\">input:</text>\n",
       "<polyline fill=\"none\" points=\"179.5,-272.5 234.5,-272.5 \" stroke=\"black\"/>\n",
       "<text font-family=\"Times,serif\" font-size=\"14.00\" text-anchor=\"middle\" x=\"207\" y=\"-257.3\">output:</text>\n",
       "<polyline fill=\"none\" points=\"234.5,-249.5 234.5,-295.5 \" stroke=\"black\"/>\n",
       "<text font-family=\"Times,serif\" font-size=\"14.00\" text-anchor=\"middle\" x=\"279\" y=\"-280.3\">(None, 6912)</text>\n",
       "<polyline fill=\"none\" points=\"234.5,-272.5 323.5,-272.5 \" stroke=\"black\"/>\n",
       "<text font-family=\"Times,serif\" font-size=\"14.00\" text-anchor=\"middle\" x=\"279\" y=\"-257.3\">(None, 528)</text>\n",
       "</g>\n",
       "<!-- 140128902847344&#45;&gt;140128902645632 -->\n",
       "<g class=\"edge\" id=\"edge9\"><title>140128902847344-&gt;140128902645632</title>\n",
       "<path d=\"M200.5,-332.366C200.5,-324.152 200.5,-314.658 200.5,-305.725\" fill=\"none\" stroke=\"black\"/>\n",
       "<polygon fill=\"black\" points=\"204,-305.607 200.5,-295.607 197,-305.607 204,-305.607\" stroke=\"black\"/>\n",
       "</g>\n",
       "<!-- 140128902230648 -->\n",
       "<g class=\"node\" id=\"node10\"><title>140128902230648</title>\n",
       "<polygon fill=\"none\" points=\"69,-166.5 69,-212.5 332,-212.5 332,-166.5 69,-166.5\" stroke=\"black\"/>\n",
       "<text font-family=\"Times,serif\" font-size=\"14.00\" text-anchor=\"middle\" x=\"131.5\" y=\"-185.8\">dropout_3: Dropout</text>\n",
       "<polyline fill=\"none\" points=\"194,-166.5 194,-212.5 \" stroke=\"black\"/>\n",
       "<text font-family=\"Times,serif\" font-size=\"14.00\" text-anchor=\"middle\" x=\"221.5\" y=\"-197.3\">input:</text>\n",
       "<polyline fill=\"none\" points=\"194,-189.5 249,-189.5 \" stroke=\"black\"/>\n",
       "<text font-family=\"Times,serif\" font-size=\"14.00\" text-anchor=\"middle\" x=\"221.5\" y=\"-174.3\">output:</text>\n",
       "<polyline fill=\"none\" points=\"249,-166.5 249,-212.5 \" stroke=\"black\"/>\n",
       "<text font-family=\"Times,serif\" font-size=\"14.00\" text-anchor=\"middle\" x=\"290.5\" y=\"-197.3\">(None, 528)</text>\n",
       "<polyline fill=\"none\" points=\"249,-189.5 332,-189.5 \" stroke=\"black\"/>\n",
       "<text font-family=\"Times,serif\" font-size=\"14.00\" text-anchor=\"middle\" x=\"290.5\" y=\"-174.3\">(None, 528)</text>\n",
       "</g>\n",
       "<!-- 140128902645632&#45;&gt;140128902230648 -->\n",
       "<g class=\"edge\" id=\"edge10\"><title>140128902645632-&gt;140128902230648</title>\n",
       "<path d=\"M200.5,-249.366C200.5,-241.152 200.5,-231.658 200.5,-222.725\" fill=\"none\" stroke=\"black\"/>\n",
       "<polygon fill=\"black\" points=\"204,-222.607 200.5,-212.607 197,-222.607 204,-222.607\" stroke=\"black\"/>\n",
       "</g>\n",
       "<!-- 140128902339328 -->\n",
       "<g class=\"node\" id=\"node11\"><title>140128902339328</title>\n",
       "<polygon fill=\"none\" points=\"80.5,-83.5 80.5,-129.5 320.5,-129.5 320.5,-83.5 80.5,-83.5\" stroke=\"black\"/>\n",
       "<text font-family=\"Times,serif\" font-size=\"14.00\" text-anchor=\"middle\" x=\"131.5\" y=\"-102.8\">dense_2: Dense</text>\n",
       "<polyline fill=\"none\" points=\"182.5,-83.5 182.5,-129.5 \" stroke=\"black\"/>\n",
       "<text font-family=\"Times,serif\" font-size=\"14.00\" text-anchor=\"middle\" x=\"210\" y=\"-114.3\">input:</text>\n",
       "<polyline fill=\"none\" points=\"182.5,-106.5 237.5,-106.5 \" stroke=\"black\"/>\n",
       "<text font-family=\"Times,serif\" font-size=\"14.00\" text-anchor=\"middle\" x=\"210\" y=\"-91.3\">output:</text>\n",
       "<polyline fill=\"none\" points=\"237.5,-83.5 237.5,-129.5 \" stroke=\"black\"/>\n",
       "<text font-family=\"Times,serif\" font-size=\"14.00\" text-anchor=\"middle\" x=\"279\" y=\"-114.3\">(None, 528)</text>\n",
       "<polyline fill=\"none\" points=\"237.5,-106.5 320.5,-106.5 \" stroke=\"black\"/>\n",
       "<text font-family=\"Times,serif\" font-size=\"14.00\" text-anchor=\"middle\" x=\"279\" y=\"-91.3\">(None, 10)</text>\n",
       "</g>\n",
       "<!-- 140128902230648&#45;&gt;140128902339328 -->\n",
       "<g class=\"edge\" id=\"edge11\"><title>140128902230648-&gt;140128902339328</title>\n",
       "<path d=\"M200.5,-166.366C200.5,-158.152 200.5,-148.658 200.5,-139.725\" fill=\"none\" stroke=\"black\"/>\n",
       "<polygon fill=\"black\" points=\"204,-139.607 200.5,-129.607 197,-139.607 204,-139.607\" stroke=\"black\"/>\n",
       "</g>\n",
       "<!-- 140128902338936 -->\n",
       "<g class=\"node\" id=\"node12\"><title>140128902338936</title>\n",
       "<polygon fill=\"none\" points=\"61,-0.5 61,-46.5 340,-46.5 340,-0.5 61,-0.5\" stroke=\"black\"/>\n",
       "<text font-family=\"Times,serif\" font-size=\"14.00\" text-anchor=\"middle\" x=\"135\" y=\"-19.8\">activation_3: Activation</text>\n",
       "<polyline fill=\"none\" points=\"209,-0.5 209,-46.5 \" stroke=\"black\"/>\n",
       "<text font-family=\"Times,serif\" font-size=\"14.00\" text-anchor=\"middle\" x=\"236.5\" y=\"-31.3\">input:</text>\n",
       "<polyline fill=\"none\" points=\"209,-23.5 264,-23.5 \" stroke=\"black\"/>\n",
       "<text font-family=\"Times,serif\" font-size=\"14.00\" text-anchor=\"middle\" x=\"236.5\" y=\"-8.3\">output:</text>\n",
       "<polyline fill=\"none\" points=\"264,-0.5 264,-46.5 \" stroke=\"black\"/>\n",
       "<text font-family=\"Times,serif\" font-size=\"14.00\" text-anchor=\"middle\" x=\"302\" y=\"-31.3\">(None, 10)</text>\n",
       "<polyline fill=\"none\" points=\"264,-23.5 340,-23.5 \" stroke=\"black\"/>\n",
       "<text font-family=\"Times,serif\" font-size=\"14.00\" text-anchor=\"middle\" x=\"302\" y=\"-8.3\">(None, 10)</text>\n",
       "</g>\n",
       "<!-- 140128902339328&#45;&gt;140128902338936 -->\n",
       "<g class=\"edge\" id=\"edge12\"><title>140128902339328-&gt;140128902338936</title>\n",
       "<path d=\"M200.5,-83.3664C200.5,-75.1516 200.5,-65.6579 200.5,-56.7252\" fill=\"none\" stroke=\"black\"/>\n",
       "<polygon fill=\"black\" points=\"204,-56.6068 200.5,-46.6068 197,-56.6069 204,-56.6068\" stroke=\"black\"/>\n",
       "</g>\n",
       "<!-- 140128903294368 -->\n",
       "<g class=\"node\" id=\"node13\"><title>140128903294368</title>\n",
       "<polygon fill=\"none\" points=\"141.5,-996.5 141.5,-1032.5 259.5,-1032.5 259.5,-996.5 141.5,-996.5\" stroke=\"black\"/>\n",
       "<text font-family=\"Times,serif\" font-size=\"14.00\" text-anchor=\"middle\" x=\"200.5\" y=\"-1010.8\">140128903294368</text>\n",
       "</g>\n",
       "<!-- 140128903294368&#45;&gt;140128903293416 -->\n",
       "<g class=\"edge\" id=\"edge1\"><title>140128903294368-&gt;140128903293416</title>\n",
       "<path d=\"M200.5,-996.254C200.5,-988.363 200.5,-978.749 200.5,-969.602\" fill=\"none\" stroke=\"black\"/>\n",
       "<polygon fill=\"black\" points=\"204,-969.591 200.5,-959.591 197,-969.591 204,-969.591\" stroke=\"black\"/>\n",
       "</g>\n",
       "</g>\n",
       "</svg>"
      ],
      "text/plain": [
       "<IPython.core.display.SVG object>"
      ]
     },
     "execution_count": 10,
     "metadata": {},
     "output_type": "execute_result"
    }
   ],
   "source": [
    "#可視化\n",
    "SVG(model_to_dot(model,show_shapes=True).create(prog='dot', format='svg'))"
   ]
  },
  {
   "cell_type": "code",
   "execution_count": 11,
   "metadata": {},
   "outputs": [
    {
     "name": "stdout",
     "output_type": "stream",
     "text": [
      "_________________________________________________________________\n",
      "Layer (type)                 Output Shape              Param #   \n",
      "=================================================================\n",
      "conv3d_1 (Conv3D)            (None, 32, 14, 14, 14)    4032      \n",
      "_________________________________________________________________\n",
      "activation_1 (Activation)    (None, 32, 14, 14, 14)    0         \n",
      "_________________________________________________________________\n",
      "dropout_1 (Dropout)          (None, 32, 14, 14, 14)    0         \n",
      "_________________________________________________________________\n",
      "conv3d_2 (Conv3D)            (None, 32, 12, 12, 12)    27680     \n",
      "_________________________________________________________________\n",
      "activation_2 (Activation)    (None, 32, 12, 12, 12)    0         \n",
      "_________________________________________________________________\n",
      "max_pooling3d_1 (MaxPooling3 (None, 32, 6, 6, 6)       0         \n",
      "_________________________________________________________________\n",
      "dropout_2 (Dropout)          (None, 32, 6, 6, 6)       0         \n",
      "_________________________________________________________________\n",
      "flatten_1 (Flatten)          (None, 6912)              0         \n",
      "_________________________________________________________________\n",
      "dense_1 (Dense)              (None, 528)               3650064   \n",
      "_________________________________________________________________\n",
      "dropout_3 (Dropout)          (None, 528)               0         \n",
      "_________________________________________________________________\n",
      "dense_2 (Dense)              (None, 10)                5290      \n",
      "_________________________________________________________________\n",
      "activation_3 (Activation)    (None, 10)                0         \n",
      "=================================================================\n",
      "Total params: 3,687,066\n",
      "Trainable params: 3,687,066\n",
      "Non-trainable params: 0\n",
      "_________________________________________________________________\n"
     ]
    }
   ],
   "source": [
    "#サマリーの表示\n",
    "model.summary()"
   ]
  },
  {
   "cell_type": "code",
   "execution_count": 12,
   "metadata": {
    "collapsed": true
   },
   "outputs": [],
   "source": [
    "#モデルの図を保存\n",
    "plot_model(model, to_file='model.png',show_shapes='True')"
   ]
  },
  {
   "cell_type": "code",
   "execution_count": null,
   "metadata": {
    "collapsed": true
   },
   "outputs": [],
   "source": []
  },
  {
   "cell_type": "code",
   "execution_count": null,
   "metadata": {
    "collapsed": true
   },
   "outputs": [],
   "source": []
  },
  {
   "cell_type": "code",
   "execution_count": 13,
   "metadata": {
    "collapsed": true
   },
   "outputs": [],
   "source": [
    "x_train = np.load( data_dir  + \"x_train.npy\")\n",
    "x_test = np.load( data_dir  + \"x_test.npy\")\n",
    "y_train = np.load( data_dir + \"y_train.npy\")\n",
    "y_test = np.load( data_dir + \"y_test.npy\")"
   ]
  },
  {
   "cell_type": "code",
   "execution_count": 14,
   "metadata": {},
   "outputs": [
    {
     "data": {
      "text/plain": [
       "(3991, 1, 32, 32, 32)"
      ]
     },
     "execution_count": 14,
     "metadata": {},
     "output_type": "execute_result"
    }
   ],
   "source": [
    "x_train.shape"
   ]
  },
  {
   "cell_type": "code",
   "execution_count": 15,
   "metadata": {},
   "outputs": [
    {
     "data": {
      "text/plain": [
       "(3991, 10)"
      ]
     },
     "execution_count": 15,
     "metadata": {},
     "output_type": "execute_result"
    }
   ],
   "source": [
    "y_train.shape"
   ]
  },
  {
   "cell_type": "code",
   "execution_count": 16,
   "metadata": {},
   "outputs": [
    {
     "data": {
      "text/plain": [
       "(908, 1, 32, 32, 32)"
      ]
     },
     "execution_count": 16,
     "metadata": {},
     "output_type": "execute_result"
    }
   ],
   "source": [
    "x_test.shape"
   ]
  },
  {
   "cell_type": "code",
   "execution_count": 17,
   "metadata": {},
   "outputs": [
    {
     "data": {
      "text/plain": [
       "(908, 10)"
      ]
     },
     "execution_count": 17,
     "metadata": {},
     "output_type": "execute_result"
    }
   ],
   "source": [
    "y_test.shape"
   ]
  },
  {
   "cell_type": "code",
   "execution_count": null,
   "metadata": {
    "collapsed": true
   },
   "outputs": [],
   "source": []
  },
  {
   "cell_type": "code",
   "execution_count": null,
   "metadata": {
    "collapsed": true
   },
   "outputs": [],
   "source": []
  },
  {
   "cell_type": "code",
   "execution_count": 18,
   "metadata": {
    "collapsed": true
   },
   "outputs": [],
   "source": [
    "es_cb = keras.callbacks.EarlyStopping(monitor='val_loss', patience=0, verbose=0, mode='auto')"
   ]
  },
  {
   "cell_type": "code",
   "execution_count": 19,
   "metadata": {
    "scrolled": false
   },
   "outputs": [
    {
     "name": "stdout",
     "output_type": "stream",
     "text": [
      "Train on 3991 samples, validate on 908 samples\n",
      "Epoch 1/150\n",
      "3991/3991 [==============================] - 5s 1ms/step - loss: 10.7194 - acc: 0.5515 - val_loss: 9.9866 - val_acc: 0.7368\n",
      "Epoch 2/150\n",
      "3991/3991 [==============================] - 3s 782us/step - loss: 9.6862 - acc: 0.8068 - val_loss: 9.6249 - val_acc: 0.8029\n",
      "Epoch 3/150\n",
      "3991/3991 [==============================] - 3s 779us/step - loss: 9.4023 - acc: 0.8592 - val_loss: 9.3785 - val_acc: 0.8282\n",
      "Epoch 4/150\n",
      "3991/3991 [==============================] - 3s 780us/step - loss: 9.2174 - acc: 0.8837 - val_loss: 9.2554 - val_acc: 0.8348\n",
      "Epoch 5/150\n",
      "3991/3991 [==============================] - 3s 780us/step - loss: 9.0690 - acc: 0.8935 - val_loss: 9.1095 - val_acc: 0.8425\n",
      "Epoch 6/150\n",
      "3991/3991 [==============================] - 3s 781us/step - loss: 8.9193 - acc: 0.9043 - val_loss: 8.9832 - val_acc: 0.8579\n",
      "Epoch 7/150\n",
      "3991/3991 [==============================] - 3s 776us/step - loss: 8.7921 - acc: 0.9073 - val_loss: 8.8258 - val_acc: 0.8733\n",
      "Epoch 8/150\n",
      "3991/3991 [==============================] - 3s 773us/step - loss: 8.7031 - acc: 0.9063 - val_loss: 8.7740 - val_acc: 0.8458\n",
      "Epoch 9/150\n",
      "3991/3991 [==============================] - 3s 786us/step - loss: 8.5577 - acc: 0.9206 - val_loss: 8.6191 - val_acc: 0.8711\n",
      "Epoch 10/150\n",
      "3991/3991 [==============================] - 3s 771us/step - loss: 8.4345 - acc: 0.9261 - val_loss: 8.5369 - val_acc: 0.8756\n",
      "Epoch 11/150\n",
      "3991/3991 [==============================] - 3s 778us/step - loss: 8.3393 - acc: 0.9251 - val_loss: 8.4641 - val_acc: 0.8535\n",
      "Epoch 12/150\n",
      "3991/3991 [==============================] - 3s 778us/step - loss: 8.2173 - acc: 0.9346 - val_loss: 8.3144 - val_acc: 0.8700\n",
      "Epoch 13/150\n",
      "3991/3991 [==============================] - 3s 775us/step - loss: 8.1027 - acc: 0.9399 - val_loss: 8.2487 - val_acc: 0.8579\n",
      "Epoch 14/150\n",
      "3991/3991 [==============================] - 3s 785us/step - loss: 8.0090 - acc: 0.9411 - val_loss: 8.1325 - val_acc: 0.8711\n",
      "Epoch 15/150\n",
      "3991/3991 [==============================] - 3s 773us/step - loss: 7.9038 - acc: 0.9416 - val_loss: 8.0191 - val_acc: 0.8722\n",
      "Epoch 16/150\n",
      "3991/3991 [==============================] - 3s 778us/step - loss: 7.8144 - acc: 0.9371 - val_loss: 7.9276 - val_acc: 0.8767\n",
      "Epoch 17/150\n",
      "3991/3991 [==============================] - 3s 779us/step - loss: 7.7227 - acc: 0.9421 - val_loss: 7.8371 - val_acc: 0.8767\n",
      "Epoch 18/150\n",
      "3991/3991 [==============================] - 3s 776us/step - loss: 7.6161 - acc: 0.9491 - val_loss: 7.7445 - val_acc: 0.8855\n",
      "Epoch 19/150\n",
      "3991/3991 [==============================] - 3s 785us/step - loss: 7.5329 - acc: 0.9476 - val_loss: 7.6485 - val_acc: 0.8877\n",
      "Epoch 20/150\n",
      "3991/3991 [==============================] - 3s 782us/step - loss: 7.4377 - acc: 0.9501 - val_loss: 7.5740 - val_acc: 0.8844\n",
      "Epoch 21/150\n",
      "3991/3991 [==============================] - 3s 785us/step - loss: 7.3479 - acc: 0.9564 - val_loss: 7.4982 - val_acc: 0.8767\n",
      "Epoch 22/150\n",
      "3991/3991 [==============================] - 3s 777us/step - loss: 7.2577 - acc: 0.9549 - val_loss: 7.4471 - val_acc: 0.8733\n",
      "Epoch 23/150\n",
      "3991/3991 [==============================] - 3s 792us/step - loss: 7.1762 - acc: 0.9536 - val_loss: 7.3451 - val_acc: 0.8733\n",
      "Epoch 24/150\n",
      "3991/3991 [==============================] - 3s 781us/step - loss: 7.0915 - acc: 0.9579 - val_loss: 7.2607 - val_acc: 0.8811\n",
      "Epoch 25/150\n",
      "3991/3991 [==============================] - 3s 783us/step - loss: 7.0169 - acc: 0.9567 - val_loss: 7.1692 - val_acc: 0.8811\n",
      "Epoch 26/150\n",
      "3991/3991 [==============================] - 3s 776us/step - loss: 6.9338 - acc: 0.9602 - val_loss: 7.0841 - val_acc: 0.8921\n",
      "Epoch 27/150\n",
      "3991/3991 [==============================] - 3s 777us/step - loss: 6.8544 - acc: 0.9624 - val_loss: 6.9891 - val_acc: 0.8965\n",
      "Epoch 28/150\n",
      "3991/3991 [==============================] - 3s 775us/step - loss: 6.7869 - acc: 0.9612 - val_loss: 6.9667 - val_acc: 0.8733\n",
      "Epoch 29/150\n",
      "3991/3991 [==============================] - 3s 776us/step - loss: 6.7091 - acc: 0.9569 - val_loss: 6.8585 - val_acc: 0.8943\n",
      "Epoch 30/150\n",
      "3991/3991 [==============================] - 3s 772us/step - loss: 6.6290 - acc: 0.9592 - val_loss: 6.7830 - val_acc: 0.8921\n",
      "Epoch 31/150\n",
      "3991/3991 [==============================] - 3s 783us/step - loss: 6.5399 - acc: 0.9689 - val_loss: 6.7039 - val_acc: 0.8899\n",
      "Epoch 32/150\n",
      "3991/3991 [==============================] - 3s 786us/step - loss: 6.4765 - acc: 0.9659 - val_loss: 6.6255 - val_acc: 0.8987\n",
      "Epoch 33/150\n",
      "3991/3991 [==============================] - 3s 776us/step - loss: 6.4097 - acc: 0.9654 - val_loss: 6.5802 - val_acc: 0.8899\n",
      "Epoch 34/150\n",
      "3991/3991 [==============================] - 3s 777us/step - loss: 6.3340 - acc: 0.9664 - val_loss: 6.5155 - val_acc: 0.8844\n",
      "Epoch 35/150\n",
      "3991/3991 [==============================] - 3s 772us/step - loss: 6.2700 - acc: 0.9679 - val_loss: 6.4444 - val_acc: 0.8932\n",
      "Epoch 36/150\n",
      "3991/3991 [==============================] - 3s 777us/step - loss: 6.1930 - acc: 0.9702 - val_loss: 6.3584 - val_acc: 0.9009\n",
      "Epoch 37/150\n",
      "3991/3991 [==============================] - 3s 781us/step - loss: 6.1311 - acc: 0.9694 - val_loss: 6.3022 - val_acc: 0.8954\n",
      "Epoch 38/150\n",
      "3991/3991 [==============================] - 3s 776us/step - loss: 6.0646 - acc: 0.9707 - val_loss: 6.2542 - val_acc: 0.8954\n",
      "Epoch 39/150\n",
      "3991/3991 [==============================] - 3s 778us/step - loss: 6.0091 - acc: 0.9684 - val_loss: 6.1970 - val_acc: 0.8888\n",
      "Epoch 40/150\n",
      "3991/3991 [==============================] - 3s 772us/step - loss: 5.9385 - acc: 0.9712 - val_loss: 6.1197 - val_acc: 0.8965\n",
      "Epoch 41/150\n",
      "3991/3991 [==============================] - 3s 774us/step - loss: 5.8736 - acc: 0.9722 - val_loss: 6.0572 - val_acc: 0.8965\n",
      "Epoch 42/150\n",
      "3991/3991 [==============================] - 3s 780us/step - loss: 5.8100 - acc: 0.9734 - val_loss: 5.9831 - val_acc: 0.9020\n",
      "Epoch 43/150\n",
      "3991/3991 [==============================] - 3s 777us/step - loss: 5.7461 - acc: 0.9744 - val_loss: 5.9291 - val_acc: 0.9075\n",
      "Epoch 44/150\n",
      "3991/3991 [==============================] - 3s 777us/step - loss: 5.6912 - acc: 0.9714 - val_loss: 5.8874 - val_acc: 0.8987\n",
      "Epoch 45/150\n",
      "3991/3991 [==============================] - 3s 781us/step - loss: 5.6485 - acc: 0.9689 - val_loss: 5.8256 - val_acc: 0.9031\n",
      "Epoch 46/150\n",
      "3991/3991 [==============================] - 3s 778us/step - loss: 5.5745 - acc: 0.9749 - val_loss: 5.7702 - val_acc: 0.9020\n",
      "Epoch 47/150\n",
      "3991/3991 [==============================] - 3s 782us/step - loss: 5.5244 - acc: 0.9744 - val_loss: 5.7188 - val_acc: 0.8899\n",
      "Epoch 48/150\n",
      "3991/3991 [==============================] - 3s 774us/step - loss: 5.4663 - acc: 0.9754 - val_loss: 5.6761 - val_acc: 0.8877\n",
      "Epoch 49/150\n",
      "3991/3991 [==============================] - 3s 780us/step - loss: 5.4104 - acc: 0.9764 - val_loss: 5.6260 - val_acc: 0.8899\n",
      "Epoch 50/150\n",
      "3991/3991 [==============================] - 3s 775us/step - loss: 5.3542 - acc: 0.9752 - val_loss: 5.5640 - val_acc: 0.8954\n",
      "Epoch 51/150\n",
      "3991/3991 [==============================] - 3s 781us/step - loss: 5.3050 - acc: 0.9744 - val_loss: 5.5010 - val_acc: 0.8998\n",
      "Epoch 52/150\n",
      "3991/3991 [==============================] - 3s 780us/step - loss: 5.2488 - acc: 0.9790 - val_loss: 5.4575 - val_acc: 0.8976\n",
      "Epoch 53/150\n",
      "3991/3991 [==============================] - 3s 779us/step - loss: 5.1915 - acc: 0.9764 - val_loss: 5.4091 - val_acc: 0.8954\n",
      "Epoch 54/150\n",
      "3991/3991 [==============================] - 3s 788us/step - loss: 5.1466 - acc: 0.9759 - val_loss: 5.3722 - val_acc: 0.8866\n",
      "Epoch 55/150\n",
      "3991/3991 [==============================] - 3s 781us/step - loss: 5.0928 - acc: 0.9769 - val_loss: 5.3097 - val_acc: 0.8932\n",
      "Epoch 56/150\n",
      "3991/3991 [==============================] - 3s 770us/step - loss: 5.0368 - acc: 0.9817 - val_loss: 5.2645 - val_acc: 0.8932\n",
      "Epoch 57/150\n",
      "3991/3991 [==============================] - 3s 774us/step - loss: 4.9942 - acc: 0.9767 - val_loss: 5.2190 - val_acc: 0.8921\n",
      "Epoch 58/150\n",
      "3991/3991 [==============================] - 3s 787us/step - loss: 4.9377 - acc: 0.9805 - val_loss: 5.1585 - val_acc: 0.8910\n",
      "Epoch 59/150\n",
      "3991/3991 [==============================] - 3s 775us/step - loss: 4.9009 - acc: 0.9787 - val_loss: 5.1088 - val_acc: 0.8998\n",
      "Epoch 60/150\n"
     ]
    },
    {
     "name": "stdout",
     "output_type": "stream",
     "text": [
      "3991/3991 [==============================] - 3s 779us/step - loss: 4.8498 - acc: 0.9797 - val_loss: 5.0795 - val_acc: 0.8943\n",
      "Epoch 61/150\n",
      "3991/3991 [==============================] - 3s 773us/step - loss: 4.8064 - acc: 0.9777 - val_loss: 5.0254 - val_acc: 0.8932\n",
      "Epoch 62/150\n",
      "3991/3991 [==============================] - 3s 788us/step - loss: 4.7624 - acc: 0.9774 - val_loss: 4.9706 - val_acc: 0.9075\n",
      "Epoch 63/150\n",
      "3991/3991 [==============================] - 3s 773us/step - loss: 4.7228 - acc: 0.9769 - val_loss: 4.9329 - val_acc: 0.9031\n",
      "Epoch 64/150\n",
      "3991/3991 [==============================] - 3s 783us/step - loss: 4.6680 - acc: 0.9777 - val_loss: 4.8848 - val_acc: 0.8998\n",
      "Epoch 65/150\n",
      "3991/3991 [==============================] - 3s 776us/step - loss: 4.6268 - acc: 0.9802 - val_loss: 4.8609 - val_acc: 0.8811\n",
      "Epoch 66/150\n",
      "3991/3991 [==============================] - 3s 788us/step - loss: 4.5779 - acc: 0.9820 - val_loss: 4.7869 - val_acc: 0.9042\n",
      "Epoch 67/150\n",
      "3991/3991 [==============================] - 3s 777us/step - loss: 4.5432 - acc: 0.9792 - val_loss: 4.7611 - val_acc: 0.8976\n",
      "Epoch 68/150\n",
      "3991/3991 [==============================] - 3s 784us/step - loss: 4.4902 - acc: 0.9835 - val_loss: 4.7173 - val_acc: 0.8965\n",
      "Epoch 69/150\n",
      "3991/3991 [==============================] - 3s 777us/step - loss: 4.4525 - acc: 0.9822 - val_loss: 4.6805 - val_acc: 0.9031\n",
      "Epoch 70/150\n",
      "3991/3991 [==============================] - 3s 778us/step - loss: 4.4141 - acc: 0.9790 - val_loss: 4.6454 - val_acc: 0.8855\n",
      "Epoch 71/150\n",
      "3991/3991 [==============================] - 3s 780us/step - loss: 4.3707 - acc: 0.9835 - val_loss: 4.6014 - val_acc: 0.8899\n",
      "Epoch 72/150\n",
      "3991/3991 [==============================] - 3s 774us/step - loss: 4.3234 - acc: 0.9862 - val_loss: 4.5558 - val_acc: 0.8965\n",
      "Epoch 73/150\n",
      "3991/3991 [==============================] - 3s 788us/step - loss: 4.2920 - acc: 0.9820 - val_loss: 4.5355 - val_acc: 0.8877\n",
      "Epoch 74/150\n",
      "3991/3991 [==============================] - 3s 785us/step - loss: 4.2537 - acc: 0.9830 - val_loss: 4.4775 - val_acc: 0.8998\n",
      "Epoch 75/150\n",
      "3991/3991 [==============================] - 3s 788us/step - loss: 4.2142 - acc: 0.9837 - val_loss: 4.4517 - val_acc: 0.9042\n",
      "Epoch 76/150\n",
      "3991/3991 [==============================] - 3s 778us/step - loss: 4.1750 - acc: 0.9827 - val_loss: 4.4175 - val_acc: 0.8932\n",
      "Epoch 77/150\n",
      "3991/3991 [==============================] - 3s 794us/step - loss: 4.1368 - acc: 0.9835 - val_loss: 4.3735 - val_acc: 0.9064\n",
      "Epoch 78/150\n",
      "3991/3991 [==============================] - 3s 775us/step - loss: 4.1000 - acc: 0.9830 - val_loss: 4.3395 - val_acc: 0.8954\n",
      "Epoch 79/150\n",
      "3991/3991 [==============================] - 3s 783us/step - loss: 4.0665 - acc: 0.9827 - val_loss: 4.3025 - val_acc: 0.8954\n",
      "Epoch 80/150\n",
      "3991/3991 [==============================] - 3s 781us/step - loss: 4.0305 - acc: 0.9832 - val_loss: 4.2727 - val_acc: 0.8954\n",
      "Epoch 81/150\n",
      "3991/3991 [==============================] - 3s 771us/step - loss: 4.0006 - acc: 0.9807 - val_loss: 4.2349 - val_acc: 0.8888\n",
      "Epoch 82/150\n",
      "3991/3991 [==============================] - 3s 786us/step - loss: 3.9588 - acc: 0.9835 - val_loss: 4.2096 - val_acc: 0.8954\n",
      "Epoch 83/150\n",
      "3991/3991 [==============================] - 3s 778us/step - loss: 3.9199 - acc: 0.9850 - val_loss: 4.1752 - val_acc: 0.8855\n",
      "Epoch 84/150\n",
      "3991/3991 [==============================] - 3s 788us/step - loss: 3.8887 - acc: 0.9857 - val_loss: 4.1342 - val_acc: 0.8998\n",
      "Epoch 85/150\n",
      "3991/3991 [==============================] - 3s 777us/step - loss: 3.8568 - acc: 0.9852 - val_loss: 4.0927 - val_acc: 0.8976\n",
      "Epoch 86/150\n",
      "3991/3991 [==============================] - 3s 785us/step - loss: 3.8151 - acc: 0.9872 - val_loss: 4.0775 - val_acc: 0.8921\n",
      "Epoch 87/150\n",
      "3991/3991 [==============================] - 3s 778us/step - loss: 3.7905 - acc: 0.9825 - val_loss: 4.0284 - val_acc: 0.9020\n",
      "Epoch 88/150\n",
      "3991/3991 [==============================] - 3s 776us/step - loss: 3.7626 - acc: 0.9820 - val_loss: 4.0057 - val_acc: 0.8921\n",
      "Epoch 89/150\n",
      "3991/3991 [==============================] - 3s 778us/step - loss: 3.7196 - acc: 0.9872 - val_loss: 3.9571 - val_acc: 0.8987\n",
      "Epoch 90/150\n",
      "3991/3991 [==============================] - 3s 781us/step - loss: 3.6890 - acc: 0.9867 - val_loss: 3.9321 - val_acc: 0.8998\n",
      "Epoch 91/150\n",
      "3991/3991 [==============================] - 3s 773us/step - loss: 3.6583 - acc: 0.9860 - val_loss: 3.9240 - val_acc: 0.8921\n",
      "Epoch 92/150\n",
      "3991/3991 [==============================] - 3s 785us/step - loss: 3.6235 - acc: 0.9852 - val_loss: 3.8887 - val_acc: 0.8910\n",
      "Epoch 93/150\n",
      "3991/3991 [==============================] - 3s 783us/step - loss: 3.5924 - acc: 0.9882 - val_loss: 3.8611 - val_acc: 0.8910\n",
      "Epoch 94/150\n",
      "3991/3991 [==============================] - 3s 788us/step - loss: 3.5696 - acc: 0.9852 - val_loss: 3.8265 - val_acc: 0.8932\n",
      "Epoch 95/150\n",
      "3991/3991 [==============================] - 3s 779us/step - loss: 3.5328 - acc: 0.9872 - val_loss: 3.7831 - val_acc: 0.9042\n",
      "Epoch 96/150\n",
      "3991/3991 [==============================] - 3s 775us/step - loss: 3.5074 - acc: 0.9867 - val_loss: 3.7642 - val_acc: 0.8943\n",
      "Epoch 97/150\n",
      "3991/3991 [==============================] - 3s 776us/step - loss: 3.4759 - acc: 0.9887 - val_loss: 3.7528 - val_acc: 0.8855\n",
      "Epoch 98/150\n",
      "3991/3991 [==============================] - 3s 777us/step - loss: 3.4483 - acc: 0.9877 - val_loss: 3.7089 - val_acc: 0.8998\n",
      "Epoch 99/150\n",
      "3991/3991 [==============================] - 3s 786us/step - loss: 3.4189 - acc: 0.9867 - val_loss: 3.6835 - val_acc: 0.8998\n",
      "Epoch 100/150\n",
      "3991/3991 [==============================] - 3s 788us/step - loss: 3.3935 - acc: 0.9872 - val_loss: 3.6441 - val_acc: 0.9020\n",
      "Epoch 101/150\n",
      "3991/3991 [==============================] - 3s 792us/step - loss: 3.3616 - acc: 0.9862 - val_loss: 3.6310 - val_acc: 0.8965\n",
      "Epoch 102/150\n",
      "3991/3991 [==============================] - 3s 773us/step - loss: 3.3389 - acc: 0.9857 - val_loss: 3.5915 - val_acc: 0.8987\n",
      "Epoch 103/150\n",
      "3991/3991 [==============================] - 3s 791us/step - loss: 3.3064 - acc: 0.9890 - val_loss: 3.5741 - val_acc: 0.8987\n",
      "Epoch 104/150\n",
      "3991/3991 [==============================] - 3s 791us/step - loss: 3.2799 - acc: 0.9892 - val_loss: 3.5722 - val_acc: 0.8888\n",
      "Epoch 105/150\n",
      "3991/3991 [==============================] - 3s 776us/step - loss: 3.2594 - acc: 0.9857 - val_loss: 3.5047 - val_acc: 0.9053\n",
      "Epoch 106/150\n",
      "3991/3991 [==============================] - 3s 782us/step - loss: 3.2317 - acc: 0.9865 - val_loss: 3.4862 - val_acc: 0.8987\n",
      "Epoch 107/150\n",
      "3991/3991 [==============================] - 3s 776us/step - loss: 3.2071 - acc: 0.9865 - val_loss: 3.4652 - val_acc: 0.9042\n",
      "Epoch 108/150\n",
      "3991/3991 [==============================] - 3s 774us/step - loss: 3.1797 - acc: 0.9882 - val_loss: 3.4534 - val_acc: 0.8954\n",
      "Epoch 109/150\n",
      "3991/3991 [==============================] - 3s 776us/step - loss: 3.1519 - acc: 0.9892 - val_loss: 3.4177 - val_acc: 0.8987\n",
      "Epoch 110/150\n",
      "3991/3991 [==============================] - 3s 775us/step - loss: 3.1260 - acc: 0.9895 - val_loss: 3.4126 - val_acc: 0.8932\n",
      "Epoch 111/150\n",
      "3991/3991 [==============================] - 3s 786us/step - loss: 3.1064 - acc: 0.9880 - val_loss: 3.3760 - val_acc: 0.8899\n",
      "Epoch 112/150\n",
      "3991/3991 [==============================] - 3s 775us/step - loss: 3.0815 - acc: 0.9857 - val_loss: 3.3506 - val_acc: 0.8998\n",
      "Epoch 113/150\n",
      "3991/3991 [==============================] - 3s 781us/step - loss: 3.0526 - acc: 0.9895 - val_loss: 3.3340 - val_acc: 0.8921\n",
      "Epoch 114/150\n",
      "3991/3991 [==============================] - 3s 775us/step - loss: 3.0290 - acc: 0.9885 - val_loss: 3.3091 - val_acc: 0.8976\n",
      "Epoch 115/150\n",
      "3991/3991 [==============================] - 3s 776us/step - loss: 3.0069 - acc: 0.9877 - val_loss: 3.2946 - val_acc: 0.8921\n",
      "Epoch 116/150\n",
      "3991/3991 [==============================] - 3s 777us/step - loss: 2.9865 - acc: 0.9875 - val_loss: 3.2867 - val_acc: 0.8910\n",
      "Epoch 117/150\n",
      "3991/3991 [==============================] - 3s 780us/step - loss: 2.9572 - acc: 0.9892 - val_loss: 3.2521 - val_acc: 0.8954\n",
      "Epoch 118/150\n",
      "3991/3991 [==============================] - 3s 776us/step - loss: 2.9375 - acc: 0.9895 - val_loss: 3.2416 - val_acc: 0.8932\n",
      "Epoch 119/150\n"
     ]
    },
    {
     "name": "stdout",
     "output_type": "stream",
     "text": [
      "3991/3991 [==============================] - 3s 775us/step - loss: 2.9139 - acc: 0.9892 - val_loss: 3.1884 - val_acc: 0.8998\n",
      "Epoch 120/150\n",
      "3991/3991 [==============================] - 3s 778us/step - loss: 2.8949 - acc: 0.9885 - val_loss: 3.1772 - val_acc: 0.8943\n",
      "Epoch 121/150\n",
      "3991/3991 [==============================] - 3s 776us/step - loss: 2.8704 - acc: 0.9895 - val_loss: 3.1526 - val_acc: 0.8987\n",
      "Epoch 122/150\n",
      "3991/3991 [==============================] - 3s 787us/step - loss: 2.8466 - acc: 0.9900 - val_loss: 3.1223 - val_acc: 0.9031\n",
      "Epoch 123/150\n",
      "3991/3991 [==============================] - 3s 774us/step - loss: 2.8244 - acc: 0.9890 - val_loss: 3.1077 - val_acc: 0.8987\n",
      "Epoch 124/150\n",
      "3991/3991 [==============================] - 3s 782us/step - loss: 2.8074 - acc: 0.9880 - val_loss: 3.0975 - val_acc: 0.8943\n",
      "Epoch 125/150\n",
      "3991/3991 [==============================] - 3s 772us/step - loss: 2.7840 - acc: 0.9880 - val_loss: 3.0568 - val_acc: 0.9020\n",
      "Epoch 126/150\n",
      "3991/3991 [==============================] - 3s 779us/step - loss: 2.7604 - acc: 0.9910 - val_loss: 3.0463 - val_acc: 0.8987\n",
      "Epoch 127/150\n",
      "3991/3991 [==============================] - 3s 772us/step - loss: 2.7428 - acc: 0.9902 - val_loss: 3.0301 - val_acc: 0.8976\n",
      "Epoch 128/150\n",
      "3991/3991 [==============================] - 3s 780us/step - loss: 2.7202 - acc: 0.9895 - val_loss: 2.9949 - val_acc: 0.9042\n",
      "Epoch 129/150\n",
      "3991/3991 [==============================] - 3s 789us/step - loss: 2.7024 - acc: 0.9895 - val_loss: 2.9952 - val_acc: 0.8899\n",
      "INFO:root:save model weights as [weights__2018_10_12_13_40_50.h5]\n"
     ]
    }
   ],
   "source": [
    "\n",
    "result = model.fit(x_train, y_train,\n",
    "                   batch_size=batch_size,\n",
    "                   epochs=epochs,\n",
    "                   verbose=1,\n",
    "                   validation_data=(x_test, y_test), \n",
    "                   callbacks=[es_cb])\n",
    "\n",
    "time_now = datetime.datetime.now()\n",
    "time_now = \"_{0}_{1}_{2}_{3}_{4}_{5}\".format(time_now.year, time_now.month, time_now.day,\n",
    "                                             time_now.hour, time_now.minute, time_now.second)\n",
    "logging.info(\"save model weights as [weights_{0}.h5]\".format(time_now))\n",
    "model.save_weights(weights_dir+\"weights_{0}.h5\".format(time_now), False)"
   ]
  },
  {
   "cell_type": "code",
   "execution_count": null,
   "metadata": {
    "collapsed": true
   },
   "outputs": [],
   "source": []
  },
  {
   "cell_type": "code",
   "execution_count": 20,
   "metadata": {},
   "outputs": [
    {
     "name": "stdout",
     "output_type": "stream",
     "text": [
      "Test loss: 2.99518696537\n",
      "Test accuracy: 0.88986784141\n"
     ]
    }
   ],
   "source": [
    "loss,acc = model.evaluate(x_test, y_test, verbose=0)\n",
    "print('Test loss:', loss)\n",
    "print('Test accuracy:', acc)"
   ]
  },
  {
   "cell_type": "code",
   "execution_count": 30,
   "metadata": {},
   "outputs": [
    {
     "data": {
      "image/png": "[encoded data removed]",
      "text/plain": [
       "<matplotlib.figure.Figure at 0x7f724d86bb00>"
      ]
     },
     "metadata": {},
     "output_type": "display_data"
    }
   ],
   "source": [
    "\n",
    "plt.plot(range(1, len(result.history['acc'])+1), result.history['acc'], label=\"training\")\n",
    "plt.plot(range(1, len(result.history['val_acc'])+1), result.history['val_acc'], label=\"validation\")\n",
    "plt.xlabel('Epochs')\n",
    "plt.ylabel('Accuracy')\n",
    "plt.ylim([0.5,1])\n",
    "plt.legend()\n",
    "plt.title(\" {} / cell {}\".format(dataset,cells))\n",
    "plt.savefig('figure.svg')\n",
    "plt.show()\n",
    "\n",
    "\n"
   ]
  },
  {
   "cell_type": "code",
   "execution_count": null,
   "metadata": {
    "collapsed": true
   },
   "outputs": [],
   "source": []
  },
  {
   "cell_type": "code",
   "execution_count": 22,
   "metadata": {},
   "outputs": [
    {
     "data": {
      "image/png": "[encoded data removed]",
      "text/plain": [
       "<matplotlib.figure.Figure at 0x7f72347932b0>"
      ]
     },
     "metadata": {},
     "output_type": "display_data"
    }
   ],
   "source": [
    "plt.plot(range(1, len(result.history['loss'])+1), result.history['loss'], label=\"loss\")\n",
    "plt.plot(range(1, len(result.history['val_loss'])+1), result.history['val_loss'], label=\"validation_loss\")\n",
    "plt.xlabel('Epochs')\n",
    "plt.ylabel('Accuracy')\n",
    "plt.legend()\n",
    "plt.title(\" {} / cell {}\".format(dataset,cells))\n",
    "plt.savefig('figure.svg')\n",
    "plt.show()\n"
   ]
  },
  {
   "cell_type": "code",
   "execution_count": 23,
   "metadata": {
    "collapsed": true
   },
   "outputs": [],
   "source": [
    "def decode(datum):\n",
    "    return np.argmax(datum)"
   ]
  },
  {
   "cell_type": "code",
   "execution_count": 25,
   "metadata": {},
   "outputs": [],
   "source": [
    "for i in range(y_test.shape[0]):\n",
    "    decoded_datum = decode(y_test[i])"
   ]
  },
  {
   "cell_type": "markdown",
   "metadata": {},
   "source": [
    "以下，メモ"
   ]
  },
  {
   "cell_type": "code",
   "execution_count": null,
   "metadata": {
    "collapsed": true
   },
   "outputs": [],
   "source": []
  },
  {
   "cell_type": "code",
   "execution_count": 26,
   "metadata": {},
   "outputs": [
    {
     "data": {
      "text/plain": [
       "array([[ 45,   0,   0,   0,   0,   5,   0,   0,   0,   0],\n",
       "       [  0, 100,   0,   0,   0,   0,   0,   0,   0,   0],\n",
       "       [  0,   0,  76,   9,   1,   0,   0,   0,   0,   0],\n",
       "       [  0,   0,  21,  55,  10,   0,   0,   0,   0,   0],\n",
       "       [  0,   0,   0,   0,  67,   0,  33,   0,   0,   0],\n",
       "       [  0,   0,   0,   0,   0, 100,   0,   0,   0,   0],\n",
       "       [  0,   0,   2,   1,   9,   0,  73,   0,   1,   0],\n",
       "       [  1,   2,   1,   0,   0,   0,   0,  96,   0,   0],\n",
       "       [  0,   0,   1,   1,   0,   0,   0,   1,  97,   0],\n",
       "       [  0,   0,   0,   0,   0,   1,   0,   0,   0,  99]])"
      ]
     },
     "execution_count": 26,
     "metadata": {},
     "output_type": "execute_result"
    }
   ],
   "source": [
    "labels_pred = model.predict_classes(x_test,verbose=0)\n",
    "confusion_matrix(np.argmax(y_test, axis=1), labels_pred)\n"
   ]
  },
  {
   "cell_type": "code",
   "execution_count": 29,
   "metadata": {},
   "outputs": [
    {
     "name": "stdout",
     "output_type": "stream",
     "text": [
      "Confusion matrix, without normalization\n",
      "[[ 45   0   0   0   0   5   0   0   0   0]\n",
      " [  0 100   0   0   0   0   0   0   0   0]\n",
      " [  0   0  76   9   1   0   0   0   0   0]\n",
      " [  0   0  21  55  10   0   0   0   0   0]\n",
      " [  0   0   0   0  67   0  33   0   0   0]\n",
      " [  0   0   0   0   0 100   0   0   0   0]\n",
      " [  0   0   2   1   9   0  73   0   1   0]\n",
      " [  1   2   1   0   0   0   0  96   0   0]\n",
      " [  0   0   1   1   0   0   0   1  97   0]\n",
      " [  0   0   0   0   0   1   0   0   0  99]]\n",
      "Normalized confusion matrix\n",
      "[[ 0.9   0.    0.    0.    0.    0.1   0.    0.    0.    0.  ]\n",
      " [ 0.    1.    0.    0.    0.    0.    0.    0.    0.    0.  ]\n",
      " [ 0.    0.    0.88  0.1   0.01  0.    0.    0.    0.    0.  ]\n",
      " [ 0.    0.    0.24  0.64  0.12  0.    0.    0.    0.    0.  ]\n",
      " [ 0.    0.    0.    0.    0.67  0.    0.33  0.    0.    0.  ]\n",
      " [ 0.    0.    0.    0.    0.    1.    0.    0.    0.    0.  ]\n",
      " [ 0.    0.    0.02  0.01  0.1   0.    0.85  0.    0.01  0.  ]\n",
      " [ 0.01  0.02  0.01  0.    0.    0.    0.    0.96  0.    0.  ]\n",
      " [ 0.    0.    0.01  0.01  0.    0.    0.    0.01  0.97  0.  ]\n",
      " [ 0.    0.    0.    0.    0.    0.01  0.    0.    0.    0.99]]\n"
     ]
    },
    {
     "data": {
      "image/png": "[encoded data removed]",
      "text/plain": [
       "<matplotlib.figure.Figure at 0x7f71df6e3550>"
      ]
     },
     "metadata": {},
     "output_type": "display_data"
    },
    {
     "data": {
      "image/png": "[encoded data removed]",
      "text/plain": [
       "<matplotlib.figure.Figure at 0x7f71a8f84e10>"
      ]
     },
     "metadata": {},
     "output_type": "display_data"
    }
   ],
   "source": [
    "def plot_confusion_matrix(cm, classes,\n",
    "                          normalize=False,\n",
    "                          title='Confusion matrix',\n",
    "                          cmap=plt.cm.Blues):\n",
    "    \"\"\"\n",
    "    This function prints and plots the confusion matrix.\n",
    "    Normalization can be applied by setting `normalize=True`.\n",
    "    \"\"\"\n",
    "    if normalize:\n",
    "        cm = cm.astype('float') / cm.sum(axis=1)[:, np.newaxis]\n",
    "        print(\"Normalized confusion matrix\")\n",
    "    else:\n",
    "        print('Confusion matrix, without normalization')\n",
    "\n",
    "    print(cm)\n",
    "\n",
    "    plt.imshow(cm, interpolation='nearest', cmap=cmap)\n",
    "    plt.title(title)\n",
    "    plt.colorbar()\n",
    "    tick_marks = np.arange(len(classes))\n",
    "    plt.xticks(tick_marks, classes, rotation=45)\n",
    "    plt.yticks(tick_marks, classes)\n",
    "\n",
    "    fmt = '.2f' if normalize else 'd'\n",
    "    thresh = cm.max() / 2.\n",
    "    for i, j in itertools.product(range(cm.shape[0]), range(cm.shape[1])):\n",
    "        plt.text(j, i, format(cm[i, j], fmt),\n",
    "                 horizontalalignment=\"center\",\n",
    "                 color=\"white\" if cm[i, j] > thresh else \"black\")\n",
    "\n",
    "    plt.ylabel('True label')\n",
    "    plt.xlabel('Predicted label')\n",
    "    plt.tight_layout()\n",
    "\n",
    "\n",
    "# Compute confusion matrix\n",
    "cnf_matrix = confusion_matrix(np.argmax(y_test, axis=1), labels_pred)\n",
    "np.set_printoptions(precision=2)\n",
    "\n",
    "# Plot non-normalized confusion matrix\n",
    "plt.figure()\n",
    "plot_confusion_matrix(cnf_matrix, classes=class_name_modelnet,\n",
    "                      title='Confusion matrix, without normalization')\n",
    "plt.savefig('figure.svg')\n",
    "# Plot normalized confusion matrix\n",
    "plt.figure()\n",
    "plot_confusion_matrix(cnf_matrix, classes=class_name_modelnet, normalize=True,\n",
    "                      title='Normalized confusion matrix')\n",
    "\n",
    "\n",
    "plt.show()"
   ]
  },
  {
   "cell_type": "code",
   "execution_count": null,
   "metadata": {
    "collapsed": true
   },
   "outputs": [],
   "source": []
  },
  {
   "cell_type": "code",
   "execution_count": null,
   "metadata": {
    "collapsed": true
   },
   "outputs": [],
   "source": []
  },
  {
   "cell_type": "code",
   "execution_count": null,
   "metadata": {
    "collapsed": true
   },
   "outputs": [],
   "source": []
  },
  {
   "cell_type": "code",
   "execution_count": null,
   "metadata": {
    "collapsed": true
   },
   "outputs": [],
   "source": []
  },
  {
   "cell_type": "code",
   "execution_count": null,
   "metadata": {
    "collapsed": true
   },
   "outputs": [],
   "source": []
  },
  {
   "cell_type": "code",
   "execution_count": null,
   "metadata": {
    "collapsed": true
   },
   "outputs": [],
   "source": []
  },
  {
   "cell_type": "code",
   "execution_count": null,
   "metadata": {
    "collapsed": true
   },
   "outputs": [],
   "source": []
  },
  {
   "cell_type": "code",
   "execution_count": null,
   "metadata": {
    "collapsed": true
   },
   "outputs": [],
   "source": []
  },
  {
   "cell_type": "code",
   "execution_count": null,
   "metadata": {
    "collapsed": true
   },
   "outputs": [],
   "source": []
  },
  {
   "cell_type": "code",
   "execution_count": null,
   "metadata": {
    "collapsed": true
   },
   "outputs": [],
   "source": []
  },
  {
   "cell_type": "code",
   "execution_count": null,
   "metadata": {
    "collapsed": true
   },
   "outputs": [],
   "source": []
  },
  {
   "cell_type": "code",
   "execution_count": null,
   "metadata": {
    "collapsed": true
   },
   "outputs": [],
   "source": []
  },
  {
   "cell_type": "code",
   "execution_count": null,
   "metadata": {},
   "outputs": [],
   "source": []
  },
  {
   "cell_type": "code",
   "execution_count": null,
   "metadata": {
    "collapsed": true
   },
   "outputs": [],
   "source": []
  },
  {
   "cell_type": "code",
   "execution_count": null,
   "metadata": {
    "collapsed": true
   },
   "outputs": [],
   "source": []
  },
  {
   "cell_type": "code",
   "execution_count": null,
   "metadata": {
    "collapsed": true
   },
   "outputs": [],
   "source": []
  }
 ],
 "metadata": {
  "kernelspec": {
   "display_name": "Python 3",
   "language": "python",
   "name": "python3"
  },
  "language_info": {
   "codemirror_mode": {
    "name": "ipython",
    "version": 3
   },
   "file_extension": ".py",
   "mimetype": "text/x-python",
   "name": "python",
   "nbconvert_exporter": "python",
   "pygments_lexer": "ipython3",
   "version": "3.6.3"
  }
 },
 "nbformat": 4,
 "nbformat_minor": 2
}
