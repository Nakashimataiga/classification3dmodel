{
 "cells": [
  {
   "cell_type": "code",
   "execution_count": 2,
   "metadata": {},
   "outputs": [],
   "source": [
    "%matplotlib inline\n",
    "import logging\n",
    "import datetime\n",
    "import os\n",
    "import sys\n",
    "import numpy as np\n",
    "import matplotlib.pyplot as plt\n",
    "from sklearn.metrics import confusion_matrix\n",
    "import itertools\n",
    "from pylab import rcParams\n",
    "\n",
    "from __future__ import print_function\n",
    "import keras\n",
    "from keras.datasets import mnist\n",
    "from keras.models import Sequential\n",
    "from keras.layers import Dense, Dropout, Flatten\n",
    "from keras.layers import Conv3D, MaxPooling3D, BatchNormalization, GaussianNoise\n",
    "from keras import backend as K\n",
    "from keras.layers.core import Activation, Dense, Dropout, Flatten\n",
    "from keras.layers.advanced_activations import ReLU\n",
    "from keras.regularizers import l2\n",
    "from keras.callbacks import LearningRateScheduler, ModelCheckpoint\n",
    "from keras.optimizers import SGD\n",
    "from IPython.display import SVG\n",
    "from keras.utils.vis_utils import model_to_dot\n",
    "from keras.utils import plot_model\n"
   ]
  },
  {
   "cell_type": "code",
   "execution_count": 3,
   "metadata": {},
   "outputs": [],
   "source": [
    "# memoryの制限\n",
    "import tensorflow as tf\n",
    "from keras import backend as K\n",
    "config = tf.ConfigProto()\n",
    "config.gpu_options.per_process_gpu_memory_fraction = 0.3\n",
    "sess = tf.Session(config=config)\n",
    "K.set_session(sess)"
   ]
  },
  {
   "cell_type": "code",
   "execution_count": 4,
   "metadata": {
    "collapsed": true
   },
   "outputs": [],
   "source": [
    "#Tuning\n",
    "dataset = \"ModelNet10\"\n",
    "# dataset = \"ModelNet40\"\n",
    "cells = 32\n",
    "batch_size = 128\n",
    "epochs = 100\n",
    "learning_rate = 0.01"
   ]
  },
  {
   "cell_type": "code",
   "execution_count": 5,
   "metadata": {
    "collapsed": true
   },
   "outputs": [],
   "source": [
    "if dataset == \"ModelNet10\":\n",
    "    data_dir = \"data10/cell\" + str(cells) + \"/\"\n",
    "    fig_dir = \"fig10/cell\" + str(cells) + \"/\"\n",
    "    weights_dir = \"weights10/cell\" + str(cells) + \"/\"\n",
    "    num_classes = 10\n",
    "    class_name_modelnet = [\n",
    "    'bathtub',\n",
    "    'chair',\n",
    "    'dresser',\n",
    "    'night_stand',\n",
    "    'table',\n",
    "    'bed',\n",
    "    'desk',\n",
    "    'monitor',\n",
    "    'sofa',\n",
    "    'toilet',\n",
    "    ]"
   ]
  },
  {
   "cell_type": "code",
   "execution_count": 6,
   "metadata": {
    "collapsed": true
   },
   "outputs": [],
   "source": [
    "if dataset == \"ModelNet40\":\n",
    "    data_dir = \"data40/cell\" + str(cells) + \"/\"\n",
    "    fig_dir = \"fig40/cell\" + str(cells) + \"/\"\n",
    "    weights_dir = \"weights40/cell\" + str(cells) + \"/\"\n",
    "    num_classes = 40\n",
    "    class_name_modelnet = [\n",
    "    'airplane',\n",
    "    'bookshelf',\n",
    "    'chair',\n",
    "    'desk',\n",
    "    'glass_box',\n",
    "    'laptop',\n",
    "    'person',\n",
    "    'range_hood',\n",
    "    'stool',\n",
    "    'tv_stand',\n",
    "    'bathtub',\n",
    "    'bottle',\n",
    "    'cone',\n",
    "    'door',\n",
    "    'guitar',\n",
    "    'mantel',\n",
    "    'piano',\n",
    "    'sink',\n",
    "    'table',\n",
    "    'vase',\n",
    "    'bed',\n",
    "    'bowl',\n",
    "    'cup',\n",
    "    'dresser',\n",
    "    'keyboard',\n",
    "    'monitor',\n",
    "    'plant',\n",
    "    'sofa',\n",
    "    'tent',\n",
    "    'wardrobe',\n",
    "    'bench',\n",
    "    'car',\n",
    "    'curtain',\n",
    "    'flower_pot',\n",
    "    'lamp',\n",
    "    'night_stand',\n",
    "    'radio',\n",
    "    'stairs',\n",
    "    'toilet',\n",
    "    'xbox',\n",
    "    ]"
   ]
  },
  {
   "cell_type": "code",
   "execution_count": 7,
   "metadata": {
    "collapsed": true
   },
   "outputs": [],
   "source": [
    "train_or_test = [\"train\",\"test\"]"
   ]
  },
  {
   "cell_type": "code",
   "execution_count": 8,
   "metadata": {
    "collapsed": true
   },
   "outputs": [],
   "source": [
    "if os.path.exists(weights_dir) == False:\n",
    "    os.makedirs(weights_dir)\n",
    "if os.path.exists(fig_dir) == False:\n",
    "    os.makedirs(fig_dir)"
   ]
  },
  {
   "cell_type": "code",
   "execution_count": null,
   "metadata": {
    "collapsed": true
   },
   "outputs": [],
   "source": []
  },
  {
   "cell_type": "code",
   "execution_count": 8,
   "metadata": {
    "collapsed": true
   },
   "outputs": [],
   "source": [
    "#set logging level DEBUG and output to stdout\n",
    "logging.basicConfig(stream=sys.stdout, level=logging.DEBUG)"
   ]
  },
  {
   "cell_type": "code",
   "execution_count": 9,
   "metadata": {},
   "outputs": [
    {
     "name": "stderr",
     "output_type": "stream",
     "text": [
      "/home/takitani/.pyenv/versions/anaconda3-5.0.1/lib/python3.6/site-packages/ipykernel_launcher.py:18: UserWarning: Update your `Conv3D` call to the Keras 2 API: `Conv3D(input_shape=(1, 32, 32..., kernel_size=(5, 5, 5), filters=32, strides=(2, 2, 2), padding=\"valid\", data_format=\"channels_first\", kernel_initializer=\"normal\", kernel_regularizer=<keras.reg..., bias_regularizer=<keras.reg...)`\n",
      "/home/takitani/.pyenv/versions/anaconda3-5.0.1/lib/python3.6/site-packages/keras/activations.py:186: UserWarning: Do not pass a layer instance (such as ReLU) as the activation argument of another layer. Instead, advanced activation layers should be used just like any other layer in a model.\n",
      "  identifier=identifier.__class__.__name__))\n",
      "/home/takitani/.pyenv/versions/anaconda3-5.0.1/lib/python3.6/site-packages/ipykernel_launcher.py:42: UserWarning: Update your `Dropout` call to the Keras 2 API: `Dropout(rate=0.4)`\n",
      "/home/takitani/.pyenv/versions/anaconda3-5.0.1/lib/python3.6/site-packages/ipykernel_launcher.py:54: UserWarning: Update your `Conv3D` call to the Keras 2 API: `Conv3D(kernel_size=(3, 3, 3), filters=32, strides=(1, 1, 1), padding=\"valid\", data_format=\"channels_first\", kernel_initializer=\"normal\", kernel_regularizer=<keras.reg..., bias_regularizer=<keras.reg...)`\n",
      "/home/takitani/.pyenv/versions/anaconda3-5.0.1/lib/python3.6/site-packages/ipykernel_launcher.py:79: UserWarning: Update your `MaxPooling3D` call to the Keras 2 API: `MaxPooling3D(pool_size=(2, 2, 2), strides=None, padding=\"valid\", data_format=\"channels_first\")`\n",
      "/home/takitani/.pyenv/versions/anaconda3-5.0.1/lib/python3.6/site-packages/ipykernel_launcher.py:82: UserWarning: Update your `Dropout` call to the Keras 2 API: `Dropout(rate=0.4)`\n",
      "/home/takitani/.pyenv/versions/anaconda3-5.0.1/lib/python3.6/site-packages/ipykernel_launcher.py:91: UserWarning: Update your `Dense` call to the Keras 2 API: `Dense(activation=\"linear\", units=528, kernel_initializer=\"normal\", kernel_regularizer=<keras.reg..., bias_regularizer=<keras.reg...)`\n",
      "/home/takitani/.pyenv/versions/anaconda3-5.0.1/lib/python3.6/site-packages/ipykernel_launcher.py:95: UserWarning: Update your `Dropout` call to the Keras 2 API: `Dropout(rate=0.5)`\n",
      "/home/takitani/.pyenv/versions/anaconda3-5.0.1/lib/python3.6/site-packages/ipykernel_launcher.py:102: UserWarning: Update your `Dense` call to the Keras 2 API: `Dense(activation=\"linear\", units=10, kernel_initializer=\"normal\", kernel_regularizer=<keras.reg..., bias_regularizer=<keras.reg...)`\n"
     ]
    }
   ],
   "source": [
    "# optimizer = SGD(lr=0.01, momentum=0.9, decay=0.00016667, nesterov=False)\n",
    "optimizer = SGD(lr=learning_rate, momentum=0.9, decay=0.00016667, nesterov=False)\n",
    "\n",
    "# init model\n",
    "model = Sequential()\n",
    "\n",
    "# convolution 1\n",
    "model.add(Conv3D(input_shape=(1, cells, cells, cells),\n",
    "                            nb_filter=32,\n",
    "                            kernel_dim1=5,\n",
    "                            kernel_dim2=5,\n",
    "                            kernel_dim3=5,\n",
    "                            init='normal',\n",
    "                            border_mode='valid',\n",
    "                            subsample=(2, 2, 2),\n",
    "                            dim_ordering='th',\n",
    "                            W_regularizer=l2(0.001),\n",
    "                            b_regularizer=l2(0.001),\n",
    "                            ))\n",
    "\n",
    "# # BatchNormalization 1\n",
    "# model.add(BatchNormalization(axis=-1, \n",
    "#                              momentum=0.99, \n",
    "#                              epsilon=0.001, \n",
    "#                              center=True, \n",
    "#                              scale=True, \n",
    "#                              beta_initializer='zeros', \n",
    "#                              gamma_initializer='ones', \n",
    "#                              moving_mean_initializer='zeros', \n",
    "#                              moving_variance_initializer='ones', \n",
    "#                              beta_regularizer=None, \n",
    "#                              gamma_regularizer=None, \n",
    "#                              beta_constraint=None, \n",
    "#                              gamma_constraint=None))\n",
    "\n",
    "\n",
    "\n",
    "#Activation ReLu\n",
    "model.add(Activation(ReLU()))\n",
    "\n",
    "# dropout 1\n",
    "model.add(Dropout(p=0.4))\n",
    "\n",
    "# convolution 2\n",
    "model.add(Conv3D(nb_filter=32,\n",
    "                            kernel_dim1=3,\n",
    "                            kernel_dim2=3,\n",
    "                            kernel_dim3=3,\n",
    "                            init='normal',\n",
    "                            border_mode='valid',\n",
    "                            subsample=(1, 1, 1),\n",
    "                            dim_ordering='th',\n",
    "                            W_regularizer=l2(0.001),\n",
    "                            b_regularizer=l2(0.001),\n",
    "                            ))\n",
    "\n",
    "# # BatchNormalization 2\n",
    "# model.add(BatchNormalization(axis=-1, \n",
    "#                              momentum=0.99, \n",
    "#                              epsilon=0.001, \n",
    "#                              center=True, \n",
    "#                              scale=True, \n",
    "#                              beta_initializer='zeros', \n",
    "#                              gamma_initializer='ones', \n",
    "#                              moving_mean_initializer='zeros', \n",
    "#                              moving_variance_initializer='ones', \n",
    "#                              beta_regularizer=None, \n",
    "#                              gamma_regularizer=None, \n",
    "#                              beta_constraint=None, \n",
    "#                              gamma_constraint=None))\n",
    "\n",
    "#Activation ReLu\n",
    "model.add(Activation(ReLU()))\n",
    "\n",
    "# max pool 1\n",
    "model.add(MaxPooling3D(pool_size=(2, 2, 2),\n",
    "                           strides=None,\n",
    "                           border_mode='valid',\n",
    "                           dim_ordering='th'))\n",
    "\n",
    "# dropout 2\n",
    "model.add(Dropout(p=0.4))\n",
    "\n",
    "# dense 1 (fully connected layer)\n",
    "model.add(Flatten())\n",
    "\n",
    "model.add(Dense(output_dim=528, #128\n",
    "                    init='normal',\n",
    "                    activation='linear',\n",
    "                    W_regularizer=l2(0.001),\n",
    "                    b_regularizer=l2(0.001),\n",
    "                    ))\n",
    "\n",
    "# dropout 3\n",
    "model.add(Dropout(p=0.5))\n",
    "\n",
    "# dense 2 (fully connected layer)\n",
    "model.add(Dense(output_dim=num_classes,\n",
    "                    init='normal',\n",
    "                    activation='linear',\n",
    "                    W_regularizer=l2(0.001),\n",
    "                    b_regularizer=l2(0.001),\n",
    "                    ))\n",
    "\n",
    "#Activation Softmax\n",
    "model.add(Activation(\"softmax\"))\n",
    "\n",
    "# compile model\n",
    "model.compile(loss='categorical_crossentropy', optimizer=optimizer, metrics=[\"accuracy\"])\n"
   ]
  },
  {
   "cell_type": "code",
   "execution_count": 10,
   "metadata": {},
   "outputs": [
    {
     "data": {
      "image/svg+xml": [
       "<svg height=\"1041pt\" viewBox=\"0.00 0.00 409.00 1041.00\" width=\"409pt\" xmlns=\"http://www.w3.org/2000/svg\" xmlns:xlink=\"http://www.w3.org/1999/xlink\">\n",
       "<g class=\"graph\" id=\"graph0\" transform=\"scale(1 1) rotate(0) translate(4 1037)\">\n",
       "<title>G</title>\n",
       "<polygon fill=\"white\" points=\"-4,4 -4,-1037 405,-1037 405,4 -4,4\" stroke=\"none\"/>\n",
       "<!-- 140095704411608 -->\n",
       "<g class=\"node\" id=\"node1\"><title>140095704411608</title>\n",
       "<polygon fill=\"none\" points=\"42,-913.5 42,-959.5 359,-959.5 359,-913.5 42,-913.5\" stroke=\"black\"/>\n",
       "<text font-family=\"Times,serif\" font-size=\"14.00\" text-anchor=\"middle\" x=\"103.5\" y=\"-932.8\">conv3d_1: Conv3D</text>\n",
       "<polyline fill=\"none\" points=\"165,-913.5 165,-959.5 \" stroke=\"black\"/>\n",
       "<text font-family=\"Times,serif\" font-size=\"14.00\" text-anchor=\"middle\" x=\"192.5\" y=\"-944.3\">input:</text>\n",
       "<polyline fill=\"none\" points=\"165,-936.5 220,-936.5 \" stroke=\"black\"/>\n",
       "<text font-family=\"Times,serif\" font-size=\"14.00\" text-anchor=\"middle\" x=\"192.5\" y=\"-921.3\">output:</text>\n",
       "<polyline fill=\"none\" points=\"220,-913.5 220,-959.5 \" stroke=\"black\"/>\n",
       "<text font-family=\"Times,serif\" font-size=\"14.00\" text-anchor=\"middle\" x=\"289.5\" y=\"-944.3\">(None, 1, 32, 32, 32)</text>\n",
       "<polyline fill=\"none\" points=\"220,-936.5 359,-936.5 \" stroke=\"black\"/>\n",
       "<text font-family=\"Times,serif\" font-size=\"14.00\" text-anchor=\"middle\" x=\"289.5\" y=\"-921.3\">(None, 32, 14, 14, 14)</text>\n",
       "</g>\n",
       "<!-- 140095704412344 -->\n",
       "<g class=\"node\" id=\"node2\"><title>140095704412344</title>\n",
       "<polygon fill=\"none\" points=\"29.5,-830.5 29.5,-876.5 371.5,-876.5 371.5,-830.5 29.5,-830.5\" stroke=\"black\"/>\n",
       "<text font-family=\"Times,serif\" font-size=\"14.00\" text-anchor=\"middle\" x=\"103.5\" y=\"-849.8\">activation_1: Activation</text>\n",
       "<polyline fill=\"none\" points=\"177.5,-830.5 177.5,-876.5 \" stroke=\"black\"/>\n",
       "<text font-family=\"Times,serif\" font-size=\"14.00\" text-anchor=\"middle\" x=\"205\" y=\"-861.3\">input:</text>\n",
       "<polyline fill=\"none\" points=\"177.5,-853.5 232.5,-853.5 \" stroke=\"black\"/>\n",
       "<text font-family=\"Times,serif\" font-size=\"14.00\" text-anchor=\"middle\" x=\"205\" y=\"-838.3\">output:</text>\n",
       "<polyline fill=\"none\" points=\"232.5,-830.5 232.5,-876.5 \" stroke=\"black\"/>\n",
       "<text font-family=\"Times,serif\" font-size=\"14.00\" text-anchor=\"middle\" x=\"302\" y=\"-861.3\">(None, 32, 14, 14, 14)</text>\n",
       "<polyline fill=\"none\" points=\"232.5,-853.5 371.5,-853.5 \" stroke=\"black\"/>\n",
       "<text font-family=\"Times,serif\" font-size=\"14.00\" text-anchor=\"middle\" x=\"302\" y=\"-838.3\">(None, 32, 14, 14, 14)</text>\n",
       "</g>\n",
       "<!-- 140095704411608&#45;&gt;140095704412344 -->\n",
       "<g class=\"edge\" id=\"edge2\"><title>140095704411608-&gt;140095704412344</title>\n",
       "<path d=\"M200.5,-913.366C200.5,-905.152 200.5,-895.658 200.5,-886.725\" fill=\"none\" stroke=\"black\"/>\n",
       "<polygon fill=\"black\" points=\"204,-886.607 200.5,-876.607 197,-886.607 204,-886.607\" stroke=\"black\"/>\n",
       "</g>\n",
       "<!-- 140095704412568 -->\n",
       "<g class=\"node\" id=\"node3\"><title>140095704412568</title>\n",
       "<polygon fill=\"none\" points=\"41,-747.5 41,-793.5 360,-793.5 360,-747.5 41,-747.5\" stroke=\"black\"/>\n",
       "<text font-family=\"Times,serif\" font-size=\"14.00\" text-anchor=\"middle\" x=\"103.5\" y=\"-766.8\">dropout_1: Dropout</text>\n",
       "<polyline fill=\"none\" points=\"166,-747.5 166,-793.5 \" stroke=\"black\"/>\n",
       "<text font-family=\"Times,serif\" font-size=\"14.00\" text-anchor=\"middle\" x=\"193.5\" y=\"-778.3\">input:</text>\n",
       "<polyline fill=\"none\" points=\"166,-770.5 221,-770.5 \" stroke=\"black\"/>\n",
       "<text font-family=\"Times,serif\" font-size=\"14.00\" text-anchor=\"middle\" x=\"193.5\" y=\"-755.3\">output:</text>\n",
       "<polyline fill=\"none\" points=\"221,-747.5 221,-793.5 \" stroke=\"black\"/>\n",
       "<text font-family=\"Times,serif\" font-size=\"14.00\" text-anchor=\"middle\" x=\"290.5\" y=\"-778.3\">(None, 32, 14, 14, 14)</text>\n",
       "<polyline fill=\"none\" points=\"221,-770.5 360,-770.5 \" stroke=\"black\"/>\n",
       "<text font-family=\"Times,serif\" font-size=\"14.00\" text-anchor=\"middle\" x=\"290.5\" y=\"-755.3\">(None, 32, 14, 14, 14)</text>\n",
       "</g>\n",
       "<!-- 140095704412344&#45;&gt;140095704412568 -->\n",
       "<g class=\"edge\" id=\"edge3\"><title>140095704412344-&gt;140095704412568</title>\n",
       "<path d=\"M200.5,-830.366C200.5,-822.152 200.5,-812.658 200.5,-803.725\" fill=\"none\" stroke=\"black\"/>\n",
       "<polygon fill=\"black\" points=\"204,-803.607 200.5,-793.607 197,-803.607 204,-803.607\" stroke=\"black\"/>\n",
       "</g>\n",
       "<!-- 140095703926320 -->\n",
       "<g class=\"node\" id=\"node4\"><title>140095703926320</title>\n",
       "<polygon fill=\"none\" points=\"42,-664.5 42,-710.5 359,-710.5 359,-664.5 42,-664.5\" stroke=\"black\"/>\n",
       "<text font-family=\"Times,serif\" font-size=\"14.00\" text-anchor=\"middle\" x=\"103.5\" y=\"-683.8\">conv3d_2: Conv3D</text>\n",
       "<polyline fill=\"none\" points=\"165,-664.5 165,-710.5 \" stroke=\"black\"/>\n",
       "<text font-family=\"Times,serif\" font-size=\"14.00\" text-anchor=\"middle\" x=\"192.5\" y=\"-695.3\">input:</text>\n",
       "<polyline fill=\"none\" points=\"165,-687.5 220,-687.5 \" stroke=\"black\"/>\n",
       "<text font-family=\"Times,serif\" font-size=\"14.00\" text-anchor=\"middle\" x=\"192.5\" y=\"-672.3\">output:</text>\n",
       "<polyline fill=\"none\" points=\"220,-664.5 220,-710.5 \" stroke=\"black\"/>\n",
       "<text font-family=\"Times,serif\" font-size=\"14.00\" text-anchor=\"middle\" x=\"289.5\" y=\"-695.3\">(None, 32, 14, 14, 14)</text>\n",
       "<polyline fill=\"none\" points=\"220,-687.5 359,-687.5 \" stroke=\"black\"/>\n",
       "<text font-family=\"Times,serif\" font-size=\"14.00\" text-anchor=\"middle\" x=\"289.5\" y=\"-672.3\">(None, 32, 12, 12, 12)</text>\n",
       "</g>\n",
       "<!-- 140095704412568&#45;&gt;140095703926320 -->\n",
       "<g class=\"edge\" id=\"edge4\"><title>140095704412568-&gt;140095703926320</title>\n",
       "<path d=\"M200.5,-747.366C200.5,-739.152 200.5,-729.658 200.5,-720.725\" fill=\"none\" stroke=\"black\"/>\n",
       "<polygon fill=\"black\" points=\"204,-720.607 200.5,-710.607 197,-720.607 204,-720.607\" stroke=\"black\"/>\n",
       "</g>\n",
       "<!-- 140095703927776 -->\n",
       "<g class=\"node\" id=\"node5\"><title>140095703927776</title>\n",
       "<polygon fill=\"none\" points=\"29.5,-581.5 29.5,-627.5 371.5,-627.5 371.5,-581.5 29.5,-581.5\" stroke=\"black\"/>\n",
       "<text font-family=\"Times,serif\" font-size=\"14.00\" text-anchor=\"middle\" x=\"103.5\" y=\"-600.8\">activation_2: Activation</text>\n",
       "<polyline fill=\"none\" points=\"177.5,-581.5 177.5,-627.5 \" stroke=\"black\"/>\n",
       "<text font-family=\"Times,serif\" font-size=\"14.00\" text-anchor=\"middle\" x=\"205\" y=\"-612.3\">input:</text>\n",
       "<polyline fill=\"none\" points=\"177.5,-604.5 232.5,-604.5 \" stroke=\"black\"/>\n",
       "<text font-family=\"Times,serif\" font-size=\"14.00\" text-anchor=\"middle\" x=\"205\" y=\"-589.3\">output:</text>\n",
       "<polyline fill=\"none\" points=\"232.5,-581.5 232.5,-627.5 \" stroke=\"black\"/>\n",
       "<text font-family=\"Times,serif\" font-size=\"14.00\" text-anchor=\"middle\" x=\"302\" y=\"-612.3\">(None, 32, 12, 12, 12)</text>\n",
       "<polyline fill=\"none\" points=\"232.5,-604.5 371.5,-604.5 \" stroke=\"black\"/>\n",
       "<text font-family=\"Times,serif\" font-size=\"14.00\" text-anchor=\"middle\" x=\"302\" y=\"-589.3\">(None, 32, 12, 12, 12)</text>\n",
       "</g>\n",
       "<!-- 140095703926320&#45;&gt;140095703927776 -->\n",
       "<g class=\"edge\" id=\"edge5\"><title>140095703926320-&gt;140095703927776</title>\n",
       "<path d=\"M200.5,-664.366C200.5,-656.152 200.5,-646.658 200.5,-637.725\" fill=\"none\" stroke=\"black\"/>\n",
       "<polygon fill=\"black\" points=\"204,-637.607 200.5,-627.607 197,-637.607 204,-637.607\" stroke=\"black\"/>\n",
       "</g>\n",
       "<!-- 140095703928784 -->\n",
       "<g class=\"node\" id=\"node6\"><title>140095703928784</title>\n",
       "<polygon fill=\"none\" points=\"-2.84217e-14,-498.5 -2.84217e-14,-544.5 401,-544.5 401,-498.5 -2.84217e-14,-498.5\" stroke=\"black\"/>\n",
       "<text font-family=\"Times,serif\" font-size=\"14.00\" text-anchor=\"middle\" x=\"103.5\" y=\"-517.8\">max_pooling3d_1: MaxPooling3D</text>\n",
       "<polyline fill=\"none\" points=\"207,-498.5 207,-544.5 \" stroke=\"black\"/>\n",
       "<text font-family=\"Times,serif\" font-size=\"14.00\" text-anchor=\"middle\" x=\"234.5\" y=\"-529.3\">input:</text>\n",
       "<polyline fill=\"none\" points=\"207,-521.5 262,-521.5 \" stroke=\"black\"/>\n",
       "<text font-family=\"Times,serif\" font-size=\"14.00\" text-anchor=\"middle\" x=\"234.5\" y=\"-506.3\">output:</text>\n",
       "<polyline fill=\"none\" points=\"262,-498.5 262,-544.5 \" stroke=\"black\"/>\n",
       "<text font-family=\"Times,serif\" font-size=\"14.00\" text-anchor=\"middle\" x=\"331.5\" y=\"-529.3\">(None, 32, 12, 12, 12)</text>\n",
       "<polyline fill=\"none\" points=\"262,-521.5 401,-521.5 \" stroke=\"black\"/>\n",
       "<text font-family=\"Times,serif\" font-size=\"14.00\" text-anchor=\"middle\" x=\"331.5\" y=\"-506.3\">(None, 32, 6, 6, 6)</text>\n",
       "</g>\n",
       "<!-- 140095703927776&#45;&gt;140095703928784 -->\n",
       "<g class=\"edge\" id=\"edge6\"><title>140095703927776-&gt;140095703928784</title>\n",
       "<path d=\"M200.5,-581.366C200.5,-573.152 200.5,-563.658 200.5,-554.725\" fill=\"none\" stroke=\"black\"/>\n",
       "<polygon fill=\"black\" points=\"204,-554.607 200.5,-544.607 197,-554.607 204,-554.607\" stroke=\"black\"/>\n",
       "</g>\n",
       "<!-- 140095703927888 -->\n",
       "<g class=\"node\" id=\"node7\"><title>140095703927888</title>\n",
       "<polygon fill=\"none\" points=\"51,-415.5 51,-461.5 350,-461.5 350,-415.5 51,-415.5\" stroke=\"black\"/>\n",
       "<text font-family=\"Times,serif\" font-size=\"14.00\" text-anchor=\"middle\" x=\"113.5\" y=\"-434.8\">dropout_2: Dropout</text>\n",
       "<polyline fill=\"none\" points=\"176,-415.5 176,-461.5 \" stroke=\"black\"/>\n",
       "<text font-family=\"Times,serif\" font-size=\"14.00\" text-anchor=\"middle\" x=\"203.5\" y=\"-446.3\">input:</text>\n",
       "<polyline fill=\"none\" points=\"176,-438.5 231,-438.5 \" stroke=\"black\"/>\n",
       "<text font-family=\"Times,serif\" font-size=\"14.00\" text-anchor=\"middle\" x=\"203.5\" y=\"-423.3\">output:</text>\n",
       "<polyline fill=\"none\" points=\"231,-415.5 231,-461.5 \" stroke=\"black\"/>\n",
       "<text font-family=\"Times,serif\" font-size=\"14.00\" text-anchor=\"middle\" x=\"290.5\" y=\"-446.3\">(None, 32, 6, 6, 6)</text>\n",
       "<polyline fill=\"none\" points=\"231,-438.5 350,-438.5 \" stroke=\"black\"/>\n",
       "<text font-family=\"Times,serif\" font-size=\"14.00\" text-anchor=\"middle\" x=\"290.5\" y=\"-423.3\">(None, 32, 6, 6, 6)</text>\n",
       "</g>\n",
       "<!-- 140095703928784&#45;&gt;140095703927888 -->\n",
       "<g class=\"edge\" id=\"edge7\"><title>140095703928784-&gt;140095703927888</title>\n",
       "<path d=\"M200.5,-498.366C200.5,-490.152 200.5,-480.658 200.5,-471.725\" fill=\"none\" stroke=\"black\"/>\n",
       "<polygon fill=\"black\" points=\"204,-471.607 200.5,-461.607 197,-471.607 204,-471.607\" stroke=\"black\"/>\n",
       "</g>\n",
       "<!-- 140095703928224 -->\n",
       "<g class=\"node\" id=\"node8\"><title>140095703928224</title>\n",
       "<polygon fill=\"none\" points=\"58.5,-332.5 58.5,-378.5 342.5,-378.5 342.5,-332.5 58.5,-332.5\" stroke=\"black\"/>\n",
       "<text font-family=\"Times,serif\" font-size=\"14.00\" text-anchor=\"middle\" x=\"113.5\" y=\"-351.8\">flatten_1: Flatten</text>\n",
       "<polyline fill=\"none\" points=\"168.5,-332.5 168.5,-378.5 \" stroke=\"black\"/>\n",
       "<text font-family=\"Times,serif\" font-size=\"14.00\" text-anchor=\"middle\" x=\"196\" y=\"-363.3\">input:</text>\n",
       "<polyline fill=\"none\" points=\"168.5,-355.5 223.5,-355.5 \" stroke=\"black\"/>\n",
       "<text font-family=\"Times,serif\" font-size=\"14.00\" text-anchor=\"middle\" x=\"196\" y=\"-340.3\">output:</text>\n",
       "<polyline fill=\"none\" points=\"223.5,-332.5 223.5,-378.5 \" stroke=\"black\"/>\n",
       "<text font-family=\"Times,serif\" font-size=\"14.00\" text-anchor=\"middle\" x=\"283\" y=\"-363.3\">(None, 32, 6, 6, 6)</text>\n",
       "<polyline fill=\"none\" points=\"223.5,-355.5 342.5,-355.5 \" stroke=\"black\"/>\n",
       "<text font-family=\"Times,serif\" font-size=\"14.00\" text-anchor=\"middle\" x=\"283\" y=\"-340.3\">(None, 6912)</text>\n",
       "</g>\n",
       "<!-- 140095703927888&#45;&gt;140095703928224 -->\n",
       "<g class=\"edge\" id=\"edge8\"><title>140095703927888-&gt;140095703928224</title>\n",
       "<path d=\"M200.5,-415.366C200.5,-407.152 200.5,-397.658 200.5,-388.725\" fill=\"none\" stroke=\"black\"/>\n",
       "<polygon fill=\"black\" points=\"204,-388.607 200.5,-378.607 197,-388.607 204,-388.607\" stroke=\"black\"/>\n",
       "</g>\n",
       "<!-- 140095703711640 -->\n",
       "<g class=\"node\" id=\"node9\"><title>140095703711640</title>\n",
       "<polygon fill=\"none\" points=\"77.5,-249.5 77.5,-295.5 323.5,-295.5 323.5,-249.5 77.5,-249.5\" stroke=\"black\"/>\n",
       "<text font-family=\"Times,serif\" font-size=\"14.00\" text-anchor=\"middle\" x=\"128.5\" y=\"-268.8\">dense_1: Dense</text>\n",
       "<polyline fill=\"none\" points=\"179.5,-249.5 179.5,-295.5 \" stroke=\"black\"/>\n",
       "<text font-family=\"Times,serif\" font-size=\"14.00\" text-anchor=\"middle\" x=\"207\" y=\"-280.3\">input:</text>\n",
       "<polyline fill=\"none\" points=\"179.5,-272.5 234.5,-272.5 \" stroke=\"black\"/>\n",
       "<text font-family=\"Times,serif\" font-size=\"14.00\" text-anchor=\"middle\" x=\"207\" y=\"-257.3\">output:</text>\n",
       "<polyline fill=\"none\" points=\"234.5,-249.5 234.5,-295.5 \" stroke=\"black\"/>\n",
       "<text font-family=\"Times,serif\" font-size=\"14.00\" text-anchor=\"middle\" x=\"279\" y=\"-280.3\">(None, 6912)</text>\n",
       "<polyline fill=\"none\" points=\"234.5,-272.5 323.5,-272.5 \" stroke=\"black\"/>\n",
       "<text font-family=\"Times,serif\" font-size=\"14.00\" text-anchor=\"middle\" x=\"279\" y=\"-257.3\">(None, 528)</text>\n",
       "</g>\n",
       "<!-- 140095703928224&#45;&gt;140095703711640 -->\n",
       "<g class=\"edge\" id=\"edge9\"><title>140095703928224-&gt;140095703711640</title>\n",
       "<path d=\"M200.5,-332.366C200.5,-324.152 200.5,-314.658 200.5,-305.725\" fill=\"none\" stroke=\"black\"/>\n",
       "<polygon fill=\"black\" points=\"204,-305.607 200.5,-295.607 197,-305.607 204,-305.607\" stroke=\"black\"/>\n",
       "</g>\n",
       "<!-- 140095703710464 -->\n",
       "<g class=\"node\" id=\"node10\"><title>140095703710464</title>\n",
       "<polygon fill=\"none\" points=\"69,-166.5 69,-212.5 332,-212.5 332,-166.5 69,-166.5\" stroke=\"black\"/>\n",
       "<text font-family=\"Times,serif\" font-size=\"14.00\" text-anchor=\"middle\" x=\"131.5\" y=\"-185.8\">dropout_3: Dropout</text>\n",
       "<polyline fill=\"none\" points=\"194,-166.5 194,-212.5 \" stroke=\"black\"/>\n",
       "<text font-family=\"Times,serif\" font-size=\"14.00\" text-anchor=\"middle\" x=\"221.5\" y=\"-197.3\">input:</text>\n",
       "<polyline fill=\"none\" points=\"194,-189.5 249,-189.5 \" stroke=\"black\"/>\n",
       "<text font-family=\"Times,serif\" font-size=\"14.00\" text-anchor=\"middle\" x=\"221.5\" y=\"-174.3\">output:</text>\n",
       "<polyline fill=\"none\" points=\"249,-166.5 249,-212.5 \" stroke=\"black\"/>\n",
       "<text font-family=\"Times,serif\" font-size=\"14.00\" text-anchor=\"middle\" x=\"290.5\" y=\"-197.3\">(None, 528)</text>\n",
       "<polyline fill=\"none\" points=\"249,-189.5 332,-189.5 \" stroke=\"black\"/>\n",
       "<text font-family=\"Times,serif\" font-size=\"14.00\" text-anchor=\"middle\" x=\"290.5\" y=\"-174.3\">(None, 528)</text>\n",
       "</g>\n",
       "<!-- 140095703711640&#45;&gt;140095703710464 -->\n",
       "<g class=\"edge\" id=\"edge10\"><title>140095703711640-&gt;140095703710464</title>\n",
       "<path d=\"M200.5,-249.366C200.5,-241.152 200.5,-231.658 200.5,-222.725\" fill=\"none\" stroke=\"black\"/>\n",
       "<polygon fill=\"black\" points=\"204,-222.607 200.5,-212.607 197,-222.607 204,-222.607\" stroke=\"black\"/>\n",
       "</g>\n",
       "<!-- 140095659707584 -->\n",
       "<g class=\"node\" id=\"node11\"><title>140095659707584</title>\n",
       "<polygon fill=\"none\" points=\"80.5,-83.5 80.5,-129.5 320.5,-129.5 320.5,-83.5 80.5,-83.5\" stroke=\"black\"/>\n",
       "<text font-family=\"Times,serif\" font-size=\"14.00\" text-anchor=\"middle\" x=\"131.5\" y=\"-102.8\">dense_2: Dense</text>\n",
       "<polyline fill=\"none\" points=\"182.5,-83.5 182.5,-129.5 \" stroke=\"black\"/>\n",
       "<text font-family=\"Times,serif\" font-size=\"14.00\" text-anchor=\"middle\" x=\"210\" y=\"-114.3\">input:</text>\n",
       "<polyline fill=\"none\" points=\"182.5,-106.5 237.5,-106.5 \" stroke=\"black\"/>\n",
       "<text font-family=\"Times,serif\" font-size=\"14.00\" text-anchor=\"middle\" x=\"210\" y=\"-91.3\">output:</text>\n",
       "<polyline fill=\"none\" points=\"237.5,-83.5 237.5,-129.5 \" stroke=\"black\"/>\n",
       "<text font-family=\"Times,serif\" font-size=\"14.00\" text-anchor=\"middle\" x=\"279\" y=\"-114.3\">(None, 528)</text>\n",
       "<polyline fill=\"none\" points=\"237.5,-106.5 320.5,-106.5 \" stroke=\"black\"/>\n",
       "<text font-family=\"Times,serif\" font-size=\"14.00\" text-anchor=\"middle\" x=\"279\" y=\"-91.3\">(None, 10)</text>\n",
       "</g>\n",
       "<!-- 140095703710464&#45;&gt;140095659707584 -->\n",
       "<g class=\"edge\" id=\"edge11\"><title>140095703710464-&gt;140095659707584</title>\n",
       "<path d=\"M200.5,-166.366C200.5,-158.152 200.5,-148.658 200.5,-139.725\" fill=\"none\" stroke=\"black\"/>\n",
       "<polygon fill=\"black\" points=\"204,-139.607 200.5,-129.607 197,-139.607 204,-139.607\" stroke=\"black\"/>\n",
       "</g>\n",
       "<!-- 140095659707696 -->\n",
       "<g class=\"node\" id=\"node12\"><title>140095659707696</title>\n",
       "<polygon fill=\"none\" points=\"61,-0.5 61,-46.5 340,-46.5 340,-0.5 61,-0.5\" stroke=\"black\"/>\n",
       "<text font-family=\"Times,serif\" font-size=\"14.00\" text-anchor=\"middle\" x=\"135\" y=\"-19.8\">activation_3: Activation</text>\n",
       "<polyline fill=\"none\" points=\"209,-0.5 209,-46.5 \" stroke=\"black\"/>\n",
       "<text font-family=\"Times,serif\" font-size=\"14.00\" text-anchor=\"middle\" x=\"236.5\" y=\"-31.3\">input:</text>\n",
       "<polyline fill=\"none\" points=\"209,-23.5 264,-23.5 \" stroke=\"black\"/>\n",
       "<text font-family=\"Times,serif\" font-size=\"14.00\" text-anchor=\"middle\" x=\"236.5\" y=\"-8.3\">output:</text>\n",
       "<polyline fill=\"none\" points=\"264,-0.5 264,-46.5 \" stroke=\"black\"/>\n",
       "<text font-family=\"Times,serif\" font-size=\"14.00\" text-anchor=\"middle\" x=\"302\" y=\"-31.3\">(None, 10)</text>\n",
       "<polyline fill=\"none\" points=\"264,-23.5 340,-23.5 \" stroke=\"black\"/>\n",
       "<text font-family=\"Times,serif\" font-size=\"14.00\" text-anchor=\"middle\" x=\"302\" y=\"-8.3\">(None, 10)</text>\n",
       "</g>\n",
       "<!-- 140095659707584&#45;&gt;140095659707696 -->\n",
       "<g class=\"edge\" id=\"edge12\"><title>140095659707584-&gt;140095659707696</title>\n",
       "<path d=\"M200.5,-83.3664C200.5,-75.1516 200.5,-65.6579 200.5,-56.7252\" fill=\"none\" stroke=\"black\"/>\n",
       "<polygon fill=\"black\" points=\"204,-56.6068 200.5,-46.6068 197,-56.6069 204,-56.6068\" stroke=\"black\"/>\n",
       "</g>\n",
       "<!-- 140095704412456 -->\n",
       "<g class=\"node\" id=\"node13\"><title>140095704412456</title>\n",
       "<polygon fill=\"none\" points=\"141.5,-996.5 141.5,-1032.5 259.5,-1032.5 259.5,-996.5 141.5,-996.5\" stroke=\"black\"/>\n",
       "<text font-family=\"Times,serif\" font-size=\"14.00\" text-anchor=\"middle\" x=\"200.5\" y=\"-1010.8\">140095704412456</text>\n",
       "</g>\n",
       "<!-- 140095704412456&#45;&gt;140095704411608 -->\n",
       "<g class=\"edge\" id=\"edge1\"><title>140095704412456-&gt;140095704411608</title>\n",
       "<path d=\"M200.5,-996.254C200.5,-988.363 200.5,-978.749 200.5,-969.602\" fill=\"none\" stroke=\"black\"/>\n",
       "<polygon fill=\"black\" points=\"204,-969.591 200.5,-959.591 197,-969.591 204,-969.591\" stroke=\"black\"/>\n",
       "</g>\n",
       "</g>\n",
       "</svg>"
      ],
      "text/plain": [
       "<IPython.core.display.SVG object>"
      ]
     },
     "execution_count": 10,
     "metadata": {},
     "output_type": "execute_result"
    }
   ],
   "source": [
    "#可視化\n",
    "SVG(model_to_dot(model,show_shapes=True).create(prog='dot', format='svg'))"
   ]
  },
  {
   "cell_type": "code",
   "execution_count": 11,
   "metadata": {},
   "outputs": [
    {
     "name": "stdout",
     "output_type": "stream",
     "text": [
      "_________________________________________________________________\n",
      "Layer (type)                 Output Shape              Param #   \n",
      "=================================================================\n",
      "conv3d_1 (Conv3D)            (None, 32, 14, 14, 14)    4032      \n",
      "_________________________________________________________________\n",
      "activation_1 (Activation)    (None, 32, 14, 14, 14)    0         \n",
      "_________________________________________________________________\n",
      "dropout_1 (Dropout)          (None, 32, 14, 14, 14)    0         \n",
      "_________________________________________________________________\n",
      "conv3d_2 (Conv3D)            (None, 32, 12, 12, 12)    27680     \n",
      "_________________________________________________________________\n",
      "activation_2 (Activation)    (None, 32, 12, 12, 12)    0         \n",
      "_________________________________________________________________\n",
      "max_pooling3d_1 (MaxPooling3 (None, 32, 6, 6, 6)       0         \n",
      "_________________________________________________________________\n",
      "dropout_2 (Dropout)          (None, 32, 6, 6, 6)       0         \n",
      "_________________________________________________________________\n",
      "flatten_1 (Flatten)          (None, 6912)              0         \n",
      "_________________________________________________________________\n",
      "dense_1 (Dense)              (None, 528)               3650064   \n",
      "_________________________________________________________________\n",
      "dropout_3 (Dropout)          (None, 528)               0         \n",
      "_________________________________________________________________\n",
      "dense_2 (Dense)              (None, 10)                5290      \n",
      "_________________________________________________________________\n",
      "activation_3 (Activation)    (None, 10)                0         \n",
      "=================================================================\n",
      "Total params: 3,687,066\n",
      "Trainable params: 3,687,066\n",
      "Non-trainable params: 0\n",
      "_________________________________________________________________\n"
     ]
    }
   ],
   "source": [
    "#サマリーの表示\n",
    "model.summary()"
   ]
  },
  {
   "cell_type": "code",
   "execution_count": 12,
   "metadata": {
    "collapsed": true
   },
   "outputs": [],
   "source": [
    "#モデルの図を保存\n",
    "plot_model(model, to_file=fig_dir + 'model.png',show_shapes='True')"
   ]
  },
  {
   "cell_type": "code",
   "execution_count": null,
   "metadata": {
    "collapsed": true
   },
   "outputs": [],
   "source": []
  },
  {
   "cell_type": "code",
   "execution_count": null,
   "metadata": {
    "collapsed": true
   },
   "outputs": [],
   "source": []
  },
  {
   "cell_type": "code",
   "execution_count": 13,
   "metadata": {
    "collapsed": true
   },
   "outputs": [],
   "source": [
    "x_train = np.load( data_dir  + \"x_train.npy\")\n",
    "x_test = np.load( data_dir  + \"x_test.npy\")\n",
    "y_train = np.load( data_dir + \"y_train.npy\")\n",
    "y_test = np.load( data_dir + \"y_test.npy\")"
   ]
  },
  {
   "cell_type": "code",
   "execution_count": 14,
   "metadata": {},
   "outputs": [
    {
     "data": {
      "text/plain": [
       "(3991, 1, 32, 32, 32)"
      ]
     },
     "execution_count": 14,
     "metadata": {},
     "output_type": "execute_result"
    }
   ],
   "source": [
    "x_train.shape"
   ]
  },
  {
   "cell_type": "code",
   "execution_count": 15,
   "metadata": {},
   "outputs": [
    {
     "data": {
      "text/plain": [
       "(3991, 10)"
      ]
     },
     "execution_count": 15,
     "metadata": {},
     "output_type": "execute_result"
    }
   ],
   "source": [
    "y_train.shape"
   ]
  },
  {
   "cell_type": "code",
   "execution_count": 16,
   "metadata": {},
   "outputs": [
    {
     "data": {
      "text/plain": [
       "(908, 1, 32, 32, 32)"
      ]
     },
     "execution_count": 16,
     "metadata": {},
     "output_type": "execute_result"
    }
   ],
   "source": [
    "x_test.shape"
   ]
  },
  {
   "cell_type": "code",
   "execution_count": 17,
   "metadata": {},
   "outputs": [
    {
     "data": {
      "text/plain": [
       "(908, 10)"
      ]
     },
     "execution_count": 17,
     "metadata": {},
     "output_type": "execute_result"
    }
   ],
   "source": [
    "y_test.shape"
   ]
  },
  {
   "cell_type": "code",
   "execution_count": null,
   "metadata": {
    "collapsed": true
   },
   "outputs": [],
   "source": []
  },
  {
   "cell_type": "code",
   "execution_count": null,
   "metadata": {
    "collapsed": true
   },
   "outputs": [],
   "source": []
  },
  {
   "cell_type": "code",
   "execution_count": 18,
   "metadata": {
    "collapsed": true
   },
   "outputs": [],
   "source": [
    "# es_cb = keras.callbacks.EarlyStopping(monitor='val_loss', patience=0, verbose=0, mode='auto')"
   ]
  },
  {
   "cell_type": "code",
   "execution_count": 19,
   "metadata": {
    "scrolled": false
   },
   "outputs": [
    {
     "name": "stdout",
     "output_type": "stream",
     "text": [
      "Train on 3991 samples, validate on 908 samples\n",
      "Epoch 1/100\n",
      "3991/3991 [==============================] - 5s 1ms/step - loss: 10.7298 - acc: 0.5555 - val_loss: 10.0203 - val_acc: 0.7357\n",
      "Epoch 2/100\n",
      "3991/3991 [==============================] - 4s 919us/step - loss: 9.6695 - acc: 0.8208 - val_loss: 9.6283 - val_acc: 0.8106\n",
      "Epoch 3/100\n",
      "3991/3991 [==============================] - 4s 916us/step - loss: 9.4303 - acc: 0.8544 - val_loss: 9.4677 - val_acc: 0.8337\n",
      "Epoch 4/100\n",
      "3991/3991 [==============================] - 3s 877us/step - loss: 9.2363 - acc: 0.8860 - val_loss: 9.2411 - val_acc: 0.8403\n",
      "Epoch 5/100\n",
      "3991/3991 [==============================] - 4s 908us/step - loss: 9.1062 - acc: 0.8877 - val_loss: 9.0824 - val_acc: 0.8568\n",
      "Epoch 6/100\n",
      "3991/3991 [==============================] - 3s 865us/step - loss: 8.9314 - acc: 0.9093 - val_loss: 8.9657 - val_acc: 0.8524\n",
      "Epoch 7/100\n",
      "3991/3991 [==============================] - 4s 919us/step - loss: 8.8057 - acc: 0.9148 - val_loss: 8.8574 - val_acc: 0.8811\n",
      "Epoch 8/100\n",
      "3991/3991 [==============================] - 4s 932us/step - loss: 8.6776 - acc: 0.9246 - val_loss: 8.7713 - val_acc: 0.8601\n",
      "Epoch 9/100\n",
      "3991/3991 [==============================] - 4s 905us/step - loss: 8.5678 - acc: 0.9206 - val_loss: 8.6169 - val_acc: 0.8767\n",
      "Epoch 10/100\n",
      "3991/3991 [==============================] - 4s 899us/step - loss: 8.4450 - acc: 0.9326 - val_loss: 8.5333 - val_acc: 0.8744\n",
      "Epoch 11/100\n",
      "3991/3991 [==============================] - 4s 928us/step - loss: 8.3388 - acc: 0.9301 - val_loss: 8.4060 - val_acc: 0.8932\n",
      "Epoch 12/100\n",
      "3991/3991 [==============================] - 4s 917us/step - loss: 8.2289 - acc: 0.9354 - val_loss: 8.3180 - val_acc: 0.8888\n",
      "Epoch 13/100\n",
      "3991/3991 [==============================] - 4s 881us/step - loss: 8.1256 - acc: 0.9386 - val_loss: 8.2225 - val_acc: 0.8844\n",
      "Epoch 14/100\n",
      "3991/3991 [==============================] - 4s 919us/step - loss: 8.0217 - acc: 0.9416 - val_loss: 8.1400 - val_acc: 0.8789\n",
      "Epoch 15/100\n",
      "3991/3991 [==============================] - 4s 899us/step - loss: 7.9313 - acc: 0.9421 - val_loss: 8.0248 - val_acc: 0.8822\n",
      "Epoch 16/100\n",
      "3991/3991 [==============================] - 4s 908us/step - loss: 7.8255 - acc: 0.9441 - val_loss: 7.9344 - val_acc: 0.8943\n",
      "Epoch 17/100\n",
      "3991/3991 [==============================] - 4s 928us/step - loss: 7.7315 - acc: 0.9451 - val_loss: 7.8574 - val_acc: 0.8789\n",
      "Epoch 18/100\n",
      "3991/3991 [==============================] - 4s 925us/step - loss: 7.6284 - acc: 0.9491 - val_loss: 7.7729 - val_acc: 0.8811\n",
      "Epoch 19/100\n",
      "3991/3991 [==============================] - 4s 915us/step - loss: 7.5447 - acc: 0.9496 - val_loss: 7.6895 - val_acc: 0.8833\n",
      "Epoch 20/100\n",
      "3991/3991 [==============================] - 4s 915us/step - loss: 7.4642 - acc: 0.9479 - val_loss: 7.5636 - val_acc: 0.8998\n",
      "Epoch 21/100\n",
      "3991/3991 [==============================] - 4s 904us/step - loss: 7.3633 - acc: 0.9539 - val_loss: 7.4867 - val_acc: 0.8965\n",
      "Epoch 22/100\n",
      "3991/3991 [==============================] - 4s 905us/step - loss: 7.2863 - acc: 0.9564 - val_loss: 7.4160 - val_acc: 0.8855\n",
      "Epoch 23/100\n",
      "3991/3991 [==============================] - 4s 954us/step - loss: 7.1812 - acc: 0.9629 - val_loss: 7.3279 - val_acc: 0.8910\n",
      "Epoch 24/100\n",
      "3991/3991 [==============================] - 4s 918us/step - loss: 7.1042 - acc: 0.9577 - val_loss: 7.2632 - val_acc: 0.8767\n",
      "Epoch 25/100\n",
      "3991/3991 [==============================] - 4s 915us/step - loss: 7.0269 - acc: 0.9574 - val_loss: 7.1679 - val_acc: 0.8877\n",
      "Epoch 26/100\n",
      "3991/3991 [==============================] - 4s 915us/step - loss: 6.9541 - acc: 0.9567 - val_loss: 7.0866 - val_acc: 0.8921\n",
      "Epoch 27/100\n",
      "3991/3991 [==============================] - 4s 938us/step - loss: 6.8580 - acc: 0.9662 - val_loss: 7.0195 - val_acc: 0.8877\n",
      "Epoch 28/100\n",
      "3991/3991 [==============================] - 4s 926us/step - loss: 6.7834 - acc: 0.9639 - val_loss: 6.9335 - val_acc: 0.8943\n",
      "Epoch 29/100\n",
      "3991/3991 [==============================] - 4s 914us/step - loss: 6.7105 - acc: 0.9604 - val_loss: 6.8993 - val_acc: 0.8767\n",
      "Epoch 30/100\n",
      "3991/3991 [==============================] - 4s 892us/step - loss: 6.6416 - acc: 0.9689 - val_loss: 6.7813 - val_acc: 0.8976\n",
      "Epoch 31/100\n",
      "3991/3991 [==============================] - 4s 934us/step - loss: 6.5595 - acc: 0.9664 - val_loss: 6.7326 - val_acc: 0.8965\n",
      "Epoch 32/100\n",
      "3991/3991 [==============================] - 4s 954us/step - loss: 6.4918 - acc: 0.9674 - val_loss: 6.7309 - val_acc: 0.8722\n",
      "Epoch 33/100\n",
      "3991/3991 [==============================] - 4s 937us/step - loss: 6.4289 - acc: 0.9649 - val_loss: 6.5873 - val_acc: 0.8976\n",
      "Epoch 34/100\n",
      "3991/3991 [==============================] - 4s 910us/step - loss: 6.3572 - acc: 0.9662 - val_loss: 6.5032 - val_acc: 0.8976\n",
      "Epoch 35/100\n",
      "3991/3991 [==============================] - 4s 942us/step - loss: 6.2763 - acc: 0.9694 - val_loss: 6.4645 - val_acc: 0.8899\n",
      "Epoch 36/100\n",
      "3991/3991 [==============================] - 4s 910us/step - loss: 6.2020 - acc: 0.9752 - val_loss: 6.3823 - val_acc: 0.9031\n",
      "Epoch 37/100\n",
      "3991/3991 [==============================] - 4s 943us/step - loss: 6.1378 - acc: 0.9737 - val_loss: 6.2969 - val_acc: 0.9064\n",
      "Epoch 38/100\n",
      "3991/3991 [==============================] - 4s 954us/step - loss: 6.0813 - acc: 0.9717 - val_loss: 6.2598 - val_acc: 0.8976\n",
      "Epoch 39/100\n",
      "3991/3991 [==============================] - 4s 931us/step - loss: 6.0116 - acc: 0.9729 - val_loss: 6.2001 - val_acc: 0.8921\n",
      "Epoch 40/100\n",
      "3991/3991 [==============================] - 4s 913us/step - loss: 5.9610 - acc: 0.9684 - val_loss: 6.1478 - val_acc: 0.8954\n",
      "Epoch 41/100\n",
      "3991/3991 [==============================] - 4s 946us/step - loss: 5.8896 - acc: 0.9754 - val_loss: 6.0677 - val_acc: 0.9020\n",
      "Epoch 42/100\n",
      "3991/3991 [==============================] - 4s 921us/step - loss: 5.8240 - acc: 0.9759 - val_loss: 5.9968 - val_acc: 0.9075\n",
      "Epoch 43/100\n",
      "3991/3991 [==============================] - 4s 924us/step - loss: 5.7736 - acc: 0.9724 - val_loss: 5.9430 - val_acc: 0.9020\n",
      "Epoch 44/100\n",
      "3991/3991 [==============================] - 4s 921us/step - loss: 5.7009 - acc: 0.9742 - val_loss: 5.9106 - val_acc: 0.8932\n",
      "Epoch 45/100\n",
      "3991/3991 [==============================] - 4s 910us/step - loss: 5.6509 - acc: 0.9732 - val_loss: 5.8260 - val_acc: 0.9009\n",
      "Epoch 46/100\n",
      "3991/3991 [==============================] - 4s 912us/step - loss: 5.5866 - acc: 0.9747 - val_loss: 5.7814 - val_acc: 0.8932\n",
      "Epoch 47/100\n",
      "3991/3991 [==============================] - 4s 922us/step - loss: 5.5368 - acc: 0.9734 - val_loss: 5.7168 - val_acc: 0.8998\n",
      "Epoch 48/100\n",
      "3991/3991 [==============================] - 4s 917us/step - loss: 5.4740 - acc: 0.9757 - val_loss: 5.6717 - val_acc: 0.9009\n",
      "Epoch 49/100\n",
      "3991/3991 [==============================] - 4s 921us/step - loss: 5.4206 - acc: 0.9749 - val_loss: 5.6241 - val_acc: 0.8954\n",
      "Epoch 50/100\n",
      "3991/3991 [==============================] - 4s 957us/step - loss: 5.3608 - acc: 0.9805 - val_loss: 5.5465 - val_acc: 0.9009\n",
      "Epoch 51/100\n",
      "3991/3991 [==============================] - 4s 919us/step - loss: 5.3126 - acc: 0.9759 - val_loss: 5.5153 - val_acc: 0.8943\n",
      "Epoch 52/100\n",
      "3991/3991 [==============================] - 4s 926us/step - loss: 5.2596 - acc: 0.9780 - val_loss: 5.4749 - val_acc: 0.8910\n",
      "Epoch 53/100\n",
      "3991/3991 [==============================] - 4s 950us/step - loss: 5.2129 - acc: 0.9759 - val_loss: 5.4073 - val_acc: 0.8965\n",
      "Epoch 54/100\n",
      "3991/3991 [==============================] - 4s 928us/step - loss: 5.1565 - acc: 0.9787 - val_loss: 5.3603 - val_acc: 0.8965\n",
      "Epoch 55/100\n",
      "3991/3991 [==============================] - 4s 913us/step - loss: 5.0975 - acc: 0.9825 - val_loss: 5.3310 - val_acc: 0.8899\n",
      "Epoch 56/100\n",
      "3991/3991 [==============================] - 4s 919us/step - loss: 5.0558 - acc: 0.9800 - val_loss: 5.2512 - val_acc: 0.8987\n",
      "Epoch 57/100\n",
      "3991/3991 [==============================] - 4s 906us/step - loss: 5.0060 - acc: 0.9790 - val_loss: 5.2110 - val_acc: 0.8998\n",
      "Epoch 58/100\n",
      "3991/3991 [==============================] - 4s 917us/step - loss: 4.9535 - acc: 0.9807 - val_loss: 5.1594 - val_acc: 0.8987\n",
      "Epoch 59/100\n",
      "3991/3991 [==============================] - 4s 920us/step - loss: 4.9079 - acc: 0.9797 - val_loss: 5.1249 - val_acc: 0.8954\n",
      "Epoch 60/100\n"
     ]
    },
    {
     "name": "stdout",
     "output_type": "stream",
     "text": [
      "3991/3991 [==============================] - 4s 926us/step - loss: 4.8569 - acc: 0.9822 - val_loss: 5.0842 - val_acc: 0.9042\n",
      "Epoch 61/100\n",
      "3991/3991 [==============================] - 4s 918us/step - loss: 4.8141 - acc: 0.9802 - val_loss: 5.0374 - val_acc: 0.8965\n",
      "Epoch 62/100\n",
      "3991/3991 [==============================] - 4s 910us/step - loss: 4.7634 - acc: 0.9825 - val_loss: 5.0004 - val_acc: 0.8965\n",
      "Epoch 63/100\n",
      "3991/3991 [==============================] - 4s 943us/step - loss: 4.7222 - acc: 0.9805 - val_loss: 4.9445 - val_acc: 0.9064\n",
      "Epoch 64/100\n",
      "3991/3991 [==============================] - 4s 917us/step - loss: 4.6745 - acc: 0.9832 - val_loss: 4.9023 - val_acc: 0.8954\n",
      "Epoch 65/100\n",
      "3991/3991 [==============================] - 4s 936us/step - loss: 4.6319 - acc: 0.9825 - val_loss: 4.8518 - val_acc: 0.9009\n",
      "Epoch 66/100\n",
      "3991/3991 [==============================] - 4s 930us/step - loss: 4.5914 - acc: 0.9805 - val_loss: 4.8322 - val_acc: 0.8965\n",
      "Epoch 67/100\n",
      "3991/3991 [==============================] - 4s 914us/step - loss: 4.5530 - acc: 0.9780 - val_loss: 4.7843 - val_acc: 0.8998\n",
      "Epoch 68/100\n",
      "3991/3991 [==============================] - 4s 933us/step - loss: 4.5001 - acc: 0.9840 - val_loss: 4.7347 - val_acc: 0.9031\n",
      "Epoch 69/100\n",
      "3991/3991 [==============================] - 4s 919us/step - loss: 4.4648 - acc: 0.9790 - val_loss: 4.7030 - val_acc: 0.8987\n",
      "Epoch 70/100\n",
      "3991/3991 [==============================] - 4s 903us/step - loss: 4.4194 - acc: 0.9845 - val_loss: 4.6646 - val_acc: 0.8976\n",
      "Epoch 71/100\n",
      "3991/3991 [==============================] - 4s 922us/step - loss: 4.3791 - acc: 0.9812 - val_loss: 4.6123 - val_acc: 0.9009\n",
      "Epoch 72/100\n",
      "3991/3991 [==============================] - 4s 921us/step - loss: 4.3370 - acc: 0.9837 - val_loss: 4.5961 - val_acc: 0.8932\n",
      "Epoch 73/100\n",
      "3991/3991 [==============================] - 4s 919us/step - loss: 4.3018 - acc: 0.9837 - val_loss: 4.5279 - val_acc: 0.9009\n",
      "Epoch 74/100\n",
      "3991/3991 [==============================] - 4s 931us/step - loss: 4.2660 - acc: 0.9817 - val_loss: 4.5055 - val_acc: 0.8877\n",
      "Epoch 75/100\n",
      "3991/3991 [==============================] - 4s 923us/step - loss: 4.2190 - acc: 0.9850 - val_loss: 4.4766 - val_acc: 0.8855\n",
      "Epoch 76/100\n",
      "3991/3991 [==============================] - 4s 898us/step - loss: 4.1814 - acc: 0.9837 - val_loss: 4.4177 - val_acc: 0.8976\n",
      "Epoch 77/100\n",
      "3991/3991 [==============================] - 4s 923us/step - loss: 4.1450 - acc: 0.9835 - val_loss: 4.3851 - val_acc: 0.8976\n",
      "Epoch 78/100\n",
      "3991/3991 [==============================] - 4s 936us/step - loss: 4.1106 - acc: 0.9847 - val_loss: 4.3447 - val_acc: 0.9009\n",
      "Epoch 79/100\n",
      "3991/3991 [==============================] - 4s 917us/step - loss: 4.0718 - acc: 0.9847 - val_loss: 4.3202 - val_acc: 0.8965\n",
      "Epoch 80/100\n",
      "3991/3991 [==============================] - 4s 934us/step - loss: 4.0373 - acc: 0.9847 - val_loss: 4.2887 - val_acc: 0.8976\n",
      "Epoch 81/100\n",
      "3991/3991 [==============================] - 4s 930us/step - loss: 4.0004 - acc: 0.9842 - val_loss: 4.2536 - val_acc: 0.9020\n",
      "Epoch 82/100\n",
      "3991/3991 [==============================] - 4s 949us/step - loss: 3.9595 - acc: 0.9870 - val_loss: 4.2182 - val_acc: 0.8987\n",
      "Epoch 83/100\n",
      "3991/3991 [==============================] - 4s 927us/step - loss: 3.9342 - acc: 0.9817 - val_loss: 4.1661 - val_acc: 0.9042\n",
      "Epoch 84/100\n",
      "3991/3991 [==============================] - 4s 916us/step - loss: 3.8959 - acc: 0.9845 - val_loss: 4.1245 - val_acc: 0.9031\n",
      "Epoch 85/100\n",
      "3991/3991 [==============================] - 4s 912us/step - loss: 3.8592 - acc: 0.9890 - val_loss: 4.0936 - val_acc: 0.8998\n",
      "Epoch 86/100\n",
      "3991/3991 [==============================] - 4s 913us/step - loss: 3.8229 - acc: 0.9860 - val_loss: 4.0790 - val_acc: 0.8943\n",
      "Epoch 87/100\n",
      "3991/3991 [==============================] - 4s 937us/step - loss: 3.7902 - acc: 0.9867 - val_loss: 4.0486 - val_acc: 0.9031\n",
      "Epoch 88/100\n",
      "3991/3991 [==============================] - 4s 936us/step - loss: 3.7615 - acc: 0.9847 - val_loss: 4.0148 - val_acc: 0.8976\n",
      "Epoch 89/100\n",
      "3991/3991 [==============================] - 4s 930us/step - loss: 3.7306 - acc: 0.9872 - val_loss: 3.9725 - val_acc: 0.9053\n",
      "Epoch 90/100\n",
      "3991/3991 [==============================] - 4s 931us/step - loss: 3.6994 - acc: 0.9862 - val_loss: 3.9470 - val_acc: 0.9031\n",
      "Epoch 91/100\n",
      "3991/3991 [==============================] - 4s 911us/step - loss: 3.6659 - acc: 0.9855 - val_loss: 3.9302 - val_acc: 0.8965\n",
      "Epoch 92/100\n",
      "3991/3991 [==============================] - 4s 910us/step - loss: 3.6361 - acc: 0.9865 - val_loss: 3.9046 - val_acc: 0.9042\n",
      "Epoch 93/100\n",
      "3991/3991 [==============================] - 4s 900us/step - loss: 3.6042 - acc: 0.9867 - val_loss: 3.8642 - val_acc: 0.8954\n",
      "Epoch 94/100\n",
      "3991/3991 [==============================] - 4s 915us/step - loss: 3.5706 - acc: 0.9870 - val_loss: 3.8303 - val_acc: 0.8965\n",
      "Epoch 95/100\n",
      "3991/3991 [==============================] - 4s 957us/step - loss: 3.5426 - acc: 0.9877 - val_loss: 3.8158 - val_acc: 0.8965\n",
      "Epoch 96/100\n",
      "3991/3991 [==============================] - 4s 902us/step - loss: 3.5160 - acc: 0.9865 - val_loss: 3.7696 - val_acc: 0.8987\n",
      "Epoch 97/100\n",
      "3991/3991 [==============================] - 4s 934us/step - loss: 3.4904 - acc: 0.9865 - val_loss: 3.7395 - val_acc: 0.9009\n",
      "Epoch 98/100\n",
      "3991/3991 [==============================] - 4s 934us/step - loss: 3.4543 - acc: 0.9895 - val_loss: 3.6920 - val_acc: 0.9031\n",
      "Epoch 99/100\n",
      "3991/3991 [==============================] - 4s 920us/step - loss: 3.4299 - acc: 0.9867 - val_loss: 3.6826 - val_acc: 0.8998\n",
      "Epoch 100/100\n",
      "3991/3991 [==============================] - 4s 927us/step - loss: 3.4018 - acc: 0.9847 - val_loss: 3.6457 - val_acc: 0.8976\n",
      "INFO:root:save model weights as [weights__2018_10_18_13_40_5.h5]\n"
     ]
    }
   ],
   "source": [
    "result = model.fit(x_train, y_train,\n",
    "                   batch_size=batch_size,\n",
    "                   epochs=epochs,\n",
    "                   verbose=1,\n",
    "                   validation_data=(x_test, y_test))\n",
    "#                    callbacks=[es_cb])\n",
    "\n",
    "time_now = datetime.datetime.now()\n",
    "time_now = \"_{0}_{1}_{2}_{3}_{4}_{5}\".format(time_now.year, time_now.month, time_now.day,\n",
    "                                             time_now.hour, time_now.minute, time_now.second)\n",
    "logging.info(\"save model weights as [weights_{0}.h5]\".format(time_now))\n",
    "model.save_weights(weights_dir+\"weights_{0}.h5\".format(time_now), False)"
   ]
  },
  {
   "cell_type": "code",
   "execution_count": 20,
   "metadata": {},
   "outputs": [
    {
     "name": "stdout",
     "output_type": "stream",
     "text": [
      "Test loss: 3.64565004546\n",
      "Test accuracy: 0.897577092774\n"
     ]
    }
   ],
   "source": [
    "loss,acc = model.evaluate(x_test, y_test, verbose=0)\n",
    "print('Test loss:', loss)\n",
    "print('Test accuracy:', acc)"
   ]
  },
  {
   "cell_type": "code",
   "execution_count": 21,
   "metadata": {
    "collapsed": true
   },
   "outputs": [],
   "source": [
    "rcParams[\"figure.figsize\"] = [6.4, 4.8]"
   ]
  },
  {
   "cell_type": "code",
   "execution_count": 22,
   "metadata": {},
   "outputs": [
    {
     "data": {
      "image/png": "[encoded data removed]",
      "text/plain": [
       "<matplotlib.figure.Figure at 0x7f6a642ab2e8>"
      ]
     },
     "metadata": {},
     "output_type": "display_data"
    }
   ],
   "source": [
    "plt.plot(range(1, len(result.history['acc'])+1), result.history['acc'], label=\"training\")\n",
    "plt.plot(range(1, len(result.history['val_acc'])+1), result.history['val_acc'], label=\"validation\")\n",
    "plt.xlabel('Epochs')\n",
    "plt.ylabel('Accuracy')\n",
    "plt.ylim([0.5,1])\n",
    "plt.legend()\n",
    "plt.title(\" {} / cell {}\".format(dataset,cells))\n",
    "plt.savefig(fig_dir + 'acc.svg')\n",
    "plt.show()"
   ]
  },
  {
   "cell_type": "code",
   "execution_count": 23,
   "metadata": {},
   "outputs": [
    {
     "data": {
      "image/png": "[encoded data removed]",
      "text/plain": [
       "<matplotlib.figure.Figure at 0x7f6a6433beb8>"
      ]
     },
     "metadata": {},
     "output_type": "display_data"
    }
   ],
   "source": [
    "plt.plot(range(1, len(result.history['loss'])+1), result.history['loss'], label=\"loss\")\n",
    "plt.plot(range(1, len(result.history['val_loss'])+1), result.history['val_loss'], label=\"validation_loss\")\n",
    "plt.xlabel('Epochs')\n",
    "plt.ylabel('loss')\n",
    "plt.legend()\n",
    "plt.title(\" {} / cell {}\".format(dataset,cells))\n",
    "plt.savefig(fig_dir  + 'loss.svg')\n",
    "plt.show()"
   ]
  },
  {
   "cell_type": "code",
   "execution_count": 24,
   "metadata": {},
   "outputs": [
    {
     "data": {
      "text/plain": [
       "array([[ 44,   0,   0,   0,   0,   6,   0,   0,   0,   0],\n",
       "       [  0, 100,   0,   0,   0,   0,   0,   0,   0,   0],\n",
       "       [  0,   0,  74,  10,   1,   1,   0,   0,   0,   0],\n",
       "       [  0,   0,  20,  56,   9,   1,   0,   0,   0,   0],\n",
       "       [  0,   0,   0,   0,  77,   0,  23,   0,   0,   0],\n",
       "       [  0,   0,   0,   0,   0, 100,   0,   0,   0,   0],\n",
       "       [  0,   0,   1,   1,   9,   0,  72,   0,   3,   0],\n",
       "       [  1,   0,   0,   0,   0,   0,   0,  98,   0,   1],\n",
       "       [  0,   0,   1,   1,   0,   0,   0,   1,  97,   0],\n",
       "       [  1,   2,   0,   0,   0,   0,   0,   0,   0,  97]])"
      ]
     },
     "execution_count": 24,
     "metadata": {},
     "output_type": "execute_result"
    }
   ],
   "source": [
    "labels_pred = model.predict_classes(x_test,verbose=0)\n",
    "confusion_matrix(np.argmax(y_test, axis=1), labels_pred)"
   ]
  },
  {
   "cell_type": "code",
   "execution_count": 25,
   "metadata": {},
   "outputs": [
    {
     "data": {
      "image/png": "[encoded data removed]",
      "text/plain": [
       "<matplotlib.figure.Figure at 0x7f6a406c77b8>"
      ]
     },
     "metadata": {},
     "output_type": "display_data"
    }
   ],
   "source": [
    "# グラフのサイズ\n",
    "rcParams['figure.figsize'] = 10,8\n",
    "\n",
    "def plot_confusion_matrix(cm, classes,\n",
    "                          title='Confusion matrix',\n",
    "                          cmap=plt.cm.Blues):\n",
    "    \"\"\"\n",
    "    This function prints and plots the confusion matrix.\n",
    "    Normalization can be applied by setting `normalize=True`.\n",
    "    \"\"\"\n",
    "    cm_normalize = cm.astype('float') / cm.sum(axis=1)[:, np.newaxis]\n",
    "    plt.imshow(cm_normalize, interpolation='nearest', cmap=cmap)\n",
    "    plt.title(title)\n",
    "    plt.colorbar()\n",
    "    tick_marks = np.arange(len(classes))\n",
    "    plt.xticks(tick_marks, classes, rotation=90)\n",
    "    plt.yticks(tick_marks, classes)\n",
    "    thresh = cm.max() / 2\n",
    "    \n",
    "    for i, j in itertools.product(range(cm.shape[0]), range(cm.shape[1])):\n",
    "        plt.text(j, i, format(cm[i, j], \"d\"),\n",
    "                 horizontalalignment=\"center\",\n",
    "                 color=\"white\" if cm[i, j] > thresh else \"black\")\n",
    "\n",
    "    plt.ylabel('True label')\n",
    "    plt.xlabel('Predicted label')\n",
    "    plt.tight_layout()\n",
    "\n",
    "\n",
    "# Compute confusion matrix\n",
    "cnf_matrix = confusion_matrix(np.argmax(y_test, axis=1), labels_pred)\n",
    "np.set_printoptions(precision=2)\n",
    "\n",
    "# Plot non-normalized confusion matrix\n",
    "plt.figure()\n",
    "plot_confusion_matrix(cnf_matrix, classes=class_name_modelnet,\n",
    "                      title='Normalized_confusion_matrix')\n",
    "plt.savefig(fig_dir + 'Normalized_confusion_matrix.svg')\n",
    "plt.show()"
   ]
  },
  {
   "cell_type": "code",
   "execution_count": 26,
   "metadata": {},
   "outputs": [
    {
     "data": {
      "text/plain": [
       "array([0, 0, 0, 0, 0, 0, 0, 0, 0, 0, 0, 0, 0, 0, 0, 0, 0, 0, 0, 0, 0, 0, 0,\n",
       "       0, 0, 0, 0, 0, 0, 0, 0, 0, 0, 0, 0, 0, 0, 0, 0, 0, 0, 0, 0, 0, 0, 0,\n",
       "       0, 0, 0, 0, 1, 1, 1, 1, 1, 1, 1, 1, 1, 1, 1, 1, 1, 1, 1, 1, 1, 1, 1,\n",
       "       1, 1, 1, 1, 1, 1, 1, 1, 1, 1, 1, 1, 1, 1, 1, 1, 1, 1, 1, 1, 1, 1, 1,\n",
       "       1, 1, 1, 1, 1, 1, 1, 1, 1, 1, 1, 1, 1, 1, 1, 1, 1, 1, 1, 1, 1, 1, 1,\n",
       "       1, 1, 1, 1, 1, 1, 1, 1, 1, 1, 1, 1, 1, 1, 1, 1, 1, 1, 1, 1, 1, 1, 1,\n",
       "       1, 1, 1, 1, 1, 1, 1, 1, 1, 1, 1, 1, 2, 2, 2, 2, 2, 2, 2, 2, 2, 2, 2,\n",
       "       2, 2, 2, 2, 2, 2, 2, 2, 2, 2, 2, 2, 2, 2, 2, 2, 2, 2, 2, 2, 2, 2, 2,\n",
       "       2, 2, 2, 2, 2, 2, 2, 2, 2, 2, 2, 2, 2, 2, 2, 2, 2, 2, 2, 2, 2, 2, 2,\n",
       "       2, 2, 2, 2, 2, 2, 2, 2, 2, 2, 2, 2, 2, 2, 2, 2, 2, 2, 2, 2, 2, 2, 2,\n",
       "       2, 2, 2, 2, 2, 2, 3, 3, 3, 3, 3, 3, 3, 3, 3, 3, 3, 3, 3, 3, 3, 3, 3,\n",
       "       3, 3, 3, 3, 3, 3, 3, 3, 3, 3, 3, 3, 3, 3, 3, 3, 3, 3, 3, 3, 3, 3, 3,\n",
       "       3, 3, 3, 3, 3, 3, 3, 3, 3, 3, 3, 3, 3, 3, 3, 3, 3, 3, 3, 3, 3, 3, 3,\n",
       "       3, 3, 3, 3, 3, 3, 3, 3, 3, 3, 3, 3, 3, 3, 3, 3, 3, 3, 3, 3, 3, 3, 3,\n",
       "       4, 4, 4, 4, 4, 4, 4, 4, 4, 4, 4, 4, 4, 4, 4, 4, 4, 4, 4, 4, 4, 4, 4,\n",
       "       4, 4, 4, 4, 4, 4, 4, 4, 4, 4, 4, 4, 4, 4, 4, 4, 4, 4, 4, 4, 4, 4, 4,\n",
       "       4, 4, 4, 4, 4, 4, 4, 4, 4, 4, 4, 4, 4, 4, 4, 4, 4, 4, 4, 4, 4, 4, 4,\n",
       "       4, 4, 4, 4, 4, 4, 4, 4, 4, 4, 4, 4, 4, 4, 4, 4, 4, 4, 4, 4, 4, 4, 4,\n",
       "       4, 4, 4, 4, 4, 4, 4, 4, 5, 5, 5, 5, 5, 5, 5, 5, 5, 5, 5, 5, 5, 5, 5,\n",
       "       5, 5, 5, 5, 5, 5, 5, 5, 5, 5, 5, 5, 5, 5, 5, 5, 5, 5, 5, 5, 5, 5, 5,\n",
       "       5, 5, 5, 5, 5, 5, 5, 5, 5, 5, 5, 5, 5, 5, 5, 5, 5, 5, 5, 5, 5, 5, 5,\n",
       "       5, 5, 5, 5, 5, 5, 5, 5, 5, 5, 5, 5, 5, 5, 5, 5, 5, 5, 5, 5, 5, 5, 5,\n",
       "       5, 5, 5, 5, 5, 5, 5, 5, 5, 5, 5, 5, 5, 5, 5, 5, 6, 6, 6, 6, 6, 6, 6,\n",
       "       6, 6, 6, 6, 6, 6, 6, 6, 6, 6, 6, 6, 6, 6, 6, 6, 6, 6, 6, 6, 6, 6, 6,\n",
       "       6, 6, 6, 6, 6, 6, 6, 6, 6, 6, 6, 6, 6, 6, 6, 6, 6, 6, 6, 6, 6, 6, 6,\n",
       "       6, 6, 6, 6, 6, 6, 6, 6, 6, 6, 6, 6, 6, 6, 6, 6, 6, 6, 6, 6, 6, 6, 6,\n",
       "       6, 6, 6, 6, 6, 6, 6, 6, 6, 6, 7, 7, 7, 7, 7, 7, 7, 7, 7, 7, 7, 7, 7,\n",
       "       7, 7, 7, 7, 7, 7, 7, 7, 7, 7, 7, 7, 7, 7, 7, 7, 7, 7, 7, 7, 7, 7, 7,\n",
       "       7, 7, 7, 7, 7, 7, 7, 7, 7, 7, 7, 7, 7, 7, 7, 7, 7, 7, 7, 7, 7, 7, 7,\n",
       "       7, 7, 7, 7, 7, 7, 7, 7, 7, 7, 7, 7, 7, 7, 7, 7, 7, 7, 7, 7, 7, 7, 7,\n",
       "       7, 7, 7, 7, 7, 7, 7, 7, 7, 7, 7, 7, 7, 7, 7, 7, 7, 7, 8, 8, 8, 8, 8,\n",
       "       8, 8, 8, 8, 8, 8, 8, 8, 8, 8, 8, 8, 8, 8, 8, 8, 8, 8, 8, 8, 8, 8, 8,\n",
       "       8, 8, 8, 8, 8, 8, 8, 8, 8, 8, 8, 8, 8, 8, 8, 8, 8, 8, 8, 8, 8, 8, 8,\n",
       "       8, 8, 8, 8, 8, 8, 8, 8, 8, 8, 8, 8, 8, 8, 8, 8, 8, 8, 8, 8, 8, 8, 8,\n",
       "       8, 8, 8, 8, 8, 8, 8, 8, 8, 8, 8, 8, 8, 8, 8, 8, 8, 8, 8, 8, 8, 8, 8,\n",
       "       8, 8, 8, 9, 9, 9, 9, 9, 9, 9, 9, 9, 9, 9, 9, 9, 9, 9, 9, 9, 9, 9, 9,\n",
       "       9, 9, 9, 9, 9, 9, 9, 9, 9, 9, 9, 9, 9, 9, 9, 9, 9, 9, 9, 9, 9, 9, 9,\n",
       "       9, 9, 9, 9, 9, 9, 9, 9, 9, 9, 9, 9, 9, 9, 9, 9, 9, 9, 9, 9, 9, 9, 9,\n",
       "       9, 9, 9, 9, 9, 9, 9, 9, 9, 9, 9, 9, 9, 9, 9, 9, 9, 9, 9, 9, 9, 9, 9,\n",
       "       9, 9, 9, 9, 9, 9, 9, 9, 9, 9, 9])"
      ]
     },
     "execution_count": 26,
     "metadata": {},
     "output_type": "execute_result"
    }
   ],
   "source": [
    "np.argmax(y_test, axis=1)"
   ]
  },
  {
   "cell_type": "code",
   "execution_count": null,
   "metadata": {
    "collapsed": true
   },
   "outputs": [],
   "source": []
  },
  {
   "cell_type": "code",
   "execution_count": null,
   "metadata": {
    "collapsed": true
   },
   "outputs": [],
   "source": []
  },
  {
   "cell_type": "markdown",
   "metadata": {},
   "source": [
    "# dataseto MIRO \n",
    "# CONV2DLSTM\n",
    "# lamda"
   ]
  },
  {
   "cell_type": "code",
   "execution_count": null,
   "metadata": {
    "collapsed": true
   },
   "outputs": [],
   "source": []
  },
  {
   "cell_type": "code",
   "execution_count": null,
   "metadata": {
    "collapsed": true
   },
   "outputs": [],
   "source": []
  }
 ],
 "metadata": {
  "kernelspec": {
   "display_name": "Python 3",
   "language": "python",
   "name": "python3"
  },
  "language_info": {
   "codemirror_mode": {
    "name": "ipython",
    "version": 3
   },
   "file_extension": ".py",
   "mimetype": "text/x-python",
   "name": "python",
   "nbconvert_exporter": "python",
   "pygments_lexer": "ipython3",
   "version": "3.6.3"
  }
 },
 "nbformat": 4,
 "nbformat_minor": 2
}
