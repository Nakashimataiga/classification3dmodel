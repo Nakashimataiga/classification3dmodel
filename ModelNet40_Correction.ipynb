{
 "cells": [
  {
   "cell_type": "code",
   "execution_count": 3,
   "metadata": {
    "collapsed": true
   },
   "outputs": [],
   "source": [
    "import glob\n",
    "import os\n",
    "import sys"
   ]
  },
  {
   "cell_type": "code",
   "execution_count": 8,
   "metadata": {
    "collapsed": true
   },
   "outputs": [],
   "source": [
    "dataset = \"ModelNet40\"  #or \"ModelNet40\"\n",
    "n_points = 10000\n",
    "cells = 32"
   ]
  },
  {
   "cell_type": "code",
   "execution_count": 9,
   "metadata": {
    "collapsed": true
   },
   "outputs": [],
   "source": [
    "if dataset == \"ModelNet10\":\n",
    "    data_dir = \"ModelNet10/\"\n",
    "    save_dir = \"data10/\"\n",
    "    num_classes = 10\n",
    "    class_name_modelnet = [\n",
    "    'bathtub',\n",
    "    'chair',\n",
    "    'dresser',\n",
    "    'night_stand',\n",
    "    'table',\n",
    "    'bed',\n",
    "    'desk',\n",
    "    'monitor',\n",
    "    'sofa',\n",
    "    'toilet',\n",
    "    ]"
   ]
  },
  {
   "cell_type": "code",
   "execution_count": 10,
   "metadata": {},
   "outputs": [],
   "source": [
    "if dataset == \"ModelNet40\":\n",
    "    data_dir = \"ModelNet40/\"\n",
    "    save_dir = \"data40/\"\n",
    "    num_classes = 40\n",
    "    class_name_modelnet = [\n",
    "    'airplane',\n",
    "    'bookshelf',\n",
    "    'chair',\n",
    "    'desk',\n",
    "    'glass_box',\n",
    "    'laptop',\n",
    "    'person',\n",
    "    'range_hood',\n",
    "    'stool',\n",
    "    'tv_stand',\n",
    "    'bathtub',\n",
    "    'bottle',\n",
    "    'cone',\n",
    "    'door',\n",
    "    'guitar',\n",
    "    'mantel',\n",
    "    'piano',\n",
    "    'sink',\n",
    "    'table',\n",
    "    'vase',\n",
    "    'bed',\n",
    "    'bowl',\n",
    "    'cup',\n",
    "    'dresser',\n",
    "    'keyboard',\n",
    "    'monitor',\n",
    "    'plant',\n",
    "    'sofa',\n",
    "    'tent',\n",
    "    'wardrobe',\n",
    "    'bench',\n",
    "    'car',\n",
    "    'curtain',\n",
    "    'flower_pot',\n",
    "    'lamp',\n",
    "    'night_stand',\n",
    "    'radio',\n",
    "    'stairs',\n",
    "    'toilet',\n",
    "    'xbox',\n",
    "    ]"
   ]
  },
  {
   "cell_type": "code",
   "execution_count": 11,
   "metadata": {
    "collapsed": true
   },
   "outputs": [],
   "source": [
    "save_dir = save_dir +\"cell\"+ str(cells) + \"/\""
   ]
  },
  {
   "cell_type": "code",
   "execution_count": 12,
   "metadata": {
    "collapsed": true
   },
   "outputs": [],
   "source": [
    "train_or_test = [\"train\",\"test\"]"
   ]
  },
  {
   "cell_type": "code",
   "execution_count": 31,
   "metadata": {},
   "outputs": [
    {
     "name": "stdout",
     "output_type": "stream",
     "text": [
      "ModelNet40/bathtub/train/0.off is broken!!\n",
      "\n",
      "['OFF521', '461', '0']\n",
      "521\n",
      "461\n"
     ]
    }
   ],
   "source": [
    "filename =  \"ModelNet40/bathtub/train/0.off\"\n",
    "# filename = \"ModelNet40/airplane/test/0.off\"\n",
    "\n",
    "with open(filename ,\"r\") as handle:\n",
    "    off = handle.read().rstrip().split(\"\\n\")\n",
    "\n",
    "# print(off)\n",
    "    \n",
    "# print(off)\n",
    "if off[0] == \"OFF\":\n",
    "    print(\"aaa\")\n",
    "    \n",
    "#OFFファイルが不正かどうか判定\n",
    "if off[0] != \"OFF\":\n",
    "    print(\"{} is broken!!\".format(filename))\n",
    "    print()\n",
    "    params = list(off[0].split(\" \"))\n",
    "    print(params)\n",
    "    n_vertices = int(params[0].strip(\"OFF\"))\n",
    "    n_faces = int(params[1])\n",
    "    print(n_vertices)\n",
    "    print(n_faces)\n",
    "\n",
    "\n",
    "\n",
    "    \n",
    "\n",
    "#     return \"ERROR\",\"ERROR\"\n",
    "\n",
    "\n",
    "else:\n",
    "    #get params and faces\n",
    "    params = list(map(int, off[1].split(\" \")))\n",
    "    n_vertices = params[0]\n",
    "    n_faces = params[1]\n",
    "\n",
    "    # read  Vertex coordinates\n",
    "    vertices = []\n",
    "    for n in range(n_vertices):\n",
    "        coords = list(map(float, off[2+n].split()))\n",
    "        vertices.append(coords)\n",
    "\n",
    "    # read information of faces\n",
    "    faces = []\n",
    "    for n in range(n_faces):\n",
    "        connects = list(map(int, off[2 + n_vertices + n].split(\" \")))[1:]\n",
    "        faces.append(connects)\n",
    "\n",
    "#     return vertices, faces\n"
   ]
  },
  {
   "cell_type": "code",
   "execution_count": null,
   "metadata": {
    "collapsed": true
   },
   "outputs": [],
   "source": []
  },
  {
   "cell_type": "code",
   "execution_count": null,
   "metadata": {
    "collapsed": true
   },
   "outputs": [],
   "source": []
  },
  {
   "cell_type": "code",
   "execution_count": null,
   "metadata": {
    "collapsed": true
   },
   "outputs": [],
   "source": []
  },
  {
   "cell_type": "code",
   "execution_count": null,
   "metadata": {
    "collapsed": true
   },
   "outputs": [],
   "source": []
  },
  {
   "cell_type": "code",
   "execution_count": null,
   "metadata": {
    "collapsed": true
   },
   "outputs": [],
   "source": []
  },
  {
   "cell_type": "code",
   "execution_count": null,
   "metadata": {
    "collapsed": true
   },
   "outputs": [],
   "source": []
  },
  {
   "cell_type": "code",
   "execution_count": null,
   "metadata": {
    "collapsed": true
   },
   "outputs": [],
   "source": []
  },
  {
   "cell_type": "code",
   "execution_count": null,
   "metadata": {
    "collapsed": true
   },
   "outputs": [],
   "source": []
  },
  {
   "cell_type": "code",
   "execution_count": null,
   "metadata": {
    "collapsed": true
   },
   "outputs": [],
   "source": []
  },
  {
   "cell_type": "code",
   "execution_count": null,
   "metadata": {
    "collapsed": true
   },
   "outputs": [],
   "source": []
  }
 ],
 "metadata": {
  "kernelspec": {
   "display_name": "Python 3",
   "language": "python",
   "name": "python3"
  },
  "language_info": {
   "codemirror_mode": {
    "name": "ipython",
    "version": 3
   },
   "file_extension": ".py",
   "mimetype": "text/x-python",
   "name": "python",
   "nbconvert_exporter": "python",
   "pygments_lexer": "ipython3",
   "version": "3.6.6"
  },
  "toc": {
   "base_numbering": 1,
   "nav_menu": {},
   "number_sections": true,
   "sideBar": true,
   "skip_h1_title": false,
   "title_cell": "Table of Contents",
   "title_sidebar": "Contents",
   "toc_cell": false,
   "toc_position": {},
   "toc_section_display": true,
   "toc_window_display": false
  }
 },
 "nbformat": 4,
 "nbformat_minor": 2
}
